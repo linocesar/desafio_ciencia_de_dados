{
 "cells": [
  {
   "cell_type": "code",
   "execution_count": 2,
   "id": "initial_id",
   "metadata": {
    "collapsed": true,
    "ExecuteTime": {
     "end_time": "2024-03-04T14:17:25.100106Z",
     "start_time": "2024-03-04T14:17:25.096245Z"
    }
   },
   "outputs": [],
   "source": [
    "import pandas as pd"
   ]
  },
  {
   "cell_type": "code",
   "outputs": [],
   "source": [
    "df_datasus = pd.read_csv(r'../storage/3_data_exploration/datasus.csv')"
   ],
   "metadata": {
    "collapsed": false,
    "ExecuteTime": {
     "end_time": "2024-03-04T14:18:26.158317Z",
     "start_time": "2024-03-04T14:18:18.693865Z"
    }
   },
   "id": "9f43890ee8f12968",
   "execution_count": 5
  },
  {
   "cell_type": "code",
   "outputs": [
    {
     "data": {
      "text/plain": "Index                                          128\ncod_municipio                              8555520\nmunicipio                                 73375104\nuf                                        63096960\nuf_nome                                   82573632\n                                            ...   \nacoes_de_promocao_e_prevencao_em_saude     8555520\nacoes_coletivas_individuais_em_saude       8555520\nanestesiologia                             8555520\ntratamentos_odontologicos_qtd              8555520\ntratamentos_odontologicos_val              8555520\nLength: 128, dtype: int64"
     },
     "execution_count": 5,
     "metadata": {},
     "output_type": "execute_result"
    }
   ],
   "source": [
    "df_datasus.memory_usage(deep=True)"
   ],
   "metadata": {
    "collapsed": false,
    "ExecuteTime": {
     "end_time": "2024-03-04T14:08:46.908007Z",
     "start_time": "2024-03-04T14:08:45.739053Z"
    }
   },
   "id": "93985ad73797baef",
   "execution_count": 5
  },
  {
   "cell_type": "code",
   "outputs": [
    {
     "name": "stdout",
     "output_type": "stream",
     "text": [
      "<class 'pandas.core.frame.DataFrame'>\n",
      "RangeIndex: 1069440 entries, 0 to 1069439\n",
      "Columns: 127 entries, cod_municipio to tratamentos_odontologicos_val\n",
      "dtypes: category(5), float64(62), int64(60)\n",
      "memory usage: 1001.7 MB\n"
     ]
    }
   ],
   "source": [
    "df_datasus.info()"
   ],
   "metadata": {
    "collapsed": false,
    "ExecuteTime": {
     "end_time": "2024-03-04T02:34:12.768306Z",
     "start_time": "2024-03-04T02:34:12.748171Z"
    }
   },
   "id": "e68a124b8626e971",
   "execution_count": 90
  },
  {
   "cell_type": "code",
   "outputs": [],
   "source": [
    "df_datasus = df_datasus.apply(lambda x: x.astype('category') if x.dtype == 'object' else x)"
   ],
   "metadata": {
    "collapsed": false,
    "ExecuteTime": {
     "end_time": "2024-03-04T00:37:13.005071Z",
     "start_time": "2024-03-04T00:37:11.539337Z"
    }
   },
   "id": "7bf21e2b5bb5315a",
   "execution_count": 4
  },
  {
   "cell_type": "code",
   "outputs": [
    {
     "name": "stdout",
     "output_type": "stream",
     "text": [
      "<class 'pandas.core.frame.DataFrame'>\n",
      "RangeIndex: 1069440 entries, 0 to 1069439\n",
      "Columns: 127 entries, cod_municipio to tratamentos_odontologicos_val\n",
      "dtypes: category(5), float64(63), int64(59)\n",
      "memory usage: 1001.7 MB\n"
     ]
    }
   ],
   "source": [
    "df_datasus.info()"
   ],
   "metadata": {
    "collapsed": false,
    "ExecuteTime": {
     "end_time": "2024-03-04T00:37:14.526606Z",
     "start_time": "2024-03-04T00:37:14.500127Z"
    }
   },
   "id": "adbb01d68b1a37a6",
   "execution_count": 5
  },
  {
   "cell_type": "code",
   "outputs": [],
   "source": [],
   "metadata": {
    "collapsed": false
   },
   "id": "218a986b2bf1dae1"
  },
  {
   "cell_type": "code",
   "outputs": [],
   "source": [
    "tipagem_coluna = {'coluna': list(df_datasus.columns), 'tipo': [str(dtype) for dtype in df_datasus.dtypes]}\n",
    "df_tipo = pd.DataFrame(tipagem_coluna)"
   ],
   "metadata": {
    "collapsed": false,
    "ExecuteTime": {
     "end_time": "2024-03-01T01:30:01.935445Z",
     "start_time": "2024-03-01T01:30:01.930377Z"
    }
   },
   "id": "93266056bdc4155f",
   "execution_count": 9
  },
  {
   "cell_type": "code",
   "outputs": [
    {
     "data": {
      "text/plain": "                                     coluna      tipo\n0                             cod_municipio     int64\n1                                 municipio  category\n2                                        uf  category\n3                                   uf_nome  category\n4                               regiao_nome  category\n..                                      ...       ...\n122  acoes_de_promocao_e_prevencao_em_saude   float64\n123    acoes_coletivas_individuais_em_saude   float64\n124                          anestesiologia   float64\n125           tratamentos_odontologicos_qtd   float64\n126           tratamentos_odontologicos_val   float64\n\n[127 rows x 2 columns]",
      "text/html": "<div>\n<style scoped>\n    .dataframe tbody tr th:only-of-type {\n        vertical-align: middle;\n    }\n\n    .dataframe tbody tr th {\n        vertical-align: top;\n    }\n\n    .dataframe thead th {\n        text-align: right;\n    }\n</style>\n<table border=\"1\" class=\"dataframe\">\n  <thead>\n    <tr style=\"text-align: right;\">\n      <th></th>\n      <th>coluna</th>\n      <th>tipo</th>\n    </tr>\n  </thead>\n  <tbody>\n    <tr>\n      <th>0</th>\n      <td>cod_municipio</td>\n      <td>int64</td>\n    </tr>\n    <tr>\n      <th>1</th>\n      <td>municipio</td>\n      <td>category</td>\n    </tr>\n    <tr>\n      <th>2</th>\n      <td>uf</td>\n      <td>category</td>\n    </tr>\n    <tr>\n      <th>3</th>\n      <td>uf_nome</td>\n      <td>category</td>\n    </tr>\n    <tr>\n      <th>4</th>\n      <td>regiao_nome</td>\n      <td>category</td>\n    </tr>\n    <tr>\n      <th>...</th>\n      <td>...</td>\n      <td>...</td>\n    </tr>\n    <tr>\n      <th>122</th>\n      <td>acoes_de_promocao_e_prevencao_em_saude</td>\n      <td>float64</td>\n    </tr>\n    <tr>\n      <th>123</th>\n      <td>acoes_coletivas_individuais_em_saude</td>\n      <td>float64</td>\n    </tr>\n    <tr>\n      <th>124</th>\n      <td>anestesiologia</td>\n      <td>float64</td>\n    </tr>\n    <tr>\n      <th>125</th>\n      <td>tratamentos_odontologicos_qtd</td>\n      <td>float64</td>\n    </tr>\n    <tr>\n      <th>126</th>\n      <td>tratamentos_odontologicos_val</td>\n      <td>float64</td>\n    </tr>\n  </tbody>\n</table>\n<p>127 rows × 2 columns</p>\n</div>"
     },
     "execution_count": 11,
     "metadata": {},
     "output_type": "execute_result"
    }
   ],
   "source": [
    "df_tipo"
   ],
   "metadata": {
    "collapsed": false,
    "ExecuteTime": {
     "end_time": "2024-03-01T01:30:59.370421Z",
     "start_time": "2024-03-01T01:30:59.363499Z"
    }
   },
   "id": "549e356cff6606fa",
   "execution_count": 11
  },
  {
   "cell_type": "code",
   "outputs": [],
   "source": [
    "tipo = df_datasus.dtypes"
   ],
   "metadata": {
    "collapsed": false,
    "ExecuteTime": {
     "end_time": "2024-03-04T00:37:32.740396Z",
     "start_time": "2024-03-04T00:37:32.734071Z"
    }
   },
   "id": "60e0183bd31bc050",
   "execution_count": 6
  },
  {
   "cell_type": "code",
   "outputs": [],
   "source": [
    "contagem_tipo = tipo.value_counts()"
   ],
   "metadata": {
    "collapsed": false,
    "ExecuteTime": {
     "end_time": "2024-03-04T00:37:33.262544Z",
     "start_time": "2024-03-04T00:37:33.255268Z"
    }
   },
   "id": "81dc73b82fa1e730",
   "execution_count": 7
  },
  {
   "cell_type": "code",
   "outputs": [
    {
     "data": {
      "text/plain": "float64     63\nint64       59\ncategory     1\ncategory     1\ncategory     1\ncategory     1\ncategory     1\nName: count, dtype: int64"
     },
     "execution_count": 8,
     "metadata": {},
     "output_type": "execute_result"
    }
   ],
   "source": [
    "contagem_tipo"
   ],
   "metadata": {
    "collapsed": false,
    "ExecuteTime": {
     "end_time": "2024-03-04T00:37:33.973043Z",
     "start_time": "2024-03-04T00:37:33.964194Z"
    }
   },
   "id": "74b7c1da28989141",
   "execution_count": 8
  },
  {
   "cell_type": "code",
   "outputs": [],
   "source": [],
   "metadata": {
    "collapsed": false
   },
   "id": "95081f5111f9641f"
  },
  {
   "cell_type": "code",
   "outputs": [
    {
     "name": "stdout",
     "output_type": "stream",
     "text": [
      "     A  G  total  percentage\n",
      "0  Cat  F      4   80.000000\n",
      "1  Cat  M      1   20.000000\n",
      "2  Dog  F      4   57.142857\n",
      "3  Dog  M      3   42.857143\n",
      "4  Fox  F      1   25.000000\n"
     ]
    },
    {
     "data": {
      "application/vnd.plotly.v1+json": {
       "data": [
        {
         "alignmentgroup": "True",
         "hovertemplate": "G=F<br>A=%{x}<br>value=%{y}<br>text=%{text}<extra></extra>",
         "legendgroup": "F",
         "marker": {
          "color": "#636efa",
          "pattern": {
           "shape": ""
          }
         },
         "name": "F",
         "offsetgroup": "F",
         "orientation": "v",
         "showlegend": true,
         "text": [
          "80.00%",
          "57.14%",
          "25.00%"
         ],
         "textposition": "auto",
         "x": [
          "Cat",
          "Dog",
          "Fox"
         ],
         "xaxis": "x",
         "y": [
          4,
          4,
          1
         ],
         "yaxis": "y",
         "type": "bar"
        },
        {
         "alignmentgroup": "True",
         "hovertemplate": "G=M<br>A=%{x}<br>value=%{y}<br>text=%{text}<extra></extra>",
         "legendgroup": "M",
         "marker": {
          "color": "#EF553B",
          "pattern": {
           "shape": ""
          }
         },
         "name": "M",
         "offsetgroup": "M",
         "orientation": "v",
         "showlegend": true,
         "text": [
          "20.00%",
          "42.86%",
          "75.00%"
         ],
         "textposition": "auto",
         "x": [
          "Cat",
          "Dog",
          "Fox"
         ],
         "xaxis": "x",
         "y": [
          1,
          3,
          3
         ],
         "yaxis": "y",
         "type": "bar"
        }
       ],
       "layout": {
        "template": {
         "data": {
          "histogram2dcontour": [
           {
            "type": "histogram2dcontour",
            "colorbar": {
             "outlinewidth": 0,
             "ticks": ""
            },
            "colorscale": [
             [
              0.0,
              "#0d0887"
             ],
             [
              0.1111111111111111,
              "#46039f"
             ],
             [
              0.2222222222222222,
              "#7201a8"
             ],
             [
              0.3333333333333333,
              "#9c179e"
             ],
             [
              0.4444444444444444,
              "#bd3786"
             ],
             [
              0.5555555555555556,
              "#d8576b"
             ],
             [
              0.6666666666666666,
              "#ed7953"
             ],
             [
              0.7777777777777778,
              "#fb9f3a"
             ],
             [
              0.8888888888888888,
              "#fdca26"
             ],
             [
              1.0,
              "#f0f921"
             ]
            ]
           }
          ],
          "choropleth": [
           {
            "type": "choropleth",
            "colorbar": {
             "outlinewidth": 0,
             "ticks": ""
            }
           }
          ],
          "histogram2d": [
           {
            "type": "histogram2d",
            "colorbar": {
             "outlinewidth": 0,
             "ticks": ""
            },
            "colorscale": [
             [
              0.0,
              "#0d0887"
             ],
             [
              0.1111111111111111,
              "#46039f"
             ],
             [
              0.2222222222222222,
              "#7201a8"
             ],
             [
              0.3333333333333333,
              "#9c179e"
             ],
             [
              0.4444444444444444,
              "#bd3786"
             ],
             [
              0.5555555555555556,
              "#d8576b"
             ],
             [
              0.6666666666666666,
              "#ed7953"
             ],
             [
              0.7777777777777778,
              "#fb9f3a"
             ],
             [
              0.8888888888888888,
              "#fdca26"
             ],
             [
              1.0,
              "#f0f921"
             ]
            ]
           }
          ],
          "heatmap": [
           {
            "type": "heatmap",
            "colorbar": {
             "outlinewidth": 0,
             "ticks": ""
            },
            "colorscale": [
             [
              0.0,
              "#0d0887"
             ],
             [
              0.1111111111111111,
              "#46039f"
             ],
             [
              0.2222222222222222,
              "#7201a8"
             ],
             [
              0.3333333333333333,
              "#9c179e"
             ],
             [
              0.4444444444444444,
              "#bd3786"
             ],
             [
              0.5555555555555556,
              "#d8576b"
             ],
             [
              0.6666666666666666,
              "#ed7953"
             ],
             [
              0.7777777777777778,
              "#fb9f3a"
             ],
             [
              0.8888888888888888,
              "#fdca26"
             ],
             [
              1.0,
              "#f0f921"
             ]
            ]
           }
          ],
          "heatmapgl": [
           {
            "type": "heatmapgl",
            "colorbar": {
             "outlinewidth": 0,
             "ticks": ""
            },
            "colorscale": [
             [
              0.0,
              "#0d0887"
             ],
             [
              0.1111111111111111,
              "#46039f"
             ],
             [
              0.2222222222222222,
              "#7201a8"
             ],
             [
              0.3333333333333333,
              "#9c179e"
             ],
             [
              0.4444444444444444,
              "#bd3786"
             ],
             [
              0.5555555555555556,
              "#d8576b"
             ],
             [
              0.6666666666666666,
              "#ed7953"
             ],
             [
              0.7777777777777778,
              "#fb9f3a"
             ],
             [
              0.8888888888888888,
              "#fdca26"
             ],
             [
              1.0,
              "#f0f921"
             ]
            ]
           }
          ],
          "contourcarpet": [
           {
            "type": "contourcarpet",
            "colorbar": {
             "outlinewidth": 0,
             "ticks": ""
            }
           }
          ],
          "contour": [
           {
            "type": "contour",
            "colorbar": {
             "outlinewidth": 0,
             "ticks": ""
            },
            "colorscale": [
             [
              0.0,
              "#0d0887"
             ],
             [
              0.1111111111111111,
              "#46039f"
             ],
             [
              0.2222222222222222,
              "#7201a8"
             ],
             [
              0.3333333333333333,
              "#9c179e"
             ],
             [
              0.4444444444444444,
              "#bd3786"
             ],
             [
              0.5555555555555556,
              "#d8576b"
             ],
             [
              0.6666666666666666,
              "#ed7953"
             ],
             [
              0.7777777777777778,
              "#fb9f3a"
             ],
             [
              0.8888888888888888,
              "#fdca26"
             ],
             [
              1.0,
              "#f0f921"
             ]
            ]
           }
          ],
          "surface": [
           {
            "type": "surface",
            "colorbar": {
             "outlinewidth": 0,
             "ticks": ""
            },
            "colorscale": [
             [
              0.0,
              "#0d0887"
             ],
             [
              0.1111111111111111,
              "#46039f"
             ],
             [
              0.2222222222222222,
              "#7201a8"
             ],
             [
              0.3333333333333333,
              "#9c179e"
             ],
             [
              0.4444444444444444,
              "#bd3786"
             ],
             [
              0.5555555555555556,
              "#d8576b"
             ],
             [
              0.6666666666666666,
              "#ed7953"
             ],
             [
              0.7777777777777778,
              "#fb9f3a"
             ],
             [
              0.8888888888888888,
              "#fdca26"
             ],
             [
              1.0,
              "#f0f921"
             ]
            ]
           }
          ],
          "mesh3d": [
           {
            "type": "mesh3d",
            "colorbar": {
             "outlinewidth": 0,
             "ticks": ""
            }
           }
          ],
          "scatter": [
           {
            "marker": {
             "line": {
              "color": "#283442"
             }
            },
            "type": "scatter"
           }
          ],
          "parcoords": [
           {
            "type": "parcoords",
            "line": {
             "colorbar": {
              "outlinewidth": 0,
              "ticks": ""
             }
            }
           }
          ],
          "scatterpolargl": [
           {
            "type": "scatterpolargl",
            "marker": {
             "colorbar": {
              "outlinewidth": 0,
              "ticks": ""
             }
            }
           }
          ],
          "bar": [
           {
            "error_x": {
             "color": "#f2f5fa"
            },
            "error_y": {
             "color": "#f2f5fa"
            },
            "marker": {
             "line": {
              "color": "rgb(17,17,17)",
              "width": 0.5
             },
             "pattern": {
              "fillmode": "overlay",
              "size": 10,
              "solidity": 0.2
             }
            },
            "type": "bar"
           }
          ],
          "scattergeo": [
           {
            "type": "scattergeo",
            "marker": {
             "colorbar": {
              "outlinewidth": 0,
              "ticks": ""
             }
            }
           }
          ],
          "scatterpolar": [
           {
            "type": "scatterpolar",
            "marker": {
             "colorbar": {
              "outlinewidth": 0,
              "ticks": ""
             }
            }
           }
          ],
          "histogram": [
           {
            "marker": {
             "pattern": {
              "fillmode": "overlay",
              "size": 10,
              "solidity": 0.2
             }
            },
            "type": "histogram"
           }
          ],
          "scattergl": [
           {
            "marker": {
             "line": {
              "color": "#283442"
             }
            },
            "type": "scattergl"
           }
          ],
          "scatter3d": [
           {
            "type": "scatter3d",
            "line": {
             "colorbar": {
              "outlinewidth": 0,
              "ticks": ""
             }
            },
            "marker": {
             "colorbar": {
              "outlinewidth": 0,
              "ticks": ""
             }
            }
           }
          ],
          "scattermapbox": [
           {
            "type": "scattermapbox",
            "marker": {
             "colorbar": {
              "outlinewidth": 0,
              "ticks": ""
             }
            }
           }
          ],
          "scatterternary": [
           {
            "type": "scatterternary",
            "marker": {
             "colorbar": {
              "outlinewidth": 0,
              "ticks": ""
             }
            }
           }
          ],
          "scattercarpet": [
           {
            "type": "scattercarpet",
            "marker": {
             "colorbar": {
              "outlinewidth": 0,
              "ticks": ""
             }
            }
           }
          ],
          "carpet": [
           {
            "aaxis": {
             "endlinecolor": "#A2B1C6",
             "gridcolor": "#506784",
             "linecolor": "#506784",
             "minorgridcolor": "#506784",
             "startlinecolor": "#A2B1C6"
            },
            "baxis": {
             "endlinecolor": "#A2B1C6",
             "gridcolor": "#506784",
             "linecolor": "#506784",
             "minorgridcolor": "#506784",
             "startlinecolor": "#A2B1C6"
            },
            "type": "carpet"
           }
          ],
          "table": [
           {
            "cells": {
             "fill": {
              "color": "#506784"
             },
             "line": {
              "color": "rgb(17,17,17)"
             }
            },
            "header": {
             "fill": {
              "color": "#2a3f5f"
             },
             "line": {
              "color": "rgb(17,17,17)"
             }
            },
            "type": "table"
           }
          ],
          "barpolar": [
           {
            "marker": {
             "line": {
              "color": "rgb(17,17,17)",
              "width": 0.5
             },
             "pattern": {
              "fillmode": "overlay",
              "size": 10,
              "solidity": 0.2
             }
            },
            "type": "barpolar"
           }
          ],
          "pie": [
           {
            "automargin": true,
            "type": "pie"
           }
          ]
         },
         "layout": {
          "autotypenumbers": "strict",
          "colorway": [
           "#636efa",
           "#EF553B",
           "#00cc96",
           "#ab63fa",
           "#FFA15A",
           "#19d3f3",
           "#FF6692",
           "#B6E880",
           "#FF97FF",
           "#FECB52"
          ],
          "font": {
           "color": "#f2f5fa"
          },
          "hovermode": "closest",
          "hoverlabel": {
           "align": "left"
          },
          "paper_bgcolor": "rgb(17,17,17)",
          "plot_bgcolor": "rgb(17,17,17)",
          "polar": {
           "bgcolor": "rgb(17,17,17)",
           "angularaxis": {
            "gridcolor": "#506784",
            "linecolor": "#506784",
            "ticks": ""
           },
           "radialaxis": {
            "gridcolor": "#506784",
            "linecolor": "#506784",
            "ticks": ""
           }
          },
          "ternary": {
           "bgcolor": "rgb(17,17,17)",
           "aaxis": {
            "gridcolor": "#506784",
            "linecolor": "#506784",
            "ticks": ""
           },
           "baxis": {
            "gridcolor": "#506784",
            "linecolor": "#506784",
            "ticks": ""
           },
           "caxis": {
            "gridcolor": "#506784",
            "linecolor": "#506784",
            "ticks": ""
           }
          },
          "coloraxis": {
           "colorbar": {
            "outlinewidth": 0,
            "ticks": ""
           }
          },
          "colorscale": {
           "sequential": [
            [
             0.0,
             "#0d0887"
            ],
            [
             0.1111111111111111,
             "#46039f"
            ],
            [
             0.2222222222222222,
             "#7201a8"
            ],
            [
             0.3333333333333333,
             "#9c179e"
            ],
            [
             0.4444444444444444,
             "#bd3786"
            ],
            [
             0.5555555555555556,
             "#d8576b"
            ],
            [
             0.6666666666666666,
             "#ed7953"
            ],
            [
             0.7777777777777778,
             "#fb9f3a"
            ],
            [
             0.8888888888888888,
             "#fdca26"
            ],
            [
             1.0,
             "#f0f921"
            ]
           ],
           "sequentialminus": [
            [
             0.0,
             "#0d0887"
            ],
            [
             0.1111111111111111,
             "#46039f"
            ],
            [
             0.2222222222222222,
             "#7201a8"
            ],
            [
             0.3333333333333333,
             "#9c179e"
            ],
            [
             0.4444444444444444,
             "#bd3786"
            ],
            [
             0.5555555555555556,
             "#d8576b"
            ],
            [
             0.6666666666666666,
             "#ed7953"
            ],
            [
             0.7777777777777778,
             "#fb9f3a"
            ],
            [
             0.8888888888888888,
             "#fdca26"
            ],
            [
             1.0,
             "#f0f921"
            ]
           ],
           "diverging": [
            [
             0,
             "#8e0152"
            ],
            [
             0.1,
             "#c51b7d"
            ],
            [
             0.2,
             "#de77ae"
            ],
            [
             0.3,
             "#f1b6da"
            ],
            [
             0.4,
             "#fde0ef"
            ],
            [
             0.5,
             "#f7f7f7"
            ],
            [
             0.6,
             "#e6f5d0"
            ],
            [
             0.7,
             "#b8e186"
            ],
            [
             0.8,
             "#7fbc41"
            ],
            [
             0.9,
             "#4d9221"
            ],
            [
             1,
             "#276419"
            ]
           ]
          },
          "xaxis": {
           "gridcolor": "#283442",
           "linecolor": "#506784",
           "ticks": "",
           "title": {
            "standoff": 15
           },
           "zerolinecolor": "#283442",
           "automargin": true,
           "zerolinewidth": 2
          },
          "yaxis": {
           "gridcolor": "#283442",
           "linecolor": "#506784",
           "ticks": "",
           "title": {
            "standoff": 15
           },
           "zerolinecolor": "#283442",
           "automargin": true,
           "zerolinewidth": 2
          },
          "scene": {
           "xaxis": {
            "backgroundcolor": "rgb(17,17,17)",
            "gridcolor": "#506784",
            "linecolor": "#506784",
            "showbackground": true,
            "ticks": "",
            "zerolinecolor": "#C8D4E3",
            "gridwidth": 2
           },
           "yaxis": {
            "backgroundcolor": "rgb(17,17,17)",
            "gridcolor": "#506784",
            "linecolor": "#506784",
            "showbackground": true,
            "ticks": "",
            "zerolinecolor": "#C8D4E3",
            "gridwidth": 2
           },
           "zaxis": {
            "backgroundcolor": "rgb(17,17,17)",
            "gridcolor": "#506784",
            "linecolor": "#506784",
            "showbackground": true,
            "ticks": "",
            "zerolinecolor": "#C8D4E3",
            "gridwidth": 2
           }
          },
          "shapedefaults": {
           "line": {
            "color": "#f2f5fa"
           }
          },
          "annotationdefaults": {
           "arrowcolor": "#f2f5fa",
           "arrowhead": 0,
           "arrowwidth": 1
          },
          "geo": {
           "bgcolor": "rgb(17,17,17)",
           "landcolor": "rgb(17,17,17)",
           "subunitcolor": "#506784",
           "showland": true,
           "showlakes": true,
           "lakecolor": "rgb(17,17,17)"
          },
          "title": {
           "x": 0.05
          },
          "updatemenudefaults": {
           "bgcolor": "#506784",
           "borderwidth": 0
          },
          "sliderdefaults": {
           "bgcolor": "#C8D4E3",
           "borderwidth": 1,
           "bordercolor": "rgb(17,17,17)",
           "tickwidth": 0
          },
          "mapbox": {
           "style": "dark"
          }
         }
        },
        "xaxis": {
         "anchor": "y",
         "domain": [
          0.0,
          1.0
         ],
         "title": {
          "text": "A"
         }
        },
        "yaxis": {
         "anchor": "x",
         "domain": [
          0.0,
          1.0
         ],
         "title": {
          "text": "value"
         }
        },
        "legend": {
         "title": {
          "text": "G"
         },
         "tracegroupgap": 0
        },
        "margin": {
         "t": 60
        },
        "barmode": "relative"
       },
       "config": {
        "plotlyServerURL": "https://plot.ly"
       }
      },
      "text/html": "<div>                            <div id=\"4ff77947-1181-40c3-a439-c5752a9a094f\" class=\"plotly-graph-div\" style=\"height:525px; width:100%;\"></div>            <script type=\"text/javascript\">                require([\"plotly\"], function(Plotly) {                    window.PLOTLYENV=window.PLOTLYENV || {};                                    if (document.getElementById(\"4ff77947-1181-40c3-a439-c5752a9a094f\")) {                    Plotly.newPlot(                        \"4ff77947-1181-40c3-a439-c5752a9a094f\",                        [{\"alignmentgroup\":\"True\",\"hovertemplate\":\"G=F\\u003cbr\\u003eA=%{x}\\u003cbr\\u003evalue=%{y}\\u003cbr\\u003etext=%{text}\\u003cextra\\u003e\\u003c\\u002fextra\\u003e\",\"legendgroup\":\"F\",\"marker\":{\"color\":\"#636efa\",\"pattern\":{\"shape\":\"\"}},\"name\":\"F\",\"offsetgroup\":\"F\",\"orientation\":\"v\",\"showlegend\":true,\"text\":[\"80.00%\",\"57.14%\",\"25.00%\"],\"textposition\":\"auto\",\"x\":[\"Cat\",\"Dog\",\"Fox\"],\"xaxis\":\"x\",\"y\":[4,4,1],\"yaxis\":\"y\",\"type\":\"bar\"},{\"alignmentgroup\":\"True\",\"hovertemplate\":\"G=M\\u003cbr\\u003eA=%{x}\\u003cbr\\u003evalue=%{y}\\u003cbr\\u003etext=%{text}\\u003cextra\\u003e\\u003c\\u002fextra\\u003e\",\"legendgroup\":\"M\",\"marker\":{\"color\":\"#EF553B\",\"pattern\":{\"shape\":\"\"}},\"name\":\"M\",\"offsetgroup\":\"M\",\"orientation\":\"v\",\"showlegend\":true,\"text\":[\"20.00%\",\"42.86%\",\"75.00%\"],\"textposition\":\"auto\",\"x\":[\"Cat\",\"Dog\",\"Fox\"],\"xaxis\":\"x\",\"y\":[1,3,3],\"yaxis\":\"y\",\"type\":\"bar\"}],                        {\"template\":{\"data\":{\"histogram2dcontour\":[{\"type\":\"histogram2dcontour\",\"colorbar\":{\"outlinewidth\":0,\"ticks\":\"\"},\"colorscale\":[[0.0,\"#0d0887\"],[0.1111111111111111,\"#46039f\"],[0.2222222222222222,\"#7201a8\"],[0.3333333333333333,\"#9c179e\"],[0.4444444444444444,\"#bd3786\"],[0.5555555555555556,\"#d8576b\"],[0.6666666666666666,\"#ed7953\"],[0.7777777777777778,\"#fb9f3a\"],[0.8888888888888888,\"#fdca26\"],[1.0,\"#f0f921\"]]}],\"choropleth\":[{\"type\":\"choropleth\",\"colorbar\":{\"outlinewidth\":0,\"ticks\":\"\"}}],\"histogram2d\":[{\"type\":\"histogram2d\",\"colorbar\":{\"outlinewidth\":0,\"ticks\":\"\"},\"colorscale\":[[0.0,\"#0d0887\"],[0.1111111111111111,\"#46039f\"],[0.2222222222222222,\"#7201a8\"],[0.3333333333333333,\"#9c179e\"],[0.4444444444444444,\"#bd3786\"],[0.5555555555555556,\"#d8576b\"],[0.6666666666666666,\"#ed7953\"],[0.7777777777777778,\"#fb9f3a\"],[0.8888888888888888,\"#fdca26\"],[1.0,\"#f0f921\"]]}],\"heatmap\":[{\"type\":\"heatmap\",\"colorbar\":{\"outlinewidth\":0,\"ticks\":\"\"},\"colorscale\":[[0.0,\"#0d0887\"],[0.1111111111111111,\"#46039f\"],[0.2222222222222222,\"#7201a8\"],[0.3333333333333333,\"#9c179e\"],[0.4444444444444444,\"#bd3786\"],[0.5555555555555556,\"#d8576b\"],[0.6666666666666666,\"#ed7953\"],[0.7777777777777778,\"#fb9f3a\"],[0.8888888888888888,\"#fdca26\"],[1.0,\"#f0f921\"]]}],\"heatmapgl\":[{\"type\":\"heatmapgl\",\"colorbar\":{\"outlinewidth\":0,\"ticks\":\"\"},\"colorscale\":[[0.0,\"#0d0887\"],[0.1111111111111111,\"#46039f\"],[0.2222222222222222,\"#7201a8\"],[0.3333333333333333,\"#9c179e\"],[0.4444444444444444,\"#bd3786\"],[0.5555555555555556,\"#d8576b\"],[0.6666666666666666,\"#ed7953\"],[0.7777777777777778,\"#fb9f3a\"],[0.8888888888888888,\"#fdca26\"],[1.0,\"#f0f921\"]]}],\"contourcarpet\":[{\"type\":\"contourcarpet\",\"colorbar\":{\"outlinewidth\":0,\"ticks\":\"\"}}],\"contour\":[{\"type\":\"contour\",\"colorbar\":{\"outlinewidth\":0,\"ticks\":\"\"},\"colorscale\":[[0.0,\"#0d0887\"],[0.1111111111111111,\"#46039f\"],[0.2222222222222222,\"#7201a8\"],[0.3333333333333333,\"#9c179e\"],[0.4444444444444444,\"#bd3786\"],[0.5555555555555556,\"#d8576b\"],[0.6666666666666666,\"#ed7953\"],[0.7777777777777778,\"#fb9f3a\"],[0.8888888888888888,\"#fdca26\"],[1.0,\"#f0f921\"]]}],\"surface\":[{\"type\":\"surface\",\"colorbar\":{\"outlinewidth\":0,\"ticks\":\"\"},\"colorscale\":[[0.0,\"#0d0887\"],[0.1111111111111111,\"#46039f\"],[0.2222222222222222,\"#7201a8\"],[0.3333333333333333,\"#9c179e\"],[0.4444444444444444,\"#bd3786\"],[0.5555555555555556,\"#d8576b\"],[0.6666666666666666,\"#ed7953\"],[0.7777777777777778,\"#fb9f3a\"],[0.8888888888888888,\"#fdca26\"],[1.0,\"#f0f921\"]]}],\"mesh3d\":[{\"type\":\"mesh3d\",\"colorbar\":{\"outlinewidth\":0,\"ticks\":\"\"}}],\"scatter\":[{\"marker\":{\"line\":{\"color\":\"#283442\"}},\"type\":\"scatter\"}],\"parcoords\":[{\"type\":\"parcoords\",\"line\":{\"colorbar\":{\"outlinewidth\":0,\"ticks\":\"\"}}}],\"scatterpolargl\":[{\"type\":\"scatterpolargl\",\"marker\":{\"colorbar\":{\"outlinewidth\":0,\"ticks\":\"\"}}}],\"bar\":[{\"error_x\":{\"color\":\"#f2f5fa\"},\"error_y\":{\"color\":\"#f2f5fa\"},\"marker\":{\"line\":{\"color\":\"rgb(17,17,17)\",\"width\":0.5},\"pattern\":{\"fillmode\":\"overlay\",\"size\":10,\"solidity\":0.2}},\"type\":\"bar\"}],\"scattergeo\":[{\"type\":\"scattergeo\",\"marker\":{\"colorbar\":{\"outlinewidth\":0,\"ticks\":\"\"}}}],\"scatterpolar\":[{\"type\":\"scatterpolar\",\"marker\":{\"colorbar\":{\"outlinewidth\":0,\"ticks\":\"\"}}}],\"histogram\":[{\"marker\":{\"pattern\":{\"fillmode\":\"overlay\",\"size\":10,\"solidity\":0.2}},\"type\":\"histogram\"}],\"scattergl\":[{\"marker\":{\"line\":{\"color\":\"#283442\"}},\"type\":\"scattergl\"}],\"scatter3d\":[{\"type\":\"scatter3d\",\"line\":{\"colorbar\":{\"outlinewidth\":0,\"ticks\":\"\"}},\"marker\":{\"colorbar\":{\"outlinewidth\":0,\"ticks\":\"\"}}}],\"scattermapbox\":[{\"type\":\"scattermapbox\",\"marker\":{\"colorbar\":{\"outlinewidth\":0,\"ticks\":\"\"}}}],\"scatterternary\":[{\"type\":\"scatterternary\",\"marker\":{\"colorbar\":{\"outlinewidth\":0,\"ticks\":\"\"}}}],\"scattercarpet\":[{\"type\":\"scattercarpet\",\"marker\":{\"colorbar\":{\"outlinewidth\":0,\"ticks\":\"\"}}}],\"carpet\":[{\"aaxis\":{\"endlinecolor\":\"#A2B1C6\",\"gridcolor\":\"#506784\",\"linecolor\":\"#506784\",\"minorgridcolor\":\"#506784\",\"startlinecolor\":\"#A2B1C6\"},\"baxis\":{\"endlinecolor\":\"#A2B1C6\",\"gridcolor\":\"#506784\",\"linecolor\":\"#506784\",\"minorgridcolor\":\"#506784\",\"startlinecolor\":\"#A2B1C6\"},\"type\":\"carpet\"}],\"table\":[{\"cells\":{\"fill\":{\"color\":\"#506784\"},\"line\":{\"color\":\"rgb(17,17,17)\"}},\"header\":{\"fill\":{\"color\":\"#2a3f5f\"},\"line\":{\"color\":\"rgb(17,17,17)\"}},\"type\":\"table\"}],\"barpolar\":[{\"marker\":{\"line\":{\"color\":\"rgb(17,17,17)\",\"width\":0.5},\"pattern\":{\"fillmode\":\"overlay\",\"size\":10,\"solidity\":0.2}},\"type\":\"barpolar\"}],\"pie\":[{\"automargin\":true,\"type\":\"pie\"}]},\"layout\":{\"autotypenumbers\":\"strict\",\"colorway\":[\"#636efa\",\"#EF553B\",\"#00cc96\",\"#ab63fa\",\"#FFA15A\",\"#19d3f3\",\"#FF6692\",\"#B6E880\",\"#FF97FF\",\"#FECB52\"],\"font\":{\"color\":\"#f2f5fa\"},\"hovermode\":\"closest\",\"hoverlabel\":{\"align\":\"left\"},\"paper_bgcolor\":\"rgb(17,17,17)\",\"plot_bgcolor\":\"rgb(17,17,17)\",\"polar\":{\"bgcolor\":\"rgb(17,17,17)\",\"angularaxis\":{\"gridcolor\":\"#506784\",\"linecolor\":\"#506784\",\"ticks\":\"\"},\"radialaxis\":{\"gridcolor\":\"#506784\",\"linecolor\":\"#506784\",\"ticks\":\"\"}},\"ternary\":{\"bgcolor\":\"rgb(17,17,17)\",\"aaxis\":{\"gridcolor\":\"#506784\",\"linecolor\":\"#506784\",\"ticks\":\"\"},\"baxis\":{\"gridcolor\":\"#506784\",\"linecolor\":\"#506784\",\"ticks\":\"\"},\"caxis\":{\"gridcolor\":\"#506784\",\"linecolor\":\"#506784\",\"ticks\":\"\"}},\"coloraxis\":{\"colorbar\":{\"outlinewidth\":0,\"ticks\":\"\"}},\"colorscale\":{\"sequential\":[[0.0,\"#0d0887\"],[0.1111111111111111,\"#46039f\"],[0.2222222222222222,\"#7201a8\"],[0.3333333333333333,\"#9c179e\"],[0.4444444444444444,\"#bd3786\"],[0.5555555555555556,\"#d8576b\"],[0.6666666666666666,\"#ed7953\"],[0.7777777777777778,\"#fb9f3a\"],[0.8888888888888888,\"#fdca26\"],[1.0,\"#f0f921\"]],\"sequentialminus\":[[0.0,\"#0d0887\"],[0.1111111111111111,\"#46039f\"],[0.2222222222222222,\"#7201a8\"],[0.3333333333333333,\"#9c179e\"],[0.4444444444444444,\"#bd3786\"],[0.5555555555555556,\"#d8576b\"],[0.6666666666666666,\"#ed7953\"],[0.7777777777777778,\"#fb9f3a\"],[0.8888888888888888,\"#fdca26\"],[1.0,\"#f0f921\"]],\"diverging\":[[0,\"#8e0152\"],[0.1,\"#c51b7d\"],[0.2,\"#de77ae\"],[0.3,\"#f1b6da\"],[0.4,\"#fde0ef\"],[0.5,\"#f7f7f7\"],[0.6,\"#e6f5d0\"],[0.7,\"#b8e186\"],[0.8,\"#7fbc41\"],[0.9,\"#4d9221\"],[1,\"#276419\"]]},\"xaxis\":{\"gridcolor\":\"#283442\",\"linecolor\":\"#506784\",\"ticks\":\"\",\"title\":{\"standoff\":15},\"zerolinecolor\":\"#283442\",\"automargin\":true,\"zerolinewidth\":2},\"yaxis\":{\"gridcolor\":\"#283442\",\"linecolor\":\"#506784\",\"ticks\":\"\",\"title\":{\"standoff\":15},\"zerolinecolor\":\"#283442\",\"automargin\":true,\"zerolinewidth\":2},\"scene\":{\"xaxis\":{\"backgroundcolor\":\"rgb(17,17,17)\",\"gridcolor\":\"#506784\",\"linecolor\":\"#506784\",\"showbackground\":true,\"ticks\":\"\",\"zerolinecolor\":\"#C8D4E3\",\"gridwidth\":2},\"yaxis\":{\"backgroundcolor\":\"rgb(17,17,17)\",\"gridcolor\":\"#506784\",\"linecolor\":\"#506784\",\"showbackground\":true,\"ticks\":\"\",\"zerolinecolor\":\"#C8D4E3\",\"gridwidth\":2},\"zaxis\":{\"backgroundcolor\":\"rgb(17,17,17)\",\"gridcolor\":\"#506784\",\"linecolor\":\"#506784\",\"showbackground\":true,\"ticks\":\"\",\"zerolinecolor\":\"#C8D4E3\",\"gridwidth\":2}},\"shapedefaults\":{\"line\":{\"color\":\"#f2f5fa\"}},\"annotationdefaults\":{\"arrowcolor\":\"#f2f5fa\",\"arrowhead\":0,\"arrowwidth\":1},\"geo\":{\"bgcolor\":\"rgb(17,17,17)\",\"landcolor\":\"rgb(17,17,17)\",\"subunitcolor\":\"#506784\",\"showland\":true,\"showlakes\":true,\"lakecolor\":\"rgb(17,17,17)\"},\"title\":{\"x\":0.05},\"updatemenudefaults\":{\"bgcolor\":\"#506784\",\"borderwidth\":0},\"sliderdefaults\":{\"bgcolor\":\"#C8D4E3\",\"borderwidth\":1,\"bordercolor\":\"rgb(17,17,17)\",\"tickwidth\":0},\"mapbox\":{\"style\":\"dark\"}}},\"xaxis\":{\"anchor\":\"y\",\"domain\":[0.0,1.0],\"title\":{\"text\":\"A\"}},\"yaxis\":{\"anchor\":\"x\",\"domain\":[0.0,1.0],\"title\":{\"text\":\"value\"}},\"legend\":{\"title\":{\"text\":\"G\"},\"tracegroupgap\":0},\"margin\":{\"t\":60},\"barmode\":\"relative\"},                        {\"responsive\": true}                    ).then(function(){\n                            \nvar gd = document.getElementById('4ff77947-1181-40c3-a439-c5752a9a094f');\nvar x = new MutationObserver(function (mutations, observer) {{\n        var display = window.getComputedStyle(gd).display;\n        if (!display || display === 'none') {{\n            console.log([gd, 'removed!']);\n            Plotly.purge(gd);\n            observer.disconnect();\n        }}\n}});\n\n// Listen for the removal of the full notebook cells\nvar notebookContainer = gd.closest('#notebook-container');\nif (notebookContainer) {{\n    x.observe(notebookContainer, {childList: true});\n}}\n\n// Listen for the clearing of the current output cell\nvar outputEl = gd.closest('.output');\nif (outputEl) {{\n    x.observe(outputEl, {childList: true});\n}}\n\n                        })                };                });            </script>        </div>"
     },
     "metadata": {},
     "output_type": "display_data"
    }
   ],
   "source": [
    "import numpy as np\n",
    "import pandas as pd\n",
    "import plotly.express as px\n",
    "\n",
    "arr = np.array([\n",
    "        ['Dog', 'M'], ['Dog', 'M'], ['Dog', 'F'], ['Dog', 'F'],\n",
    "        ['Cat', 'F'], ['Cat', 'F'], ['Cat', 'F'], ['Cat', 'M'],\n",
    "        ['Fox', 'M'], ['Fox', 'M'], ['Fox', 'M'], ['Fox', 'F'],\n",
    "        ['Dog', 'F'], ['Dog', 'F'], ['Cat', 'F'], ['Dog', 'M']\n",
    "    ])\n",
    "\n",
    "df = pd.DataFrame(arr, columns=['A', 'G'])\n",
    "\n",
    "df_g = df.groupby(['A', 'G']).size().reset_index().rename(columns={0: 'total'})\n",
    "df_g.head()\n",
    "df_g['percentage'] = df.groupby(['A', 'G']).size().groupby(level=0).apply(lambda x: 100 * x / float(x.sum())).values\n",
    "\n",
    "print(df_g.head())\n",
    "px.bar(df_g, x='A', y=['total'], color='G', text=df_g['percentage'].apply(lambda x: '{0:1.2f}%'.format(x)))"
   ],
   "metadata": {
    "collapsed": false,
    "ExecuteTime": {
     "end_time": "2024-03-01T20:20:05.008170Z",
     "start_time": "2024-03-01T20:20:04.955757Z"
    }
   },
   "id": "3617837896e745a3",
   "execution_count": 20
  },
  {
   "cell_type": "code",
   "outputs": [],
   "source": [],
   "metadata": {
    "collapsed": false
   },
   "id": "7ec9c6afd52d025"
  },
  {
   "cell_type": "code",
   "outputs": [
    {
     "data": {
      "text/plain": "         cod_municipio              municipio  uf           uf_nome  \\\n0               110001  ALTA FLORESTA D'OESTE  RO          RONDÔNIA   \n1               110002              ARIQUEMES  RO          RONDÔNIA   \n2               110003                 CABIXI  RO          RONDÔNIA   \n3               110004                 CACOAL  RO          RONDÔNIA   \n4               110005             CEREJEIRAS  RO          RONDÔNIA   \n...                ...                    ...  ..               ...   \n1069435         522200             VIANOPOLIS  GO             GOIÁS   \n1069436         522205         VICENTINOPOLIS  GO             GOIÁS   \n1069437         522220               VILA BOA  GO             GOIÁS   \n1069438         522230          VILA PROPICIO  GO             GOIÁS   \n1069439         530010               BRASILIA  DF  DISTRITO FEDERAL   \n\n          regiao_nome  longitude   latitude  nu_populacao  mes   ano  ...  \\\n0               NORTE -61.999824 -11.935540         21495  ABR  2008  ...   \n1               NORTE -63.033269  -9.908463         96833  ABR  2008  ...   \n2               NORTE -60.544314 -13.499763          5363  ABR  2008  ...   \n3               NORTE -61.442944 -11.433865         86895  ABR  2008  ...   \n4               NORTE -60.818426 -13.195033         15890  ABR  2008  ...   \n...               ...        ...        ...           ...  ...   ...  ...   \n1069435  CENTRO-OESTE -48.513471 -16.742081         14956  SET  2023  ...   \n1069436  CENTRO-OESTE -49.807239 -17.732662          8768  SET  2023  ...   \n1069437  CENTRO-OESTE -47.057361 -15.034889          4215  SET  2023  ...   \n1069438  CENTRO-OESTE -48.882422 -15.454635          5815  SET  2023  ...   \n1069439  CENTRO-OESTE -47.887905 -15.794087       2817068  SET  2023  ...   \n\n         orteses_proteses_e_materiais_especiais_relacionados_ao_ato_cirurgico_val  \\\n0                                                      0.0                          \n1                                                      0.0                          \n2                                                      0.0                          \n3                                                      0.0                          \n4                                                      0.0                          \n...                                                    ...                          \n1069435                                                0.0                          \n1069436                                                0.0                          \n1069437                                                0.0                          \n1069438                                                0.0                          \n1069439                                          2880644.7                          \n\n         acoes_relacionadas_ao_estabelecimento_qtd  \\\n0                                                9   \n1                                                0   \n2                                                0   \n3                                               52   \n4                                                0   \n...                                            ...   \n1069435                                          0   \n1069436                                          6   \n1069437                                          0   \n1069438                                          0   \n1069439                                       1010   \n\n         acoes_relacionadas_ao_estabelecimento_val  \\\n0                                           360.00   \n1                                             0.00   \n2                                             0.00   \n3                                           295.00   \n4                                             0.00   \n...                                            ...   \n1069435                                       0.00   \n1069436                                     240.00   \n1069437                                       0.00   \n1069438                                       0.00   \n1069439                                    5051.75   \n\n         acoes_relacionadas_ao_atendimento_qtd  \\\n0                                          116   \n1                                           46   \n2                                            0   \n3                                            0   \n4                                            0   \n...                                        ...   \n1069435                                     50   \n1069436                                      0   \n1069437                                      0   \n1069438                                      0   \n1069439                                 116724   \n\n         acoes_relacionadas_ao_atendimento_val  \\\n0                                       928.00   \n1                                       368.00   \n2                                         0.00   \n3                                         0.00   \n4                                         0.00   \n...                                        ...   \n1069435                                 400.00   \n1069436                                   0.00   \n1069437                                   0.00   \n1069438                                   0.00   \n1069439                             9418009.74   \n\n         acoes_de_promocao_e_prevencao_em_saude  \\\n0                                           NaN   \n1                                           NaN   \n2                                           NaN   \n3                                           NaN   \n4                                           NaN   \n...                                         ...   \n1069435                                     0.0   \n1069436                                     0.0   \n1069437                                     0.0   \n1069438                                     0.0   \n1069439                                    13.0   \n\n         acoes_coletivas_individuais_em_saude  anestesiologia  \\\n0                                         NaN            0.00   \n1                                         NaN         4427.50   \n2                                         NaN            0.00   \n3                                         NaN            0.00   \n4                                         NaN            0.00   \n...                                       ...             ...   \n1069435                                   0.0            0.00   \n1069436                                   0.0          367.08   \n1069437                                   0.0            0.00   \n1069438                                   0.0            0.00   \n1069439                                  13.0       135825.51   \n\n         tratamentos_odontologicos_qtd  tratamentos_odontologicos_val  \n0                                  NaN                            NaN  \n1                                  NaN                            NaN  \n2                                  NaN                            NaN  \n3                                  NaN                            NaN  \n4                                  NaN                            NaN  \n...                                ...                            ...  \n1069435                            0.0                           0.00  \n1069436                            0.0                           0.00  \n1069437                            0.0                           0.00  \n1069438                            0.0                           0.00  \n1069439                          885.0                          16.53  \n\n[1069440 rows x 127 columns]",
      "text/html": "<div>\n<style scoped>\n    .dataframe tbody tr th:only-of-type {\n        vertical-align: middle;\n    }\n\n    .dataframe tbody tr th {\n        vertical-align: top;\n    }\n\n    .dataframe thead th {\n        text-align: right;\n    }\n</style>\n<table border=\"1\" class=\"dataframe\">\n  <thead>\n    <tr style=\"text-align: right;\">\n      <th></th>\n      <th>cod_municipio</th>\n      <th>municipio</th>\n      <th>uf</th>\n      <th>uf_nome</th>\n      <th>regiao_nome</th>\n      <th>longitude</th>\n      <th>latitude</th>\n      <th>nu_populacao</th>\n      <th>mes</th>\n      <th>ano</th>\n      <th>...</th>\n      <th>orteses_proteses_e_materiais_especiais_relacionados_ao_ato_cirurgico_val</th>\n      <th>acoes_relacionadas_ao_estabelecimento_qtd</th>\n      <th>acoes_relacionadas_ao_estabelecimento_val</th>\n      <th>acoes_relacionadas_ao_atendimento_qtd</th>\n      <th>acoes_relacionadas_ao_atendimento_val</th>\n      <th>acoes_de_promocao_e_prevencao_em_saude</th>\n      <th>acoes_coletivas_individuais_em_saude</th>\n      <th>anestesiologia</th>\n      <th>tratamentos_odontologicos_qtd</th>\n      <th>tratamentos_odontologicos_val</th>\n    </tr>\n  </thead>\n  <tbody>\n    <tr>\n      <th>0</th>\n      <td>110001</td>\n      <td>ALTA FLORESTA D'OESTE</td>\n      <td>RO</td>\n      <td>RONDÔNIA</td>\n      <td>NORTE</td>\n      <td>-61.999824</td>\n      <td>-11.935540</td>\n      <td>21495</td>\n      <td>ABR</td>\n      <td>2008</td>\n      <td>...</td>\n      <td>0.0</td>\n      <td>9</td>\n      <td>360.00</td>\n      <td>116</td>\n      <td>928.00</td>\n      <td>NaN</td>\n      <td>NaN</td>\n      <td>0.00</td>\n      <td>NaN</td>\n      <td>NaN</td>\n    </tr>\n    <tr>\n      <th>1</th>\n      <td>110002</td>\n      <td>ARIQUEMES</td>\n      <td>RO</td>\n      <td>RONDÔNIA</td>\n      <td>NORTE</td>\n      <td>-63.033269</td>\n      <td>-9.908463</td>\n      <td>96833</td>\n      <td>ABR</td>\n      <td>2008</td>\n      <td>...</td>\n      <td>0.0</td>\n      <td>0</td>\n      <td>0.00</td>\n      <td>46</td>\n      <td>368.00</td>\n      <td>NaN</td>\n      <td>NaN</td>\n      <td>4427.50</td>\n      <td>NaN</td>\n      <td>NaN</td>\n    </tr>\n    <tr>\n      <th>2</th>\n      <td>110003</td>\n      <td>CABIXI</td>\n      <td>RO</td>\n      <td>RONDÔNIA</td>\n      <td>NORTE</td>\n      <td>-60.544314</td>\n      <td>-13.499763</td>\n      <td>5363</td>\n      <td>ABR</td>\n      <td>2008</td>\n      <td>...</td>\n      <td>0.0</td>\n      <td>0</td>\n      <td>0.00</td>\n      <td>0</td>\n      <td>0.00</td>\n      <td>NaN</td>\n      <td>NaN</td>\n      <td>0.00</td>\n      <td>NaN</td>\n      <td>NaN</td>\n    </tr>\n    <tr>\n      <th>3</th>\n      <td>110004</td>\n      <td>CACOAL</td>\n      <td>RO</td>\n      <td>RONDÔNIA</td>\n      <td>NORTE</td>\n      <td>-61.442944</td>\n      <td>-11.433865</td>\n      <td>86895</td>\n      <td>ABR</td>\n      <td>2008</td>\n      <td>...</td>\n      <td>0.0</td>\n      <td>52</td>\n      <td>295.00</td>\n      <td>0</td>\n      <td>0.00</td>\n      <td>NaN</td>\n      <td>NaN</td>\n      <td>0.00</td>\n      <td>NaN</td>\n      <td>NaN</td>\n    </tr>\n    <tr>\n      <th>4</th>\n      <td>110005</td>\n      <td>CEREJEIRAS</td>\n      <td>RO</td>\n      <td>RONDÔNIA</td>\n      <td>NORTE</td>\n      <td>-60.818426</td>\n      <td>-13.195033</td>\n      <td>15890</td>\n      <td>ABR</td>\n      <td>2008</td>\n      <td>...</td>\n      <td>0.0</td>\n      <td>0</td>\n      <td>0.00</td>\n      <td>0</td>\n      <td>0.00</td>\n      <td>NaN</td>\n      <td>NaN</td>\n      <td>0.00</td>\n      <td>NaN</td>\n      <td>NaN</td>\n    </tr>\n    <tr>\n      <th>...</th>\n      <td>...</td>\n      <td>...</td>\n      <td>...</td>\n      <td>...</td>\n      <td>...</td>\n      <td>...</td>\n      <td>...</td>\n      <td>...</td>\n      <td>...</td>\n      <td>...</td>\n      <td>...</td>\n      <td>...</td>\n      <td>...</td>\n      <td>...</td>\n      <td>...</td>\n      <td>...</td>\n      <td>...</td>\n      <td>...</td>\n      <td>...</td>\n      <td>...</td>\n      <td>...</td>\n    </tr>\n    <tr>\n      <th>1069435</th>\n      <td>522200</td>\n      <td>VIANOPOLIS</td>\n      <td>GO</td>\n      <td>GOIÁS</td>\n      <td>CENTRO-OESTE</td>\n      <td>-48.513471</td>\n      <td>-16.742081</td>\n      <td>14956</td>\n      <td>SET</td>\n      <td>2023</td>\n      <td>...</td>\n      <td>0.0</td>\n      <td>0</td>\n      <td>0.00</td>\n      <td>50</td>\n      <td>400.00</td>\n      <td>0.0</td>\n      <td>0.0</td>\n      <td>0.00</td>\n      <td>0.0</td>\n      <td>0.00</td>\n    </tr>\n    <tr>\n      <th>1069436</th>\n      <td>522205</td>\n      <td>VICENTINOPOLIS</td>\n      <td>GO</td>\n      <td>GOIÁS</td>\n      <td>CENTRO-OESTE</td>\n      <td>-49.807239</td>\n      <td>-17.732662</td>\n      <td>8768</td>\n      <td>SET</td>\n      <td>2023</td>\n      <td>...</td>\n      <td>0.0</td>\n      <td>6</td>\n      <td>240.00</td>\n      <td>0</td>\n      <td>0.00</td>\n      <td>0.0</td>\n      <td>0.0</td>\n      <td>367.08</td>\n      <td>0.0</td>\n      <td>0.00</td>\n    </tr>\n    <tr>\n      <th>1069437</th>\n      <td>522220</td>\n      <td>VILA BOA</td>\n      <td>GO</td>\n      <td>GOIÁS</td>\n      <td>CENTRO-OESTE</td>\n      <td>-47.057361</td>\n      <td>-15.034889</td>\n      <td>4215</td>\n      <td>SET</td>\n      <td>2023</td>\n      <td>...</td>\n      <td>0.0</td>\n      <td>0</td>\n      <td>0.00</td>\n      <td>0</td>\n      <td>0.00</td>\n      <td>0.0</td>\n      <td>0.0</td>\n      <td>0.00</td>\n      <td>0.0</td>\n      <td>0.00</td>\n    </tr>\n    <tr>\n      <th>1069438</th>\n      <td>522230</td>\n      <td>VILA PROPICIO</td>\n      <td>GO</td>\n      <td>GOIÁS</td>\n      <td>CENTRO-OESTE</td>\n      <td>-48.882422</td>\n      <td>-15.454635</td>\n      <td>5815</td>\n      <td>SET</td>\n      <td>2023</td>\n      <td>...</td>\n      <td>0.0</td>\n      <td>0</td>\n      <td>0.00</td>\n      <td>0</td>\n      <td>0.00</td>\n      <td>0.0</td>\n      <td>0.0</td>\n      <td>0.00</td>\n      <td>0.0</td>\n      <td>0.00</td>\n    </tr>\n    <tr>\n      <th>1069439</th>\n      <td>530010</td>\n      <td>BRASILIA</td>\n      <td>DF</td>\n      <td>DISTRITO FEDERAL</td>\n      <td>CENTRO-OESTE</td>\n      <td>-47.887905</td>\n      <td>-15.794087</td>\n      <td>2817068</td>\n      <td>SET</td>\n      <td>2023</td>\n      <td>...</td>\n      <td>2880644.7</td>\n      <td>1010</td>\n      <td>5051.75</td>\n      <td>116724</td>\n      <td>9418009.74</td>\n      <td>13.0</td>\n      <td>13.0</td>\n      <td>135825.51</td>\n      <td>885.0</td>\n      <td>16.53</td>\n    </tr>\n  </tbody>\n</table>\n<p>1069440 rows × 127 columns</p>\n</div>"
     },
     "execution_count": 20,
     "metadata": {},
     "output_type": "execute_result"
    }
   ],
   "source": [
    "df_datasus.head()"
   ],
   "metadata": {
    "collapsed": false,
    "ExecuteTime": {
     "end_time": "2024-03-04T01:03:27.973883Z",
     "start_time": "2024-03-04T01:03:27.685513Z"
    }
   },
   "id": "2e3f65b490f11988",
   "execution_count": 20
  },
  {
   "cell_type": "code",
   "outputs": [
    {
     "data": {
      "text/plain": "         cod_municipio         municipio  uf         uf_nome regiao_nome  \\\n4311            420005     ABDON BATISTA  SC  SANTA CATARINA         SUL   \n4312            420010      ABELARDO LUZ  SC  SANTA CATARINA         SUL   \n4313            420020        AGROLANDIA  SC  SANTA CATARINA         SUL   \n4314            420030        AGRONOMICA  SC  SANTA CATARINA         SUL   \n4315            420040         AGUA DOCE  SC  SANTA CATARINA         SUL   \n...                ...               ...  ..             ...         ...   \n1068471         421950           XANXERE  SC  SANTA CATARINA         SUL   \n1068472         421960         XAVANTINA  SC  SANTA CATARINA         SUL   \n1068473         421970             XAXIM  SC  SANTA CATARINA         SUL   \n1068474         421985            ZORTEA  SC  SANTA CATARINA         SUL   \n1068475         422000  BALNEARIO RINCAO  SC  SANTA CATARINA         SUL   \n\n         longitude   latitude  nu_populacao  mes   ano  ...  \\\n4311    -51.025272 -27.608987          2598  ABR  2008  ...   \n4312    -52.336482 -26.563031         17392  ABR  2008  ...   \n4313    -49.825653 -27.400517         10990  ABR  2008  ...   \n4314    -49.718369 -27.269716          6055  ABR  2008  ...   \n4315    -51.559097 -27.004092          6508  ABR  2008  ...   \n...            ...        ...           ...  ...   ...  ...   \n1068471 -52.404667 -26.874584         51607  SET  2023  ...   \n1068472 -52.342851 -27.070250          3653  SET  2023  ...   \n1068473 -52.534933 -26.963719         31918  SET  2023  ...   \n1068474 -51.549566 -27.450251          3930  SET  2023  ...   \n1068475 -49.236100 -28.834400         15981  SET  2023  ...   \n\n         orteses_proteses_e_materiais_especiais_relacionados_ao_ato_cirurgico_val  \\\n4311                                                  0.00                          \n4312                                                102.00                          \n4313                                                  0.00                          \n4314                                                  0.00                          \n4315                                                  0.00                          \n...                                                    ...                          \n1068471                                          673429.26                          \n1068472                                               0.00                          \n1068473                                             520.00                          \n1068474                                               0.00                          \n1068475                                               0.00                          \n\n         acoes_relacionadas_ao_estabelecimento_qtd  \\\n4311                                             0   \n4312                                             8   \n4313                                             4   \n4314                                             0   \n4315                                             5   \n...                                            ...   \n1068471                                          0   \n1068472                                          0   \n1068473                                          0   \n1068474                                          0   \n1068475                                          0   \n\n         acoes_relacionadas_ao_estabelecimento_val  \\\n4311                                           0.0   \n4312                                         320.0   \n4313                                         160.0   \n4314                                           0.0   \n4315                                         200.0   \n...                                            ...   \n1068471                                        0.0   \n1068472                                        0.0   \n1068473                                        0.0   \n1068474                                        0.0   \n1068475                                        0.0   \n\n         acoes_relacionadas_ao_atendimento_qtd  \\\n4311                                         0   \n4312                                       108   \n4313                                         9   \n4314                                         0   \n4315                                        17   \n...                                        ...   \n1068471                                   3507   \n1068472                                     68   \n1068473                                    352   \n1068474                                      0   \n1068475                                      0   \n\n         acoes_relacionadas_ao_atendimento_val  \\\n4311                                      0.00   \n4312                                    864.00   \n4313                                     72.00   \n4314                                      0.00   \n4315                                    136.00   \n...                                        ...   \n1068471                              551338.30   \n1068472                                 634.09   \n1068473                                2930.66   \n1068474                                   0.00   \n1068475                                   0.00   \n\n         acoes_de_promocao_e_prevencao_em_saude  \\\n4311                                        NaN   \n4312                                        NaN   \n4313                                        NaN   \n4314                                        NaN   \n4315                                        NaN   \n...                                         ...   \n1068471                                     0.0   \n1068472                                     0.0   \n1068473                                     0.0   \n1068474                                     0.0   \n1068475                                     0.0   \n\n         acoes_coletivas_individuais_em_saude  anestesiologia  \\\n4311                                      NaN            0.00   \n4312                                      NaN          750.26   \n4313                                      NaN          305.90   \n4314                                      NaN            0.00   \n4315                                      NaN            0.00   \n...                                       ...             ...   \n1068471                                   0.0         3868.90   \n1068472                                   0.0            0.00   \n1068473                                   0.0         1620.78   \n1068474                                   0.0            0.00   \n1068475                                   0.0            0.00   \n\n         tratamentos_odontologicos_qtd  tratamentos_odontologicos_val  \n4311                               NaN                            NaN  \n4312                               NaN                            NaN  \n4313                               NaN                            NaN  \n4314                               NaN                            NaN  \n4315                               NaN                            NaN  \n...                                ...                            ...  \n1068471                            0.0                            0.0  \n1068472                            0.0                            0.0  \n1068473                            0.0                            0.0  \n1068474                            0.0                            0.0  \n1068475                            0.0                            0.0  \n\n[56640 rows x 127 columns]",
      "text/html": "<div>\n<style scoped>\n    .dataframe tbody tr th:only-of-type {\n        vertical-align: middle;\n    }\n\n    .dataframe tbody tr th {\n        vertical-align: top;\n    }\n\n    .dataframe thead th {\n        text-align: right;\n    }\n</style>\n<table border=\"1\" class=\"dataframe\">\n  <thead>\n    <tr style=\"text-align: right;\">\n      <th></th>\n      <th>cod_municipio</th>\n      <th>municipio</th>\n      <th>uf</th>\n      <th>uf_nome</th>\n      <th>regiao_nome</th>\n      <th>longitude</th>\n      <th>latitude</th>\n      <th>nu_populacao</th>\n      <th>mes</th>\n      <th>ano</th>\n      <th>...</th>\n      <th>orteses_proteses_e_materiais_especiais_relacionados_ao_ato_cirurgico_val</th>\n      <th>acoes_relacionadas_ao_estabelecimento_qtd</th>\n      <th>acoes_relacionadas_ao_estabelecimento_val</th>\n      <th>acoes_relacionadas_ao_atendimento_qtd</th>\n      <th>acoes_relacionadas_ao_atendimento_val</th>\n      <th>acoes_de_promocao_e_prevencao_em_saude</th>\n      <th>acoes_coletivas_individuais_em_saude</th>\n      <th>anestesiologia</th>\n      <th>tratamentos_odontologicos_qtd</th>\n      <th>tratamentos_odontologicos_val</th>\n    </tr>\n  </thead>\n  <tbody>\n    <tr>\n      <th>4311</th>\n      <td>420005</td>\n      <td>ABDON BATISTA</td>\n      <td>SC</td>\n      <td>SANTA CATARINA</td>\n      <td>SUL</td>\n      <td>-51.025272</td>\n      <td>-27.608987</td>\n      <td>2598</td>\n      <td>ABR</td>\n      <td>2008</td>\n      <td>...</td>\n      <td>0.00</td>\n      <td>0</td>\n      <td>0.0</td>\n      <td>0</td>\n      <td>0.00</td>\n      <td>NaN</td>\n      <td>NaN</td>\n      <td>0.00</td>\n      <td>NaN</td>\n      <td>NaN</td>\n    </tr>\n    <tr>\n      <th>4312</th>\n      <td>420010</td>\n      <td>ABELARDO LUZ</td>\n      <td>SC</td>\n      <td>SANTA CATARINA</td>\n      <td>SUL</td>\n      <td>-52.336482</td>\n      <td>-26.563031</td>\n      <td>17392</td>\n      <td>ABR</td>\n      <td>2008</td>\n      <td>...</td>\n      <td>102.00</td>\n      <td>8</td>\n      <td>320.0</td>\n      <td>108</td>\n      <td>864.00</td>\n      <td>NaN</td>\n      <td>NaN</td>\n      <td>750.26</td>\n      <td>NaN</td>\n      <td>NaN</td>\n    </tr>\n    <tr>\n      <th>4313</th>\n      <td>420020</td>\n      <td>AGROLANDIA</td>\n      <td>SC</td>\n      <td>SANTA CATARINA</td>\n      <td>SUL</td>\n      <td>-49.825653</td>\n      <td>-27.400517</td>\n      <td>10990</td>\n      <td>ABR</td>\n      <td>2008</td>\n      <td>...</td>\n      <td>0.00</td>\n      <td>4</td>\n      <td>160.0</td>\n      <td>9</td>\n      <td>72.00</td>\n      <td>NaN</td>\n      <td>NaN</td>\n      <td>305.90</td>\n      <td>NaN</td>\n      <td>NaN</td>\n    </tr>\n    <tr>\n      <th>4314</th>\n      <td>420030</td>\n      <td>AGRONOMICA</td>\n      <td>SC</td>\n      <td>SANTA CATARINA</td>\n      <td>SUL</td>\n      <td>-49.718369</td>\n      <td>-27.269716</td>\n      <td>6055</td>\n      <td>ABR</td>\n      <td>2008</td>\n      <td>...</td>\n      <td>0.00</td>\n      <td>0</td>\n      <td>0.0</td>\n      <td>0</td>\n      <td>0.00</td>\n      <td>NaN</td>\n      <td>NaN</td>\n      <td>0.00</td>\n      <td>NaN</td>\n      <td>NaN</td>\n    </tr>\n    <tr>\n      <th>4315</th>\n      <td>420040</td>\n      <td>AGUA DOCE</td>\n      <td>SC</td>\n      <td>SANTA CATARINA</td>\n      <td>SUL</td>\n      <td>-51.559097</td>\n      <td>-27.004092</td>\n      <td>6508</td>\n      <td>ABR</td>\n      <td>2008</td>\n      <td>...</td>\n      <td>0.00</td>\n      <td>5</td>\n      <td>200.0</td>\n      <td>17</td>\n      <td>136.00</td>\n      <td>NaN</td>\n      <td>NaN</td>\n      <td>0.00</td>\n      <td>NaN</td>\n      <td>NaN</td>\n    </tr>\n    <tr>\n      <th>...</th>\n      <td>...</td>\n      <td>...</td>\n      <td>...</td>\n      <td>...</td>\n      <td>...</td>\n      <td>...</td>\n      <td>...</td>\n      <td>...</td>\n      <td>...</td>\n      <td>...</td>\n      <td>...</td>\n      <td>...</td>\n      <td>...</td>\n      <td>...</td>\n      <td>...</td>\n      <td>...</td>\n      <td>...</td>\n      <td>...</td>\n      <td>...</td>\n      <td>...</td>\n      <td>...</td>\n    </tr>\n    <tr>\n      <th>1068471</th>\n      <td>421950</td>\n      <td>XANXERE</td>\n      <td>SC</td>\n      <td>SANTA CATARINA</td>\n      <td>SUL</td>\n      <td>-52.404667</td>\n      <td>-26.874584</td>\n      <td>51607</td>\n      <td>SET</td>\n      <td>2023</td>\n      <td>...</td>\n      <td>673429.26</td>\n      <td>0</td>\n      <td>0.0</td>\n      <td>3507</td>\n      <td>551338.30</td>\n      <td>0.0</td>\n      <td>0.0</td>\n      <td>3868.90</td>\n      <td>0.0</td>\n      <td>0.0</td>\n    </tr>\n    <tr>\n      <th>1068472</th>\n      <td>421960</td>\n      <td>XAVANTINA</td>\n      <td>SC</td>\n      <td>SANTA CATARINA</td>\n      <td>SUL</td>\n      <td>-52.342851</td>\n      <td>-27.070250</td>\n      <td>3653</td>\n      <td>SET</td>\n      <td>2023</td>\n      <td>...</td>\n      <td>0.00</td>\n      <td>0</td>\n      <td>0.0</td>\n      <td>68</td>\n      <td>634.09</td>\n      <td>0.0</td>\n      <td>0.0</td>\n      <td>0.00</td>\n      <td>0.0</td>\n      <td>0.0</td>\n    </tr>\n    <tr>\n      <th>1068473</th>\n      <td>421970</td>\n      <td>XAXIM</td>\n      <td>SC</td>\n      <td>SANTA CATARINA</td>\n      <td>SUL</td>\n      <td>-52.534933</td>\n      <td>-26.963719</td>\n      <td>31918</td>\n      <td>SET</td>\n      <td>2023</td>\n      <td>...</td>\n      <td>520.00</td>\n      <td>0</td>\n      <td>0.0</td>\n      <td>352</td>\n      <td>2930.66</td>\n      <td>0.0</td>\n      <td>0.0</td>\n      <td>1620.78</td>\n      <td>0.0</td>\n      <td>0.0</td>\n    </tr>\n    <tr>\n      <th>1068474</th>\n      <td>421985</td>\n      <td>ZORTEA</td>\n      <td>SC</td>\n      <td>SANTA CATARINA</td>\n      <td>SUL</td>\n      <td>-51.549566</td>\n      <td>-27.450251</td>\n      <td>3930</td>\n      <td>SET</td>\n      <td>2023</td>\n      <td>...</td>\n      <td>0.00</td>\n      <td>0</td>\n      <td>0.0</td>\n      <td>0</td>\n      <td>0.00</td>\n      <td>0.0</td>\n      <td>0.0</td>\n      <td>0.00</td>\n      <td>0.0</td>\n      <td>0.0</td>\n    </tr>\n    <tr>\n      <th>1068475</th>\n      <td>422000</td>\n      <td>BALNEARIO RINCAO</td>\n      <td>SC</td>\n      <td>SANTA CATARINA</td>\n      <td>SUL</td>\n      <td>-49.236100</td>\n      <td>-28.834400</td>\n      <td>15981</td>\n      <td>SET</td>\n      <td>2023</td>\n      <td>...</td>\n      <td>0.00</td>\n      <td>0</td>\n      <td>0.0</td>\n      <td>0</td>\n      <td>0.00</td>\n      <td>0.0</td>\n      <td>0.0</td>\n      <td>0.00</td>\n      <td>0.0</td>\n      <td>0.0</td>\n    </tr>\n  </tbody>\n</table>\n<p>56640 rows × 127 columns</p>\n</div>"
     },
     "execution_count": 14,
     "metadata": {},
     "output_type": "execute_result"
    }
   ],
   "source": [
    "df_datasus.query(\"regiao_nome == 'SUL' and uf == 'SC'\")"
   ],
   "metadata": {
    "collapsed": false,
    "ExecuteTime": {
     "end_time": "2024-03-04T00:49:34.942244Z",
     "start_time": "2024-03-04T00:49:34.842597Z"
    }
   },
   "id": "c3e4ca2d6a18ed36",
   "execution_count": 14
  },
  {
   "cell_type": "code",
   "outputs": [],
   "source": [
    "df_datasus['tratamentos_odontologicos_qtd'] = df_datasus['tratamentos_odontologicos_qtd'].fillna(0.0).astype('int64')"
   ],
   "metadata": {
    "collapsed": false,
    "ExecuteTime": {
     "end_time": "2024-03-04T01:14:58.802343Z",
     "start_time": "2024-03-04T01:14:58.783781Z"
    }
   },
   "id": "64db7300ba4b3c49",
   "execution_count": 36
  },
  {
   "cell_type": "code",
   "outputs": [
    {
     "data": {
      "text/plain": "    cod_municipio              municipio  uf   uf_nome regiao_nome  longitude  \\\n0          110001  ALTA FLORESTA D'OESTE  RO  RONDÔNIA       NORTE -61.999824   \n1          110002              ARIQUEMES  RO  RONDÔNIA       NORTE -63.033269   \n2          110003                 CABIXI  RO  RONDÔNIA       NORTE -60.544314   \n3          110004                 CACOAL  RO  RONDÔNIA       NORTE -61.442944   \n4          110005             CEREJEIRAS  RO  RONDÔNIA       NORTE -60.818426   \n..            ...                    ...  ..       ...         ...        ...   \n95         130140               EIRUNEPE  AM  AMAZONAS       NORTE -69.866290   \n96         130150                 ENVIRA  AM  AMAZONAS       NORTE -70.030413   \n97         130160              FONTE BOA  AM  AMAZONAS       NORTE -66.096503   \n98         130165                GUAJARA  AM  AMAZONAS       NORTE -72.582431   \n99         130170                HUMAITA  AM  AMAZONAS       NORTE -63.026698   \n\n     latitude  nu_populacao  mes   ano  ...  \\\n0  -11.935540         21495  ABR  2008  ...   \n1   -9.908463         96833  ABR  2008  ...   \n2  -13.499763          5363  ABR  2008  ...   \n3  -11.433865         86895  ABR  2008  ...   \n4  -13.195033         15890  ABR  2008  ...   \n..        ...           ...  ...   ...  ...   \n95  -6.667353         33170  ABR  2008  ...   \n96  -7.439818         17186  ABR  2008  ...   \n97  -2.512271         25871  ABR  2008  ...   \n98  -7.547774         13815  ABR  2008  ...   \n99  -7.512225         57473  ABR  2008  ...   \n\n    orteses_proteses_e_materiais_especiais_relacionados_ao_ato_cirurgico_val  \\\n0                                                 0.0                          \n1                                                 0.0                          \n2                                                 0.0                          \n3                                                 0.0                          \n4                                                 0.0                          \n..                                                ...                          \n95                                                0.0                          \n96                                                0.0                          \n97                                                0.0                          \n98                                                0.0                          \n99                                                0.0                          \n\n    acoes_relacionadas_ao_estabelecimento_qtd  \\\n0                                           9   \n1                                           0   \n2                                           0   \n3                                          52   \n4                                           0   \n..                                        ...   \n95                                          0   \n96                                          9   \n97                                          0   \n98                                          0   \n99                                          0   \n\n    acoes_relacionadas_ao_estabelecimento_val  \\\n0                                       360.0   \n1                                         0.0   \n2                                         0.0   \n3                                       295.0   \n4                                         0.0   \n..                                        ...   \n95                                        0.0   \n96                                      360.0   \n97                                        0.0   \n98                                        0.0   \n99                                        0.0   \n\n    acoes_relacionadas_ao_atendimento_qtd  \\\n0                                     116   \n1                                      46   \n2                                       0   \n3                                       0   \n4                                       0   \n..                                    ...   \n95                                      9   \n96                                     41   \n97                                      0   \n98                                      0   \n99                                      0   \n\n    acoes_relacionadas_ao_atendimento_val  \\\n0                                   928.0   \n1                                   368.0   \n2                                     0.0   \n3                                     0.0   \n4                                     0.0   \n..                                    ...   \n95                                   72.0   \n96                                  328.0   \n97                                    0.0   \n98                                    0.0   \n99                                    0.0   \n\n    acoes_de_promocao_e_prevencao_em_saude  \\\n0                                      0.0   \n1                                      0.0   \n2                                      0.0   \n3                                      0.0   \n4                                      0.0   \n..                                     ...   \n95                                     0.0   \n96                                     0.0   \n97                                     0.0   \n98                                     0.0   \n99                                     0.0   \n\n    acoes_coletivas_individuais_em_saude  anestesiologia  \\\n0                                    0.0            0.00   \n1                                    0.0         4427.50   \n2                                    0.0            0.00   \n3                                    0.0            0.00   \n4                                    0.0            0.00   \n..                                   ...             ...   \n95                                   0.0          550.62   \n96                                   0.0          367.08   \n97                                   0.0            0.00   \n98                                   0.0            0.00   \n99                                   0.0            0.00   \n\n    tratamentos_odontologicos_qtd  tratamentos_odontologicos_val  \n0                               0                            0.0  \n1                               0                            0.0  \n2                               0                            0.0  \n3                               0                            0.0  \n4                               0                            0.0  \n..                            ...                            ...  \n95                              0                            0.0  \n96                              0                            0.0  \n97                              0                            0.0  \n98                              0                            0.0  \n99                              0                            0.0  \n\n[100 rows x 127 columns]",
      "text/html": "<div>\n<style scoped>\n    .dataframe tbody tr th:only-of-type {\n        vertical-align: middle;\n    }\n\n    .dataframe tbody tr th {\n        vertical-align: top;\n    }\n\n    .dataframe thead th {\n        text-align: right;\n    }\n</style>\n<table border=\"1\" class=\"dataframe\">\n  <thead>\n    <tr style=\"text-align: right;\">\n      <th></th>\n      <th>cod_municipio</th>\n      <th>municipio</th>\n      <th>uf</th>\n      <th>uf_nome</th>\n      <th>regiao_nome</th>\n      <th>longitude</th>\n      <th>latitude</th>\n      <th>nu_populacao</th>\n      <th>mes</th>\n      <th>ano</th>\n      <th>...</th>\n      <th>orteses_proteses_e_materiais_especiais_relacionados_ao_ato_cirurgico_val</th>\n      <th>acoes_relacionadas_ao_estabelecimento_qtd</th>\n      <th>acoes_relacionadas_ao_estabelecimento_val</th>\n      <th>acoes_relacionadas_ao_atendimento_qtd</th>\n      <th>acoes_relacionadas_ao_atendimento_val</th>\n      <th>acoes_de_promocao_e_prevencao_em_saude</th>\n      <th>acoes_coletivas_individuais_em_saude</th>\n      <th>anestesiologia</th>\n      <th>tratamentos_odontologicos_qtd</th>\n      <th>tratamentos_odontologicos_val</th>\n    </tr>\n  </thead>\n  <tbody>\n    <tr>\n      <th>0</th>\n      <td>110001</td>\n      <td>ALTA FLORESTA D'OESTE</td>\n      <td>RO</td>\n      <td>RONDÔNIA</td>\n      <td>NORTE</td>\n      <td>-61.999824</td>\n      <td>-11.935540</td>\n      <td>21495</td>\n      <td>ABR</td>\n      <td>2008</td>\n      <td>...</td>\n      <td>0.0</td>\n      <td>9</td>\n      <td>360.0</td>\n      <td>116</td>\n      <td>928.0</td>\n      <td>0.0</td>\n      <td>0.0</td>\n      <td>0.00</td>\n      <td>0</td>\n      <td>0.0</td>\n    </tr>\n    <tr>\n      <th>1</th>\n      <td>110002</td>\n      <td>ARIQUEMES</td>\n      <td>RO</td>\n      <td>RONDÔNIA</td>\n      <td>NORTE</td>\n      <td>-63.033269</td>\n      <td>-9.908463</td>\n      <td>96833</td>\n      <td>ABR</td>\n      <td>2008</td>\n      <td>...</td>\n      <td>0.0</td>\n      <td>0</td>\n      <td>0.0</td>\n      <td>46</td>\n      <td>368.0</td>\n      <td>0.0</td>\n      <td>0.0</td>\n      <td>4427.50</td>\n      <td>0</td>\n      <td>0.0</td>\n    </tr>\n    <tr>\n      <th>2</th>\n      <td>110003</td>\n      <td>CABIXI</td>\n      <td>RO</td>\n      <td>RONDÔNIA</td>\n      <td>NORTE</td>\n      <td>-60.544314</td>\n      <td>-13.499763</td>\n      <td>5363</td>\n      <td>ABR</td>\n      <td>2008</td>\n      <td>...</td>\n      <td>0.0</td>\n      <td>0</td>\n      <td>0.0</td>\n      <td>0</td>\n      <td>0.0</td>\n      <td>0.0</td>\n      <td>0.0</td>\n      <td>0.00</td>\n      <td>0</td>\n      <td>0.0</td>\n    </tr>\n    <tr>\n      <th>3</th>\n      <td>110004</td>\n      <td>CACOAL</td>\n      <td>RO</td>\n      <td>RONDÔNIA</td>\n      <td>NORTE</td>\n      <td>-61.442944</td>\n      <td>-11.433865</td>\n      <td>86895</td>\n      <td>ABR</td>\n      <td>2008</td>\n      <td>...</td>\n      <td>0.0</td>\n      <td>52</td>\n      <td>295.0</td>\n      <td>0</td>\n      <td>0.0</td>\n      <td>0.0</td>\n      <td>0.0</td>\n      <td>0.00</td>\n      <td>0</td>\n      <td>0.0</td>\n    </tr>\n    <tr>\n      <th>4</th>\n      <td>110005</td>\n      <td>CEREJEIRAS</td>\n      <td>RO</td>\n      <td>RONDÔNIA</td>\n      <td>NORTE</td>\n      <td>-60.818426</td>\n      <td>-13.195033</td>\n      <td>15890</td>\n      <td>ABR</td>\n      <td>2008</td>\n      <td>...</td>\n      <td>0.0</td>\n      <td>0</td>\n      <td>0.0</td>\n      <td>0</td>\n      <td>0.0</td>\n      <td>0.0</td>\n      <td>0.0</td>\n      <td>0.00</td>\n      <td>0</td>\n      <td>0.0</td>\n    </tr>\n    <tr>\n      <th>...</th>\n      <td>...</td>\n      <td>...</td>\n      <td>...</td>\n      <td>...</td>\n      <td>...</td>\n      <td>...</td>\n      <td>...</td>\n      <td>...</td>\n      <td>...</td>\n      <td>...</td>\n      <td>...</td>\n      <td>...</td>\n      <td>...</td>\n      <td>...</td>\n      <td>...</td>\n      <td>...</td>\n      <td>...</td>\n      <td>...</td>\n      <td>...</td>\n      <td>...</td>\n      <td>...</td>\n    </tr>\n    <tr>\n      <th>95</th>\n      <td>130140</td>\n      <td>EIRUNEPE</td>\n      <td>AM</td>\n      <td>AMAZONAS</td>\n      <td>NORTE</td>\n      <td>-69.866290</td>\n      <td>-6.667353</td>\n      <td>33170</td>\n      <td>ABR</td>\n      <td>2008</td>\n      <td>...</td>\n      <td>0.0</td>\n      <td>0</td>\n      <td>0.0</td>\n      <td>9</td>\n      <td>72.0</td>\n      <td>0.0</td>\n      <td>0.0</td>\n      <td>550.62</td>\n      <td>0</td>\n      <td>0.0</td>\n    </tr>\n    <tr>\n      <th>96</th>\n      <td>130150</td>\n      <td>ENVIRA</td>\n      <td>AM</td>\n      <td>AMAZONAS</td>\n      <td>NORTE</td>\n      <td>-70.030413</td>\n      <td>-7.439818</td>\n      <td>17186</td>\n      <td>ABR</td>\n      <td>2008</td>\n      <td>...</td>\n      <td>0.0</td>\n      <td>9</td>\n      <td>360.0</td>\n      <td>41</td>\n      <td>328.0</td>\n      <td>0.0</td>\n      <td>0.0</td>\n      <td>367.08</td>\n      <td>0</td>\n      <td>0.0</td>\n    </tr>\n    <tr>\n      <th>97</th>\n      <td>130160</td>\n      <td>FONTE BOA</td>\n      <td>AM</td>\n      <td>AMAZONAS</td>\n      <td>NORTE</td>\n      <td>-66.096503</td>\n      <td>-2.512271</td>\n      <td>25871</td>\n      <td>ABR</td>\n      <td>2008</td>\n      <td>...</td>\n      <td>0.0</td>\n      <td>0</td>\n      <td>0.0</td>\n      <td>0</td>\n      <td>0.0</td>\n      <td>0.0</td>\n      <td>0.0</td>\n      <td>0.00</td>\n      <td>0</td>\n      <td>0.0</td>\n    </tr>\n    <tr>\n      <th>98</th>\n      <td>130165</td>\n      <td>GUAJARA</td>\n      <td>AM</td>\n      <td>AMAZONAS</td>\n      <td>NORTE</td>\n      <td>-72.582431</td>\n      <td>-7.547774</td>\n      <td>13815</td>\n      <td>ABR</td>\n      <td>2008</td>\n      <td>...</td>\n      <td>0.0</td>\n      <td>0</td>\n      <td>0.0</td>\n      <td>0</td>\n      <td>0.0</td>\n      <td>0.0</td>\n      <td>0.0</td>\n      <td>0.00</td>\n      <td>0</td>\n      <td>0.0</td>\n    </tr>\n    <tr>\n      <th>99</th>\n      <td>130170</td>\n      <td>HUMAITA</td>\n      <td>AM</td>\n      <td>AMAZONAS</td>\n      <td>NORTE</td>\n      <td>-63.026698</td>\n      <td>-7.512225</td>\n      <td>57473</td>\n      <td>ABR</td>\n      <td>2008</td>\n      <td>...</td>\n      <td>0.0</td>\n      <td>0</td>\n      <td>0.0</td>\n      <td>0</td>\n      <td>0.0</td>\n      <td>0.0</td>\n      <td>0.0</td>\n      <td>0.00</td>\n      <td>0</td>\n      <td>0.0</td>\n    </tr>\n  </tbody>\n</table>\n<p>100 rows × 127 columns</p>\n</div>"
     },
     "execution_count": 117,
     "metadata": {},
     "output_type": "execute_result"
    }
   ],
   "source": [
    "df_datasus.head(100)"
   ],
   "metadata": {
    "collapsed": false,
    "ExecuteTime": {
     "end_time": "2024-03-04T02:47:40.191959Z",
     "start_time": "2024-03-04T02:47:40.159551Z"
    }
   },
   "id": "446e63bec4eb5722",
   "execution_count": 117
  },
  {
   "cell_type": "code",
   "outputs": [
    {
     "data": {
      "text/plain": "count    896770.000000\nmean          0.043541\nstd           2.569500\nmin           0.000000\n25%           0.000000\n50%           0.000000\n75%           0.000000\nmax         486.000000\nName: acoes_de_promocao_e_prevencao_em_saude, dtype: float64"
     },
     "execution_count": 23,
     "metadata": {},
     "output_type": "execute_result"
    }
   ],
   "source": [
    "df_datasus['acoes_de_promocao_e_prevencao_em_saude'].describe()"
   ],
   "metadata": {
    "collapsed": false,
    "ExecuteTime": {
     "end_time": "2024-03-04T01:05:34.911976Z",
     "start_time": "2024-03-04T01:05:34.844630Z"
    }
   },
   "id": "a114a40e38606fde",
   "execution_count": 23
  },
  {
   "cell_type": "code",
   "outputs": [
    {
     "data": {
      "text/plain": "count    896770.000000\nmean          0.043541\nstd           2.569500\nmin           0.000000\n25%           0.000000\n50%           0.000000\n75%           0.000000\nmax         486.000000\nName: acoes_coletivas_individuais_em_saude, dtype: float64"
     },
     "execution_count": 24,
     "metadata": {},
     "output_type": "execute_result"
    }
   ],
   "source": [
    "df_datasus['acoes_coletivas_individuais_em_saude'].describe()"
   ],
   "metadata": {
    "collapsed": false,
    "ExecuteTime": {
     "end_time": "2024-03-04T01:06:33.586713Z",
     "start_time": "2024-03-04T01:06:33.518436Z"
    }
   },
   "id": "7644d098f8e044a5",
   "execution_count": 24
  },
  {
   "cell_type": "code",
   "outputs": [],
   "source": [
    "for colum in df_datasus.columns:\n",
    "    if df_datasus[colum].dtype == 'int64':\n",
    "        df_datasus[colum] = df_datasus[colum].fillna(0)\n",
    "    elif df_datasus[colum].dtype == 'float64':\n",
    "        df_datasus[colum] = df_datasus[colum].fillna(0.0)"
   ],
   "metadata": {
    "collapsed": false,
    "ExecuteTime": {
     "end_time": "2024-03-04T01:20:25.464933Z",
     "start_time": "2024-03-04T01:20:24.475Z"
    }
   },
   "id": "5cecb5b8fd54b61f",
   "execution_count": 40
  },
  {
   "cell_type": "code",
   "outputs": [
    {
     "data": {
      "text/plain": "cod_municipio                             0\nmunicipio                                 0\nuf                                        0\nuf_nome                                   0\nregiao_nome                               0\n                                         ..\nacoes_de_promocao_e_prevencao_em_saude    0\nacoes_coletivas_individuais_em_saude      0\nanestesiologia                            0\ntratamentos_odontologicos_qtd             0\ntratamentos_odontologicos_val             0\nLength: 127, dtype: int64"
     },
     "execution_count": 41,
     "metadata": {},
     "output_type": "execute_result"
    }
   ],
   "source": [
    "df_datasus.isnull().sum()"
   ],
   "metadata": {
    "collapsed": false,
    "ExecuteTime": {
     "end_time": "2024-03-04T01:20:40.596855Z",
     "start_time": "2024-03-04T01:20:40.379560Z"
    }
   },
   "id": "a7abaa970d65953",
   "execution_count": 41
  },
  {
   "cell_type": "code",
   "outputs": [
    {
     "data": {
      "text/plain": "         cumsum\n1069435     653\n1069436     653\n1069437     653\n1069438     653\n1069439    9617",
      "text/html": "<div>\n<style scoped>\n    .dataframe tbody tr th:only-of-type {\n        vertical-align: middle;\n    }\n\n    .dataframe tbody tr th {\n        vertical-align: top;\n    }\n\n    .dataframe thead th {\n        text-align: right;\n    }\n</style>\n<table border=\"1\" class=\"dataframe\">\n  <thead>\n    <tr style=\"text-align: right;\">\n      <th></th>\n      <th>cumsum</th>\n    </tr>\n  </thead>\n  <tbody>\n    <tr>\n      <th>1069435</th>\n      <td>653</td>\n    </tr>\n    <tr>\n      <th>1069436</th>\n      <td>653</td>\n    </tr>\n    <tr>\n      <th>1069437</th>\n      <td>653</td>\n    </tr>\n    <tr>\n      <th>1069438</th>\n      <td>653</td>\n    </tr>\n    <tr>\n      <th>1069439</th>\n      <td>9617</td>\n    </tr>\n  </tbody>\n</table>\n</div>"
     },
     "execution_count": 51,
     "metadata": {},
     "output_type": "execute_result"
    }
   ],
   "source": [
    "df_datasus.groupby(['uf', 'ano'], observed=True)['tratamentos_odontologicos_qtd'].agg(['cumsum']).tail()"
   ],
   "metadata": {
    "collapsed": false,
    "ExecuteTime": {
     "end_time": "2024-03-04T01:43:25.669664Z",
     "start_time": "2024-03-04T01:43:25.587112Z"
    }
   },
   "id": "d1bb19604c99fa04",
   "execution_count": 51
  },
  {
   "cell_type": "code",
   "outputs": [],
   "source": [
    "df_datasus_qtd = df_datasus.filter(regex='_qtd', axis=1)\n",
    "df_datasus_val = df_datasus.filter(regex='_val', axis=1)"
   ],
   "metadata": {
    "collapsed": false,
    "ExecuteTime": {
     "end_time": "2024-03-04T02:41:07.129984Z",
     "start_time": "2024-03-04T02:41:06.688289Z"
    }
   },
   "id": "cc246eb187e3e36",
   "execution_count": 109
  },
  {
   "cell_type": "code",
   "outputs": [],
   "source": [
    "colum_qtd = df_datasus_qtd.columns\n",
    "colum_val = df_datasus_val.columns"
   ],
   "metadata": {
    "collapsed": false,
    "ExecuteTime": {
     "end_time": "2024-03-04T02:41:09.684665Z",
     "start_time": "2024-03-04T02:41:09.681641Z"
    }
   },
   "id": "5aa1a055d1f51765",
   "execution_count": 110
  },
  {
   "cell_type": "code",
   "outputs": [
    {
     "data": {
      "text/plain": "Index(['procedimentos_com_finalidade_diagnostica_qtd',\n       'procedimentos_clinicos_qtd', 'procedimentos_cirurgicos_qtd',\n       'transplantes_de_orgaos_tecidos_e_celulas_qtd', 'medicamentos_qtd',\n       'orteses_proteses_e_materiais_especiais_qtd',\n       'acoes_complementares_da_atencao_a_saude_qtd', 'coleta_de_material_qtd',\n       'diagnostico_em_laboratorio_clinico_qtd',\n       'diagnostico_por_anatomia_patologica_e_citopatologia_qtd',\n       'diagnostico_por_radiologia_qtd', 'diagnostico_por_ultrasonografia_qtd',\n       'diagnostico_por_tomografia_qtd',\n       'diagnostico_por_ressonancia_magnetica_qtd',\n       'diagnostico_por_medicina_nuclear_in_vivo_qtd',\n       'diagnostico_por_endoscopia_qtd',\n       'diagnostico_por_radiologia_intervencionista_qtd',\n       'metodos_diagnosticos_em_especialidades_qtd',\n       'diagnostico_e_procedimentos_especiais_em_hemoterapia_qtd',\n       'diagnostico_por_teste_rapido_qtd',\n       'consultas_atendimentos_acompanhamentos_qtd', 'fisioterapia_qtd',\n       'tratamentos_clinicos_outras_especialidades_qtd',\n       'tratamento_em_oncologia_qtd', 'tratamento_em_nefrologia_qtd',\n       'hemoterapia_qtd',\n       'tratamento_de_lesoes_envenenamentos_e_outros_decorrentes_de_causas_externas_qtd',\n       'terapias_especializadas_qtd', 'parto_e_nascimento_qtd',\n       'pequenas_cirurgias_e_cirurgias_de_pele_tecido_subcutaneo_e_mucosa_qtd',\n       'cirurgia_de_glandulas_endocrinas_qtd',\n       'cirurgia_do_sistema_nervoso_central_e_periferico_qtd',\n       'cirurgia_das_vias_aereas_superiores_da_face_da_cabeca_e_do_pescoco_qtd',\n       'cirurgia_do_aparelho_da_visao_qtd',\n       'cirurgia_do_aparelho_circulatorio_qtd',\n       'cirurgia_do_aparelho_digestivo_orgaos_anexos_e_parede_abdominal_qtd',\n       'cirurgia_do_sistema_osteomuscular_qtd',\n       'cirurgia_do_aparelho_geniturinario_qtd', 'cirurgia_de_mama_qtd',\n       'cirurgia_obstetrica_qtd', 'cirurgia_toracica_qtd',\n       'cirurgia_reparadora_qtd', 'bucomaxilofacial_qtd',\n       'outras_cirurgias_qtd', 'cirurgia_em_oncologia_qtd',\n       'cirurgia_em_nefrologia_qtd',\n       'coleta_e_exames_para_fins_de_doacao_de_orgaos_tecidos_e_celulas_e_de_transplante_qtd',\n       'avaliacao_de_morte_encefalica_qtd',\n       'acoes_relacionadas_a_doacao_de_orgaos_e_tecidos_para_transplante_qtd',\n       'processamento_de_tecidos_para_transplante_qtd',\n       'transplante_de_orgaos_tecidos_e_celulas_qtd',\n       'acompanhamento_e_intercorrencias_no_pre_e_pos_transplante_qtd',\n       'medicamentos_de_ambito_hospitalar_e_urgencia_qtd',\n       'orteses_proteses_e_materiais_especiais_relacionados_ao_ato_cirurgico_qtd',\n       'acoes_relacionadas_ao_estabelecimento_qtd',\n       'acoes_relacionadas_ao_atendimento_qtd',\n       'tratamentos_odontologicos_qtd'],\n      dtype='object')"
     },
     "execution_count": 111,
     "metadata": {},
     "output_type": "execute_result"
    }
   ],
   "source": [
    "colum_qtd"
   ],
   "metadata": {
    "collapsed": false,
    "ExecuteTime": {
     "end_time": "2024-03-04T02:41:13.162952Z",
     "start_time": "2024-03-04T02:41:13.157503Z"
    }
   },
   "id": "59f0fc5de97b43db",
   "execution_count": 111
  },
  {
   "cell_type": "code",
   "outputs": [
    {
     "ename": "KeyError",
     "evalue": "\"Columns not found: 'diagnostico_por_tomografia_qtd', 'cirurgia_do_aparelho_digestivo_orgaos_anexos_e_parede_abdominal_qtd', 'cirurgia_do_aparelho_da_visao_qtd', 'diagnostico_por_radiologia_qtd', 'avaliacao_de_morte_encefalica_qtd', 'processamento_de_tecidos_para_transplante_qtd', 'acoes_complementares_da_atencao_a_saude_qtd', 'cirurgia_em_oncologia_qtd', 'diagnostico_por_anatomia_patologica_e_citopatologia_qtd', 'terapias_especializadas_qtd', 'diagnostico_por_medicina_nuclear_in_vivo_qtd', 'cirurgia_do_aparelho_geniturinario_qtd', 'orteses_proteses_e_materiais_especiais_qtd', 'acoes_relacionadas_ao_atendimento_qtd', 'fisioterapia_qtd', 'diagnostico_em_laboratorio_clinico_qtd', 'tratamento_em_nefrologia_qtd', 'outras_cirurgias_qtd', 'cirurgia_de_mama_qtd', 'acoes_relacionadas_a_doacao_de_orgaos_e_tecidos_para_transplante_qtd', 'cirurgia_de_glandulas_endocrinas_qtd', 'cirurgia_reparadora_qtd', 'diagnostico_por_endoscopia_qtd', 'tratamento_de_lesoes_envenenamentos_e_outros_decorrentes_de_causas_externas_qtd', 'diagnostico_por_teste_rapido_qtd', 'cirurgia_toracica_qtd', 'medicamentos_qtd', 'cirurgia_do_aparelho_circulatorio_qtd', 'cirurgia_do_sistema_nervoso_central_e_periferico_qtd', 'cirurgia_das_vias_aereas_superiores_da_face_da_cabeca_e_do_pescoco_qtd', 'medicamentos_de_ambito_hospitalar_e_urgencia_qtd', 'coleta_e_exames_para_fins_de_doacao_de_orgaos_tecidos_e_celulas_e_de_transplante_qtd', 'orteses_proteses_e_materiais_especiais_relacionados_ao_ato_cirurgico_qtd', 'bucomaxilofacial_qtd', 'coleta_de_material_qtd', 'consultas_atendimentos_acompanhamentos_qtd', 'hemoterapia_qtd', 'metodos_diagnosticos_em_especialidades_qtd', 'transplante_de_orgaos_tecidos_e_celulas_qtd', 'cirurgia_obstetrica_qtd', 'procedimentos_cirurgicos_qtd', 'diagnostico_por_ressonancia_magnetica_qtd', 'diagnostico_e_procedimentos_especiais_em_hemoterapia_qtd', 'tratamentos_clinicos_outras_especialidades_qtd', 'cirurgia_do_sistema_osteomuscular_qtd', 'diagnostico_por_radiologia_intervencionista_qtd', 'transplantes_de_orgaos_tecidos_e_celulas_qtd', 'acompanhamento_e_intercorrencias_no_pre_e_pos_transplante_qtd', 'procedimentos_com_finalidade_diagnostica_qtd', 'acoes_relacionadas_ao_estabelecimento_qtd', 'tratamentos_odontologicos_qtd', 'diagnostico_por_ultrasonografia_qtd', 'pequenas_cirurgias_e_cirurgias_de_pele_tecido_subcutaneo_e_mucosa_qtd', 'parto_e_nascimento_qtd', 'cirurgia_em_nefrologia_qtd', 'procedimentos_clinicos_qtd', 'tratamento_em_oncologia_qtd'\"",
     "output_type": "error",
     "traceback": [
      "\u001B[1;31m---------------------------------------------------------------------------\u001B[0m",
      "\u001B[1;31mKeyError\u001B[0m                                  Traceback (most recent call last)",
      "Cell \u001B[1;32mIn[116], line 1\u001B[0m\n\u001B[1;32m----> 1\u001B[0m \u001B[43mdf_datasus\u001B[49m\u001B[43m[\u001B[49m\u001B[43m[\u001B[49m\u001B[38;5;124;43m'\u001B[39;49m\u001B[38;5;124;43muf\u001B[39;49m\u001B[38;5;124;43m'\u001B[39;49m\u001B[43m,\u001B[49m\u001B[43m \u001B[49m\u001B[38;5;124;43m'\u001B[39;49m\u001B[38;5;124;43mano\u001B[39;49m\u001B[38;5;124;43m'\u001B[39;49m\u001B[43m]\u001B[49m\u001B[43m]\u001B[49m\u001B[38;5;241;43m.\u001B[39;49m\u001B[43mgroupby\u001B[49m\u001B[43m(\u001B[49m\u001B[43m[\u001B[49m\u001B[38;5;124;43m'\u001B[39;49m\u001B[38;5;124;43muf\u001B[39;49m\u001B[38;5;124;43m'\u001B[39;49m\u001B[43m,\u001B[49m\u001B[43m \u001B[49m\u001B[38;5;124;43m'\u001B[39;49m\u001B[38;5;124;43mano\u001B[39;49m\u001B[38;5;124;43m'\u001B[39;49m\u001B[43m]\u001B[49m\u001B[43m,\u001B[49m\u001B[43m \u001B[49m\u001B[43mobserved\u001B[49m\u001B[38;5;241;43m=\u001B[39;49m\u001B[38;5;28;43;01mTrue\u001B[39;49;00m\u001B[43m)\u001B[49m\u001B[43m[\u001B[49m\u001B[43mcolum_qtd\u001B[49m\u001B[43m]\u001B[49m\u001B[38;5;241m.\u001B[39magg([\u001B[38;5;124m'\u001B[39m\u001B[38;5;124mcumsum\u001B[39m\u001B[38;5;124m'\u001B[39m])\n",
      "File \u001B[1;32m~\\PycharmProjects\\desafio_ciencia_de_dados\\.venv\\Lib\\site-packages\\pandas\\core\\groupby\\generic.py:1951\u001B[0m, in \u001B[0;36mDataFrameGroupBy.__getitem__\u001B[1;34m(self, key)\u001B[0m\n\u001B[0;32m   1944\u001B[0m \u001B[38;5;28;01mif\u001B[39;00m \u001B[38;5;28misinstance\u001B[39m(key, \u001B[38;5;28mtuple\u001B[39m) \u001B[38;5;129;01mand\u001B[39;00m \u001B[38;5;28mlen\u001B[39m(key) \u001B[38;5;241m>\u001B[39m \u001B[38;5;241m1\u001B[39m:\n\u001B[0;32m   1945\u001B[0m     \u001B[38;5;66;03m# if len == 1, then it becomes a SeriesGroupBy and this is actually\u001B[39;00m\n\u001B[0;32m   1946\u001B[0m     \u001B[38;5;66;03m# valid syntax, so don't raise\u001B[39;00m\n\u001B[0;32m   1947\u001B[0m     \u001B[38;5;28;01mraise\u001B[39;00m \u001B[38;5;167;01mValueError\u001B[39;00m(\n\u001B[0;32m   1948\u001B[0m         \u001B[38;5;124m\"\u001B[39m\u001B[38;5;124mCannot subset columns with a tuple with more than one element. \u001B[39m\u001B[38;5;124m\"\u001B[39m\n\u001B[0;32m   1949\u001B[0m         \u001B[38;5;124m\"\u001B[39m\u001B[38;5;124mUse a list instead.\u001B[39m\u001B[38;5;124m\"\u001B[39m\n\u001B[0;32m   1950\u001B[0m     )\n\u001B[1;32m-> 1951\u001B[0m \u001B[38;5;28;01mreturn\u001B[39;00m \u001B[38;5;28;43msuper\u001B[39;49m\u001B[43m(\u001B[49m\u001B[43m)\u001B[49m\u001B[38;5;241;43m.\u001B[39;49m\u001B[38;5;21;43m__getitem__\u001B[39;49m\u001B[43m(\u001B[49m\u001B[43mkey\u001B[49m\u001B[43m)\u001B[49m\n",
      "File \u001B[1;32m~\\PycharmProjects\\desafio_ciencia_de_dados\\.venv\\Lib\\site-packages\\pandas\\core\\base.py:239\u001B[0m, in \u001B[0;36mSelectionMixin.__getitem__\u001B[1;34m(self, key)\u001B[0m\n\u001B[0;32m    237\u001B[0m     \u001B[38;5;28;01mif\u001B[39;00m \u001B[38;5;28mlen\u001B[39m(\u001B[38;5;28mself\u001B[39m\u001B[38;5;241m.\u001B[39mobj\u001B[38;5;241m.\u001B[39mcolumns\u001B[38;5;241m.\u001B[39mintersection(key)) \u001B[38;5;241m!=\u001B[39m \u001B[38;5;28mlen\u001B[39m(\u001B[38;5;28mset\u001B[39m(key)):\n\u001B[0;32m    238\u001B[0m         bad_keys \u001B[38;5;241m=\u001B[39m \u001B[38;5;28mlist\u001B[39m(\u001B[38;5;28mset\u001B[39m(key)\u001B[38;5;241m.\u001B[39mdifference(\u001B[38;5;28mself\u001B[39m\u001B[38;5;241m.\u001B[39mobj\u001B[38;5;241m.\u001B[39mcolumns))\n\u001B[1;32m--> 239\u001B[0m         \u001B[38;5;28;01mraise\u001B[39;00m \u001B[38;5;167;01mKeyError\u001B[39;00m(\u001B[38;5;124mf\u001B[39m\u001B[38;5;124m\"\u001B[39m\u001B[38;5;124mColumns not found: \u001B[39m\u001B[38;5;132;01m{\u001B[39;00m\u001B[38;5;28mstr\u001B[39m(bad_keys)[\u001B[38;5;241m1\u001B[39m:\u001B[38;5;241m-\u001B[39m\u001B[38;5;241m1\u001B[39m]\u001B[38;5;132;01m}\u001B[39;00m\u001B[38;5;124m\"\u001B[39m)\n\u001B[0;32m    240\u001B[0m     \u001B[38;5;28;01mreturn\u001B[39;00m \u001B[38;5;28mself\u001B[39m\u001B[38;5;241m.\u001B[39m_gotitem(\u001B[38;5;28mlist\u001B[39m(key), ndim\u001B[38;5;241m=\u001B[39m\u001B[38;5;241m2\u001B[39m)\n\u001B[0;32m    242\u001B[0m \u001B[38;5;28;01melse\u001B[39;00m:\n",
      "\u001B[1;31mKeyError\u001B[0m: \"Columns not found: 'diagnostico_por_tomografia_qtd', 'cirurgia_do_aparelho_digestivo_orgaos_anexos_e_parede_abdominal_qtd', 'cirurgia_do_aparelho_da_visao_qtd', 'diagnostico_por_radiologia_qtd', 'avaliacao_de_morte_encefalica_qtd', 'processamento_de_tecidos_para_transplante_qtd', 'acoes_complementares_da_atencao_a_saude_qtd', 'cirurgia_em_oncologia_qtd', 'diagnostico_por_anatomia_patologica_e_citopatologia_qtd', 'terapias_especializadas_qtd', 'diagnostico_por_medicina_nuclear_in_vivo_qtd', 'cirurgia_do_aparelho_geniturinario_qtd', 'orteses_proteses_e_materiais_especiais_qtd', 'acoes_relacionadas_ao_atendimento_qtd', 'fisioterapia_qtd', 'diagnostico_em_laboratorio_clinico_qtd', 'tratamento_em_nefrologia_qtd', 'outras_cirurgias_qtd', 'cirurgia_de_mama_qtd', 'acoes_relacionadas_a_doacao_de_orgaos_e_tecidos_para_transplante_qtd', 'cirurgia_de_glandulas_endocrinas_qtd', 'cirurgia_reparadora_qtd', 'diagnostico_por_endoscopia_qtd', 'tratamento_de_lesoes_envenenamentos_e_outros_decorrentes_de_causas_externas_qtd', 'diagnostico_por_teste_rapido_qtd', 'cirurgia_toracica_qtd', 'medicamentos_qtd', 'cirurgia_do_aparelho_circulatorio_qtd', 'cirurgia_do_sistema_nervoso_central_e_periferico_qtd', 'cirurgia_das_vias_aereas_superiores_da_face_da_cabeca_e_do_pescoco_qtd', 'medicamentos_de_ambito_hospitalar_e_urgencia_qtd', 'coleta_e_exames_para_fins_de_doacao_de_orgaos_tecidos_e_celulas_e_de_transplante_qtd', 'orteses_proteses_e_materiais_especiais_relacionados_ao_ato_cirurgico_qtd', 'bucomaxilofacial_qtd', 'coleta_de_material_qtd', 'consultas_atendimentos_acompanhamentos_qtd', 'hemoterapia_qtd', 'metodos_diagnosticos_em_especialidades_qtd', 'transplante_de_orgaos_tecidos_e_celulas_qtd', 'cirurgia_obstetrica_qtd', 'procedimentos_cirurgicos_qtd', 'diagnostico_por_ressonancia_magnetica_qtd', 'diagnostico_e_procedimentos_especiais_em_hemoterapia_qtd', 'tratamentos_clinicos_outras_especialidades_qtd', 'cirurgia_do_sistema_osteomuscular_qtd', 'diagnostico_por_radiologia_intervencionista_qtd', 'transplantes_de_orgaos_tecidos_e_celulas_qtd', 'acompanhamento_e_intercorrencias_no_pre_e_pos_transplante_qtd', 'procedimentos_com_finalidade_diagnostica_qtd', 'acoes_relacionadas_ao_estabelecimento_qtd', 'tratamentos_odontologicos_qtd', 'diagnostico_por_ultrasonografia_qtd', 'pequenas_cirurgias_e_cirurgias_de_pele_tecido_subcutaneo_e_mucosa_qtd', 'parto_e_nascimento_qtd', 'cirurgia_em_nefrologia_qtd', 'procedimentos_clinicos_qtd', 'tratamento_em_oncologia_qtd'\""
     ]
    }
   ],
   "source": [
    "df_datasus.groupby(['uf', 'ano'], observed=True)[colum_qtd].agg(['cumsum'])"
   ],
   "metadata": {
    "collapsed": false,
    "ExecuteTime": {
     "end_time": "2024-03-04T02:42:54.038079Z",
     "start_time": "2024-03-04T02:42:53.969517Z"
    }
   },
   "id": "1a7a8a485cc99233",
   "execution_count": 116
  }
 ],
 "metadata": {
  "kernelspec": {
   "display_name": "Python 3",
   "language": "python",
   "name": "python3"
  },
  "language_info": {
   "codemirror_mode": {
    "name": "ipython",
    "version": 2
   },
   "file_extension": ".py",
   "mimetype": "text/x-python",
   "name": "python",
   "nbconvert_exporter": "python",
   "pygments_lexer": "ipython2",
   "version": "2.7.6"
  }
 },
 "nbformat": 4,
 "nbformat_minor": 5
}
