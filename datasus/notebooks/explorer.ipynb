{
 "cells": [
  {
   "cell_type": "code",
   "execution_count": 4,
   "id": "initial_id",
   "metadata": {
    "collapsed": true,
    "ExecuteTime": {
     "end_time": "2024-03-04T15:40:33.921484836Z",
     "start_time": "2024-03-04T15:40:33.865691464Z"
    }
   },
   "outputs": [],
   "source": [
    "import pandas as pd"
   ]
  },
  {
   "cell_type": "code",
   "outputs": [],
   "source": [
    "df_datasus = pd.read_csv(r'../storage/3_data_exploration/datasus.csv')"
   ],
   "metadata": {
    "collapsed": false,
    "ExecuteTime": {
     "end_time": "2024-03-04T21:28:42.793657653Z",
     "start_time": "2024-03-04T21:28:38.099600472Z"
    }
   },
   "id": "9f43890ee8f12968",
   "execution_count": 205
  },
  {
   "cell_type": "code",
   "outputs": [
    {
     "data": {
      "text/plain": "Index                                          132\ncod_municipio                              1470480\nmunicipio                                 12611346\nuf                                        10844790\nuf_nome                                   14192343\n                                            ...   \nacoes_de_promocao_e_prevencao_em_saude     1470480\nacoes_coletivas_individuais_em_saude       1470480\nanestesiologia                             1470480\ntratamentos_odontologicos_qtd              1470480\ntratamentos_odontologicos_val              1470480\nLength: 128, dtype: int64"
     },
     "execution_count": 206,
     "metadata": {},
     "output_type": "execute_result"
    }
   ],
   "source": [
    "df_datasus.memory_usage(deep=True)"
   ],
   "metadata": {
    "collapsed": false,
    "ExecuteTime": {
     "end_time": "2024-03-04T21:28:44.609064785Z",
     "start_time": "2024-03-04T21:28:44.265391672Z"
    }
   },
   "id": "93985ad73797baef",
   "execution_count": 206
  },
  {
   "cell_type": "code",
   "outputs": [
    {
     "name": "stdout",
     "output_type": "stream",
     "text": [
      "<class 'pandas.core.frame.DataFrame'>\n",
      "RangeIndex: 183810 entries, 0 to 183809\n",
      "Columns: 127 entries, cod_municipio to tratamentos_odontologicos_val\n",
      "dtypes: float64(63), int64(59), object(5)\n",
      "memory usage: 178.1+ MB\n"
     ]
    }
   ],
   "source": [
    "df_datasus.info()"
   ],
   "metadata": {
    "collapsed": false,
    "ExecuteTime": {
     "end_time": "2024-03-04T21:28:48.673351705Z",
     "start_time": "2024-03-04T21:28:48.377719400Z"
    }
   },
   "id": "e68a124b8626e971",
   "execution_count": 207
  },
  {
   "cell_type": "code",
   "outputs": [],
   "source": [
    "df_datasus = df_datasus.apply(lambda x: x.astype('category') if x.dtype == 'object' else x)"
   ],
   "metadata": {
    "collapsed": false,
    "ExecuteTime": {
     "end_time": "2024-03-04T21:28:50.528400543Z",
     "start_time": "2024-03-04T21:28:50.153660493Z"
    }
   },
   "id": "7bf21e2b5bb5315a",
   "execution_count": 208
  },
  {
   "cell_type": "code",
   "outputs": [
    {
     "name": "stdout",
     "output_type": "stream",
     "text": [
      "<class 'pandas.core.frame.DataFrame'>\n",
      "RangeIndex: 183810 entries, 0 to 183809\n",
      "Columns: 127 entries, cod_municipio to tratamentos_odontologicos_val\n",
      "dtypes: category(5), float64(63), int64(59)\n",
      "memory usage: 172.3 MB\n"
     ]
    }
   ],
   "source": [
    "df_datasus.info()"
   ],
   "metadata": {
    "collapsed": false,
    "ExecuteTime": {
     "end_time": "2024-03-04T21:28:52.253669719Z",
     "start_time": "2024-03-04T21:28:52.175594280Z"
    }
   },
   "id": "adbb01d68b1a37a6",
   "execution_count": 209
  },
  {
   "cell_type": "code",
   "outputs": [],
   "source": [],
   "metadata": {
    "collapsed": false,
    "ExecuteTime": {
     "end_time": "2024-03-04T21:28:55.360906456Z",
     "start_time": "2024-03-04T21:28:55.312462590Z"
    }
   },
   "id": "218a986b2bf1dae1",
   "execution_count": 209
  },
  {
   "cell_type": "code",
   "outputs": [],
   "source": [
    "tipagem_coluna = {'coluna': list(df_datasus.columns), 'tipo': [str(dtype) for dtype in df_datasus.dtypes]}\n",
    "df_tipo = pd.DataFrame(tipagem_coluna)"
   ],
   "metadata": {
    "collapsed": false,
    "ExecuteTime": {
     "end_time": "2024-03-01T01:30:01.935445Z",
     "start_time": "2024-03-01T01:30:01.930377Z"
    }
   },
   "id": "93266056bdc4155f",
   "execution_count": 9
  },
  {
   "cell_type": "code",
   "outputs": [
    {
     "data": {
      "text/plain": "                                     coluna      tipo\n0                             cod_municipio     int64\n1                                 municipio  category\n2                                        uf  category\n3                                   uf_nome  category\n4                               regiao_nome  category\n..                                      ...       ...\n122  acoes_de_promocao_e_prevencao_em_saude   float64\n123    acoes_coletivas_individuais_em_saude   float64\n124                          anestesiologia   float64\n125           tratamentos_odontologicos_qtd   float64\n126           tratamentos_odontologicos_val   float64\n\n[127 rows x 2 columns]",
      "text/html": "<div>\n<style scoped>\n    .dataframe tbody tr th:only-of-type {\n        vertical-align: middle;\n    }\n\n    .dataframe tbody tr th {\n        vertical-align: top;\n    }\n\n    .dataframe thead th {\n        text-align: right;\n    }\n</style>\n<table border=\"1\" class=\"dataframe\">\n  <thead>\n    <tr style=\"text-align: right;\">\n      <th></th>\n      <th>coluna</th>\n      <th>tipo</th>\n    </tr>\n  </thead>\n  <tbody>\n    <tr>\n      <th>0</th>\n      <td>cod_municipio</td>\n      <td>int64</td>\n    </tr>\n    <tr>\n      <th>1</th>\n      <td>municipio</td>\n      <td>category</td>\n    </tr>\n    <tr>\n      <th>2</th>\n      <td>uf</td>\n      <td>category</td>\n    </tr>\n    <tr>\n      <th>3</th>\n      <td>uf_nome</td>\n      <td>category</td>\n    </tr>\n    <tr>\n      <th>4</th>\n      <td>regiao_nome</td>\n      <td>category</td>\n    </tr>\n    <tr>\n      <th>...</th>\n      <td>...</td>\n      <td>...</td>\n    </tr>\n    <tr>\n      <th>122</th>\n      <td>acoes_de_promocao_e_prevencao_em_saude</td>\n      <td>float64</td>\n    </tr>\n    <tr>\n      <th>123</th>\n      <td>acoes_coletivas_individuais_em_saude</td>\n      <td>float64</td>\n    </tr>\n    <tr>\n      <th>124</th>\n      <td>anestesiologia</td>\n      <td>float64</td>\n    </tr>\n    <tr>\n      <th>125</th>\n      <td>tratamentos_odontologicos_qtd</td>\n      <td>float64</td>\n    </tr>\n    <tr>\n      <th>126</th>\n      <td>tratamentos_odontologicos_val</td>\n      <td>float64</td>\n    </tr>\n  </tbody>\n</table>\n<p>127 rows × 2 columns</p>\n</div>"
     },
     "execution_count": 11,
     "metadata": {},
     "output_type": "execute_result"
    }
   ],
   "source": [
    "df_tipo"
   ],
   "metadata": {
    "collapsed": false,
    "ExecuteTime": {
     "end_time": "2024-03-01T01:30:59.370421Z",
     "start_time": "2024-03-01T01:30:59.363499Z"
    }
   },
   "id": "549e356cff6606fa",
   "execution_count": 11
  },
  {
   "cell_type": "code",
   "outputs": [],
   "source": [
    "tipo = df_datasus.dtypes"
   ],
   "metadata": {
    "collapsed": false,
    "ExecuteTime": {
     "end_time": "2024-03-04T00:37:32.740396Z",
     "start_time": "2024-03-04T00:37:32.734071Z"
    }
   },
   "id": "60e0183bd31bc050",
   "execution_count": 6
  },
  {
   "cell_type": "code",
   "outputs": [],
   "source": [
    "contagem_tipo = tipo.value_counts()"
   ],
   "metadata": {
    "collapsed": false,
    "ExecuteTime": {
     "end_time": "2024-03-04T00:37:33.262544Z",
     "start_time": "2024-03-04T00:37:33.255268Z"
    }
   },
   "id": "81dc73b82fa1e730",
   "execution_count": 7
  },
  {
   "cell_type": "code",
   "outputs": [
    {
     "data": {
      "text/plain": "float64     63\nint64       59\ncategory     1\ncategory     1\ncategory     1\ncategory     1\ncategory     1\nName: count, dtype: int64"
     },
     "execution_count": 8,
     "metadata": {},
     "output_type": "execute_result"
    }
   ],
   "source": [
    "contagem_tipo"
   ],
   "metadata": {
    "collapsed": false,
    "ExecuteTime": {
     "end_time": "2024-03-04T00:37:33.973043Z",
     "start_time": "2024-03-04T00:37:33.964194Z"
    }
   },
   "id": "74b7c1da28989141",
   "execution_count": 8
  },
  {
   "cell_type": "code",
   "outputs": [],
   "source": [],
   "metadata": {
    "collapsed": false
   },
   "id": "95081f5111f9641f"
  },
  {
   "cell_type": "code",
   "outputs": [
    {
     "name": "stdout",
     "output_type": "stream",
     "text": [
      "     A  G  total  percentage\n",
      "0  Cat  F      4   80.000000\n",
      "1  Cat  M      1   20.000000\n",
      "2  Dog  F      4   57.142857\n",
      "3  Dog  M      3   42.857143\n",
      "4  Fox  F      1   25.000000\n"
     ]
    },
    {
     "data": {
      "application/vnd.plotly.v1+json": {
       "data": [
        {
         "alignmentgroup": "True",
         "hovertemplate": "G=F<br>A=%{x}<br>value=%{y}<br>text=%{text}<extra></extra>",
         "legendgroup": "F",
         "marker": {
          "color": "#636efa",
          "pattern": {
           "shape": ""
          }
         },
         "name": "F",
         "offsetgroup": "F",
         "orientation": "v",
         "showlegend": true,
         "text": [
          "80.00%",
          "57.14%",
          "25.00%"
         ],
         "textposition": "auto",
         "x": [
          "Cat",
          "Dog",
          "Fox"
         ],
         "xaxis": "x",
         "y": [
          4,
          4,
          1
         ],
         "yaxis": "y",
         "type": "bar"
        },
        {
         "alignmentgroup": "True",
         "hovertemplate": "G=M<br>A=%{x}<br>value=%{y}<br>text=%{text}<extra></extra>",
         "legendgroup": "M",
         "marker": {
          "color": "#EF553B",
          "pattern": {
           "shape": ""
          }
         },
         "name": "M",
         "offsetgroup": "M",
         "orientation": "v",
         "showlegend": true,
         "text": [
          "20.00%",
          "42.86%",
          "75.00%"
         ],
         "textposition": "auto",
         "x": [
          "Cat",
          "Dog",
          "Fox"
         ],
         "xaxis": "x",
         "y": [
          1,
          3,
          3
         ],
         "yaxis": "y",
         "type": "bar"
        }
       ],
       "layout": {
        "template": {
         "data": {
          "histogram2dcontour": [
           {
            "type": "histogram2dcontour",
            "colorbar": {
             "outlinewidth": 0,
             "ticks": ""
            },
            "colorscale": [
             [
              0.0,
              "#0d0887"
             ],
             [
              0.1111111111111111,
              "#46039f"
             ],
             [
              0.2222222222222222,
              "#7201a8"
             ],
             [
              0.3333333333333333,
              "#9c179e"
             ],
             [
              0.4444444444444444,
              "#bd3786"
             ],
             [
              0.5555555555555556,
              "#d8576b"
             ],
             [
              0.6666666666666666,
              "#ed7953"
             ],
             [
              0.7777777777777778,
              "#fb9f3a"
             ],
             [
              0.8888888888888888,
              "#fdca26"
             ],
             [
              1.0,
              "#f0f921"
             ]
            ]
           }
          ],
          "choropleth": [
           {
            "type": "choropleth",
            "colorbar": {
             "outlinewidth": 0,
             "ticks": ""
            }
           }
          ],
          "histogram2d": [
           {
            "type": "histogram2d",
            "colorbar": {
             "outlinewidth": 0,
             "ticks": ""
            },
            "colorscale": [
             [
              0.0,
              "#0d0887"
             ],
             [
              0.1111111111111111,
              "#46039f"
             ],
             [
              0.2222222222222222,
              "#7201a8"
             ],
             [
              0.3333333333333333,
              "#9c179e"
             ],
             [
              0.4444444444444444,
              "#bd3786"
             ],
             [
              0.5555555555555556,
              "#d8576b"
             ],
             [
              0.6666666666666666,
              "#ed7953"
             ],
             [
              0.7777777777777778,
              "#fb9f3a"
             ],
             [
              0.8888888888888888,
              "#fdca26"
             ],
             [
              1.0,
              "#f0f921"
             ]
            ]
           }
          ],
          "heatmap": [
           {
            "type": "heatmap",
            "colorbar": {
             "outlinewidth": 0,
             "ticks": ""
            },
            "colorscale": [
             [
              0.0,
              "#0d0887"
             ],
             [
              0.1111111111111111,
              "#46039f"
             ],
             [
              0.2222222222222222,
              "#7201a8"
             ],
             [
              0.3333333333333333,
              "#9c179e"
             ],
             [
              0.4444444444444444,
              "#bd3786"
             ],
             [
              0.5555555555555556,
              "#d8576b"
             ],
             [
              0.6666666666666666,
              "#ed7953"
             ],
             [
              0.7777777777777778,
              "#fb9f3a"
             ],
             [
              0.8888888888888888,
              "#fdca26"
             ],
             [
              1.0,
              "#f0f921"
             ]
            ]
           }
          ],
          "heatmapgl": [
           {
            "type": "heatmapgl",
            "colorbar": {
             "outlinewidth": 0,
             "ticks": ""
            },
            "colorscale": [
             [
              0.0,
              "#0d0887"
             ],
             [
              0.1111111111111111,
              "#46039f"
             ],
             [
              0.2222222222222222,
              "#7201a8"
             ],
             [
              0.3333333333333333,
              "#9c179e"
             ],
             [
              0.4444444444444444,
              "#bd3786"
             ],
             [
              0.5555555555555556,
              "#d8576b"
             ],
             [
              0.6666666666666666,
              "#ed7953"
             ],
             [
              0.7777777777777778,
              "#fb9f3a"
             ],
             [
              0.8888888888888888,
              "#fdca26"
             ],
             [
              1.0,
              "#f0f921"
             ]
            ]
           }
          ],
          "contourcarpet": [
           {
            "type": "contourcarpet",
            "colorbar": {
             "outlinewidth": 0,
             "ticks": ""
            }
           }
          ],
          "contour": [
           {
            "type": "contour",
            "colorbar": {
             "outlinewidth": 0,
             "ticks": ""
            },
            "colorscale": [
             [
              0.0,
              "#0d0887"
             ],
             [
              0.1111111111111111,
              "#46039f"
             ],
             [
              0.2222222222222222,
              "#7201a8"
             ],
             [
              0.3333333333333333,
              "#9c179e"
             ],
             [
              0.4444444444444444,
              "#bd3786"
             ],
             [
              0.5555555555555556,
              "#d8576b"
             ],
             [
              0.6666666666666666,
              "#ed7953"
             ],
             [
              0.7777777777777778,
              "#fb9f3a"
             ],
             [
              0.8888888888888888,
              "#fdca26"
             ],
             [
              1.0,
              "#f0f921"
             ]
            ]
           }
          ],
          "surface": [
           {
            "type": "surface",
            "colorbar": {
             "outlinewidth": 0,
             "ticks": ""
            },
            "colorscale": [
             [
              0.0,
              "#0d0887"
             ],
             [
              0.1111111111111111,
              "#46039f"
             ],
             [
              0.2222222222222222,
              "#7201a8"
             ],
             [
              0.3333333333333333,
              "#9c179e"
             ],
             [
              0.4444444444444444,
              "#bd3786"
             ],
             [
              0.5555555555555556,
              "#d8576b"
             ],
             [
              0.6666666666666666,
              "#ed7953"
             ],
             [
              0.7777777777777778,
              "#fb9f3a"
             ],
             [
              0.8888888888888888,
              "#fdca26"
             ],
             [
              1.0,
              "#f0f921"
             ]
            ]
           }
          ],
          "mesh3d": [
           {
            "type": "mesh3d",
            "colorbar": {
             "outlinewidth": 0,
             "ticks": ""
            }
           }
          ],
          "scatter": [
           {
            "marker": {
             "line": {
              "color": "#283442"
             }
            },
            "type": "scatter"
           }
          ],
          "parcoords": [
           {
            "type": "parcoords",
            "line": {
             "colorbar": {
              "outlinewidth": 0,
              "ticks": ""
             }
            }
           }
          ],
          "scatterpolargl": [
           {
            "type": "scatterpolargl",
            "marker": {
             "colorbar": {
              "outlinewidth": 0,
              "ticks": ""
             }
            }
           }
          ],
          "bar": [
           {
            "error_x": {
             "color": "#f2f5fa"
            },
            "error_y": {
             "color": "#f2f5fa"
            },
            "marker": {
             "line": {
              "color": "rgb(17,17,17)",
              "width": 0.5
             },
             "pattern": {
              "fillmode": "overlay",
              "size": 10,
              "solidity": 0.2
             }
            },
            "type": "bar"
           }
          ],
          "scattergeo": [
           {
            "type": "scattergeo",
            "marker": {
             "colorbar": {
              "outlinewidth": 0,
              "ticks": ""
             }
            }
           }
          ],
          "scatterpolar": [
           {
            "type": "scatterpolar",
            "marker": {
             "colorbar": {
              "outlinewidth": 0,
              "ticks": ""
             }
            }
           }
          ],
          "histogram": [
           {
            "marker": {
             "pattern": {
              "fillmode": "overlay",
              "size": 10,
              "solidity": 0.2
             }
            },
            "type": "histogram"
           }
          ],
          "scattergl": [
           {
            "marker": {
             "line": {
              "color": "#283442"
             }
            },
            "type": "scattergl"
           }
          ],
          "scatter3d": [
           {
            "type": "scatter3d",
            "line": {
             "colorbar": {
              "outlinewidth": 0,
              "ticks": ""
             }
            },
            "marker": {
             "colorbar": {
              "outlinewidth": 0,
              "ticks": ""
             }
            }
           }
          ],
          "scattermapbox": [
           {
            "type": "scattermapbox",
            "marker": {
             "colorbar": {
              "outlinewidth": 0,
              "ticks": ""
             }
            }
           }
          ],
          "scatterternary": [
           {
            "type": "scatterternary",
            "marker": {
             "colorbar": {
              "outlinewidth": 0,
              "ticks": ""
             }
            }
           }
          ],
          "scattercarpet": [
           {
            "type": "scattercarpet",
            "marker": {
             "colorbar": {
              "outlinewidth": 0,
              "ticks": ""
             }
            }
           }
          ],
          "carpet": [
           {
            "aaxis": {
             "endlinecolor": "#A2B1C6",
             "gridcolor": "#506784",
             "linecolor": "#506784",
             "minorgridcolor": "#506784",
             "startlinecolor": "#A2B1C6"
            },
            "baxis": {
             "endlinecolor": "#A2B1C6",
             "gridcolor": "#506784",
             "linecolor": "#506784",
             "minorgridcolor": "#506784",
             "startlinecolor": "#A2B1C6"
            },
            "type": "carpet"
           }
          ],
          "table": [
           {
            "cells": {
             "fill": {
              "color": "#506784"
             },
             "line": {
              "color": "rgb(17,17,17)"
             }
            },
            "header": {
             "fill": {
              "color": "#2a3f5f"
             },
             "line": {
              "color": "rgb(17,17,17)"
             }
            },
            "type": "table"
           }
          ],
          "barpolar": [
           {
            "marker": {
             "line": {
              "color": "rgb(17,17,17)",
              "width": 0.5
             },
             "pattern": {
              "fillmode": "overlay",
              "size": 10,
              "solidity": 0.2
             }
            },
            "type": "barpolar"
           }
          ],
          "pie": [
           {
            "automargin": true,
            "type": "pie"
           }
          ]
         },
         "layout": {
          "autotypenumbers": "strict",
          "colorway": [
           "#636efa",
           "#EF553B",
           "#00cc96",
           "#ab63fa",
           "#FFA15A",
           "#19d3f3",
           "#FF6692",
           "#B6E880",
           "#FF97FF",
           "#FECB52"
          ],
          "font": {
           "color": "#f2f5fa"
          },
          "hovermode": "closest",
          "hoverlabel": {
           "align": "left"
          },
          "paper_bgcolor": "rgb(17,17,17)",
          "plot_bgcolor": "rgb(17,17,17)",
          "polar": {
           "bgcolor": "rgb(17,17,17)",
           "angularaxis": {
            "gridcolor": "#506784",
            "linecolor": "#506784",
            "ticks": ""
           },
           "radialaxis": {
            "gridcolor": "#506784",
            "linecolor": "#506784",
            "ticks": ""
           }
          },
          "ternary": {
           "bgcolor": "rgb(17,17,17)",
           "aaxis": {
            "gridcolor": "#506784",
            "linecolor": "#506784",
            "ticks": ""
           },
           "baxis": {
            "gridcolor": "#506784",
            "linecolor": "#506784",
            "ticks": ""
           },
           "caxis": {
            "gridcolor": "#506784",
            "linecolor": "#506784",
            "ticks": ""
           }
          },
          "coloraxis": {
           "colorbar": {
            "outlinewidth": 0,
            "ticks": ""
           }
          },
          "colorscale": {
           "sequential": [
            [
             0.0,
             "#0d0887"
            ],
            [
             0.1111111111111111,
             "#46039f"
            ],
            [
             0.2222222222222222,
             "#7201a8"
            ],
            [
             0.3333333333333333,
             "#9c179e"
            ],
            [
             0.4444444444444444,
             "#bd3786"
            ],
            [
             0.5555555555555556,
             "#d8576b"
            ],
            [
             0.6666666666666666,
             "#ed7953"
            ],
            [
             0.7777777777777778,
             "#fb9f3a"
            ],
            [
             0.8888888888888888,
             "#fdca26"
            ],
            [
             1.0,
             "#f0f921"
            ]
           ],
           "sequentialminus": [
            [
             0.0,
             "#0d0887"
            ],
            [
             0.1111111111111111,
             "#46039f"
            ],
            [
             0.2222222222222222,
             "#7201a8"
            ],
            [
             0.3333333333333333,
             "#9c179e"
            ],
            [
             0.4444444444444444,
             "#bd3786"
            ],
            [
             0.5555555555555556,
             "#d8576b"
            ],
            [
             0.6666666666666666,
             "#ed7953"
            ],
            [
             0.7777777777777778,
             "#fb9f3a"
            ],
            [
             0.8888888888888888,
             "#fdca26"
            ],
            [
             1.0,
             "#f0f921"
            ]
           ],
           "diverging": [
            [
             0,
             "#8e0152"
            ],
            [
             0.1,
             "#c51b7d"
            ],
            [
             0.2,
             "#de77ae"
            ],
            [
             0.3,
             "#f1b6da"
            ],
            [
             0.4,
             "#fde0ef"
            ],
            [
             0.5,
             "#f7f7f7"
            ],
            [
             0.6,
             "#e6f5d0"
            ],
            [
             0.7,
             "#b8e186"
            ],
            [
             0.8,
             "#7fbc41"
            ],
            [
             0.9,
             "#4d9221"
            ],
            [
             1,
             "#276419"
            ]
           ]
          },
          "xaxis": {
           "gridcolor": "#283442",
           "linecolor": "#506784",
           "ticks": "",
           "title": {
            "standoff": 15
           },
           "zerolinecolor": "#283442",
           "automargin": true,
           "zerolinewidth": 2
          },
          "yaxis": {
           "gridcolor": "#283442",
           "linecolor": "#506784",
           "ticks": "",
           "title": {
            "standoff": 15
           },
           "zerolinecolor": "#283442",
           "automargin": true,
           "zerolinewidth": 2
          },
          "scene": {
           "xaxis": {
            "backgroundcolor": "rgb(17,17,17)",
            "gridcolor": "#506784",
            "linecolor": "#506784",
            "showbackground": true,
            "ticks": "",
            "zerolinecolor": "#C8D4E3",
            "gridwidth": 2
           },
           "yaxis": {
            "backgroundcolor": "rgb(17,17,17)",
            "gridcolor": "#506784",
            "linecolor": "#506784",
            "showbackground": true,
            "ticks": "",
            "zerolinecolor": "#C8D4E3",
            "gridwidth": 2
           },
           "zaxis": {
            "backgroundcolor": "rgb(17,17,17)",
            "gridcolor": "#506784",
            "linecolor": "#506784",
            "showbackground": true,
            "ticks": "",
            "zerolinecolor": "#C8D4E3",
            "gridwidth": 2
           }
          },
          "shapedefaults": {
           "line": {
            "color": "#f2f5fa"
           }
          },
          "annotationdefaults": {
           "arrowcolor": "#f2f5fa",
           "arrowhead": 0,
           "arrowwidth": 1
          },
          "geo": {
           "bgcolor": "rgb(17,17,17)",
           "landcolor": "rgb(17,17,17)",
           "subunitcolor": "#506784",
           "showland": true,
           "showlakes": true,
           "lakecolor": "rgb(17,17,17)"
          },
          "title": {
           "x": 0.05
          },
          "updatemenudefaults": {
           "bgcolor": "#506784",
           "borderwidth": 0
          },
          "sliderdefaults": {
           "bgcolor": "#C8D4E3",
           "borderwidth": 1,
           "bordercolor": "rgb(17,17,17)",
           "tickwidth": 0
          },
          "mapbox": {
           "style": "dark"
          }
         }
        },
        "xaxis": {
         "anchor": "y",
         "domain": [
          0.0,
          1.0
         ],
         "title": {
          "text": "A"
         }
        },
        "yaxis": {
         "anchor": "x",
         "domain": [
          0.0,
          1.0
         ],
         "title": {
          "text": "value"
         }
        },
        "legend": {
         "title": {
          "text": "G"
         },
         "tracegroupgap": 0
        },
        "margin": {
         "t": 60
        },
        "barmode": "relative"
       },
       "config": {
        "plotlyServerURL": "https://plot.ly"
       }
      },
      "text/html": "<div>                            <div id=\"4ff77947-1181-40c3-a439-c5752a9a094f\" class=\"plotly-graph-div\" style=\"height:525px; width:100%;\"></div>            <script type=\"text/javascript\">                require([\"plotly\"], function(Plotly) {                    window.PLOTLYENV=window.PLOTLYENV || {};                                    if (document.getElementById(\"4ff77947-1181-40c3-a439-c5752a9a094f\")) {                    Plotly.newPlot(                        \"4ff77947-1181-40c3-a439-c5752a9a094f\",                        [{\"alignmentgroup\":\"True\",\"hovertemplate\":\"G=F\\u003cbr\\u003eA=%{x}\\u003cbr\\u003evalue=%{y}\\u003cbr\\u003etext=%{text}\\u003cextra\\u003e\\u003c\\u002fextra\\u003e\",\"legendgroup\":\"F\",\"marker\":{\"color\":\"#636efa\",\"pattern\":{\"shape\":\"\"}},\"name\":\"F\",\"offsetgroup\":\"F\",\"orientation\":\"v\",\"showlegend\":true,\"text\":[\"80.00%\",\"57.14%\",\"25.00%\"],\"textposition\":\"auto\",\"x\":[\"Cat\",\"Dog\",\"Fox\"],\"xaxis\":\"x\",\"y\":[4,4,1],\"yaxis\":\"y\",\"type\":\"bar\"},{\"alignmentgroup\":\"True\",\"hovertemplate\":\"G=M\\u003cbr\\u003eA=%{x}\\u003cbr\\u003evalue=%{y}\\u003cbr\\u003etext=%{text}\\u003cextra\\u003e\\u003c\\u002fextra\\u003e\",\"legendgroup\":\"M\",\"marker\":{\"color\":\"#EF553B\",\"pattern\":{\"shape\":\"\"}},\"name\":\"M\",\"offsetgroup\":\"M\",\"orientation\":\"v\",\"showlegend\":true,\"text\":[\"20.00%\",\"42.86%\",\"75.00%\"],\"textposition\":\"auto\",\"x\":[\"Cat\",\"Dog\",\"Fox\"],\"xaxis\":\"x\",\"y\":[1,3,3],\"yaxis\":\"y\",\"type\":\"bar\"}],                        {\"template\":{\"data\":{\"histogram2dcontour\":[{\"type\":\"histogram2dcontour\",\"colorbar\":{\"outlinewidth\":0,\"ticks\":\"\"},\"colorscale\":[[0.0,\"#0d0887\"],[0.1111111111111111,\"#46039f\"],[0.2222222222222222,\"#7201a8\"],[0.3333333333333333,\"#9c179e\"],[0.4444444444444444,\"#bd3786\"],[0.5555555555555556,\"#d8576b\"],[0.6666666666666666,\"#ed7953\"],[0.7777777777777778,\"#fb9f3a\"],[0.8888888888888888,\"#fdca26\"],[1.0,\"#f0f921\"]]}],\"choropleth\":[{\"type\":\"choropleth\",\"colorbar\":{\"outlinewidth\":0,\"ticks\":\"\"}}],\"histogram2d\":[{\"type\":\"histogram2d\",\"colorbar\":{\"outlinewidth\":0,\"ticks\":\"\"},\"colorscale\":[[0.0,\"#0d0887\"],[0.1111111111111111,\"#46039f\"],[0.2222222222222222,\"#7201a8\"],[0.3333333333333333,\"#9c179e\"],[0.4444444444444444,\"#bd3786\"],[0.5555555555555556,\"#d8576b\"],[0.6666666666666666,\"#ed7953\"],[0.7777777777777778,\"#fb9f3a\"],[0.8888888888888888,\"#fdca26\"],[1.0,\"#f0f921\"]]}],\"heatmap\":[{\"type\":\"heatmap\",\"colorbar\":{\"outlinewidth\":0,\"ticks\":\"\"},\"colorscale\":[[0.0,\"#0d0887\"],[0.1111111111111111,\"#46039f\"],[0.2222222222222222,\"#7201a8\"],[0.3333333333333333,\"#9c179e\"],[0.4444444444444444,\"#bd3786\"],[0.5555555555555556,\"#d8576b\"],[0.6666666666666666,\"#ed7953\"],[0.7777777777777778,\"#fb9f3a\"],[0.8888888888888888,\"#fdca26\"],[1.0,\"#f0f921\"]]}],\"heatmapgl\":[{\"type\":\"heatmapgl\",\"colorbar\":{\"outlinewidth\":0,\"ticks\":\"\"},\"colorscale\":[[0.0,\"#0d0887\"],[0.1111111111111111,\"#46039f\"],[0.2222222222222222,\"#7201a8\"],[0.3333333333333333,\"#9c179e\"],[0.4444444444444444,\"#bd3786\"],[0.5555555555555556,\"#d8576b\"],[0.6666666666666666,\"#ed7953\"],[0.7777777777777778,\"#fb9f3a\"],[0.8888888888888888,\"#fdca26\"],[1.0,\"#f0f921\"]]}],\"contourcarpet\":[{\"type\":\"contourcarpet\",\"colorbar\":{\"outlinewidth\":0,\"ticks\":\"\"}}],\"contour\":[{\"type\":\"contour\",\"colorbar\":{\"outlinewidth\":0,\"ticks\":\"\"},\"colorscale\":[[0.0,\"#0d0887\"],[0.1111111111111111,\"#46039f\"],[0.2222222222222222,\"#7201a8\"],[0.3333333333333333,\"#9c179e\"],[0.4444444444444444,\"#bd3786\"],[0.5555555555555556,\"#d8576b\"],[0.6666666666666666,\"#ed7953\"],[0.7777777777777778,\"#fb9f3a\"],[0.8888888888888888,\"#fdca26\"],[1.0,\"#f0f921\"]]}],\"surface\":[{\"type\":\"surface\",\"colorbar\":{\"outlinewidth\":0,\"ticks\":\"\"},\"colorscale\":[[0.0,\"#0d0887\"],[0.1111111111111111,\"#46039f\"],[0.2222222222222222,\"#7201a8\"],[0.3333333333333333,\"#9c179e\"],[0.4444444444444444,\"#bd3786\"],[0.5555555555555556,\"#d8576b\"],[0.6666666666666666,\"#ed7953\"],[0.7777777777777778,\"#fb9f3a\"],[0.8888888888888888,\"#fdca26\"],[1.0,\"#f0f921\"]]}],\"mesh3d\":[{\"type\":\"mesh3d\",\"colorbar\":{\"outlinewidth\":0,\"ticks\":\"\"}}],\"scatter\":[{\"marker\":{\"line\":{\"color\":\"#283442\"}},\"type\":\"scatter\"}],\"parcoords\":[{\"type\":\"parcoords\",\"line\":{\"colorbar\":{\"outlinewidth\":0,\"ticks\":\"\"}}}],\"scatterpolargl\":[{\"type\":\"scatterpolargl\",\"marker\":{\"colorbar\":{\"outlinewidth\":0,\"ticks\":\"\"}}}],\"bar\":[{\"error_x\":{\"color\":\"#f2f5fa\"},\"error_y\":{\"color\":\"#f2f5fa\"},\"marker\":{\"line\":{\"color\":\"rgb(17,17,17)\",\"width\":0.5},\"pattern\":{\"fillmode\":\"overlay\",\"size\":10,\"solidity\":0.2}},\"type\":\"bar\"}],\"scattergeo\":[{\"type\":\"scattergeo\",\"marker\":{\"colorbar\":{\"outlinewidth\":0,\"ticks\":\"\"}}}],\"scatterpolar\":[{\"type\":\"scatterpolar\",\"marker\":{\"colorbar\":{\"outlinewidth\":0,\"ticks\":\"\"}}}],\"histogram\":[{\"marker\":{\"pattern\":{\"fillmode\":\"overlay\",\"size\":10,\"solidity\":0.2}},\"type\":\"histogram\"}],\"scattergl\":[{\"marker\":{\"line\":{\"color\":\"#283442\"}},\"type\":\"scattergl\"}],\"scatter3d\":[{\"type\":\"scatter3d\",\"line\":{\"colorbar\":{\"outlinewidth\":0,\"ticks\":\"\"}},\"marker\":{\"colorbar\":{\"outlinewidth\":0,\"ticks\":\"\"}}}],\"scattermapbox\":[{\"type\":\"scattermapbox\",\"marker\":{\"colorbar\":{\"outlinewidth\":0,\"ticks\":\"\"}}}],\"scatterternary\":[{\"type\":\"scatterternary\",\"marker\":{\"colorbar\":{\"outlinewidth\":0,\"ticks\":\"\"}}}],\"scattercarpet\":[{\"type\":\"scattercarpet\",\"marker\":{\"colorbar\":{\"outlinewidth\":0,\"ticks\":\"\"}}}],\"carpet\":[{\"aaxis\":{\"endlinecolor\":\"#A2B1C6\",\"gridcolor\":\"#506784\",\"linecolor\":\"#506784\",\"minorgridcolor\":\"#506784\",\"startlinecolor\":\"#A2B1C6\"},\"baxis\":{\"endlinecolor\":\"#A2B1C6\",\"gridcolor\":\"#506784\",\"linecolor\":\"#506784\",\"minorgridcolor\":\"#506784\",\"startlinecolor\":\"#A2B1C6\"},\"type\":\"carpet\"}],\"table\":[{\"cells\":{\"fill\":{\"color\":\"#506784\"},\"line\":{\"color\":\"rgb(17,17,17)\"}},\"header\":{\"fill\":{\"color\":\"#2a3f5f\"},\"line\":{\"color\":\"rgb(17,17,17)\"}},\"type\":\"table\"}],\"barpolar\":[{\"marker\":{\"line\":{\"color\":\"rgb(17,17,17)\",\"width\":0.5},\"pattern\":{\"fillmode\":\"overlay\",\"size\":10,\"solidity\":0.2}},\"type\":\"barpolar\"}],\"pie\":[{\"automargin\":true,\"type\":\"pie\"}]},\"layout\":{\"autotypenumbers\":\"strict\",\"colorway\":[\"#636efa\",\"#EF553B\",\"#00cc96\",\"#ab63fa\",\"#FFA15A\",\"#19d3f3\",\"#FF6692\",\"#B6E880\",\"#FF97FF\",\"#FECB52\"],\"font\":{\"color\":\"#f2f5fa\"},\"hovermode\":\"closest\",\"hoverlabel\":{\"align\":\"left\"},\"paper_bgcolor\":\"rgb(17,17,17)\",\"plot_bgcolor\":\"rgb(17,17,17)\",\"polar\":{\"bgcolor\":\"rgb(17,17,17)\",\"angularaxis\":{\"gridcolor\":\"#506784\",\"linecolor\":\"#506784\",\"ticks\":\"\"},\"radialaxis\":{\"gridcolor\":\"#506784\",\"linecolor\":\"#506784\",\"ticks\":\"\"}},\"ternary\":{\"bgcolor\":\"rgb(17,17,17)\",\"aaxis\":{\"gridcolor\":\"#506784\",\"linecolor\":\"#506784\",\"ticks\":\"\"},\"baxis\":{\"gridcolor\":\"#506784\",\"linecolor\":\"#506784\",\"ticks\":\"\"},\"caxis\":{\"gridcolor\":\"#506784\",\"linecolor\":\"#506784\",\"ticks\":\"\"}},\"coloraxis\":{\"colorbar\":{\"outlinewidth\":0,\"ticks\":\"\"}},\"colorscale\":{\"sequential\":[[0.0,\"#0d0887\"],[0.1111111111111111,\"#46039f\"],[0.2222222222222222,\"#7201a8\"],[0.3333333333333333,\"#9c179e\"],[0.4444444444444444,\"#bd3786\"],[0.5555555555555556,\"#d8576b\"],[0.6666666666666666,\"#ed7953\"],[0.7777777777777778,\"#fb9f3a\"],[0.8888888888888888,\"#fdca26\"],[1.0,\"#f0f921\"]],\"sequentialminus\":[[0.0,\"#0d0887\"],[0.1111111111111111,\"#46039f\"],[0.2222222222222222,\"#7201a8\"],[0.3333333333333333,\"#9c179e\"],[0.4444444444444444,\"#bd3786\"],[0.5555555555555556,\"#d8576b\"],[0.6666666666666666,\"#ed7953\"],[0.7777777777777778,\"#fb9f3a\"],[0.8888888888888888,\"#fdca26\"],[1.0,\"#f0f921\"]],\"diverging\":[[0,\"#8e0152\"],[0.1,\"#c51b7d\"],[0.2,\"#de77ae\"],[0.3,\"#f1b6da\"],[0.4,\"#fde0ef\"],[0.5,\"#f7f7f7\"],[0.6,\"#e6f5d0\"],[0.7,\"#b8e186\"],[0.8,\"#7fbc41\"],[0.9,\"#4d9221\"],[1,\"#276419\"]]},\"xaxis\":{\"gridcolor\":\"#283442\",\"linecolor\":\"#506784\",\"ticks\":\"\",\"title\":{\"standoff\":15},\"zerolinecolor\":\"#283442\",\"automargin\":true,\"zerolinewidth\":2},\"yaxis\":{\"gridcolor\":\"#283442\",\"linecolor\":\"#506784\",\"ticks\":\"\",\"title\":{\"standoff\":15},\"zerolinecolor\":\"#283442\",\"automargin\":true,\"zerolinewidth\":2},\"scene\":{\"xaxis\":{\"backgroundcolor\":\"rgb(17,17,17)\",\"gridcolor\":\"#506784\",\"linecolor\":\"#506784\",\"showbackground\":true,\"ticks\":\"\",\"zerolinecolor\":\"#C8D4E3\",\"gridwidth\":2},\"yaxis\":{\"backgroundcolor\":\"rgb(17,17,17)\",\"gridcolor\":\"#506784\",\"linecolor\":\"#506784\",\"showbackground\":true,\"ticks\":\"\",\"zerolinecolor\":\"#C8D4E3\",\"gridwidth\":2},\"zaxis\":{\"backgroundcolor\":\"rgb(17,17,17)\",\"gridcolor\":\"#506784\",\"linecolor\":\"#506784\",\"showbackground\":true,\"ticks\":\"\",\"zerolinecolor\":\"#C8D4E3\",\"gridwidth\":2}},\"shapedefaults\":{\"line\":{\"color\":\"#f2f5fa\"}},\"annotationdefaults\":{\"arrowcolor\":\"#f2f5fa\",\"arrowhead\":0,\"arrowwidth\":1},\"geo\":{\"bgcolor\":\"rgb(17,17,17)\",\"landcolor\":\"rgb(17,17,17)\",\"subunitcolor\":\"#506784\",\"showland\":true,\"showlakes\":true,\"lakecolor\":\"rgb(17,17,17)\"},\"title\":{\"x\":0.05},\"updatemenudefaults\":{\"bgcolor\":\"#506784\",\"borderwidth\":0},\"sliderdefaults\":{\"bgcolor\":\"#C8D4E3\",\"borderwidth\":1,\"bordercolor\":\"rgb(17,17,17)\",\"tickwidth\":0},\"mapbox\":{\"style\":\"dark\"}}},\"xaxis\":{\"anchor\":\"y\",\"domain\":[0.0,1.0],\"title\":{\"text\":\"A\"}},\"yaxis\":{\"anchor\":\"x\",\"domain\":[0.0,1.0],\"title\":{\"text\":\"value\"}},\"legend\":{\"title\":{\"text\":\"G\"},\"tracegroupgap\":0},\"margin\":{\"t\":60},\"barmode\":\"relative\"},                        {\"responsive\": true}                    ).then(function(){\n                            \nvar gd = document.getElementById('4ff77947-1181-40c3-a439-c5752a9a094f');\nvar x = new MutationObserver(function (mutations, observer) {{\n        var display = window.getComputedStyle(gd).display;\n        if (!display || display === 'none') {{\n            console.log([gd, 'removed!']);\n            Plotly.purge(gd);\n            observer.disconnect();\n        }}\n}});\n\n// Listen for the removal of the full notebook cells\nvar notebookContainer = gd.closest('#notebook-container');\nif (notebookContainer) {{\n    x.observe(notebookContainer, {childList: true});\n}}\n\n// Listen for the clearing of the current output cell\nvar outputEl = gd.closest('.output');\nif (outputEl) {{\n    x.observe(outputEl, {childList: true});\n}}\n\n                        })                };                });            </script>        </div>"
     },
     "metadata": {},
     "output_type": "display_data"
    }
   ],
   "source": [
    "import numpy as np\n",
    "import pandas as pd\n",
    "import plotly.express as px\n",
    "\n",
    "arr = np.array([\n",
    "        ['Dog', 'M'], ['Dog', 'M'], ['Dog', 'F'], ['Dog', 'F'],\n",
    "        ['Cat', 'F'], ['Cat', 'F'], ['Cat', 'F'], ['Cat', 'M'],\n",
    "        ['Fox', 'M'], ['Fox', 'M'], ['Fox', 'M'], ['Fox', 'F'],\n",
    "        ['Dog', 'F'], ['Dog', 'F'], ['Cat', 'F'], ['Dog', 'M']\n",
    "    ])\n",
    "\n",
    "df = pd.DataFrame(arr, columns=['A', 'G'])\n",
    "\n",
    "df_g = df.groupby(['A', 'G']).size().reset_index().rename(columns={0: 'total'})\n",
    "df_g.head()\n",
    "df_g['percentage'] = df.groupby(['A', 'G']).size().groupby(level=0).apply(lambda x: 100 * x / float(x.sum())).values\n",
    "\n",
    "print(df_g.head())\n",
    "px.bar(df_g, x='A', y=['total'], color='G', text=df_g['percentage'].apply(lambda x: '{0:1.2f}%'.format(x)))"
   ],
   "metadata": {
    "collapsed": false,
    "ExecuteTime": {
     "end_time": "2024-03-01T20:20:05.008170Z",
     "start_time": "2024-03-01T20:20:04.955757Z"
    }
   },
   "id": "3617837896e745a3",
   "execution_count": 20
  },
  {
   "cell_type": "code",
   "outputs": [],
   "source": [],
   "metadata": {
    "collapsed": false
   },
   "id": "7ec9c6afd52d025"
  },
  {
   "cell_type": "code",
   "outputs": [
    {
     "data": {
      "text/plain": "   cod_municipio              municipio  uf   uf_nome regiao_nome  longitude  \\\n0         110001  ALTA FLORESTA D'OESTE  RO  RONDÔNIA       NORTE -61.999824   \n1         110002              ARIQUEMES  RO  RONDÔNIA       NORTE -63.033269   \n2         110003                 CABIXI  RO  RONDÔNIA       NORTE -60.544314   \n3         110004                 CACOAL  RO  RONDÔNIA       NORTE -61.442944   \n4         110005             CEREJEIRAS  RO  RONDÔNIA       NORTE -60.818426   \n\n    latitude  nu_populacao  mes   ano  ...  \\\n0 -11.935540         21495  OUT  2023  ...   \n1  -9.908463         96833  OUT  2023  ...   \n2 -13.499763          5363  OUT  2023  ...   \n3 -11.433865         86895  OUT  2023  ...   \n4 -13.195033         15890  OUT  2023  ...   \n\n   orteses_proteses_e_materiais_especiais_relacionados_ao_ato_cirurgico_val  \\\n0                                               0.00                          \n1                                            1571.12                          \n2                                               0.00                          \n3                                           35674.84                          \n4                                               0.00                          \n\n   acoes_relacionadas_ao_estabelecimento_qtd  \\\n0                                          0   \n1                                          0   \n2                                          0   \n3                                         30   \n4                                         11   \n\n   acoes_relacionadas_ao_estabelecimento_val  \\\n0                                        0.0   \n1                                        0.0   \n2                                        0.0   \n3                                      325.0   \n4                                      440.0   \n\n   acoes_relacionadas_ao_atendimento_qtd  \\\n0                                    150   \n1                                   1983   \n2                                     10   \n3                                   3191   \n4                                    216   \n\n   acoes_relacionadas_ao_atendimento_val  \\\n0                                1200.00   \n1                              397306.24   \n2                                  80.00   \n3                              337971.80   \n4                                1883.61   \n\n   acoes_de_promocao_e_prevencao_em_saude  \\\n0                                       0   \n1                                       0   \n2                                       0   \n3                                       0   \n4                                       0   \n\n   acoes_coletivas_individuais_em_saude  anestesiologia  \\\n0                                     0            0.00   \n1                                     0         2875.46   \n2                                     0            0.00   \n3                                     0         2712.21   \n4                                     0            0.00   \n\n   tratamentos_odontologicos_qtd  tratamentos_odontologicos_val  \n0                              0                            0.0  \n1                              0                            0.0  \n2                              0                            0.0  \n3                              0                            0.0  \n4                              0                            0.0  \n\n[5 rows x 127 columns]",
      "text/html": "<div>\n<style scoped>\n    .dataframe tbody tr th:only-of-type {\n        vertical-align: middle;\n    }\n\n    .dataframe tbody tr th {\n        vertical-align: top;\n    }\n\n    .dataframe thead th {\n        text-align: right;\n    }\n</style>\n<table border=\"1\" class=\"dataframe\">\n  <thead>\n    <tr style=\"text-align: right;\">\n      <th></th>\n      <th>cod_municipio</th>\n      <th>municipio</th>\n      <th>uf</th>\n      <th>uf_nome</th>\n      <th>regiao_nome</th>\n      <th>longitude</th>\n      <th>latitude</th>\n      <th>nu_populacao</th>\n      <th>mes</th>\n      <th>ano</th>\n      <th>...</th>\n      <th>orteses_proteses_e_materiais_especiais_relacionados_ao_ato_cirurgico_val</th>\n      <th>acoes_relacionadas_ao_estabelecimento_qtd</th>\n      <th>acoes_relacionadas_ao_estabelecimento_val</th>\n      <th>acoes_relacionadas_ao_atendimento_qtd</th>\n      <th>acoes_relacionadas_ao_atendimento_val</th>\n      <th>acoes_de_promocao_e_prevencao_em_saude</th>\n      <th>acoes_coletivas_individuais_em_saude</th>\n      <th>anestesiologia</th>\n      <th>tratamentos_odontologicos_qtd</th>\n      <th>tratamentos_odontologicos_val</th>\n    </tr>\n  </thead>\n  <tbody>\n    <tr>\n      <th>0</th>\n      <td>110001</td>\n      <td>ALTA FLORESTA D'OESTE</td>\n      <td>RO</td>\n      <td>RONDÔNIA</td>\n      <td>NORTE</td>\n      <td>-61.999824</td>\n      <td>-11.935540</td>\n      <td>21495</td>\n      <td>OUT</td>\n      <td>2023</td>\n      <td>...</td>\n      <td>0.00</td>\n      <td>0</td>\n      <td>0.0</td>\n      <td>150</td>\n      <td>1200.00</td>\n      <td>0</td>\n      <td>0</td>\n      <td>0.00</td>\n      <td>0</td>\n      <td>0.0</td>\n    </tr>\n    <tr>\n      <th>1</th>\n      <td>110002</td>\n      <td>ARIQUEMES</td>\n      <td>RO</td>\n      <td>RONDÔNIA</td>\n      <td>NORTE</td>\n      <td>-63.033269</td>\n      <td>-9.908463</td>\n      <td>96833</td>\n      <td>OUT</td>\n      <td>2023</td>\n      <td>...</td>\n      <td>1571.12</td>\n      <td>0</td>\n      <td>0.0</td>\n      <td>1983</td>\n      <td>397306.24</td>\n      <td>0</td>\n      <td>0</td>\n      <td>2875.46</td>\n      <td>0</td>\n      <td>0.0</td>\n    </tr>\n    <tr>\n      <th>2</th>\n      <td>110003</td>\n      <td>CABIXI</td>\n      <td>RO</td>\n      <td>RONDÔNIA</td>\n      <td>NORTE</td>\n      <td>-60.544314</td>\n      <td>-13.499763</td>\n      <td>5363</td>\n      <td>OUT</td>\n      <td>2023</td>\n      <td>...</td>\n      <td>0.00</td>\n      <td>0</td>\n      <td>0.0</td>\n      <td>10</td>\n      <td>80.00</td>\n      <td>0</td>\n      <td>0</td>\n      <td>0.00</td>\n      <td>0</td>\n      <td>0.0</td>\n    </tr>\n    <tr>\n      <th>3</th>\n      <td>110004</td>\n      <td>CACOAL</td>\n      <td>RO</td>\n      <td>RONDÔNIA</td>\n      <td>NORTE</td>\n      <td>-61.442944</td>\n      <td>-11.433865</td>\n      <td>86895</td>\n      <td>OUT</td>\n      <td>2023</td>\n      <td>...</td>\n      <td>35674.84</td>\n      <td>30</td>\n      <td>325.0</td>\n      <td>3191</td>\n      <td>337971.80</td>\n      <td>0</td>\n      <td>0</td>\n      <td>2712.21</td>\n      <td>0</td>\n      <td>0.0</td>\n    </tr>\n    <tr>\n      <th>4</th>\n      <td>110005</td>\n      <td>CEREJEIRAS</td>\n      <td>RO</td>\n      <td>RONDÔNIA</td>\n      <td>NORTE</td>\n      <td>-60.818426</td>\n      <td>-13.195033</td>\n      <td>15890</td>\n      <td>OUT</td>\n      <td>2023</td>\n      <td>...</td>\n      <td>0.00</td>\n      <td>11</td>\n      <td>440.0</td>\n      <td>216</td>\n      <td>1883.61</td>\n      <td>0</td>\n      <td>0</td>\n      <td>0.00</td>\n      <td>0</td>\n      <td>0.0</td>\n    </tr>\n  </tbody>\n</table>\n<p>5 rows × 127 columns</p>\n</div>"
     },
     "execution_count": 20,
     "metadata": {},
     "output_type": "execute_result"
    }
   ],
   "source": [
    "df_datasus.head()"
   ],
   "metadata": {
    "collapsed": false,
    "ExecuteTime": {
     "end_time": "2024-03-04T16:57:40.984204147Z",
     "start_time": "2024-03-04T16:57:40.921159695Z"
    }
   },
   "id": "2e3f65b490f11988",
   "execution_count": 20
  },
  {
   "cell_type": "code",
   "outputs": [
    {
     "data": {
      "text/plain": "       cod_municipio         municipio  uf         uf_nome regiao_nome  \\\n4311          420005     ABDON BATISTA  SC  SANTA CATARINA         SUL   \n4312          420010      ABELARDO LUZ  SC  SANTA CATARINA         SUL   \n4313          420020        AGROLANDIA  SC  SANTA CATARINA         SUL   \n4314          420030        AGRONOMICA  SC  SANTA CATARINA         SUL   \n4315          420040         AGUA DOCE  SC  SANTA CATARINA         SUL   \n...              ...               ...  ..             ...         ...   \n60301         421950           XANXERE  SC  SANTA CATARINA         SUL   \n60302         421960         XAVANTINA  SC  SANTA CATARINA         SUL   \n60303         421970             XAXIM  SC  SANTA CATARINA         SUL   \n60304         421985            ZORTEA  SC  SANTA CATARINA         SUL   \n60305         422000  BALNEARIO RINCAO  SC  SANTA CATARINA         SUL   \n\n       longitude   latitude  nu_populacao  mes   ano  ...  \\\n4311  -51.025272 -27.608987          2598  OUT  2023  ...   \n4312  -52.336482 -26.563031         17392  OUT  2023  ...   \n4313  -49.825653 -27.400517         10990  OUT  2023  ...   \n4314  -49.718369 -27.269716          6055  OUT  2023  ...   \n4315  -51.559097 -27.004092          6508  OUT  2023  ...   \n...          ...        ...           ...  ...   ...  ...   \n60301 -52.404667 -26.874584         51607  JUN  2022  ...   \n60302 -52.342851 -27.070250          3653  JUN  2022  ...   \n60303 -52.534933 -26.963719         31918  JUN  2022  ...   \n60304 -51.549566 -27.450251          3930  JUN  2022  ...   \n60305 -49.236100 -28.834400         15981  JUN  2022  ...   \n\n       orteses_proteses_e_materiais_especiais_relacionados_ao_ato_cirurgico_val  \\\n4311                                                0.00                          \n4312                                             8859.73                          \n4313                                                0.00                          \n4314                                                0.00                          \n4315                                                0.00                          \n...                                                  ...                          \n60301                                          579168.37                          \n60302                                               0.00                          \n60303                                             362.00                          \n60304                                               0.00                          \n60305                                               0.00                          \n\n       acoes_relacionadas_ao_estabelecimento_qtd  \\\n4311                                           0   \n4312                                           0   \n4313                                           0   \n4314                                           0   \n4315                                           0   \n...                                          ...   \n60301                                          4   \n60302                                          0   \n60303                                          0   \n60304                                          0   \n60305                                          0   \n\n       acoes_relacionadas_ao_estabelecimento_val  \\\n4311                                         0.0   \n4312                                         0.0   \n4313                                         0.0   \n4314                                         0.0   \n4315                                         0.0   \n...                                          ...   \n60301                                       20.0   \n60302                                        0.0   \n60303                                        0.0   \n60304                                        0.0   \n60305                                        0.0   \n\n       acoes_relacionadas_ao_atendimento_qtd  \\\n4311                                       0   \n4312                                     103   \n4313                                       0   \n4314                                       0   \n4315                                      10   \n...                                      ...   \n60301                                   3843   \n60302                                     35   \n60303                                    497   \n60304                                      0   \n60305                                      0   \n\n       acoes_relacionadas_ao_atendimento_val  \\\n4311                                    0.00   \n4312                                  979.61   \n4313                                    0.00   \n4314                                    0.00   \n4315                                   80.00   \n...                                      ...   \n60301                              401079.39   \n60302                                 280.00   \n60303                                4131.61   \n60304                                   0.00   \n60305                                   0.00   \n\n       acoes_de_promocao_e_prevencao_em_saude  \\\n4311                                        0   \n4312                                        0   \n4313                                        0   \n4314                                        0   \n4315                                        0   \n...                                       ...   \n60301                                       0   \n60302                                       0   \n60303                                       0   \n60304                                       0   \n60305                                       0   \n\n       acoes_coletivas_individuais_em_saude  anestesiologia  \\\n4311                                      0            0.00   \n4312                                      0          389.62   \n4313                                      0            0.00   \n4314                                      0            0.00   \n4315                                      0            0.00   \n...                                     ...             ...   \n60301                                     0         5076.96   \n60302                                     0            0.00   \n60303                                     0          168.00   \n60304                                     0            0.00   \n60305                                     0            0.00   \n\n       tratamentos_odontologicos_qtd  tratamentos_odontologicos_val  \n4311                               0                            0.0  \n4312                               0                            0.0  \n4313                               0                            0.0  \n4314                               0                            0.0  \n4315                               0                            0.0  \n...                              ...                            ...  \n60301                              0                            0.0  \n60302                              0                            0.0  \n60303                              0                            0.0  \n60304                              0                            0.0  \n60305                              0                            0.0  \n\n[3245 rows x 127 columns]",
      "text/html": "<div>\n<style scoped>\n    .dataframe tbody tr th:only-of-type {\n        vertical-align: middle;\n    }\n\n    .dataframe tbody tr th {\n        vertical-align: top;\n    }\n\n    .dataframe thead th {\n        text-align: right;\n    }\n</style>\n<table border=\"1\" class=\"dataframe\">\n  <thead>\n    <tr style=\"text-align: right;\">\n      <th></th>\n      <th>cod_municipio</th>\n      <th>municipio</th>\n      <th>uf</th>\n      <th>uf_nome</th>\n      <th>regiao_nome</th>\n      <th>longitude</th>\n      <th>latitude</th>\n      <th>nu_populacao</th>\n      <th>mes</th>\n      <th>ano</th>\n      <th>...</th>\n      <th>orteses_proteses_e_materiais_especiais_relacionados_ao_ato_cirurgico_val</th>\n      <th>acoes_relacionadas_ao_estabelecimento_qtd</th>\n      <th>acoes_relacionadas_ao_estabelecimento_val</th>\n      <th>acoes_relacionadas_ao_atendimento_qtd</th>\n      <th>acoes_relacionadas_ao_atendimento_val</th>\n      <th>acoes_de_promocao_e_prevencao_em_saude</th>\n      <th>acoes_coletivas_individuais_em_saude</th>\n      <th>anestesiologia</th>\n      <th>tratamentos_odontologicos_qtd</th>\n      <th>tratamentos_odontologicos_val</th>\n    </tr>\n  </thead>\n  <tbody>\n    <tr>\n      <th>4311</th>\n      <td>420005</td>\n      <td>ABDON BATISTA</td>\n      <td>SC</td>\n      <td>SANTA CATARINA</td>\n      <td>SUL</td>\n      <td>-51.025272</td>\n      <td>-27.608987</td>\n      <td>2598</td>\n      <td>OUT</td>\n      <td>2023</td>\n      <td>...</td>\n      <td>0.00</td>\n      <td>0</td>\n      <td>0.0</td>\n      <td>0</td>\n      <td>0.00</td>\n      <td>0</td>\n      <td>0</td>\n      <td>0.00</td>\n      <td>0</td>\n      <td>0.0</td>\n    </tr>\n    <tr>\n      <th>4312</th>\n      <td>420010</td>\n      <td>ABELARDO LUZ</td>\n      <td>SC</td>\n      <td>SANTA CATARINA</td>\n      <td>SUL</td>\n      <td>-52.336482</td>\n      <td>-26.563031</td>\n      <td>17392</td>\n      <td>OUT</td>\n      <td>2023</td>\n      <td>...</td>\n      <td>8859.73</td>\n      <td>0</td>\n      <td>0.0</td>\n      <td>103</td>\n      <td>979.61</td>\n      <td>0</td>\n      <td>0</td>\n      <td>389.62</td>\n      <td>0</td>\n      <td>0.0</td>\n    </tr>\n    <tr>\n      <th>4313</th>\n      <td>420020</td>\n      <td>AGROLANDIA</td>\n      <td>SC</td>\n      <td>SANTA CATARINA</td>\n      <td>SUL</td>\n      <td>-49.825653</td>\n      <td>-27.400517</td>\n      <td>10990</td>\n      <td>OUT</td>\n      <td>2023</td>\n      <td>...</td>\n      <td>0.00</td>\n      <td>0</td>\n      <td>0.0</td>\n      <td>0</td>\n      <td>0.00</td>\n      <td>0</td>\n      <td>0</td>\n      <td>0.00</td>\n      <td>0</td>\n      <td>0.0</td>\n    </tr>\n    <tr>\n      <th>4314</th>\n      <td>420030</td>\n      <td>AGRONOMICA</td>\n      <td>SC</td>\n      <td>SANTA CATARINA</td>\n      <td>SUL</td>\n      <td>-49.718369</td>\n      <td>-27.269716</td>\n      <td>6055</td>\n      <td>OUT</td>\n      <td>2023</td>\n      <td>...</td>\n      <td>0.00</td>\n      <td>0</td>\n      <td>0.0</td>\n      <td>0</td>\n      <td>0.00</td>\n      <td>0</td>\n      <td>0</td>\n      <td>0.00</td>\n      <td>0</td>\n      <td>0.0</td>\n    </tr>\n    <tr>\n      <th>4315</th>\n      <td>420040</td>\n      <td>AGUA DOCE</td>\n      <td>SC</td>\n      <td>SANTA CATARINA</td>\n      <td>SUL</td>\n      <td>-51.559097</td>\n      <td>-27.004092</td>\n      <td>6508</td>\n      <td>OUT</td>\n      <td>2023</td>\n      <td>...</td>\n      <td>0.00</td>\n      <td>0</td>\n      <td>0.0</td>\n      <td>10</td>\n      <td>80.00</td>\n      <td>0</td>\n      <td>0</td>\n      <td>0.00</td>\n      <td>0</td>\n      <td>0.0</td>\n    </tr>\n    <tr>\n      <th>...</th>\n      <td>...</td>\n      <td>...</td>\n      <td>...</td>\n      <td>...</td>\n      <td>...</td>\n      <td>...</td>\n      <td>...</td>\n      <td>...</td>\n      <td>...</td>\n      <td>...</td>\n      <td>...</td>\n      <td>...</td>\n      <td>...</td>\n      <td>...</td>\n      <td>...</td>\n      <td>...</td>\n      <td>...</td>\n      <td>...</td>\n      <td>...</td>\n      <td>...</td>\n      <td>...</td>\n    </tr>\n    <tr>\n      <th>60301</th>\n      <td>421950</td>\n      <td>XANXERE</td>\n      <td>SC</td>\n      <td>SANTA CATARINA</td>\n      <td>SUL</td>\n      <td>-52.404667</td>\n      <td>-26.874584</td>\n      <td>51607</td>\n      <td>JUN</td>\n      <td>2022</td>\n      <td>...</td>\n      <td>579168.37</td>\n      <td>4</td>\n      <td>20.0</td>\n      <td>3843</td>\n      <td>401079.39</td>\n      <td>0</td>\n      <td>0</td>\n      <td>5076.96</td>\n      <td>0</td>\n      <td>0.0</td>\n    </tr>\n    <tr>\n      <th>60302</th>\n      <td>421960</td>\n      <td>XAVANTINA</td>\n      <td>SC</td>\n      <td>SANTA CATARINA</td>\n      <td>SUL</td>\n      <td>-52.342851</td>\n      <td>-27.070250</td>\n      <td>3653</td>\n      <td>JUN</td>\n      <td>2022</td>\n      <td>...</td>\n      <td>0.00</td>\n      <td>0</td>\n      <td>0.0</td>\n      <td>35</td>\n      <td>280.00</td>\n      <td>0</td>\n      <td>0</td>\n      <td>0.00</td>\n      <td>0</td>\n      <td>0.0</td>\n    </tr>\n    <tr>\n      <th>60303</th>\n      <td>421970</td>\n      <td>XAXIM</td>\n      <td>SC</td>\n      <td>SANTA CATARINA</td>\n      <td>SUL</td>\n      <td>-52.534933</td>\n      <td>-26.963719</td>\n      <td>31918</td>\n      <td>JUN</td>\n      <td>2022</td>\n      <td>...</td>\n      <td>362.00</td>\n      <td>0</td>\n      <td>0.0</td>\n      <td>497</td>\n      <td>4131.61</td>\n      <td>0</td>\n      <td>0</td>\n      <td>168.00</td>\n      <td>0</td>\n      <td>0.0</td>\n    </tr>\n    <tr>\n      <th>60304</th>\n      <td>421985</td>\n      <td>ZORTEA</td>\n      <td>SC</td>\n      <td>SANTA CATARINA</td>\n      <td>SUL</td>\n      <td>-51.549566</td>\n      <td>-27.450251</td>\n      <td>3930</td>\n      <td>JUN</td>\n      <td>2022</td>\n      <td>...</td>\n      <td>0.00</td>\n      <td>0</td>\n      <td>0.0</td>\n      <td>0</td>\n      <td>0.00</td>\n      <td>0</td>\n      <td>0</td>\n      <td>0.00</td>\n      <td>0</td>\n      <td>0.0</td>\n    </tr>\n    <tr>\n      <th>60305</th>\n      <td>422000</td>\n      <td>BALNEARIO RINCAO</td>\n      <td>SC</td>\n      <td>SANTA CATARINA</td>\n      <td>SUL</td>\n      <td>-49.236100</td>\n      <td>-28.834400</td>\n      <td>15981</td>\n      <td>JUN</td>\n      <td>2022</td>\n      <td>...</td>\n      <td>0.00</td>\n      <td>0</td>\n      <td>0.0</td>\n      <td>0</td>\n      <td>0.00</td>\n      <td>0</td>\n      <td>0</td>\n      <td>0.00</td>\n      <td>0</td>\n      <td>0.0</td>\n    </tr>\n  </tbody>\n</table>\n<p>3245 rows × 127 columns</p>\n</div>"
     },
     "execution_count": 21,
     "metadata": {},
     "output_type": "execute_result"
    }
   ],
   "source": [
    "df_datasus.query(\"regiao_nome == 'SUL' and uf == 'SC'\")"
   ],
   "metadata": {
    "collapsed": false,
    "ExecuteTime": {
     "end_time": "2024-03-04T16:57:46.042062633Z",
     "start_time": "2024-03-04T16:57:45.949920853Z"
    }
   },
   "id": "c3e4ca2d6a18ed36",
   "execution_count": 21
  },
  {
   "cell_type": "code",
   "outputs": [],
   "source": [
    "df_datasus['tratamentos_odontologicos_qtd'] = df_datasus['tratamentos_odontologicos_qtd'].fillna(0).astype('int64')"
   ],
   "metadata": {
    "collapsed": false,
    "ExecuteTime": {
     "end_time": "2024-03-04T18:04:49.046740358Z",
     "start_time": "2024-03-04T18:04:48.924201861Z"
    }
   },
   "id": "64db7300ba4b3c49",
   "execution_count": 46
  },
  {
   "cell_type": "code",
   "outputs": [
    {
     "data": {
      "text/plain": "    cod_municipio              municipio  uf   uf_nome regiao_nome  longitude  \\\n0          110001  ALTA FLORESTA D'OESTE  RO  RONDÔNIA       NORTE -61.999824   \n1          110002              ARIQUEMES  RO  RONDÔNIA       NORTE -63.033269   \n2          110003                 CABIXI  RO  RONDÔNIA       NORTE -60.544314   \n3          110004                 CACOAL  RO  RONDÔNIA       NORTE -61.442944   \n4          110005             CEREJEIRAS  RO  RONDÔNIA       NORTE -60.818426   \n..            ...                    ...  ..       ...         ...        ...   \n95         130140               EIRUNEPE  AM  AMAZONAS       NORTE -69.866290   \n96         130150                 ENVIRA  AM  AMAZONAS       NORTE -70.030413   \n97         130160              FONTE BOA  AM  AMAZONAS       NORTE -66.096503   \n98         130165                GUAJARA  AM  AMAZONAS       NORTE -72.582431   \n99         130170                HUMAITA  AM  AMAZONAS       NORTE -63.026698   \n\n     latitude  nu_populacao  mes   ano  ...  \\\n0  -11.935540         21495  OUT  2023  ...   \n1   -9.908463         96833  OUT  2023  ...   \n2  -13.499763          5363  OUT  2023  ...   \n3  -11.433865         86895  OUT  2023  ...   \n4  -13.195033         15890  OUT  2023  ...   \n..        ...           ...  ...   ...  ...   \n95  -6.667353         33170  OUT  2023  ...   \n96  -7.439818         17186  OUT  2023  ...   \n97  -2.512271         25871  OUT  2023  ...   \n98  -7.547774         13815  OUT  2023  ...   \n99  -7.512225         57473  OUT  2023  ...   \n\n    orteses_proteses_e_materiais_especiais_relacionados_ao_ato_cirurgico_val  \\\n0                                                0.00                          \n1                                             1571.12                          \n2                                                0.00                          \n3                                            35674.84                          \n4                                                0.00                          \n..                                                ...                          \n95                                               0.00                          \n96                                               0.00                          \n97                                               0.00                          \n98                                               0.00                          \n99                                               0.00                          \n\n    acoes_relacionadas_ao_estabelecimento_qtd  \\\n0                                           0   \n1                                           0   \n2                                           0   \n3                                          30   \n4                                          11   \n..                                        ...   \n95                                         62   \n96                                         24   \n97                                          0   \n98                                          2   \n99                                          0   \n\n    acoes_relacionadas_ao_estabelecimento_val  \\\n0                                         0.0   \n1                                         0.0   \n2                                         0.0   \n3                                       325.0   \n4                                       440.0   \n..                                        ...   \n95                                     2480.0   \n96                                      715.0   \n97                                        0.0   \n98                                       10.0   \n99                                        0.0   \n\n    acoes_relacionadas_ao_atendimento_qtd  \\\n0                                     150   \n1                                    1983   \n2                                      10   \n3                                    3191   \n4                                     216   \n..                                    ...   \n95                                    498   \n96                                    108   \n97                                    268   \n98                                     90   \n99                                      0   \n\n    acoes_relacionadas_ao_atendimento_val  \\\n0                                 1200.00   \n1                               397306.24   \n2                                   80.00   \n3                               337971.80   \n4                                 1883.61   \n..                                    ...   \n95                                3984.00   \n96                                 852.00   \n97                                2144.00   \n98                                 720.00   \n99                                   0.00   \n\n    acoes_de_promocao_e_prevencao_em_saude  \\\n0                                        0   \n1                                        0   \n2                                        0   \n3                                        0   \n4                                        0   \n..                                     ...   \n95                                       0   \n96                                       0   \n97                                       0   \n98                                       0   \n99                                       0   \n\n    acoes_coletivas_individuais_em_saude  anestesiologia  \\\n0                                      0            0.00   \n1                                      0         2875.46   \n2                                      0            0.00   \n3                                      0         2712.21   \n4                                      0            0.00   \n..                                   ...             ...   \n95                                     0         1407.14   \n96                                     0          672.98   \n97                                     0            0.00   \n98                                     0            0.00   \n99                                     0         2080.12   \n\n    tratamentos_odontologicos_qtd  tratamentos_odontologicos_val  \n0                               0                            0.0  \n1                               0                            0.0  \n2                               0                            0.0  \n3                               0                            0.0  \n4                               0                            0.0  \n..                            ...                            ...  \n95                              0                            0.0  \n96                              0                            0.0  \n97                              0                            0.0  \n98                              0                            0.0  \n99                              0                            0.0  \n\n[100 rows x 127 columns]",
      "text/html": "<div>\n<style scoped>\n    .dataframe tbody tr th:only-of-type {\n        vertical-align: middle;\n    }\n\n    .dataframe tbody tr th {\n        vertical-align: top;\n    }\n\n    .dataframe thead th {\n        text-align: right;\n    }\n</style>\n<table border=\"1\" class=\"dataframe\">\n  <thead>\n    <tr style=\"text-align: right;\">\n      <th></th>\n      <th>cod_municipio</th>\n      <th>municipio</th>\n      <th>uf</th>\n      <th>uf_nome</th>\n      <th>regiao_nome</th>\n      <th>longitude</th>\n      <th>latitude</th>\n      <th>nu_populacao</th>\n      <th>mes</th>\n      <th>ano</th>\n      <th>...</th>\n      <th>orteses_proteses_e_materiais_especiais_relacionados_ao_ato_cirurgico_val</th>\n      <th>acoes_relacionadas_ao_estabelecimento_qtd</th>\n      <th>acoes_relacionadas_ao_estabelecimento_val</th>\n      <th>acoes_relacionadas_ao_atendimento_qtd</th>\n      <th>acoes_relacionadas_ao_atendimento_val</th>\n      <th>acoes_de_promocao_e_prevencao_em_saude</th>\n      <th>acoes_coletivas_individuais_em_saude</th>\n      <th>anestesiologia</th>\n      <th>tratamentos_odontologicos_qtd</th>\n      <th>tratamentos_odontologicos_val</th>\n    </tr>\n  </thead>\n  <tbody>\n    <tr>\n      <th>0</th>\n      <td>110001</td>\n      <td>ALTA FLORESTA D'OESTE</td>\n      <td>RO</td>\n      <td>RONDÔNIA</td>\n      <td>NORTE</td>\n      <td>-61.999824</td>\n      <td>-11.935540</td>\n      <td>21495</td>\n      <td>OUT</td>\n      <td>2023</td>\n      <td>...</td>\n      <td>0.00</td>\n      <td>0</td>\n      <td>0.0</td>\n      <td>150</td>\n      <td>1200.00</td>\n      <td>0</td>\n      <td>0</td>\n      <td>0.00</td>\n      <td>0</td>\n      <td>0.0</td>\n    </tr>\n    <tr>\n      <th>1</th>\n      <td>110002</td>\n      <td>ARIQUEMES</td>\n      <td>RO</td>\n      <td>RONDÔNIA</td>\n      <td>NORTE</td>\n      <td>-63.033269</td>\n      <td>-9.908463</td>\n      <td>96833</td>\n      <td>OUT</td>\n      <td>2023</td>\n      <td>...</td>\n      <td>1571.12</td>\n      <td>0</td>\n      <td>0.0</td>\n      <td>1983</td>\n      <td>397306.24</td>\n      <td>0</td>\n      <td>0</td>\n      <td>2875.46</td>\n      <td>0</td>\n      <td>0.0</td>\n    </tr>\n    <tr>\n      <th>2</th>\n      <td>110003</td>\n      <td>CABIXI</td>\n      <td>RO</td>\n      <td>RONDÔNIA</td>\n      <td>NORTE</td>\n      <td>-60.544314</td>\n      <td>-13.499763</td>\n      <td>5363</td>\n      <td>OUT</td>\n      <td>2023</td>\n      <td>...</td>\n      <td>0.00</td>\n      <td>0</td>\n      <td>0.0</td>\n      <td>10</td>\n      <td>80.00</td>\n      <td>0</td>\n      <td>0</td>\n      <td>0.00</td>\n      <td>0</td>\n      <td>0.0</td>\n    </tr>\n    <tr>\n      <th>3</th>\n      <td>110004</td>\n      <td>CACOAL</td>\n      <td>RO</td>\n      <td>RONDÔNIA</td>\n      <td>NORTE</td>\n      <td>-61.442944</td>\n      <td>-11.433865</td>\n      <td>86895</td>\n      <td>OUT</td>\n      <td>2023</td>\n      <td>...</td>\n      <td>35674.84</td>\n      <td>30</td>\n      <td>325.0</td>\n      <td>3191</td>\n      <td>337971.80</td>\n      <td>0</td>\n      <td>0</td>\n      <td>2712.21</td>\n      <td>0</td>\n      <td>0.0</td>\n    </tr>\n    <tr>\n      <th>4</th>\n      <td>110005</td>\n      <td>CEREJEIRAS</td>\n      <td>RO</td>\n      <td>RONDÔNIA</td>\n      <td>NORTE</td>\n      <td>-60.818426</td>\n      <td>-13.195033</td>\n      <td>15890</td>\n      <td>OUT</td>\n      <td>2023</td>\n      <td>...</td>\n      <td>0.00</td>\n      <td>11</td>\n      <td>440.0</td>\n      <td>216</td>\n      <td>1883.61</td>\n      <td>0</td>\n      <td>0</td>\n      <td>0.00</td>\n      <td>0</td>\n      <td>0.0</td>\n    </tr>\n    <tr>\n      <th>...</th>\n      <td>...</td>\n      <td>...</td>\n      <td>...</td>\n      <td>...</td>\n      <td>...</td>\n      <td>...</td>\n      <td>...</td>\n      <td>...</td>\n      <td>...</td>\n      <td>...</td>\n      <td>...</td>\n      <td>...</td>\n      <td>...</td>\n      <td>...</td>\n      <td>...</td>\n      <td>...</td>\n      <td>...</td>\n      <td>...</td>\n      <td>...</td>\n      <td>...</td>\n      <td>...</td>\n    </tr>\n    <tr>\n      <th>95</th>\n      <td>130140</td>\n      <td>EIRUNEPE</td>\n      <td>AM</td>\n      <td>AMAZONAS</td>\n      <td>NORTE</td>\n      <td>-69.866290</td>\n      <td>-6.667353</td>\n      <td>33170</td>\n      <td>OUT</td>\n      <td>2023</td>\n      <td>...</td>\n      <td>0.00</td>\n      <td>62</td>\n      <td>2480.0</td>\n      <td>498</td>\n      <td>3984.00</td>\n      <td>0</td>\n      <td>0</td>\n      <td>1407.14</td>\n      <td>0</td>\n      <td>0.0</td>\n    </tr>\n    <tr>\n      <th>96</th>\n      <td>130150</td>\n      <td>ENVIRA</td>\n      <td>AM</td>\n      <td>AMAZONAS</td>\n      <td>NORTE</td>\n      <td>-70.030413</td>\n      <td>-7.439818</td>\n      <td>17186</td>\n      <td>OUT</td>\n      <td>2023</td>\n      <td>...</td>\n      <td>0.00</td>\n      <td>24</td>\n      <td>715.0</td>\n      <td>108</td>\n      <td>852.00</td>\n      <td>0</td>\n      <td>0</td>\n      <td>672.98</td>\n      <td>0</td>\n      <td>0.0</td>\n    </tr>\n    <tr>\n      <th>97</th>\n      <td>130160</td>\n      <td>FONTE BOA</td>\n      <td>AM</td>\n      <td>AMAZONAS</td>\n      <td>NORTE</td>\n      <td>-66.096503</td>\n      <td>-2.512271</td>\n      <td>25871</td>\n      <td>OUT</td>\n      <td>2023</td>\n      <td>...</td>\n      <td>0.00</td>\n      <td>0</td>\n      <td>0.0</td>\n      <td>268</td>\n      <td>2144.00</td>\n      <td>0</td>\n      <td>0</td>\n      <td>0.00</td>\n      <td>0</td>\n      <td>0.0</td>\n    </tr>\n    <tr>\n      <th>98</th>\n      <td>130165</td>\n      <td>GUAJARA</td>\n      <td>AM</td>\n      <td>AMAZONAS</td>\n      <td>NORTE</td>\n      <td>-72.582431</td>\n      <td>-7.547774</td>\n      <td>13815</td>\n      <td>OUT</td>\n      <td>2023</td>\n      <td>...</td>\n      <td>0.00</td>\n      <td>2</td>\n      <td>10.0</td>\n      <td>90</td>\n      <td>720.00</td>\n      <td>0</td>\n      <td>0</td>\n      <td>0.00</td>\n      <td>0</td>\n      <td>0.0</td>\n    </tr>\n    <tr>\n      <th>99</th>\n      <td>130170</td>\n      <td>HUMAITA</td>\n      <td>AM</td>\n      <td>AMAZONAS</td>\n      <td>NORTE</td>\n      <td>-63.026698</td>\n      <td>-7.512225</td>\n      <td>57473</td>\n      <td>OUT</td>\n      <td>2023</td>\n      <td>...</td>\n      <td>0.00</td>\n      <td>0</td>\n      <td>0.0</td>\n      <td>0</td>\n      <td>0.00</td>\n      <td>0</td>\n      <td>0</td>\n      <td>2080.12</td>\n      <td>0</td>\n      <td>0.0</td>\n    </tr>\n  </tbody>\n</table>\n<p>100 rows × 127 columns</p>\n</div>"
     },
     "execution_count": 45,
     "metadata": {},
     "output_type": "execute_result"
    }
   ],
   "source": [
    "df_datasus.head(100)"
   ],
   "metadata": {
    "collapsed": false,
    "ExecuteTime": {
     "end_time": "2024-03-04T18:04:16.290779981Z",
     "start_time": "2024-03-04T18:04:16.189822270Z"
    }
   },
   "id": "446e63bec4eb5722",
   "execution_count": 45
  },
  {
   "cell_type": "code",
   "outputs": [
    {
     "data": {
      "text/plain": "count    61270.000000\nmean         0.086829\nstd          3.992448\nmin          0.000000\n25%          0.000000\n50%          0.000000\n75%          0.000000\nmax        422.000000\nName: acoes_de_promocao_e_prevencao_em_saude, dtype: float64"
     },
     "execution_count": 48,
     "metadata": {},
     "output_type": "execute_result"
    }
   ],
   "source": [
    "df_datasus['acoes_de_promocao_e_prevencao_em_saude'].describe()"
   ],
   "metadata": {
    "collapsed": false,
    "ExecuteTime": {
     "end_time": "2024-03-04T18:06:53.934800346Z",
     "start_time": "2024-03-04T18:06:53.890123539Z"
    }
   },
   "id": "a114a40e38606fde",
   "execution_count": 48
  },
  {
   "cell_type": "code",
   "outputs": [
    {
     "data": {
      "text/plain": "count    61270.000000\nmean         0.086829\nstd          3.992448\nmin          0.000000\n25%          0.000000\n50%          0.000000\n75%          0.000000\nmax        422.000000\nName: acoes_coletivas_individuais_em_saude, dtype: float64"
     },
     "execution_count": 50,
     "metadata": {},
     "output_type": "execute_result"
    }
   ],
   "source": [
    "df_datasus['acoes_coletivas_individuais_em_saude'].describe()"
   ],
   "metadata": {
    "collapsed": false,
    "ExecuteTime": {
     "end_time": "2024-03-04T18:07:06.054270217Z",
     "start_time": "2024-03-04T18:07:06.011415490Z"
    }
   },
   "id": "7644d098f8e044a5",
   "execution_count": 50
  },
  {
   "cell_type": "code",
   "outputs": [],
   "source": [
    "for colum in df_datasus.columns:\n",
    "    if df_datasus[colum].dtype == 'int64':\n",
    "        df_datasus[colum] = df_datasus[colum].fillna(0)\n",
    "    elif df_datasus[colum].dtype == 'float64':\n",
    "        df_datasus[colum] = df_datasus[colum].fillna(0.0)"
   ],
   "metadata": {
    "collapsed": false,
    "ExecuteTime": {
     "end_time": "2024-03-04T21:29:09.375998858Z",
     "start_time": "2024-03-04T21:29:09.229826080Z"
    }
   },
   "id": "5cecb5b8fd54b61f",
   "execution_count": 210
  },
  {
   "cell_type": "code",
   "outputs": [
    {
     "data": {
      "text/plain": "cod_municipio    0\nmunicipio        0\nuf               0\nuf_nome          0\nregiao_nome      0\nlongitude        0\nlatitude         0\nnu_populacao     0\nmes              0\nano              0\ndtype: int64"
     },
     "execution_count": 211,
     "metadata": {},
     "output_type": "execute_result"
    }
   ],
   "source": [
    "df_datasus.isnull().sum()[:10]"
   ],
   "metadata": {
    "collapsed": false,
    "ExecuteTime": {
     "end_time": "2024-03-04T21:29:12.534837874Z",
     "start_time": "2024-03-04T21:29:12.464409097Z"
    }
   },
   "id": "a7abaa970d65953",
   "execution_count": 211
  },
  {
   "cell_type": "code",
   "outputs": [
    {
     "data": {
      "text/plain": "         cumsum\n1069435     653\n1069436     653\n1069437     653\n1069438     653\n1069439    9617",
      "text/html": "<div>\n<style scoped>\n    .dataframe tbody tr th:only-of-type {\n        vertical-align: middle;\n    }\n\n    .dataframe tbody tr th {\n        vertical-align: top;\n    }\n\n    .dataframe thead th {\n        text-align: right;\n    }\n</style>\n<table border=\"1\" class=\"dataframe\">\n  <thead>\n    <tr style=\"text-align: right;\">\n      <th></th>\n      <th>cumsum</th>\n    </tr>\n  </thead>\n  <tbody>\n    <tr>\n      <th>1069435</th>\n      <td>653</td>\n    </tr>\n    <tr>\n      <th>1069436</th>\n      <td>653</td>\n    </tr>\n    <tr>\n      <th>1069437</th>\n      <td>653</td>\n    </tr>\n    <tr>\n      <th>1069438</th>\n      <td>653</td>\n    </tr>\n    <tr>\n      <th>1069439</th>\n      <td>9617</td>\n    </tr>\n  </tbody>\n</table>\n</div>"
     },
     "execution_count": 51,
     "metadata": {},
     "output_type": "execute_result"
    }
   ],
   "source": [
    "df_datasus.groupby(['uf', 'ano'], observed=True)['tratamentos_odontologicos_qtd'].agg(['cumsum']).tail()"
   ],
   "metadata": {
    "collapsed": false,
    "ExecuteTime": {
     "end_time": "2024-03-04T01:43:25.669664Z",
     "start_time": "2024-03-04T01:43:25.587112Z"
    }
   },
   "id": "d1bb19604c99fa04",
   "execution_count": 51
  },
  {
   "cell_type": "code",
   "outputs": [],
   "source": [
    "df_datasus_qtd = df_datasus.filter(regex='_qtd', axis=1)\n",
    "df_datasus_val = df_datasus.filter(regex='_val', axis=1)"
   ],
   "metadata": {
    "collapsed": false,
    "ExecuteTime": {
     "end_time": "2024-03-04T21:29:19.649604896Z",
     "start_time": "2024-03-04T21:29:19.584861981Z"
    }
   },
   "id": "cc246eb187e3e36",
   "execution_count": 212
  },
  {
   "cell_type": "code",
   "outputs": [],
   "source": [],
   "metadata": {
    "collapsed": false,
    "ExecuteTime": {
     "end_time": "2024-03-04T21:29:20.476578768Z",
     "start_time": "2024-03-04T21:29:20.427368949Z"
    }
   },
   "id": "2e99c26b3f6df1cb",
   "execution_count": 212
  },
  {
   "cell_type": "code",
   "outputs": [],
   "source": [
    "colum_qtd = df_datasus_qtd.columns\n",
    "colum_val = df_datasus_val.columns"
   ],
   "metadata": {
    "collapsed": false,
    "ExecuteTime": {
     "end_time": "2024-03-04T21:29:20.910367513Z",
     "start_time": "2024-03-04T21:29:20.878449748Z"
    }
   },
   "id": "5aa1a055d1f51765",
   "execution_count": 213
  },
  {
   "cell_type": "code",
   "outputs": [
    {
     "data": {
      "text/plain": "Index(['procedimentos_com_finalidade_diagnostica_qtd',\n       'procedimentos_clinicos_qtd', 'procedimentos_cirurgicos_qtd',\n       'transplantes_de_orgaos_tecidos_e_celulas_qtd', 'medicamentos_qtd',\n       'orteses_proteses_e_materiais_especiais_qtd',\n       'acoes_complementares_da_atencao_a_saude_qtd', 'coleta_de_material_qtd',\n       'diagnostico_em_laboratorio_clinico_qtd',\n       'diagnostico_por_anatomia_patologica_e_citopatologia_qtd',\n       'diagnostico_por_radiologia_qtd', 'diagnostico_por_ultrasonografia_qtd',\n       'diagnostico_por_tomografia_qtd',\n       'diagnostico_por_ressonancia_magnetica_qtd',\n       'diagnostico_por_medicina_nuclear_in_vivo_qtd',\n       'diagnostico_por_endoscopia_qtd',\n       'diagnostico_por_radiologia_intervencionista_qtd',\n       'metodos_diagnosticos_em_especialidades_qtd',\n       'diagnostico_e_procedimentos_especiais_em_hemoterapia_qtd',\n       'diagnostico_por_teste_rapido_qtd',\n       'consultas_atendimentos_acompanhamentos_qtd', 'fisioterapia_qtd',\n       'tratamentos_clinicos_outras_especialidades_qtd',\n       'tratamento_em_oncologia_qtd', 'tratamento_em_nefrologia_qtd',\n       'hemoterapia_qtd',\n       'tratamento_de_lesoes_envenenamentos_e_outros_decorrentes_de_causas_externas_qtd',\n       'terapias_especializadas_qtd', 'parto_e_nascimento_qtd',\n       'pequenas_cirurgias_e_cirurgias_de_pele_tecido_subcutaneo_e_mucosa_qtd',\n       'cirurgia_de_glandulas_endocrinas_qtd',\n       'cirurgia_do_sistema_nervoso_central_e_periferico_qtd',\n       'cirurgia_das_vias_aereas_superiores_da_face_da_cabeca_e_do_pescoco_qtd',\n       'cirurgia_do_aparelho_da_visao_qtd',\n       'cirurgia_do_aparelho_circulatorio_qtd',\n       'cirurgia_do_aparelho_digestivo_orgaos_anexos_e_parede_abdominal_qtd',\n       'cirurgia_do_sistema_osteomuscular_qtd',\n       'cirurgia_do_aparelho_geniturinario_qtd', 'cirurgia_de_mama_qtd',\n       'cirurgia_obstetrica_qtd', 'cirurgia_toracica_qtd',\n       'cirurgia_reparadora_qtd', 'bucomaxilofacial_qtd',\n       'outras_cirurgias_qtd', 'cirurgia_em_oncologia_qtd',\n       'cirurgia_em_nefrologia_qtd',\n       'coleta_e_exames_para_fins_de_doacao_de_orgaos_tecidos_e_celulas_e_de_transplante_qtd',\n       'avaliacao_de_morte_encefalica_qtd',\n       'acoes_relacionadas_a_doacao_de_orgaos_e_tecidos_para_transplante_qtd',\n       'processamento_de_tecidos_para_transplante_qtd',\n       'transplante_de_orgaos_tecidos_e_celulas_qtd',\n       'acompanhamento_e_intercorrencias_no_pre_e_pos_transplante_qtd',\n       'medicamentos_de_ambito_hospitalar_e_urgencia_qtd',\n       'orteses_proteses_e_materiais_especiais_relacionados_ao_ato_cirurgico_qtd',\n       'acoes_relacionadas_ao_estabelecimento_qtd',\n       'acoes_relacionadas_ao_atendimento_qtd',\n       'tratamentos_odontologicos_qtd'],\n      dtype='object')"
     },
     "execution_count": 420,
     "metadata": {},
     "output_type": "execute_result"
    }
   ],
   "source": [
    "colum_qtd"
   ],
   "metadata": {
    "collapsed": false,
    "ExecuteTime": {
     "end_time": "2024-03-05T05:14:46.660633244Z",
     "start_time": "2024-03-05T05:14:46.601839902Z"
    }
   },
   "id": "59f0fc5de97b43db",
   "execution_count": 420
  },
  {
   "cell_type": "code",
   "outputs": [],
   "source": [
    "df_datasus_agrupado_ano_regiao = df_datasus.groupby(['ano', 'regiao_nome'], observed=True).agg({coluna: lambda x: x.sum() for coluna in df_datasus.columns if '_qtd' in coluna or '_val' in coluna}).reset_index()"
   ],
   "metadata": {
    "collapsed": false,
    "ExecuteTime": {
     "end_time": "2024-03-04T23:47:48.237936509Z",
     "start_time": "2024-03-04T23:47:47.153674631Z"
    }
   },
   "id": "1a7a8a485cc99233",
   "execution_count": 245
  },
  {
   "cell_type": "code",
   "outputs": [],
   "source": [
    "#df_datasus_agrupado_ano_regiao.set_index('ano', inplace=True)"
   ],
   "metadata": {
    "collapsed": false,
    "ExecuteTime": {
     "end_time": "2024-03-04T21:29:26.122220837Z",
     "start_time": "2024-03-04T21:29:26.105011794Z"
    }
   },
   "id": "1521122d1409b084",
   "execution_count": 216
  },
  {
   "cell_type": "code",
   "outputs": [
    {
     "data": {
      "text/plain": "     ano   regiao_nome  procedimentos_com_finalidade_diagnostica_qtd  \\\n0   2008  CENTRO-OESTE                                        430820   \n1   2008      NORDESTE                                       1058745   \n2   2008         NORTE                                        314805   \n3   2008       SUDESTE                                       3107779   \n4   2008           SUL                                       1222622   \n..   ...           ...                                           ...   \n75  2023  CENTRO-OESTE                                      11386858   \n76  2023      NORDESTE                                      23935073   \n77  2023         NORTE                                       5925260   \n78  2023       SUDESTE                                      63937302   \n79  2023           SUL                                      23445668   \n\n    procedimentos_com_finalidade_diagnostica_val  procedimentos_clinicos_qtd  \\\n0                                   1.028925e+06                      338962   \n1                                   2.674956e+06                      897944   \n2                                   5.945984e+05                      201858   \n3                                   8.126995e+06                     2176599   \n4                                   4.898049e+06                      962185   \n..                                           ...                         ...   \n75                                  4.517653e+07                     7376355   \n76                                  1.059644e+08                    23204727   \n77                                  2.227182e+07                     5389148   \n78                                  2.902799e+08                    41578560   \n79                                  1.610729e+08                    14046659   \n\n    procedimentos_clinicos_val  procedimentos_cirurgicos_qtd  \\\n0                 2.221484e+07                         23800   \n1                 7.948262e+07                         91173   \n2                 2.029752e+07                         25923   \n3                 1.144507e+08                        143983   \n4                 4.486271e+07                         61571   \n..                         ...                           ...   \n75                1.878710e+08                        543521   \n76                6.581306e+08                       1715977   \n77                1.756974e+08                        696186   \n78                1.079839e+09                       3263385   \n79                4.724161e+08                       1374410   \n\n    procedimentos_cirurgicos_val  \\\n0                   1.370143e+07   \n1                   5.231219e+07   \n2                   1.217338e+07   \n3                   8.084442e+07   \n4                   3.826789e+07   \n..                           ...   \n75                  2.985622e+08   \n76                  1.058790e+09   \n77                  2.511439e+08   \n78                  1.670540e+09   \n79                  8.348919e+08   \n\n    transplantes_de_orgaos_tecidos_e_celulas_qtd  \\\n0                                            376   \n1                                            649   \n2                                             26   \n3                                           2969   \n4                                           1349   \n..                                           ...   \n75                                         11299   \n76                                         49000   \n77                                          3884   \n78                                        154438   \n79                                         64780   \n\n    transplantes_de_orgaos_tecidos_e_celulas_val  ...  \\\n0                                   6.610510e+05  ...   \n1                                   2.094081e+06  ...   \n2                                   3.569991e+04  ...   \n3                                   8.434294e+06  ...   \n4                                   4.355560e+06  ...   \n..                                           ...  ...   \n75                                  1.942420e+07  ...   \n76                                  7.480360e+07  ...   \n77                                  4.795599e+06  ...   \n78                                  2.385364e+08  ...   \n79                                  1.193155e+08  ...   \n\n    medicamentos_de_ambito_hospitalar_e_urgencia_qtd  \\\n0                                               3852   \n1                                              10266   \n2                                               1854   \n3                                              30272   \n4                                              24575   \n..                                               ...   \n75                                             94715   \n76                                            302814   \n77                                             44389   \n78                                            933525   \n79                                            385364   \n\n    medicamentos_de_ambito_hospitalar_e_urgencia_val  \\\n0                                          159259.62   \n1                                          451019.39   \n2                                          103677.09   \n3                                         1608037.77   \n4                                          690089.86   \n..                                               ...   \n75                                        2902909.66   \n76                                        9536559.02   \n77                                        2060983.33   \n78                                       35599451.78   \n79                                       12124802.36   \n\n    orteses_proteses_e_materiais_especiais_relacionados_ao_ato_cirurgico_qtd  \\\n0                                                5745                          \n1                                               21123                          \n2                                                2441                          \n3                                               47294                          \n4                                               37723                          \n..                                                ...                          \n75                                             162174                          \n76                                             365255                          \n77                                              71436                          \n78                                             899339                          \n79                                             468669                          \n\n    orteses_proteses_e_materiais_especiais_relacionados_ao_ato_cirurgico_val  \\\n0                                        3.737570e+06                          \n1                                        1.071472e+07                          \n2                                        1.526927e+06                          \n3                                        3.016053e+07                          \n4                                        1.948509e+07                          \n..                                                ...                          \n75                                       8.065437e+07                          \n76                                       1.817083e+08                          \n77                                       2.966659e+07                          \n78                                       4.567783e+08                          \n79                                       2.617210e+08                          \n\n    acoes_relacionadas_ao_estabelecimento_qtd  \\\n0                                        5508   \n1                                       14411   \n2                                        4773   \n3                                       28983   \n4                                       12469   \n..                                        ...   \n75                                      25484   \n76                                      57939   \n77                                      12603   \n78                                     134724   \n79                                      51825   \n\n    acoes_relacionadas_ao_estabelecimento_val  \\\n0                                   169430.00   \n1                                   488450.00   \n2                                   161395.75   \n3                                   837194.25   \n4                                   397960.00   \n..                                        ...   \n75                                  387272.25   \n76                                 1144010.00   \n77                                  271405.00   \n78                                 2846549.50   \n79                                 1396569.00   \n\n    acoes_relacionadas_ao_atendimento_qtd  \\\n0                                  112713   \n1                                  459683   \n2                                  114180   \n3                                  647311   \n4                                  298965   \n..                                    ...   \n75                                2215200   \n76                                8083301   \n77                                2225863   \n78                               10394464   \n79                                4484423   \n\n    acoes_relacionadas_ao_atendimento_val  tratamentos_odontologicos_qtd  \\\n0                            7.939033e+06                            0.0   \n1                            1.952243e+07                            0.0   \n2                            4.430414e+06                            0.0   \n3                            4.920992e+07                            0.0   \n4                            2.335778e+07                            0.0   \n..                                    ...                            ...   \n75                           2.664831e+08                         6577.0   \n76                           7.683858e+08                         3703.0   \n77                           1.951034e+08                         2503.0   \n78                           1.631718e+09                        16428.0   \n79                           6.582449e+08                         7565.0   \n\n    tratamentos_odontologicos_val  \n0                            0.00  \n1                            0.00  \n2                            0.00  \n3                            0.00  \n4                            0.00  \n..                            ...  \n75                          59.38  \n76                        8847.73  \n77                         414.32  \n78                        4584.41  \n79                         950.21  \n\n[80 rows x 116 columns]",
      "text/html": "<div>\n<style scoped>\n    .dataframe tbody tr th:only-of-type {\n        vertical-align: middle;\n    }\n\n    .dataframe tbody tr th {\n        vertical-align: top;\n    }\n\n    .dataframe thead th {\n        text-align: right;\n    }\n</style>\n<table border=\"1\" class=\"dataframe\">\n  <thead>\n    <tr style=\"text-align: right;\">\n      <th></th>\n      <th>ano</th>\n      <th>regiao_nome</th>\n      <th>procedimentos_com_finalidade_diagnostica_qtd</th>\n      <th>procedimentos_com_finalidade_diagnostica_val</th>\n      <th>procedimentos_clinicos_qtd</th>\n      <th>procedimentos_clinicos_val</th>\n      <th>procedimentos_cirurgicos_qtd</th>\n      <th>procedimentos_cirurgicos_val</th>\n      <th>transplantes_de_orgaos_tecidos_e_celulas_qtd</th>\n      <th>transplantes_de_orgaos_tecidos_e_celulas_val</th>\n      <th>...</th>\n      <th>medicamentos_de_ambito_hospitalar_e_urgencia_qtd</th>\n      <th>medicamentos_de_ambito_hospitalar_e_urgencia_val</th>\n      <th>orteses_proteses_e_materiais_especiais_relacionados_ao_ato_cirurgico_qtd</th>\n      <th>orteses_proteses_e_materiais_especiais_relacionados_ao_ato_cirurgico_val</th>\n      <th>acoes_relacionadas_ao_estabelecimento_qtd</th>\n      <th>acoes_relacionadas_ao_estabelecimento_val</th>\n      <th>acoes_relacionadas_ao_atendimento_qtd</th>\n      <th>acoes_relacionadas_ao_atendimento_val</th>\n      <th>tratamentos_odontologicos_qtd</th>\n      <th>tratamentos_odontologicos_val</th>\n    </tr>\n  </thead>\n  <tbody>\n    <tr>\n      <th>0</th>\n      <td>2008</td>\n      <td>CENTRO-OESTE</td>\n      <td>430820</td>\n      <td>1.028925e+06</td>\n      <td>338962</td>\n      <td>2.221484e+07</td>\n      <td>23800</td>\n      <td>1.370143e+07</td>\n      <td>376</td>\n      <td>6.610510e+05</td>\n      <td>...</td>\n      <td>3852</td>\n      <td>159259.62</td>\n      <td>5745</td>\n      <td>3.737570e+06</td>\n      <td>5508</td>\n      <td>169430.00</td>\n      <td>112713</td>\n      <td>7.939033e+06</td>\n      <td>0.0</td>\n      <td>0.00</td>\n    </tr>\n    <tr>\n      <th>1</th>\n      <td>2008</td>\n      <td>NORDESTE</td>\n      <td>1058745</td>\n      <td>2.674956e+06</td>\n      <td>897944</td>\n      <td>7.948262e+07</td>\n      <td>91173</td>\n      <td>5.231219e+07</td>\n      <td>649</td>\n      <td>2.094081e+06</td>\n      <td>...</td>\n      <td>10266</td>\n      <td>451019.39</td>\n      <td>21123</td>\n      <td>1.071472e+07</td>\n      <td>14411</td>\n      <td>488450.00</td>\n      <td>459683</td>\n      <td>1.952243e+07</td>\n      <td>0.0</td>\n      <td>0.00</td>\n    </tr>\n    <tr>\n      <th>2</th>\n      <td>2008</td>\n      <td>NORTE</td>\n      <td>314805</td>\n      <td>5.945984e+05</td>\n      <td>201858</td>\n      <td>2.029752e+07</td>\n      <td>25923</td>\n      <td>1.217338e+07</td>\n      <td>26</td>\n      <td>3.569991e+04</td>\n      <td>...</td>\n      <td>1854</td>\n      <td>103677.09</td>\n      <td>2441</td>\n      <td>1.526927e+06</td>\n      <td>4773</td>\n      <td>161395.75</td>\n      <td>114180</td>\n      <td>4.430414e+06</td>\n      <td>0.0</td>\n      <td>0.00</td>\n    </tr>\n    <tr>\n      <th>3</th>\n      <td>2008</td>\n      <td>SUDESTE</td>\n      <td>3107779</td>\n      <td>8.126995e+06</td>\n      <td>2176599</td>\n      <td>1.144507e+08</td>\n      <td>143983</td>\n      <td>8.084442e+07</td>\n      <td>2969</td>\n      <td>8.434294e+06</td>\n      <td>...</td>\n      <td>30272</td>\n      <td>1608037.77</td>\n      <td>47294</td>\n      <td>3.016053e+07</td>\n      <td>28983</td>\n      <td>837194.25</td>\n      <td>647311</td>\n      <td>4.920992e+07</td>\n      <td>0.0</td>\n      <td>0.00</td>\n    </tr>\n    <tr>\n      <th>4</th>\n      <td>2008</td>\n      <td>SUL</td>\n      <td>1222622</td>\n      <td>4.898049e+06</td>\n      <td>962185</td>\n      <td>4.486271e+07</td>\n      <td>61571</td>\n      <td>3.826789e+07</td>\n      <td>1349</td>\n      <td>4.355560e+06</td>\n      <td>...</td>\n      <td>24575</td>\n      <td>690089.86</td>\n      <td>37723</td>\n      <td>1.948509e+07</td>\n      <td>12469</td>\n      <td>397960.00</td>\n      <td>298965</td>\n      <td>2.335778e+07</td>\n      <td>0.0</td>\n      <td>0.00</td>\n    </tr>\n    <tr>\n      <th>...</th>\n      <td>...</td>\n      <td>...</td>\n      <td>...</td>\n      <td>...</td>\n      <td>...</td>\n      <td>...</td>\n      <td>...</td>\n      <td>...</td>\n      <td>...</td>\n      <td>...</td>\n      <td>...</td>\n      <td>...</td>\n      <td>...</td>\n      <td>...</td>\n      <td>...</td>\n      <td>...</td>\n      <td>...</td>\n      <td>...</td>\n      <td>...</td>\n      <td>...</td>\n      <td>...</td>\n    </tr>\n    <tr>\n      <th>75</th>\n      <td>2023</td>\n      <td>CENTRO-OESTE</td>\n      <td>11386858</td>\n      <td>4.517653e+07</td>\n      <td>7376355</td>\n      <td>1.878710e+08</td>\n      <td>543521</td>\n      <td>2.985622e+08</td>\n      <td>11299</td>\n      <td>1.942420e+07</td>\n      <td>...</td>\n      <td>94715</td>\n      <td>2902909.66</td>\n      <td>162174</td>\n      <td>8.065437e+07</td>\n      <td>25484</td>\n      <td>387272.25</td>\n      <td>2215200</td>\n      <td>2.664831e+08</td>\n      <td>6577.0</td>\n      <td>59.38</td>\n    </tr>\n    <tr>\n      <th>76</th>\n      <td>2023</td>\n      <td>NORDESTE</td>\n      <td>23935073</td>\n      <td>1.059644e+08</td>\n      <td>23204727</td>\n      <td>6.581306e+08</td>\n      <td>1715977</td>\n      <td>1.058790e+09</td>\n      <td>49000</td>\n      <td>7.480360e+07</td>\n      <td>...</td>\n      <td>302814</td>\n      <td>9536559.02</td>\n      <td>365255</td>\n      <td>1.817083e+08</td>\n      <td>57939</td>\n      <td>1144010.00</td>\n      <td>8083301</td>\n      <td>7.683858e+08</td>\n      <td>3703.0</td>\n      <td>8847.73</td>\n    </tr>\n    <tr>\n      <th>77</th>\n      <td>2023</td>\n      <td>NORTE</td>\n      <td>5925260</td>\n      <td>2.227182e+07</td>\n      <td>5389148</td>\n      <td>1.756974e+08</td>\n      <td>696186</td>\n      <td>2.511439e+08</td>\n      <td>3884</td>\n      <td>4.795599e+06</td>\n      <td>...</td>\n      <td>44389</td>\n      <td>2060983.33</td>\n      <td>71436</td>\n      <td>2.966659e+07</td>\n      <td>12603</td>\n      <td>271405.00</td>\n      <td>2225863</td>\n      <td>1.951034e+08</td>\n      <td>2503.0</td>\n      <td>414.32</td>\n    </tr>\n    <tr>\n      <th>78</th>\n      <td>2023</td>\n      <td>SUDESTE</td>\n      <td>63937302</td>\n      <td>2.902799e+08</td>\n      <td>41578560</td>\n      <td>1.079839e+09</td>\n      <td>3263385</td>\n      <td>1.670540e+09</td>\n      <td>154438</td>\n      <td>2.385364e+08</td>\n      <td>...</td>\n      <td>933525</td>\n      <td>35599451.78</td>\n      <td>899339</td>\n      <td>4.567783e+08</td>\n      <td>134724</td>\n      <td>2846549.50</td>\n      <td>10394464</td>\n      <td>1.631718e+09</td>\n      <td>16428.0</td>\n      <td>4584.41</td>\n    </tr>\n    <tr>\n      <th>79</th>\n      <td>2023</td>\n      <td>SUL</td>\n      <td>23445668</td>\n      <td>1.610729e+08</td>\n      <td>14046659</td>\n      <td>4.724161e+08</td>\n      <td>1374410</td>\n      <td>8.348919e+08</td>\n      <td>64780</td>\n      <td>1.193155e+08</td>\n      <td>...</td>\n      <td>385364</td>\n      <td>12124802.36</td>\n      <td>468669</td>\n      <td>2.617210e+08</td>\n      <td>51825</td>\n      <td>1396569.00</td>\n      <td>4484423</td>\n      <td>6.582449e+08</td>\n      <td>7565.0</td>\n      <td>950.21</td>\n    </tr>\n  </tbody>\n</table>\n<p>80 rows × 116 columns</p>\n</div>"
     },
     "execution_count": 217,
     "metadata": {},
     "output_type": "execute_result"
    }
   ],
   "source": [
    "df_datasus_agrupado_ano_regiao.head(100)"
   ],
   "metadata": {
    "collapsed": false,
    "ExecuteTime": {
     "end_time": "2024-03-04T21:29:26.699979278Z",
     "start_time": "2024-03-04T21:29:26.662557387Z"
    }
   },
   "id": "122549a34fe5d819",
   "execution_count": 217
  },
  {
   "cell_type": "code",
   "outputs": [],
   "source": [
    "df_datasus_agrupado_ano_regiao['quantidade_procedimentos_total'] = df_datasus_agrupado_ano_regiao[df_datasus_qtd.columns].agg(['sum'], axis=1)\n",
    "df_datasus_agrupado_ano_regiao['valor_procedimentos_total'] = df_datasus_agrupado_ano_regiao[df_datasus_val.columns].agg(['sum'], axis=1)\n"
   ],
   "metadata": {
    "collapsed": false,
    "ExecuteTime": {
     "end_time": "2024-03-04T23:47:53.819694230Z",
     "start_time": "2024-03-04T23:47:53.675596953Z"
    }
   },
   "id": "fa9265a7fc7a4da0",
   "execution_count": 246
  },
  {
   "cell_type": "code",
   "outputs": [
    {
     "data": {
      "text/plain": "     ano   regiao_nome  quantidade_procedimentos_total  \\\n0   2008  CENTRO-OESTE                       1843552.0   \n1   2008      NORDESTE                       5107988.0   \n2   2008         NORTE                       1331720.0   \n3   2008       SUDESTE                      12370380.0   \n4   2008           SUL                       5242918.0   \n..   ...           ...                             ...   \n75  2023  CENTRO-OESTE                      43631212.0   \n76  2023      NORDESTE                     115428172.0   \n77  2023         NORTE                      28737538.0   \n78  2023       SUDESTE                     242591474.0   \n79  2023           SUL                      88643596.0   \n\n    valor_procedimentos_total  \n0                9.890507e+07  \n1                3.341576e+08  \n2                7.822171e+07  \n3                5.856132e+08  \n4                2.720922e+08  \n..                        ...  \n75               1.799419e+09  \n76               5.704678e+09  \n77               1.357408e+09  \n78               1.079471e+10  \n79               5.034837e+09  \n\n[80 rows x 4 columns]",
      "text/html": "<div>\n<style scoped>\n    .dataframe tbody tr th:only-of-type {\n        vertical-align: middle;\n    }\n\n    .dataframe tbody tr th {\n        vertical-align: top;\n    }\n\n    .dataframe thead th {\n        text-align: right;\n    }\n</style>\n<table border=\"1\" class=\"dataframe\">\n  <thead>\n    <tr style=\"text-align: right;\">\n      <th></th>\n      <th>ano</th>\n      <th>regiao_nome</th>\n      <th>quantidade_procedimentos_total</th>\n      <th>valor_procedimentos_total</th>\n    </tr>\n  </thead>\n  <tbody>\n    <tr>\n      <th>0</th>\n      <td>2008</td>\n      <td>CENTRO-OESTE</td>\n      <td>1843552.0</td>\n      <td>9.890507e+07</td>\n    </tr>\n    <tr>\n      <th>1</th>\n      <td>2008</td>\n      <td>NORDESTE</td>\n      <td>5107988.0</td>\n      <td>3.341576e+08</td>\n    </tr>\n    <tr>\n      <th>2</th>\n      <td>2008</td>\n      <td>NORTE</td>\n      <td>1331720.0</td>\n      <td>7.822171e+07</td>\n    </tr>\n    <tr>\n      <th>3</th>\n      <td>2008</td>\n      <td>SUDESTE</td>\n      <td>12370380.0</td>\n      <td>5.856132e+08</td>\n    </tr>\n    <tr>\n      <th>4</th>\n      <td>2008</td>\n      <td>SUL</td>\n      <td>5242918.0</td>\n      <td>2.720922e+08</td>\n    </tr>\n    <tr>\n      <th>...</th>\n      <td>...</td>\n      <td>...</td>\n      <td>...</td>\n      <td>...</td>\n    </tr>\n    <tr>\n      <th>75</th>\n      <td>2023</td>\n      <td>CENTRO-OESTE</td>\n      <td>43631212.0</td>\n      <td>1.799419e+09</td>\n    </tr>\n    <tr>\n      <th>76</th>\n      <td>2023</td>\n      <td>NORDESTE</td>\n      <td>115428172.0</td>\n      <td>5.704678e+09</td>\n    </tr>\n    <tr>\n      <th>77</th>\n      <td>2023</td>\n      <td>NORTE</td>\n      <td>28737538.0</td>\n      <td>1.357408e+09</td>\n    </tr>\n    <tr>\n      <th>78</th>\n      <td>2023</td>\n      <td>SUDESTE</td>\n      <td>242591474.0</td>\n      <td>1.079471e+10</td>\n    </tr>\n    <tr>\n      <th>79</th>\n      <td>2023</td>\n      <td>SUL</td>\n      <td>88643596.0</td>\n      <td>5.034837e+09</td>\n    </tr>\n  </tbody>\n</table>\n<p>80 rows × 4 columns</p>\n</div>"
     },
     "execution_count": 247,
     "metadata": {},
     "output_type": "execute_result"
    }
   ],
   "source": [
    "df_datasus_agrupado_ano_regiao.loc[:, ['ano', 'regiao_nome', 'quantidade_procedimentos_total', 'valor_procedimentos_total']]"
   ],
   "metadata": {
    "collapsed": false,
    "ExecuteTime": {
     "end_time": "2024-03-04T23:47:54.284126924Z",
     "start_time": "2024-03-04T23:47:54.245713340Z"
    }
   },
   "id": "6d1470b5277cafb3",
   "execution_count": 247
  },
  {
   "cell_type": "code",
   "outputs": [],
   "source": [
    "df_datasus_agrupado_ano_regiao.set_index('ano', inplace=True)"
   ],
   "metadata": {
    "collapsed": false,
    "ExecuteTime": {
     "end_time": "2024-03-04T23:49:40.104311116Z",
     "start_time": "2024-03-04T23:49:40.057137379Z"
    }
   },
   "id": "9d79c45e8a703fba",
   "execution_count": 253
  },
  {
   "cell_type": "code",
   "outputs": [],
   "source": [
    "from plotly.subplots import make_subplots\n",
    "import plotly.graph_objects as go"
   ],
   "metadata": {
    "collapsed": false,
    "ExecuteTime": {
     "end_time": "2024-03-04T23:49:41.203211308Z",
     "start_time": "2024-03-04T23:49:41.168064327Z"
    }
   },
   "id": "99e1e023a07ae235",
   "execution_count": 254
  },
  {
   "cell_type": "code",
   "outputs": [],
   "source": [],
   "metadata": {
    "collapsed": false,
    "ExecuteTime": {
     "end_time": "2024-03-04T23:49:41.835482181Z",
     "start_time": "2024-03-04T23:49:41.803580289Z"
    }
   },
   "id": "9e636d5bf7d3aaa0",
   "execution_count": 254
  },
  {
   "cell_type": "code",
   "outputs": [
    {
     "data": {
      "application/vnd.plotly.v1+json": {
       "data": [
        {
         "name": "Quantidade Procedimentos Total",
         "x": [
          2008,
          2008,
          2008,
          2008,
          2008,
          2009,
          2009,
          2009,
          2009,
          2009,
          2010,
          2010,
          2010,
          2010,
          2010,
          2011,
          2011,
          2011,
          2011,
          2011,
          2012,
          2012,
          2012,
          2012,
          2012,
          2013,
          2013,
          2013,
          2013,
          2013,
          2014,
          2014,
          2014,
          2014,
          2014,
          2015,
          2015,
          2015,
          2015,
          2015,
          2016,
          2016,
          2016,
          2016,
          2016,
          2017,
          2017,
          2017,
          2017,
          2017,
          2018,
          2018,
          2018,
          2018,
          2018,
          2019,
          2019,
          2019,
          2019,
          2019,
          2020,
          2020,
          2020,
          2020,
          2020,
          2021,
          2021,
          2021,
          2021,
          2021,
          2022,
          2022,
          2022,
          2022,
          2022,
          2023,
          2023,
          2023,
          2023,
          2023
         ],
         "y": [
          1843552.0,
          5107988.0,
          1331720.0,
          1.237038E7,
          5242918.0,
          4205084.0,
          1.1949238E7,
          3355022.0,
          3.13063E7,
          1.2300514E7,
          4476352.0,
          1.2505904E7,
          3605866.0,
          3.458031E7,
          1.3321464E7,
          4924492.0,
          1.4599666E7,
          3907800.0,
          4.0220112E7,
          1.4522882E7,
          4888910.0,
          1.5422272E7,
          3735402.0,
          4.1071694E7,
          1.5108714E7,
          5230554.0,
          1.6349272E7,
          4190228.0,
          4.3119402E7,
          1.5756258E7,
          2781522.0,
          8295766.0,
          2140242.0,
          2.170023E7,
          8226634.0,
          3126424.0,
          9281522.0,
          2435746.0,
          2.3541516E7,
          8922818.0,
          3941008.0,
          1.0712032E7,
          2693712.0,
          2.5664238E7,
          9608096.0,
          3600882.0,
          1.113138E7,
          2913648.0,
          2.4931214E7,
          9647142.0,
          8533576.0,
          2.3474656E7,
          6241312.0,
          5.3348744E7,
          2.0052694E7,
          1.3580448E7,
          3.7885196E7,
          1.016115E7,
          8.4714544E7,
          3.2967912E7,
          9656196.0,
          2.5028042E7,
          6847096.0,
          5.5252376E7,
          2.0993322E7,
          1.3124514E7,
          3.3782524E7,
          8632502.0,
          7.1044956E7,
          2.6631242E7,
          1.1737186E7,
          3.0225922E7,
          8135824.0,
          6.5578544E7,
          2.4536916E7,
          4.3631212E7,
          1.15428172E8,
          2.8737538E7,
          2.42591474E8,
          8.8643596E7
         ],
         "type": "bar",
         "xaxis": "x",
         "yaxis": "y"
        },
        {
         "name": "Valores Procedimentos Total",
         "x": [
          2008,
          2008,
          2008,
          2008,
          2008,
          2009,
          2009,
          2009,
          2009,
          2009,
          2010,
          2010,
          2010,
          2010,
          2010,
          2011,
          2011,
          2011,
          2011,
          2011,
          2012,
          2012,
          2012,
          2012,
          2012,
          2013,
          2013,
          2013,
          2013,
          2013,
          2014,
          2014,
          2014,
          2014,
          2014,
          2015,
          2015,
          2015,
          2015,
          2015,
          2016,
          2016,
          2016,
          2016,
          2016,
          2017,
          2017,
          2017,
          2017,
          2017,
          2018,
          2018,
          2018,
          2018,
          2018,
          2019,
          2019,
          2019,
          2019,
          2019,
          2020,
          2020,
          2020,
          2020,
          2020,
          2021,
          2021,
          2021,
          2021,
          2021,
          2022,
          2022,
          2022,
          2022,
          2022,
          2023,
          2023,
          2023,
          2023,
          2023
         ],
         "y": [
          9.890506995999998E7,
          3.3415757257E8,
          7.822171156E7,
          5.856132398800001E8,
          2.7209220757E8,
          2.3923851881E8,
          7.9670977494E8,
          2.0034014285E8,
          1.51112104069E9,
          6.645415276800001E8,
          2.5390998256999996E8,
          8.1263850556E8,
          2.1305987073000002E8,
          1.60634961498E9,
          7.098598021E8,
          2.6542564131999996E8,
          8.642628574900001E8,
          2.1861329813E8,
          1.7378030548700001E9,
          7.5195969361E8,
          2.7528925743E8,
          8.7945453823E8,
          2.1381676564999998E8,
          1.7604984275200002E9,
          7.8245271214E8,
          2.9935396577E8,
          9.669385786399999E8,
          2.3360881073000002E8,
          1.85341937965E9,
          8.5676670497E8,
          1.4826931392E8,
          4.9757523913E8,
          1.1415963000999999E8,
          9.524179179699999E8,
          4.3233421441E8,
          1.6142904407E8,
          5.1690060135999995E8,
          1.2753868881E8,
          1.0056359591800001E9,
          4.684946694800001E8,
          1.7654124307999998E8,
          5.8102091369E8,
          1.3337526714000002E8,
          1.04561059362E9,
          5.1959040738E8,
          1.6171056848E8,
          5.818270256700001E8,
          1.3239214866999999E8,
          1.0237037783600001E9,
          5.1643015870000005E8,
          3.5428125344E8,
          1.1916183085800002E9,
          2.8049154184E8,
          2.1772272079700003E9,
          1.08863287096E9,
          5.439660285699999E8,
          1.8756591983700004E9,
          4.4353760298E8,
          3.4459400427400002E9,
          1.73266891139E9,
          3.6260717981E8,
          1.20500505282E9,
          3.0261789645E8,
          2.22827770337E9,
          1.11725573444E9,
          6.423721995500001E8,
          1.97257507416E9,
          4.2755778865999997E8,
          3.52718517782E9,
          1.62945058006E9,
          4.459591104E8,
          1.43609192972E9,
          3.6324387355E8,
          2.7258336167900004E9,
          1.2997296604899998E9,
          1.7994193932800002E9,
          5.704678074139999E9,
          1.3574081421399999E9,
          1.079471457364E10,
          5.034836593929999E9
         ],
         "type": "bar",
         "xaxis": "x2",
         "yaxis": "y2"
        }
       ],
       "layout": {
        "template": {
         "data": {
          "barpolar": [
           {
            "marker": {
             "line": {
              "color": "white",
              "width": 0.5
             },
             "pattern": {
              "fillmode": "overlay",
              "size": 10,
              "solidity": 0.2
             }
            },
            "type": "barpolar"
           }
          ],
          "bar": [
           {
            "error_x": {
             "color": "#2a3f5f"
            },
            "error_y": {
             "color": "#2a3f5f"
            },
            "marker": {
             "line": {
              "color": "white",
              "width": 0.5
             },
             "pattern": {
              "fillmode": "overlay",
              "size": 10,
              "solidity": 0.2
             }
            },
            "type": "bar"
           }
          ],
          "carpet": [
           {
            "aaxis": {
             "endlinecolor": "#2a3f5f",
             "gridcolor": "#C8D4E3",
             "linecolor": "#C8D4E3",
             "minorgridcolor": "#C8D4E3",
             "startlinecolor": "#2a3f5f"
            },
            "baxis": {
             "endlinecolor": "#2a3f5f",
             "gridcolor": "#C8D4E3",
             "linecolor": "#C8D4E3",
             "minorgridcolor": "#C8D4E3",
             "startlinecolor": "#2a3f5f"
            },
            "type": "carpet"
           }
          ],
          "choropleth": [
           {
            "colorbar": {
             "outlinewidth": 0,
             "ticks": ""
            },
            "type": "choropleth"
           }
          ],
          "contourcarpet": [
           {
            "colorbar": {
             "outlinewidth": 0,
             "ticks": ""
            },
            "type": "contourcarpet"
           }
          ],
          "contour": [
           {
            "colorbar": {
             "outlinewidth": 0,
             "ticks": ""
            },
            "colorscale": [
             [
              0.0,
              "#0d0887"
             ],
             [
              0.1111111111111111,
              "#46039f"
             ],
             [
              0.2222222222222222,
              "#7201a8"
             ],
             [
              0.3333333333333333,
              "#9c179e"
             ],
             [
              0.4444444444444444,
              "#bd3786"
             ],
             [
              0.5555555555555556,
              "#d8576b"
             ],
             [
              0.6666666666666666,
              "#ed7953"
             ],
             [
              0.7777777777777778,
              "#fb9f3a"
             ],
             [
              0.8888888888888888,
              "#fdca26"
             ],
             [
              1.0,
              "#f0f921"
             ]
            ],
            "type": "contour"
           }
          ],
          "heatmapgl": [
           {
            "colorbar": {
             "outlinewidth": 0,
             "ticks": ""
            },
            "colorscale": [
             [
              0.0,
              "#0d0887"
             ],
             [
              0.1111111111111111,
              "#46039f"
             ],
             [
              0.2222222222222222,
              "#7201a8"
             ],
             [
              0.3333333333333333,
              "#9c179e"
             ],
             [
              0.4444444444444444,
              "#bd3786"
             ],
             [
              0.5555555555555556,
              "#d8576b"
             ],
             [
              0.6666666666666666,
              "#ed7953"
             ],
             [
              0.7777777777777778,
              "#fb9f3a"
             ],
             [
              0.8888888888888888,
              "#fdca26"
             ],
             [
              1.0,
              "#f0f921"
             ]
            ],
            "type": "heatmapgl"
           }
          ],
          "heatmap": [
           {
            "colorbar": {
             "outlinewidth": 0,
             "ticks": ""
            },
            "colorscale": [
             [
              0.0,
              "#0d0887"
             ],
             [
              0.1111111111111111,
              "#46039f"
             ],
             [
              0.2222222222222222,
              "#7201a8"
             ],
             [
              0.3333333333333333,
              "#9c179e"
             ],
             [
              0.4444444444444444,
              "#bd3786"
             ],
             [
              0.5555555555555556,
              "#d8576b"
             ],
             [
              0.6666666666666666,
              "#ed7953"
             ],
             [
              0.7777777777777778,
              "#fb9f3a"
             ],
             [
              0.8888888888888888,
              "#fdca26"
             ],
             [
              1.0,
              "#f0f921"
             ]
            ],
            "type": "heatmap"
           }
          ],
          "histogram2dcontour": [
           {
            "colorbar": {
             "outlinewidth": 0,
             "ticks": ""
            },
            "colorscale": [
             [
              0.0,
              "#0d0887"
             ],
             [
              0.1111111111111111,
              "#46039f"
             ],
             [
              0.2222222222222222,
              "#7201a8"
             ],
             [
              0.3333333333333333,
              "#9c179e"
             ],
             [
              0.4444444444444444,
              "#bd3786"
             ],
             [
              0.5555555555555556,
              "#d8576b"
             ],
             [
              0.6666666666666666,
              "#ed7953"
             ],
             [
              0.7777777777777778,
              "#fb9f3a"
             ],
             [
              0.8888888888888888,
              "#fdca26"
             ],
             [
              1.0,
              "#f0f921"
             ]
            ],
            "type": "histogram2dcontour"
           }
          ],
          "histogram2d": [
           {
            "colorbar": {
             "outlinewidth": 0,
             "ticks": ""
            },
            "colorscale": [
             [
              0.0,
              "#0d0887"
             ],
             [
              0.1111111111111111,
              "#46039f"
             ],
             [
              0.2222222222222222,
              "#7201a8"
             ],
             [
              0.3333333333333333,
              "#9c179e"
             ],
             [
              0.4444444444444444,
              "#bd3786"
             ],
             [
              0.5555555555555556,
              "#d8576b"
             ],
             [
              0.6666666666666666,
              "#ed7953"
             ],
             [
              0.7777777777777778,
              "#fb9f3a"
             ],
             [
              0.8888888888888888,
              "#fdca26"
             ],
             [
              1.0,
              "#f0f921"
             ]
            ],
            "type": "histogram2d"
           }
          ],
          "histogram": [
           {
            "marker": {
             "pattern": {
              "fillmode": "overlay",
              "size": 10,
              "solidity": 0.2
             }
            },
            "type": "histogram"
           }
          ],
          "mesh3d": [
           {
            "colorbar": {
             "outlinewidth": 0,
             "ticks": ""
            },
            "type": "mesh3d"
           }
          ],
          "parcoords": [
           {
            "line": {
             "colorbar": {
              "outlinewidth": 0,
              "ticks": ""
             }
            },
            "type": "parcoords"
           }
          ],
          "pie": [
           {
            "automargin": true,
            "type": "pie"
           }
          ],
          "scatter3d": [
           {
            "line": {
             "colorbar": {
              "outlinewidth": 0,
              "ticks": ""
             }
            },
            "marker": {
             "colorbar": {
              "outlinewidth": 0,
              "ticks": ""
             }
            },
            "type": "scatter3d"
           }
          ],
          "scattercarpet": [
           {
            "marker": {
             "colorbar": {
              "outlinewidth": 0,
              "ticks": ""
             }
            },
            "type": "scattercarpet"
           }
          ],
          "scattergeo": [
           {
            "marker": {
             "colorbar": {
              "outlinewidth": 0,
              "ticks": ""
             }
            },
            "type": "scattergeo"
           }
          ],
          "scattergl": [
           {
            "marker": {
             "colorbar": {
              "outlinewidth": 0,
              "ticks": ""
             }
            },
            "type": "scattergl"
           }
          ],
          "scattermapbox": [
           {
            "marker": {
             "colorbar": {
              "outlinewidth": 0,
              "ticks": ""
             }
            },
            "type": "scattermapbox"
           }
          ],
          "scatterpolargl": [
           {
            "marker": {
             "colorbar": {
              "outlinewidth": 0,
              "ticks": ""
             }
            },
            "type": "scatterpolargl"
           }
          ],
          "scatterpolar": [
           {
            "marker": {
             "colorbar": {
              "outlinewidth": 0,
              "ticks": ""
             }
            },
            "type": "scatterpolar"
           }
          ],
          "scatter": [
           {
            "fillpattern": {
             "fillmode": "overlay",
             "size": 10,
             "solidity": 0.2
            },
            "type": "scatter"
           }
          ],
          "scatterternary": [
           {
            "marker": {
             "colorbar": {
              "outlinewidth": 0,
              "ticks": ""
             }
            },
            "type": "scatterternary"
           }
          ],
          "surface": [
           {
            "colorbar": {
             "outlinewidth": 0,
             "ticks": ""
            },
            "colorscale": [
             [
              0.0,
              "#0d0887"
             ],
             [
              0.1111111111111111,
              "#46039f"
             ],
             [
              0.2222222222222222,
              "#7201a8"
             ],
             [
              0.3333333333333333,
              "#9c179e"
             ],
             [
              0.4444444444444444,
              "#bd3786"
             ],
             [
              0.5555555555555556,
              "#d8576b"
             ],
             [
              0.6666666666666666,
              "#ed7953"
             ],
             [
              0.7777777777777778,
              "#fb9f3a"
             ],
             [
              0.8888888888888888,
              "#fdca26"
             ],
             [
              1.0,
              "#f0f921"
             ]
            ],
            "type": "surface"
           }
          ],
          "table": [
           {
            "cells": {
             "fill": {
              "color": "#EBF0F8"
             },
             "line": {
              "color": "white"
             }
            },
            "header": {
             "fill": {
              "color": "#C8D4E3"
             },
             "line": {
              "color": "white"
             }
            },
            "type": "table"
           }
          ]
         },
         "layout": {
          "annotationdefaults": {
           "arrowcolor": "#2a3f5f",
           "arrowhead": 0,
           "arrowwidth": 1
          },
          "autotypenumbers": "strict",
          "coloraxis": {
           "colorbar": {
            "outlinewidth": 0,
            "ticks": ""
           }
          },
          "colorscale": {
           "diverging": [
            [
             0,
             "#8e0152"
            ],
            [
             0.1,
             "#c51b7d"
            ],
            [
             0.2,
             "#de77ae"
            ],
            [
             0.3,
             "#f1b6da"
            ],
            [
             0.4,
             "#fde0ef"
            ],
            [
             0.5,
             "#f7f7f7"
            ],
            [
             0.6,
             "#e6f5d0"
            ],
            [
             0.7,
             "#b8e186"
            ],
            [
             0.8,
             "#7fbc41"
            ],
            [
             0.9,
             "#4d9221"
            ],
            [
             1,
             "#276419"
            ]
           ],
           "sequential": [
            [
             0.0,
             "#0d0887"
            ],
            [
             0.1111111111111111,
             "#46039f"
            ],
            [
             0.2222222222222222,
             "#7201a8"
            ],
            [
             0.3333333333333333,
             "#9c179e"
            ],
            [
             0.4444444444444444,
             "#bd3786"
            ],
            [
             0.5555555555555556,
             "#d8576b"
            ],
            [
             0.6666666666666666,
             "#ed7953"
            ],
            [
             0.7777777777777778,
             "#fb9f3a"
            ],
            [
             0.8888888888888888,
             "#fdca26"
            ],
            [
             1.0,
             "#f0f921"
            ]
           ],
           "sequentialminus": [
            [
             0.0,
             "#0d0887"
            ],
            [
             0.1111111111111111,
             "#46039f"
            ],
            [
             0.2222222222222222,
             "#7201a8"
            ],
            [
             0.3333333333333333,
             "#9c179e"
            ],
            [
             0.4444444444444444,
             "#bd3786"
            ],
            [
             0.5555555555555556,
             "#d8576b"
            ],
            [
             0.6666666666666666,
             "#ed7953"
            ],
            [
             0.7777777777777778,
             "#fb9f3a"
            ],
            [
             0.8888888888888888,
             "#fdca26"
            ],
            [
             1.0,
             "#f0f921"
            ]
           ]
          },
          "colorway": [
           "#636efa",
           "#EF553B",
           "#00cc96",
           "#ab63fa",
           "#FFA15A",
           "#19d3f3",
           "#FF6692",
           "#B6E880",
           "#FF97FF",
           "#FECB52"
          ],
          "font": {
           "color": "#2a3f5f"
          },
          "geo": {
           "bgcolor": "white",
           "lakecolor": "white",
           "landcolor": "white",
           "showlakes": true,
           "showland": true,
           "subunitcolor": "#C8D4E3"
          },
          "hoverlabel": {
           "align": "left"
          },
          "hovermode": "closest",
          "mapbox": {
           "style": "light"
          },
          "paper_bgcolor": "white",
          "plot_bgcolor": "white",
          "polar": {
           "angularaxis": {
            "gridcolor": "#EBF0F8",
            "linecolor": "#EBF0F8",
            "ticks": ""
           },
           "bgcolor": "white",
           "radialaxis": {
            "gridcolor": "#EBF0F8",
            "linecolor": "#EBF0F8",
            "ticks": ""
           }
          },
          "scene": {
           "xaxis": {
            "backgroundcolor": "white",
            "gridcolor": "#DFE8F3",
            "gridwidth": 2,
            "linecolor": "#EBF0F8",
            "showbackground": true,
            "ticks": "",
            "zerolinecolor": "#EBF0F8"
           },
           "yaxis": {
            "backgroundcolor": "white",
            "gridcolor": "#DFE8F3",
            "gridwidth": 2,
            "linecolor": "#EBF0F8",
            "showbackground": true,
            "ticks": "",
            "zerolinecolor": "#EBF0F8"
           },
           "zaxis": {
            "backgroundcolor": "white",
            "gridcolor": "#DFE8F3",
            "gridwidth": 2,
            "linecolor": "#EBF0F8",
            "showbackground": true,
            "ticks": "",
            "zerolinecolor": "#EBF0F8"
           }
          },
          "shapedefaults": {
           "line": {
            "color": "#2a3f5f"
           }
          },
          "ternary": {
           "aaxis": {
            "gridcolor": "#DFE8F3",
            "linecolor": "#A2B1C6",
            "ticks": ""
           },
           "baxis": {
            "gridcolor": "#DFE8F3",
            "linecolor": "#A2B1C6",
            "ticks": ""
           },
           "bgcolor": "white",
           "caxis": {
            "gridcolor": "#DFE8F3",
            "linecolor": "#A2B1C6",
            "ticks": ""
           }
          },
          "title": {
           "x": 0.05
          },
          "xaxis": {
           "automargin": true,
           "gridcolor": "#EBF0F8",
           "linecolor": "#EBF0F8",
           "ticks": "",
           "title": {
            "standoff": 15
           },
           "zerolinecolor": "#EBF0F8",
           "zerolinewidth": 2
          },
          "yaxis": {
           "automargin": true,
           "gridcolor": "#EBF0F8",
           "linecolor": "#EBF0F8",
           "ticks": "",
           "title": {
            "standoff": 15
           },
           "zerolinecolor": "#EBF0F8",
           "zerolinewidth": 2
          }
         }
        },
        "xaxis": {
         "anchor": "y",
         "domain": [
          0.0,
          1.0
         ],
         "matches": "x2",
         "showticklabels": false
        },
        "yaxis": {
         "anchor": "x",
         "domain": [
          0.575,
          1.0
         ],
         "title": {
          "text": "<b>Quantidade<br>Procedimentos"
         }
        },
        "xaxis2": {
         "anchor": "y2",
         "domain": [
          0.0,
          1.0
         ],
         "title": {
          "text": "<b>Ano"
         },
         "ticklabelmode": "period"
        },
        "yaxis2": {
         "anchor": "x2",
         "domain": [
          0.0,
          0.425
         ],
         "title": {
          "text": "<b>Valor<br>Procedimentos"
         }
        },
        "title": {
         "text": "Totais"
        }
       },
       "config": {
        "plotlyServerURL": "https://plot.ly"
       }
      },
      "text/html": "<div>                            <div id=\"77d5ada2-85de-4d5f-a146-a49040ce17d7\" class=\"plotly-graph-div\" style=\"height:525px; width:100%;\"></div>            <script type=\"text/javascript\">                require([\"plotly\"], function(Plotly) {                    window.PLOTLYENV=window.PLOTLYENV || {};                                    if (document.getElementById(\"77d5ada2-85de-4d5f-a146-a49040ce17d7\")) {                    Plotly.newPlot(                        \"77d5ada2-85de-4d5f-a146-a49040ce17d7\",                        [{\"name\":\"Quantidade Procedimentos Total\",\"x\":[2008,2008,2008,2008,2008,2009,2009,2009,2009,2009,2010,2010,2010,2010,2010,2011,2011,2011,2011,2011,2012,2012,2012,2012,2012,2013,2013,2013,2013,2013,2014,2014,2014,2014,2014,2015,2015,2015,2015,2015,2016,2016,2016,2016,2016,2017,2017,2017,2017,2017,2018,2018,2018,2018,2018,2019,2019,2019,2019,2019,2020,2020,2020,2020,2020,2021,2021,2021,2021,2021,2022,2022,2022,2022,2022,2023,2023,2023,2023,2023],\"y\":[1843552.0,5107988.0,1331720.0,12370380.0,5242918.0,4205084.0,11949238.0,3355022.0,31306300.0,12300514.0,4476352.0,12505904.0,3605866.0,34580310.0,13321464.0,4924492.0,14599666.0,3907800.0,40220112.0,14522882.0,4888910.0,15422272.0,3735402.0,41071694.0,15108714.0,5230554.0,16349272.0,4190228.0,43119402.0,15756258.0,2781522.0,8295766.0,2140242.0,21700230.0,8226634.0,3126424.0,9281522.0,2435746.0,23541516.0,8922818.0,3941008.0,10712032.0,2693712.0,25664238.0,9608096.0,3600882.0,11131380.0,2913648.0,24931214.0,9647142.0,8533576.0,23474656.0,6241312.0,53348744.0,20052694.0,13580448.0,37885196.0,10161150.0,84714544.0,32967912.0,9656196.0,25028042.0,6847096.0,55252376.0,20993322.0,13124514.0,33782524.0,8632502.0,71044956.0,26631242.0,11737186.0,30225922.0,8135824.0,65578544.0,24536916.0,43631212.0,115428172.0,28737538.0,242591474.0,88643596.0],\"type\":\"bar\",\"xaxis\":\"x\",\"yaxis\":\"y\"},{\"name\":\"Valores Procedimentos Total\",\"x\":[2008,2008,2008,2008,2008,2009,2009,2009,2009,2009,2010,2010,2010,2010,2010,2011,2011,2011,2011,2011,2012,2012,2012,2012,2012,2013,2013,2013,2013,2013,2014,2014,2014,2014,2014,2015,2015,2015,2015,2015,2016,2016,2016,2016,2016,2017,2017,2017,2017,2017,2018,2018,2018,2018,2018,2019,2019,2019,2019,2019,2020,2020,2020,2020,2020,2021,2021,2021,2021,2021,2022,2022,2022,2022,2022,2023,2023,2023,2023,2023],\"y\":[98905069.95999998,334157572.57,78221711.56,585613239.8800001,272092207.57,239238518.81,796709774.94,200340142.85,1511121040.69,664541527.6800001,253909982.56999996,812638505.56,213059870.73000002,1606349614.98,709859802.1,265425641.31999996,864262857.4900001,218613298.13,1737803054.8700001,751959693.61,275289257.43,879454538.23,213816765.64999998,1760498427.5200002,782452712.14,299353965.77,966938578.6399999,233608810.73000002,1853419379.65,856766704.97,148269313.92,497575239.13,114159630.00999999,952417917.9699999,432334214.41,161429044.07,516900601.35999995,127538688.81,1005635959.1800001,468494669.4800001,176541243.07999998,581020913.69,133375267.14000002,1045610593.62,519590407.38,161710568.48,581827025.6700001,132392148.66999999,1023703778.3600001,516430158.70000005,354281253.44,1191618308.5800002,280491541.84,2177227207.9700003,1088632870.96,543966028.5699999,1875659198.3700004,443537602.98,3445940042.7400002,1732668911.39,362607179.81,1205005052.82,302617896.45,2228277703.37,1117255734.44,642372199.5500001,1972575074.16,427557788.65999997,3527185177.82,1629450580.06,445959110.4,1436091929.72,363243873.55,2725833616.7900004,1299729660.4899998,1799419393.2800002,5704678074.139999,1357408142.1399999,10794714573.64,5034836593.929999],\"type\":\"bar\",\"xaxis\":\"x2\",\"yaxis\":\"y2\"}],                        {\"template\":{\"data\":{\"barpolar\":[{\"marker\":{\"line\":{\"color\":\"white\",\"width\":0.5},\"pattern\":{\"fillmode\":\"overlay\",\"size\":10,\"solidity\":0.2}},\"type\":\"barpolar\"}],\"bar\":[{\"error_x\":{\"color\":\"#2a3f5f\"},\"error_y\":{\"color\":\"#2a3f5f\"},\"marker\":{\"line\":{\"color\":\"white\",\"width\":0.5},\"pattern\":{\"fillmode\":\"overlay\",\"size\":10,\"solidity\":0.2}},\"type\":\"bar\"}],\"carpet\":[{\"aaxis\":{\"endlinecolor\":\"#2a3f5f\",\"gridcolor\":\"#C8D4E3\",\"linecolor\":\"#C8D4E3\",\"minorgridcolor\":\"#C8D4E3\",\"startlinecolor\":\"#2a3f5f\"},\"baxis\":{\"endlinecolor\":\"#2a3f5f\",\"gridcolor\":\"#C8D4E3\",\"linecolor\":\"#C8D4E3\",\"minorgridcolor\":\"#C8D4E3\",\"startlinecolor\":\"#2a3f5f\"},\"type\":\"carpet\"}],\"choropleth\":[{\"colorbar\":{\"outlinewidth\":0,\"ticks\":\"\"},\"type\":\"choropleth\"}],\"contourcarpet\":[{\"colorbar\":{\"outlinewidth\":0,\"ticks\":\"\"},\"type\":\"contourcarpet\"}],\"contour\":[{\"colorbar\":{\"outlinewidth\":0,\"ticks\":\"\"},\"colorscale\":[[0.0,\"#0d0887\"],[0.1111111111111111,\"#46039f\"],[0.2222222222222222,\"#7201a8\"],[0.3333333333333333,\"#9c179e\"],[0.4444444444444444,\"#bd3786\"],[0.5555555555555556,\"#d8576b\"],[0.6666666666666666,\"#ed7953\"],[0.7777777777777778,\"#fb9f3a\"],[0.8888888888888888,\"#fdca26\"],[1.0,\"#f0f921\"]],\"type\":\"contour\"}],\"heatmapgl\":[{\"colorbar\":{\"outlinewidth\":0,\"ticks\":\"\"},\"colorscale\":[[0.0,\"#0d0887\"],[0.1111111111111111,\"#46039f\"],[0.2222222222222222,\"#7201a8\"],[0.3333333333333333,\"#9c179e\"],[0.4444444444444444,\"#bd3786\"],[0.5555555555555556,\"#d8576b\"],[0.6666666666666666,\"#ed7953\"],[0.7777777777777778,\"#fb9f3a\"],[0.8888888888888888,\"#fdca26\"],[1.0,\"#f0f921\"]],\"type\":\"heatmapgl\"}],\"heatmap\":[{\"colorbar\":{\"outlinewidth\":0,\"ticks\":\"\"},\"colorscale\":[[0.0,\"#0d0887\"],[0.1111111111111111,\"#46039f\"],[0.2222222222222222,\"#7201a8\"],[0.3333333333333333,\"#9c179e\"],[0.4444444444444444,\"#bd3786\"],[0.5555555555555556,\"#d8576b\"],[0.6666666666666666,\"#ed7953\"],[0.7777777777777778,\"#fb9f3a\"],[0.8888888888888888,\"#fdca26\"],[1.0,\"#f0f921\"]],\"type\":\"heatmap\"}],\"histogram2dcontour\":[{\"colorbar\":{\"outlinewidth\":0,\"ticks\":\"\"},\"colorscale\":[[0.0,\"#0d0887\"],[0.1111111111111111,\"#46039f\"],[0.2222222222222222,\"#7201a8\"],[0.3333333333333333,\"#9c179e\"],[0.4444444444444444,\"#bd3786\"],[0.5555555555555556,\"#d8576b\"],[0.6666666666666666,\"#ed7953\"],[0.7777777777777778,\"#fb9f3a\"],[0.8888888888888888,\"#fdca26\"],[1.0,\"#f0f921\"]],\"type\":\"histogram2dcontour\"}],\"histogram2d\":[{\"colorbar\":{\"outlinewidth\":0,\"ticks\":\"\"},\"colorscale\":[[0.0,\"#0d0887\"],[0.1111111111111111,\"#46039f\"],[0.2222222222222222,\"#7201a8\"],[0.3333333333333333,\"#9c179e\"],[0.4444444444444444,\"#bd3786\"],[0.5555555555555556,\"#d8576b\"],[0.6666666666666666,\"#ed7953\"],[0.7777777777777778,\"#fb9f3a\"],[0.8888888888888888,\"#fdca26\"],[1.0,\"#f0f921\"]],\"type\":\"histogram2d\"}],\"histogram\":[{\"marker\":{\"pattern\":{\"fillmode\":\"overlay\",\"size\":10,\"solidity\":0.2}},\"type\":\"histogram\"}],\"mesh3d\":[{\"colorbar\":{\"outlinewidth\":0,\"ticks\":\"\"},\"type\":\"mesh3d\"}],\"parcoords\":[{\"line\":{\"colorbar\":{\"outlinewidth\":0,\"ticks\":\"\"}},\"type\":\"parcoords\"}],\"pie\":[{\"automargin\":true,\"type\":\"pie\"}],\"scatter3d\":[{\"line\":{\"colorbar\":{\"outlinewidth\":0,\"ticks\":\"\"}},\"marker\":{\"colorbar\":{\"outlinewidth\":0,\"ticks\":\"\"}},\"type\":\"scatter3d\"}],\"scattercarpet\":[{\"marker\":{\"colorbar\":{\"outlinewidth\":0,\"ticks\":\"\"}},\"type\":\"scattercarpet\"}],\"scattergeo\":[{\"marker\":{\"colorbar\":{\"outlinewidth\":0,\"ticks\":\"\"}},\"type\":\"scattergeo\"}],\"scattergl\":[{\"marker\":{\"colorbar\":{\"outlinewidth\":0,\"ticks\":\"\"}},\"type\":\"scattergl\"}],\"scattermapbox\":[{\"marker\":{\"colorbar\":{\"outlinewidth\":0,\"ticks\":\"\"}},\"type\":\"scattermapbox\"}],\"scatterpolargl\":[{\"marker\":{\"colorbar\":{\"outlinewidth\":0,\"ticks\":\"\"}},\"type\":\"scatterpolargl\"}],\"scatterpolar\":[{\"marker\":{\"colorbar\":{\"outlinewidth\":0,\"ticks\":\"\"}},\"type\":\"scatterpolar\"}],\"scatter\":[{\"fillpattern\":{\"fillmode\":\"overlay\",\"size\":10,\"solidity\":0.2},\"type\":\"scatter\"}],\"scatterternary\":[{\"marker\":{\"colorbar\":{\"outlinewidth\":0,\"ticks\":\"\"}},\"type\":\"scatterternary\"}],\"surface\":[{\"colorbar\":{\"outlinewidth\":0,\"ticks\":\"\"},\"colorscale\":[[0.0,\"#0d0887\"],[0.1111111111111111,\"#46039f\"],[0.2222222222222222,\"#7201a8\"],[0.3333333333333333,\"#9c179e\"],[0.4444444444444444,\"#bd3786\"],[0.5555555555555556,\"#d8576b\"],[0.6666666666666666,\"#ed7953\"],[0.7777777777777778,\"#fb9f3a\"],[0.8888888888888888,\"#fdca26\"],[1.0,\"#f0f921\"]],\"type\":\"surface\"}],\"table\":[{\"cells\":{\"fill\":{\"color\":\"#EBF0F8\"},\"line\":{\"color\":\"white\"}},\"header\":{\"fill\":{\"color\":\"#C8D4E3\"},\"line\":{\"color\":\"white\"}},\"type\":\"table\"}]},\"layout\":{\"annotationdefaults\":{\"arrowcolor\":\"#2a3f5f\",\"arrowhead\":0,\"arrowwidth\":1},\"autotypenumbers\":\"strict\",\"coloraxis\":{\"colorbar\":{\"outlinewidth\":0,\"ticks\":\"\"}},\"colorscale\":{\"diverging\":[[0,\"#8e0152\"],[0.1,\"#c51b7d\"],[0.2,\"#de77ae\"],[0.3,\"#f1b6da\"],[0.4,\"#fde0ef\"],[0.5,\"#f7f7f7\"],[0.6,\"#e6f5d0\"],[0.7,\"#b8e186\"],[0.8,\"#7fbc41\"],[0.9,\"#4d9221\"],[1,\"#276419\"]],\"sequential\":[[0.0,\"#0d0887\"],[0.1111111111111111,\"#46039f\"],[0.2222222222222222,\"#7201a8\"],[0.3333333333333333,\"#9c179e\"],[0.4444444444444444,\"#bd3786\"],[0.5555555555555556,\"#d8576b\"],[0.6666666666666666,\"#ed7953\"],[0.7777777777777778,\"#fb9f3a\"],[0.8888888888888888,\"#fdca26\"],[1.0,\"#f0f921\"]],\"sequentialminus\":[[0.0,\"#0d0887\"],[0.1111111111111111,\"#46039f\"],[0.2222222222222222,\"#7201a8\"],[0.3333333333333333,\"#9c179e\"],[0.4444444444444444,\"#bd3786\"],[0.5555555555555556,\"#d8576b\"],[0.6666666666666666,\"#ed7953\"],[0.7777777777777778,\"#fb9f3a\"],[0.8888888888888888,\"#fdca26\"],[1.0,\"#f0f921\"]]},\"colorway\":[\"#636efa\",\"#EF553B\",\"#00cc96\",\"#ab63fa\",\"#FFA15A\",\"#19d3f3\",\"#FF6692\",\"#B6E880\",\"#FF97FF\",\"#FECB52\"],\"font\":{\"color\":\"#2a3f5f\"},\"geo\":{\"bgcolor\":\"white\",\"lakecolor\":\"white\",\"landcolor\":\"white\",\"showlakes\":true,\"showland\":true,\"subunitcolor\":\"#C8D4E3\"},\"hoverlabel\":{\"align\":\"left\"},\"hovermode\":\"closest\",\"mapbox\":{\"style\":\"light\"},\"paper_bgcolor\":\"white\",\"plot_bgcolor\":\"white\",\"polar\":{\"angularaxis\":{\"gridcolor\":\"#EBF0F8\",\"linecolor\":\"#EBF0F8\",\"ticks\":\"\"},\"bgcolor\":\"white\",\"radialaxis\":{\"gridcolor\":\"#EBF0F8\",\"linecolor\":\"#EBF0F8\",\"ticks\":\"\"}},\"scene\":{\"xaxis\":{\"backgroundcolor\":\"white\",\"gridcolor\":\"#DFE8F3\",\"gridwidth\":2,\"linecolor\":\"#EBF0F8\",\"showbackground\":true,\"ticks\":\"\",\"zerolinecolor\":\"#EBF0F8\"},\"yaxis\":{\"backgroundcolor\":\"white\",\"gridcolor\":\"#DFE8F3\",\"gridwidth\":2,\"linecolor\":\"#EBF0F8\",\"showbackground\":true,\"ticks\":\"\",\"zerolinecolor\":\"#EBF0F8\"},\"zaxis\":{\"backgroundcolor\":\"white\",\"gridcolor\":\"#DFE8F3\",\"gridwidth\":2,\"linecolor\":\"#EBF0F8\",\"showbackground\":true,\"ticks\":\"\",\"zerolinecolor\":\"#EBF0F8\"}},\"shapedefaults\":{\"line\":{\"color\":\"#2a3f5f\"}},\"ternary\":{\"aaxis\":{\"gridcolor\":\"#DFE8F3\",\"linecolor\":\"#A2B1C6\",\"ticks\":\"\"},\"baxis\":{\"gridcolor\":\"#DFE8F3\",\"linecolor\":\"#A2B1C6\",\"ticks\":\"\"},\"bgcolor\":\"white\",\"caxis\":{\"gridcolor\":\"#DFE8F3\",\"linecolor\":\"#A2B1C6\",\"ticks\":\"\"}},\"title\":{\"x\":0.05},\"xaxis\":{\"automargin\":true,\"gridcolor\":\"#EBF0F8\",\"linecolor\":\"#EBF0F8\",\"ticks\":\"\",\"title\":{\"standoff\":15},\"zerolinecolor\":\"#EBF0F8\",\"zerolinewidth\":2},\"yaxis\":{\"automargin\":true,\"gridcolor\":\"#EBF0F8\",\"linecolor\":\"#EBF0F8\",\"ticks\":\"\",\"title\":{\"standoff\":15},\"zerolinecolor\":\"#EBF0F8\",\"zerolinewidth\":2}}},\"xaxis\":{\"anchor\":\"y\",\"domain\":[0.0,1.0],\"matches\":\"x2\",\"showticklabels\":false},\"yaxis\":{\"anchor\":\"x\",\"domain\":[0.575,1.0],\"title\":{\"text\":\"\\u003cb\\u003eQuantidade\\u003cbr\\u003eProcedimentos\"}},\"xaxis2\":{\"anchor\":\"y2\",\"domain\":[0.0,1.0],\"title\":{\"text\":\"\\u003cb\\u003eAno\"},\"ticklabelmode\":\"period\"},\"yaxis2\":{\"anchor\":\"x2\",\"domain\":[0.0,0.425],\"title\":{\"text\":\"\\u003cb\\u003eValor\\u003cbr\\u003eProcedimentos\"}},\"title\":{\"text\":\"Totais\"}},                        {\"responsive\": true}                    ).then(function(){\n                            \nvar gd = document.getElementById('77d5ada2-85de-4d5f-a146-a49040ce17d7');\nvar x = new MutationObserver(function (mutations, observer) {{\n        var display = window.getComputedStyle(gd).display;\n        if (!display || display === 'none') {{\n            console.log([gd, 'removed!']);\n            Plotly.purge(gd);\n            observer.disconnect();\n        }}\n}});\n\n// Listen for the removal of the full notebook cells\nvar notebookContainer = gd.closest('#notebook-container');\nif (notebookContainer) {{\n    x.observe(notebookContainer, {childList: true});\n}}\n\n// Listen for the clearing of the current output cell\nvar outputEl = gd.closest('.output');\nif (outputEl) {{\n    x.observe(outputEl, {childList: true});\n}}\n\n                        })                };                });            </script>        </div>"
     },
     "metadata": {},
     "output_type": "display_data"
    }
   ],
   "source": [
    "fig = make_subplots(rows=2, cols=1, shared_xaxes=True , shared_yaxes=False)\n",
    "fig.add_trace(go.Bar(x=df_datasus_agrupado_ano_regiao.index,\n",
    "                     y=df_datasus_agrupado_ano_regiao['quantidade_procedimentos_total'],\n",
    "                     name='Quantidade Procedimentos Total'),\n",
    "              row=1,\n",
    "              col=1)\n",
    "fig.add_trace(go.Bar(x=df_datasus_agrupado_ano_regiao.index,\n",
    "                     y=df_datasus_agrupado_ano_regiao['valor_procedimentos_total'],\n",
    "                     name='Valores Procedimentos Total'),\n",
    "              row=2,\n",
    "              col=1)\n",
    "fig.update_yaxes(title_text=\"<b>Quantidade<br>Procedimentos\", row=1, col=1)\n",
    "fig.update_yaxes(title_text=\"<b>Valor<br>Procedimentos\", row=2, col=1)\n",
    "fig.update_xaxes(title_text=\"<b>Ano\", row=2, col=1, ticklabelmode=\"period\")\n",
    "\n",
    "fig.update_layout(template='plotly_white', title_text='Totais')"
   ],
   "metadata": {
    "collapsed": false,
    "ExecuteTime": {
     "end_time": "2024-03-04T23:49:42.419979046Z",
     "start_time": "2024-03-04T23:49:42.336601071Z"
    }
   },
   "id": "951e3faff5047e8f",
   "execution_count": 255
  },
  {
   "cell_type": "code",
   "outputs": [],
   "source": [
    "import plotly.express as px"
   ],
   "metadata": {
    "collapsed": false,
    "ExecuteTime": {
     "end_time": "2024-03-05T02:49:05.496048875Z",
     "start_time": "2024-03-05T02:49:05.397923187Z"
    }
   },
   "id": "3854c4b551d724d6",
   "execution_count": 364
  },
  {
   "cell_type": "code",
   "outputs": [
    {
     "data": {
      "application/vnd.plotly.v1+json": {
       "data": [
        {
         "fillpattern": {
          "shape": ""
         },
         "hovertemplate": "variable=acoes_complementares_da_atencao_a_saude_qtd<br>regiao_nome=CENTRO-OESTE<br>ano=%{x}<br>value=%{y}<extra></extra>",
         "legendgroup": "acoes_complementares_da_atencao_a_saude_qtd",
         "line": {
          "color": "#636efa"
         },
         "marker": {
          "symbol": "circle"
         },
         "mode": "lines",
         "name": "acoes_complementares_da_atencao_a_saude_qtd",
         "orientation": "v",
         "showlegend": true,
         "stackgroup": "1",
         "x": [
          2008,
          2009,
          2010,
          2011,
          2012,
          2013,
          2014,
          2015,
          2016,
          2017,
          2018,
          2019,
          2020,
          2021,
          2022,
          2023
         ],
         "xaxis": "x5",
         "y": [
          118221,
          318121,
          360769,
          368118,
          384591,
          415591,
          196577,
          211124,
          260677,
          239217,
          535035,
          821661,
          544356,
          532644,
          573013,
          2240684
         ],
         "yaxis": "y5",
         "type": "scatter"
        },
        {
         "fillpattern": {
          "shape": ""
         },
         "hovertemplate": "variable=acoes_complementares_da_atencao_a_saude_qtd<br>regiao_nome=NORDESTE<br>ano=%{x}<br>value=%{y}<extra></extra>",
         "legendgroup": "acoes_complementares_da_atencao_a_saude_qtd",
         "line": {
          "color": "#636efa"
         },
         "marker": {
          "symbol": "circle"
         },
         "mode": "lines",
         "name": "acoes_complementares_da_atencao_a_saude_qtd",
         "orientation": "v",
         "showlegend": false,
         "stackgroup": "1",
         "x": [
          2008,
          2009,
          2010,
          2011,
          2012,
          2013,
          2014,
          2015,
          2016,
          2017,
          2018,
          2019,
          2020,
          2021,
          2022,
          2023
         ],
         "xaxis": "x4",
         "y": [
          474094,
          1196743,
          1230105,
          1314388,
          1343225,
          1479978,
          741948,
          842067,
          954945,
          980107,
          2025998,
          3183472,
          2069699,
          2001898,
          2140707,
          8141240
         ],
         "yaxis": "y4",
         "type": "scatter"
        },
        {
         "fillpattern": {
          "shape": ""
         },
         "hovertemplate": "variable=acoes_complementares_da_atencao_a_saude_qtd<br>regiao_nome=NORTE<br>ano=%{x}<br>value=%{y}<extra></extra>",
         "legendgroup": "acoes_complementares_da_atencao_a_saude_qtd",
         "line": {
          "color": "#636efa"
         },
         "marker": {
          "symbol": "circle"
         },
         "mode": "lines",
         "name": "acoes_complementares_da_atencao_a_saude_qtd",
         "orientation": "v",
         "showlegend": false,
         "stackgroup": "1",
         "x": [
          2008,
          2009,
          2010,
          2011,
          2012,
          2013,
          2014,
          2015,
          2016,
          2017,
          2018,
          2019,
          2020,
          2021,
          2022,
          2023
         ],
         "xaxis": "x3",
         "y": [
          118953,
          331454,
          363172,
          384001,
          386282,
          417083,
          213017,
          247272,
          271399,
          290462,
          571297,
          935480,
          629781,
          602654,
          636901,
          2238466
         ],
         "yaxis": "y3",
         "type": "scatter"
        },
        {
         "fillpattern": {
          "shape": ""
         },
         "hovertemplate": "variable=acoes_complementares_da_atencao_a_saude_qtd<br>regiao_nome=SUDESTE<br>ano=%{x}<br>value=%{y}<extra></extra>",
         "legendgroup": "acoes_complementares_da_atencao_a_saude_qtd",
         "line": {
          "color": "#636efa"
         },
         "marker": {
          "symbol": "circle"
         },
         "mode": "lines",
         "name": "acoes_complementares_da_atencao_a_saude_qtd",
         "orientation": "v",
         "showlegend": false,
         "stackgroup": "1",
         "x": [
          2008,
          2009,
          2010,
          2011,
          2012,
          2013,
          2014,
          2015,
          2016,
          2017,
          2018,
          2019,
          2020,
          2021,
          2022,
          2023
         ],
         "xaxis": "x2",
         "y": [
          676294,
          1757785,
          1891664,
          1989080,
          2025386,
          2095566,
          1049416,
          1166512,
          1248827,
          1254662,
          2691438,
          4127520,
          2650173,
          2501083,
          2750707,
          10529188
         ],
         "yaxis": "y2",
         "type": "scatter"
        },
        {
         "fillpattern": {
          "shape": ""
         },
         "hovertemplate": "variable=acoes_complementares_da_atencao_a_saude_qtd<br>regiao_nome=SUL<br>ano=%{x}<br>value=%{y}<extra></extra>",
         "legendgroup": "acoes_complementares_da_atencao_a_saude_qtd",
         "line": {
          "color": "#636efa"
         },
         "marker": {
          "symbol": "circle"
         },
         "mode": "lines",
         "name": "acoes_complementares_da_atencao_a_saude_qtd",
         "orientation": "v",
         "showlegend": false,
         "stackgroup": "1",
         "x": [
          2008,
          2009,
          2010,
          2011,
          2012,
          2013,
          2014,
          2015,
          2016,
          2017,
          2018,
          2019,
          2020,
          2021,
          2022,
          2023
         ],
         "xaxis": "x",
         "y": [
          311434,
          777751,
          849909,
          855801,
          890336,
          907902,
          452453,
          491117,
          549136,
          549046,
          1120649,
          1786455,
          1120402,
          1116959,
          1208509,
          4536248
         ],
         "yaxis": "y",
         "type": "scatter"
        },
        {
         "fillpattern": {
          "shape": ""
         },
         "hovertemplate": "variable=acoes_relacionadas_a_doacao_de_orgaos_e_tecidos_para_transplante_qtd<br>regiao_nome=CENTRO-OESTE<br>ano=%{x}<br>value=%{y}<extra></extra>",
         "legendgroup": "acoes_relacionadas_a_doacao_de_orgaos_e_tecidos_para_transplante_qtd",
         "line": {
          "color": "#EF553B"
         },
         "marker": {
          "symbol": "circle"
         },
         "mode": "lines",
         "name": "acoes_relacionadas_a_doacao_de_orgaos_e_tecidos_para_transplante_qtd",
         "orientation": "v",
         "showlegend": true,
         "stackgroup": "1",
         "x": [
          2008,
          2009,
          2010,
          2011,
          2012,
          2013,
          2014,
          2015,
          2016,
          2017,
          2018,
          2019,
          2020,
          2021,
          2022,
          2023
         ],
         "xaxis": "x5",
         "y": [
          133,
          108,
          49,
          79,
          143,
          124,
          27,
          69,
          52,
          47,
          225,
          412,
          243,
          209,
          306,
          824
         ],
         "yaxis": "y5",
         "type": "scatter"
        },
        {
         "fillpattern": {
          "shape": ""
         },
         "hovertemplate": "variable=acoes_relacionadas_a_doacao_de_orgaos_e_tecidos_para_transplante_qtd<br>regiao_nome=NORDESTE<br>ano=%{x}<br>value=%{y}<extra></extra>",
         "legendgroup": "acoes_relacionadas_a_doacao_de_orgaos_e_tecidos_para_transplante_qtd",
         "line": {
          "color": "#EF553B"
         },
         "marker": {
          "symbol": "circle"
         },
         "mode": "lines",
         "name": "acoes_relacionadas_a_doacao_de_orgaos_e_tecidos_para_transplante_qtd",
         "orientation": "v",
         "showlegend": false,
         "stackgroup": "1",
         "x": [
          2008,
          2009,
          2010,
          2011,
          2012,
          2013,
          2014,
          2015,
          2016,
          2017,
          2018,
          2019,
          2020,
          2021,
          2022,
          2023
         ],
         "xaxis": "x4",
         "y": [
          99,
          272,
          345,
          397,
          541,
          667,
          248,
          318,
          403,
          442,
          790,
          1319,
          805,
          543,
          989,
          3793
         ],
         "yaxis": "y4",
         "type": "scatter"
        },
        {
         "fillpattern": {
          "shape": ""
         },
         "hovertemplate": "variable=acoes_relacionadas_a_doacao_de_orgaos_e_tecidos_para_transplante_qtd<br>regiao_nome=NORTE<br>ano=%{x}<br>value=%{y}<extra></extra>",
         "legendgroup": "acoes_relacionadas_a_doacao_de_orgaos_e_tecidos_para_transplante_qtd",
         "line": {
          "color": "#EF553B"
         },
         "marker": {
          "symbol": "circle"
         },
         "mode": "lines",
         "name": "acoes_relacionadas_a_doacao_de_orgaos_e_tecidos_para_transplante_qtd",
         "orientation": "v",
         "showlegend": false,
         "stackgroup": "1",
         "x": [
          2008,
          2009,
          2010,
          2011,
          2012,
          2013,
          2014,
          2015,
          2016,
          2017,
          2018,
          2019,
          2020,
          2021,
          2022,
          2023
         ],
         "xaxis": "x3",
         "y": [
          1,
          19,
          11,
          8,
          32,
          30,
          24,
          19,
          83,
          19,
          109,
          181,
          222,
          92,
          188,
          520
         ],
         "yaxis": "y3",
         "type": "scatter"
        },
        {
         "fillpattern": {
          "shape": ""
         },
         "hovertemplate": "variable=acoes_relacionadas_a_doacao_de_orgaos_e_tecidos_para_transplante_qtd<br>regiao_nome=SUDESTE<br>ano=%{x}<br>value=%{y}<extra></extra>",
         "legendgroup": "acoes_relacionadas_a_doacao_de_orgaos_e_tecidos_para_transplante_qtd",
         "line": {
          "color": "#EF553B"
         },
         "marker": {
          "symbol": "circle"
         },
         "mode": "lines",
         "name": "acoes_relacionadas_a_doacao_de_orgaos_e_tecidos_para_transplante_qtd",
         "orientation": "v",
         "showlegend": false,
         "stackgroup": "1",
         "x": [
          2008,
          2009,
          2010,
          2011,
          2012,
          2013,
          2014,
          2015,
          2016,
          2017,
          2018,
          2019,
          2020,
          2021,
          2022,
          2023
         ],
         "xaxis": "x2",
         "y": [
          942,
          1594,
          1781,
          1754,
          1634,
          1808,
          807,
          1032,
          1058,
          1127,
          2315,
          4007,
          2584,
          2043,
          2397,
          8782
         ],
         "yaxis": "y2",
         "type": "scatter"
        },
        {
         "fillpattern": {
          "shape": ""
         },
         "hovertemplate": "variable=acoes_relacionadas_a_doacao_de_orgaos_e_tecidos_para_transplante_qtd<br>regiao_nome=SUL<br>ano=%{x}<br>value=%{y}<extra></extra>",
         "legendgroup": "acoes_relacionadas_a_doacao_de_orgaos_e_tecidos_para_transplante_qtd",
         "line": {
          "color": "#EF553B"
         },
         "marker": {
          "symbol": "circle"
         },
         "mode": "lines",
         "name": "acoes_relacionadas_a_doacao_de_orgaos_e_tecidos_para_transplante_qtd",
         "orientation": "v",
         "showlegend": false,
         "stackgroup": "1",
         "x": [
          2008,
          2009,
          2010,
          2011,
          2012,
          2013,
          2014,
          2015,
          2016,
          2017,
          2018,
          2019,
          2020,
          2021,
          2022,
          2023
         ],
         "xaxis": "x",
         "y": [
          390,
          736,
          781,
          982,
          1092,
          1352,
          485,
          438,
          791,
          851,
          1705,
          2461,
          1847,
          1095,
          1367,
          5636
         ],
         "yaxis": "y",
         "type": "scatter"
        },
        {
         "fillpattern": {
          "shape": ""
         },
         "hovertemplate": "variable=acoes_relacionadas_ao_estabelecimento_qtd<br>regiao_nome=CENTRO-OESTE<br>ano=%{x}<br>value=%{y}<extra></extra>",
         "legendgroup": "acoes_relacionadas_ao_estabelecimento_qtd",
         "line": {
          "color": "#00cc96"
         },
         "marker": {
          "symbol": "circle"
         },
         "mode": "lines",
         "name": "acoes_relacionadas_ao_estabelecimento_qtd",
         "orientation": "v",
         "showlegend": true,
         "stackgroup": "1",
         "x": [
          2008,
          2009,
          2010,
          2011,
          2012,
          2013,
          2014,
          2015,
          2016,
          2017,
          2018,
          2019,
          2020,
          2021,
          2022,
          2023
         ],
         "xaxis": "x5",
         "y": [
          5508,
          11874,
          11627,
          11608,
          10065,
          9925,
          3949,
          4318,
          4053,
          4689,
          8808,
          8857,
          6435,
          6034,
          6923,
          25484
         ],
         "yaxis": "y5",
         "type": "scatter"
        },
        {
         "fillpattern": {
          "shape": ""
         },
         "hovertemplate": "variable=acoes_relacionadas_ao_estabelecimento_qtd<br>regiao_nome=NORDESTE<br>ano=%{x}<br>value=%{y}<extra></extra>",
         "legendgroup": "acoes_relacionadas_ao_estabelecimento_qtd",
         "line": {
          "color": "#00cc96"
         },
         "marker": {
          "symbol": "circle"
         },
         "mode": "lines",
         "name": "acoes_relacionadas_ao_estabelecimento_qtd",
         "orientation": "v",
         "showlegend": false,
         "stackgroup": "1",
         "x": [
          2008,
          2009,
          2010,
          2011,
          2012,
          2013,
          2014,
          2015,
          2016,
          2017,
          2018,
          2019,
          2020,
          2021,
          2022,
          2023
         ],
         "xaxis": "x4",
         "y": [
          14411,
          28955,
          30692,
          30397,
          28363,
          23021,
          7262,
          6437,
          7708,
          8002,
          18346,
          18693,
          11195,
          13131,
          12563,
          57939
         ],
         "yaxis": "y4",
         "type": "scatter"
        },
        {
         "fillpattern": {
          "shape": ""
         },
         "hovertemplate": "variable=acoes_relacionadas_ao_estabelecimento_qtd<br>regiao_nome=NORTE<br>ano=%{x}<br>value=%{y}<extra></extra>",
         "legendgroup": "acoes_relacionadas_ao_estabelecimento_qtd",
         "line": {
          "color": "#00cc96"
         },
         "marker": {
          "symbol": "circle"
         },
         "mode": "lines",
         "name": "acoes_relacionadas_ao_estabelecimento_qtd",
         "orientation": "v",
         "showlegend": false,
         "stackgroup": "1",
         "x": [
          2008,
          2009,
          2010,
          2011,
          2012,
          2013,
          2014,
          2015,
          2016,
          2017,
          2018,
          2019,
          2020,
          2021,
          2022,
          2023
         ],
         "xaxis": "x3",
         "y": [
          4773,
          13032,
          11855,
          11818,
          10510,
          9557,
          3465,
          3140,
          2555,
          3032,
          5572,
          6315,
          3892,
          3303,
          3095,
          12603
         ],
         "yaxis": "y3",
         "type": "scatter"
        },
        {
         "fillpattern": {
          "shape": ""
         },
         "hovertemplate": "variable=acoes_relacionadas_ao_estabelecimento_qtd<br>regiao_nome=SUDESTE<br>ano=%{x}<br>value=%{y}<extra></extra>",
         "legendgroup": "acoes_relacionadas_ao_estabelecimento_qtd",
         "line": {
          "color": "#00cc96"
         },
         "marker": {
          "symbol": "circle"
         },
         "mode": "lines",
         "name": "acoes_relacionadas_ao_estabelecimento_qtd",
         "orientation": "v",
         "showlegend": false,
         "stackgroup": "1",
         "x": [
          2008,
          2009,
          2010,
          2011,
          2012,
          2013,
          2014,
          2015,
          2016,
          2017,
          2018,
          2019,
          2020,
          2021,
          2022,
          2023
         ],
         "xaxis": "x2",
         "y": [
          28983,
          51998,
          55512,
          56514,
          53449,
          57429,
          24874,
          27720,
          26072,
          30977,
          63496,
          63804,
          40912,
          30757,
          31988,
          134724
         ],
         "yaxis": "y2",
         "type": "scatter"
        },
        {
         "fillpattern": {
          "shape": ""
         },
         "hovertemplate": "variable=acoes_relacionadas_ao_estabelecimento_qtd<br>regiao_nome=SUL<br>ano=%{x}<br>value=%{y}<extra></extra>",
         "legendgroup": "acoes_relacionadas_ao_estabelecimento_qtd",
         "line": {
          "color": "#00cc96"
         },
         "marker": {
          "symbol": "circle"
         },
         "mode": "lines",
         "name": "acoes_relacionadas_ao_estabelecimento_qtd",
         "orientation": "v",
         "showlegend": false,
         "stackgroup": "1",
         "x": [
          2008,
          2009,
          2010,
          2011,
          2012,
          2013,
          2014,
          2015,
          2016,
          2017,
          2018,
          2019,
          2020,
          2021,
          2022,
          2023
         ],
         "xaxis": "x",
         "y": [
          12469,
          24305,
          24336,
          26044,
          25991,
          26919,
          12390,
          12549,
          12863,
          14068,
          29961,
          23899,
          14273,
          12403,
          13439,
          51825
         ],
         "yaxis": "y",
         "type": "scatter"
        },
        {
         "fillpattern": {
          "shape": ""
         },
         "hovertemplate": "variable=acoes_relacionadas_ao_atendimento_qtd<br>regiao_nome=CENTRO-OESTE<br>ano=%{x}<br>value=%{y}<extra></extra>",
         "legendgroup": "acoes_relacionadas_ao_atendimento_qtd",
         "line": {
          "color": "#ab63fa"
         },
         "marker": {
          "symbol": "circle"
         },
         "mode": "lines",
         "name": "acoes_relacionadas_ao_atendimento_qtd",
         "orientation": "v",
         "showlegend": true,
         "stackgroup": "1",
         "x": [
          2008,
          2009,
          2010,
          2011,
          2012,
          2013,
          2014,
          2015,
          2016,
          2017,
          2018,
          2019,
          2020,
          2021,
          2022,
          2023
         ],
         "xaxis": "x5",
         "y": [
          112713,
          306247,
          349142,
          356510,
          374526,
          405666,
          192628,
          206806,
          256624,
          234528,
          526227,
          812804,
          537921,
          526610,
          566090,
          2215200
         ],
         "yaxis": "y5",
         "type": "scatter"
        },
        {
         "fillpattern": {
          "shape": ""
         },
         "hovertemplate": "variable=acoes_relacionadas_ao_atendimento_qtd<br>regiao_nome=NORDESTE<br>ano=%{x}<br>value=%{y}<extra></extra>",
         "legendgroup": "acoes_relacionadas_ao_atendimento_qtd",
         "line": {
          "color": "#ab63fa"
         },
         "marker": {
          "symbol": "circle"
         },
         "mode": "lines",
         "name": "acoes_relacionadas_ao_atendimento_qtd",
         "orientation": "v",
         "showlegend": false,
         "stackgroup": "1",
         "x": [
          2008,
          2009,
          2010,
          2011,
          2012,
          2013,
          2014,
          2015,
          2016,
          2017,
          2018,
          2019,
          2020,
          2021,
          2022,
          2023
         ],
         "xaxis": "x4",
         "y": [
          459683,
          1167788,
          1199413,
          1283991,
          1314862,
          1456957,
          734686,
          835630,
          947237,
          972105,
          2007652,
          3164779,
          2058504,
          1988767,
          2128144,
          8083301
         ],
         "yaxis": "y4",
         "type": "scatter"
        },
        {
         "fillpattern": {
          "shape": ""
         },
         "hovertemplate": "variable=acoes_relacionadas_ao_atendimento_qtd<br>regiao_nome=NORTE<br>ano=%{x}<br>value=%{y}<extra></extra>",
         "legendgroup": "acoes_relacionadas_ao_atendimento_qtd",
         "line": {
          "color": "#ab63fa"
         },
         "marker": {
          "symbol": "circle"
         },
         "mode": "lines",
         "name": "acoes_relacionadas_ao_atendimento_qtd",
         "orientation": "v",
         "showlegend": false,
         "stackgroup": "1",
         "x": [
          2008,
          2009,
          2010,
          2011,
          2012,
          2013,
          2014,
          2015,
          2016,
          2017,
          2018,
          2019,
          2020,
          2021,
          2022,
          2023
         ],
         "xaxis": "x3",
         "y": [
          114180,
          318422,
          351317,
          372183,
          375772,
          407526,
          209552,
          244132,
          268844,
          287430,
          565725,
          929165,
          625889,
          599351,
          633806,
          2225863
         ],
         "yaxis": "y3",
         "type": "scatter"
        },
        {
         "fillpattern": {
          "shape": ""
         },
         "hovertemplate": "variable=acoes_relacionadas_ao_atendimento_qtd<br>regiao_nome=SUDESTE<br>ano=%{x}<br>value=%{y}<extra></extra>",
         "legendgroup": "acoes_relacionadas_ao_atendimento_qtd",
         "line": {
          "color": "#ab63fa"
         },
         "marker": {
          "symbol": "circle"
         },
         "mode": "lines",
         "name": "acoes_relacionadas_ao_atendimento_qtd",
         "orientation": "v",
         "showlegend": false,
         "stackgroup": "1",
         "x": [
          2008,
          2009,
          2010,
          2011,
          2012,
          2013,
          2014,
          2015,
          2016,
          2017,
          2018,
          2019,
          2020,
          2021,
          2022,
          2023
         ],
         "xaxis": "x2",
         "y": [
          647311,
          1705787,
          1836152,
          1932566,
          1971937,
          2038137,
          1024542,
          1138792,
          1222755,
          1223685,
          2627942,
          4063716,
          2609261,
          2470326,
          2718719,
          10394464
         ],
         "yaxis": "y2",
         "type": "scatter"
        },
        {
         "fillpattern": {
          "shape": ""
         },
         "hovertemplate": "variable=acoes_relacionadas_ao_atendimento_qtd<br>regiao_nome=SUL<br>ano=%{x}<br>value=%{y}<extra></extra>",
         "legendgroup": "acoes_relacionadas_ao_atendimento_qtd",
         "line": {
          "color": "#ab63fa"
         },
         "marker": {
          "symbol": "circle"
         },
         "mode": "lines",
         "name": "acoes_relacionadas_ao_atendimento_qtd",
         "orientation": "v",
         "showlegend": false,
         "stackgroup": "1",
         "x": [
          2008,
          2009,
          2010,
          2011,
          2012,
          2013,
          2014,
          2015,
          2016,
          2017,
          2018,
          2019,
          2020,
          2021,
          2022,
          2023
         ],
         "xaxis": "x",
         "y": [
          298965,
          753446,
          825573,
          829757,
          864345,
          880983,
          440063,
          478568,
          536273,
          534978,
          1090688,
          1762556,
          1106129,
          1104556,
          1195070,
          4484423
         ],
         "yaxis": "y",
         "type": "scatter"
        }
       ],
       "layout": {
        "template": {
         "data": {
          "barpolar": [
           {
            "marker": {
             "line": {
              "color": "white",
              "width": 0.5
             },
             "pattern": {
              "fillmode": "overlay",
              "size": 10,
              "solidity": 0.2
             }
            },
            "type": "barpolar"
           }
          ],
          "bar": [
           {
            "error_x": {
             "color": "#2a3f5f"
            },
            "error_y": {
             "color": "#2a3f5f"
            },
            "marker": {
             "line": {
              "color": "white",
              "width": 0.5
             },
             "pattern": {
              "fillmode": "overlay",
              "size": 10,
              "solidity": 0.2
             }
            },
            "type": "bar"
           }
          ],
          "carpet": [
           {
            "aaxis": {
             "endlinecolor": "#2a3f5f",
             "gridcolor": "#C8D4E3",
             "linecolor": "#C8D4E3",
             "minorgridcolor": "#C8D4E3",
             "startlinecolor": "#2a3f5f"
            },
            "baxis": {
             "endlinecolor": "#2a3f5f",
             "gridcolor": "#C8D4E3",
             "linecolor": "#C8D4E3",
             "minorgridcolor": "#C8D4E3",
             "startlinecolor": "#2a3f5f"
            },
            "type": "carpet"
           }
          ],
          "choropleth": [
           {
            "colorbar": {
             "outlinewidth": 0,
             "ticks": ""
            },
            "type": "choropleth"
           }
          ],
          "contourcarpet": [
           {
            "colorbar": {
             "outlinewidth": 0,
             "ticks": ""
            },
            "type": "contourcarpet"
           }
          ],
          "contour": [
           {
            "colorbar": {
             "outlinewidth": 0,
             "ticks": ""
            },
            "colorscale": [
             [
              0.0,
              "#0d0887"
             ],
             [
              0.1111111111111111,
              "#46039f"
             ],
             [
              0.2222222222222222,
              "#7201a8"
             ],
             [
              0.3333333333333333,
              "#9c179e"
             ],
             [
              0.4444444444444444,
              "#bd3786"
             ],
             [
              0.5555555555555556,
              "#d8576b"
             ],
             [
              0.6666666666666666,
              "#ed7953"
             ],
             [
              0.7777777777777778,
              "#fb9f3a"
             ],
             [
              0.8888888888888888,
              "#fdca26"
             ],
             [
              1.0,
              "#f0f921"
             ]
            ],
            "type": "contour"
           }
          ],
          "heatmapgl": [
           {
            "colorbar": {
             "outlinewidth": 0,
             "ticks": ""
            },
            "colorscale": [
             [
              0.0,
              "#0d0887"
             ],
             [
              0.1111111111111111,
              "#46039f"
             ],
             [
              0.2222222222222222,
              "#7201a8"
             ],
             [
              0.3333333333333333,
              "#9c179e"
             ],
             [
              0.4444444444444444,
              "#bd3786"
             ],
             [
              0.5555555555555556,
              "#d8576b"
             ],
             [
              0.6666666666666666,
              "#ed7953"
             ],
             [
              0.7777777777777778,
              "#fb9f3a"
             ],
             [
              0.8888888888888888,
              "#fdca26"
             ],
             [
              1.0,
              "#f0f921"
             ]
            ],
            "type": "heatmapgl"
           }
          ],
          "heatmap": [
           {
            "colorbar": {
             "outlinewidth": 0,
             "ticks": ""
            },
            "colorscale": [
             [
              0.0,
              "#0d0887"
             ],
             [
              0.1111111111111111,
              "#46039f"
             ],
             [
              0.2222222222222222,
              "#7201a8"
             ],
             [
              0.3333333333333333,
              "#9c179e"
             ],
             [
              0.4444444444444444,
              "#bd3786"
             ],
             [
              0.5555555555555556,
              "#d8576b"
             ],
             [
              0.6666666666666666,
              "#ed7953"
             ],
             [
              0.7777777777777778,
              "#fb9f3a"
             ],
             [
              0.8888888888888888,
              "#fdca26"
             ],
             [
              1.0,
              "#f0f921"
             ]
            ],
            "type": "heatmap"
           }
          ],
          "histogram2dcontour": [
           {
            "colorbar": {
             "outlinewidth": 0,
             "ticks": ""
            },
            "colorscale": [
             [
              0.0,
              "#0d0887"
             ],
             [
              0.1111111111111111,
              "#46039f"
             ],
             [
              0.2222222222222222,
              "#7201a8"
             ],
             [
              0.3333333333333333,
              "#9c179e"
             ],
             [
              0.4444444444444444,
              "#bd3786"
             ],
             [
              0.5555555555555556,
              "#d8576b"
             ],
             [
              0.6666666666666666,
              "#ed7953"
             ],
             [
              0.7777777777777778,
              "#fb9f3a"
             ],
             [
              0.8888888888888888,
              "#fdca26"
             ],
             [
              1.0,
              "#f0f921"
             ]
            ],
            "type": "histogram2dcontour"
           }
          ],
          "histogram2d": [
           {
            "colorbar": {
             "outlinewidth": 0,
             "ticks": ""
            },
            "colorscale": [
             [
              0.0,
              "#0d0887"
             ],
             [
              0.1111111111111111,
              "#46039f"
             ],
             [
              0.2222222222222222,
              "#7201a8"
             ],
             [
              0.3333333333333333,
              "#9c179e"
             ],
             [
              0.4444444444444444,
              "#bd3786"
             ],
             [
              0.5555555555555556,
              "#d8576b"
             ],
             [
              0.6666666666666666,
              "#ed7953"
             ],
             [
              0.7777777777777778,
              "#fb9f3a"
             ],
             [
              0.8888888888888888,
              "#fdca26"
             ],
             [
              1.0,
              "#f0f921"
             ]
            ],
            "type": "histogram2d"
           }
          ],
          "histogram": [
           {
            "marker": {
             "pattern": {
              "fillmode": "overlay",
              "size": 10,
              "solidity": 0.2
             }
            },
            "type": "histogram"
           }
          ],
          "mesh3d": [
           {
            "colorbar": {
             "outlinewidth": 0,
             "ticks": ""
            },
            "type": "mesh3d"
           }
          ],
          "parcoords": [
           {
            "line": {
             "colorbar": {
              "outlinewidth": 0,
              "ticks": ""
             }
            },
            "type": "parcoords"
           }
          ],
          "pie": [
           {
            "automargin": true,
            "type": "pie"
           }
          ],
          "scatter3d": [
           {
            "line": {
             "colorbar": {
              "outlinewidth": 0,
              "ticks": ""
             }
            },
            "marker": {
             "colorbar": {
              "outlinewidth": 0,
              "ticks": ""
             }
            },
            "type": "scatter3d"
           }
          ],
          "scattercarpet": [
           {
            "marker": {
             "colorbar": {
              "outlinewidth": 0,
              "ticks": ""
             }
            },
            "type": "scattercarpet"
           }
          ],
          "scattergeo": [
           {
            "marker": {
             "colorbar": {
              "outlinewidth": 0,
              "ticks": ""
             }
            },
            "type": "scattergeo"
           }
          ],
          "scattergl": [
           {
            "marker": {
             "colorbar": {
              "outlinewidth": 0,
              "ticks": ""
             }
            },
            "type": "scattergl"
           }
          ],
          "scattermapbox": [
           {
            "marker": {
             "colorbar": {
              "outlinewidth": 0,
              "ticks": ""
             }
            },
            "type": "scattermapbox"
           }
          ],
          "scatterpolargl": [
           {
            "marker": {
             "colorbar": {
              "outlinewidth": 0,
              "ticks": ""
             }
            },
            "type": "scatterpolargl"
           }
          ],
          "scatterpolar": [
           {
            "marker": {
             "colorbar": {
              "outlinewidth": 0,
              "ticks": ""
             }
            },
            "type": "scatterpolar"
           }
          ],
          "scatter": [
           {
            "fillpattern": {
             "fillmode": "overlay",
             "size": 10,
             "solidity": 0.2
            },
            "type": "scatter"
           }
          ],
          "scatterternary": [
           {
            "marker": {
             "colorbar": {
              "outlinewidth": 0,
              "ticks": ""
             }
            },
            "type": "scatterternary"
           }
          ],
          "surface": [
           {
            "colorbar": {
             "outlinewidth": 0,
             "ticks": ""
            },
            "colorscale": [
             [
              0.0,
              "#0d0887"
             ],
             [
              0.1111111111111111,
              "#46039f"
             ],
             [
              0.2222222222222222,
              "#7201a8"
             ],
             [
              0.3333333333333333,
              "#9c179e"
             ],
             [
              0.4444444444444444,
              "#bd3786"
             ],
             [
              0.5555555555555556,
              "#d8576b"
             ],
             [
              0.6666666666666666,
              "#ed7953"
             ],
             [
              0.7777777777777778,
              "#fb9f3a"
             ],
             [
              0.8888888888888888,
              "#fdca26"
             ],
             [
              1.0,
              "#f0f921"
             ]
            ],
            "type": "surface"
           }
          ],
          "table": [
           {
            "cells": {
             "fill": {
              "color": "#EBF0F8"
             },
             "line": {
              "color": "white"
             }
            },
            "header": {
             "fill": {
              "color": "#C8D4E3"
             },
             "line": {
              "color": "white"
             }
            },
            "type": "table"
           }
          ]
         },
         "layout": {
          "annotationdefaults": {
           "arrowcolor": "#2a3f5f",
           "arrowhead": 0,
           "arrowwidth": 1
          },
          "autotypenumbers": "strict",
          "coloraxis": {
           "colorbar": {
            "outlinewidth": 0,
            "ticks": ""
           }
          },
          "colorscale": {
           "diverging": [
            [
             0,
             "#8e0152"
            ],
            [
             0.1,
             "#c51b7d"
            ],
            [
             0.2,
             "#de77ae"
            ],
            [
             0.3,
             "#f1b6da"
            ],
            [
             0.4,
             "#fde0ef"
            ],
            [
             0.5,
             "#f7f7f7"
            ],
            [
             0.6,
             "#e6f5d0"
            ],
            [
             0.7,
             "#b8e186"
            ],
            [
             0.8,
             "#7fbc41"
            ],
            [
             0.9,
             "#4d9221"
            ],
            [
             1,
             "#276419"
            ]
           ],
           "sequential": [
            [
             0.0,
             "#0d0887"
            ],
            [
             0.1111111111111111,
             "#46039f"
            ],
            [
             0.2222222222222222,
             "#7201a8"
            ],
            [
             0.3333333333333333,
             "#9c179e"
            ],
            [
             0.4444444444444444,
             "#bd3786"
            ],
            [
             0.5555555555555556,
             "#d8576b"
            ],
            [
             0.6666666666666666,
             "#ed7953"
            ],
            [
             0.7777777777777778,
             "#fb9f3a"
            ],
            [
             0.8888888888888888,
             "#fdca26"
            ],
            [
             1.0,
             "#f0f921"
            ]
           ],
           "sequentialminus": [
            [
             0.0,
             "#0d0887"
            ],
            [
             0.1111111111111111,
             "#46039f"
            ],
            [
             0.2222222222222222,
             "#7201a8"
            ],
            [
             0.3333333333333333,
             "#9c179e"
            ],
            [
             0.4444444444444444,
             "#bd3786"
            ],
            [
             0.5555555555555556,
             "#d8576b"
            ],
            [
             0.6666666666666666,
             "#ed7953"
            ],
            [
             0.7777777777777778,
             "#fb9f3a"
            ],
            [
             0.8888888888888888,
             "#fdca26"
            ],
            [
             1.0,
             "#f0f921"
            ]
           ]
          },
          "colorway": [
           "#636efa",
           "#EF553B",
           "#00cc96",
           "#ab63fa",
           "#FFA15A",
           "#19d3f3",
           "#FF6692",
           "#B6E880",
           "#FF97FF",
           "#FECB52"
          ],
          "font": {
           "color": "#2a3f5f"
          },
          "geo": {
           "bgcolor": "white",
           "lakecolor": "white",
           "landcolor": "white",
           "showlakes": true,
           "showland": true,
           "subunitcolor": "#C8D4E3"
          },
          "hoverlabel": {
           "align": "left"
          },
          "hovermode": "closest",
          "mapbox": {
           "style": "light"
          },
          "paper_bgcolor": "white",
          "plot_bgcolor": "white",
          "polar": {
           "angularaxis": {
            "gridcolor": "#EBF0F8",
            "linecolor": "#EBF0F8",
            "ticks": ""
           },
           "bgcolor": "white",
           "radialaxis": {
            "gridcolor": "#EBF0F8",
            "linecolor": "#EBF0F8",
            "ticks": ""
           }
          },
          "scene": {
           "xaxis": {
            "backgroundcolor": "white",
            "gridcolor": "#DFE8F3",
            "gridwidth": 2,
            "linecolor": "#EBF0F8",
            "showbackground": true,
            "ticks": "",
            "zerolinecolor": "#EBF0F8"
           },
           "yaxis": {
            "backgroundcolor": "white",
            "gridcolor": "#DFE8F3",
            "gridwidth": 2,
            "linecolor": "#EBF0F8",
            "showbackground": true,
            "ticks": "",
            "zerolinecolor": "#EBF0F8"
           },
           "zaxis": {
            "backgroundcolor": "white",
            "gridcolor": "#DFE8F3",
            "gridwidth": 2,
            "linecolor": "#EBF0F8",
            "showbackground": true,
            "ticks": "",
            "zerolinecolor": "#EBF0F8"
           }
          },
          "shapedefaults": {
           "line": {
            "color": "#2a3f5f"
           }
          },
          "ternary": {
           "aaxis": {
            "gridcolor": "#DFE8F3",
            "linecolor": "#A2B1C6",
            "ticks": ""
           },
           "baxis": {
            "gridcolor": "#DFE8F3",
            "linecolor": "#A2B1C6",
            "ticks": ""
           },
           "bgcolor": "white",
           "caxis": {
            "gridcolor": "#DFE8F3",
            "linecolor": "#A2B1C6",
            "ticks": ""
           }
          },
          "title": {
           "x": 0.05
          },
          "xaxis": {
           "automargin": true,
           "gridcolor": "#EBF0F8",
           "linecolor": "#EBF0F8",
           "ticks": "",
           "title": {
            "standoff": 15
           },
           "zerolinecolor": "#EBF0F8",
           "zerolinewidth": 2
          },
          "yaxis": {
           "automargin": true,
           "gridcolor": "#EBF0F8",
           "linecolor": "#EBF0F8",
           "ticks": "",
           "title": {
            "standoff": 15
           },
           "zerolinecolor": "#EBF0F8",
           "zerolinewidth": 2
          }
         }
        },
        "xaxis": {
         "anchor": "y",
         "domain": [
          0.0,
          1.0
         ],
         "title": {
          "text": "<b>Ano"
         },
         "tickmode": "linear",
         "tick0": 2008,
         "dtick": 1
        },
        "yaxis": {
         "anchor": "x",
         "domain": [
          0.0,
          0.144
         ],
         "title": {
          "text": "<b>Quantidade"
         }
        },
        "xaxis2": {
         "anchor": "y2",
         "domain": [
          0.0,
          1.0
         ],
         "matches": "x",
         "showticklabels": false,
         "title": {
          "text": "<b>Ano"
         }
        },
        "yaxis2": {
         "anchor": "x2",
         "domain": [
          0.214,
          0.358
         ],
         "matches": "y",
         "title": {
          "text": "<b>Quantidade"
         }
        },
        "xaxis3": {
         "anchor": "y3",
         "domain": [
          0.0,
          1.0
         ],
         "matches": "x",
         "showticklabels": false,
         "title": {
          "text": "<b>Ano"
         }
        },
        "yaxis3": {
         "anchor": "x3",
         "domain": [
          0.428,
          0.572
         ],
         "matches": "y",
         "title": {
          "text": "<b>Quantidade"
         }
        },
        "xaxis4": {
         "anchor": "y4",
         "domain": [
          0.0,
          1.0
         ],
         "matches": "x",
         "showticklabels": false,
         "title": {
          "text": "<b>Ano"
         }
        },
        "yaxis4": {
         "anchor": "x4",
         "domain": [
          0.6419999999999999,
          0.7859999999999999
         ],
         "matches": "y",
         "title": {
          "text": "<b>Quantidade"
         }
        },
        "xaxis5": {
         "anchor": "y5",
         "domain": [
          0.0,
          1.0
         ],
         "matches": "x",
         "showticklabels": false,
         "title": {
          "text": "<b>Ano"
         }
        },
        "yaxis5": {
         "anchor": "x5",
         "domain": [
          0.856,
          1.0
         ],
         "matches": "y",
         "title": {
          "text": "<b>Quantidade"
         }
        },
        "annotations": [
         {
          "showarrow": false,
          "text": "regiao_nome=SUL",
          "x": 0.5,
          "xanchor": "center",
          "xref": "paper",
          "y": 0.144,
          "yanchor": "bottom",
          "yref": "paper"
         },
         {
          "showarrow": false,
          "text": "regiao_nome=SUDESTE",
          "x": 0.5,
          "xanchor": "center",
          "xref": "paper",
          "y": 0.358,
          "yanchor": "bottom",
          "yref": "paper"
         },
         {
          "showarrow": false,
          "text": "regiao_nome=NORTE",
          "x": 0.5,
          "xanchor": "center",
          "xref": "paper",
          "y": 0.572,
          "yanchor": "bottom",
          "yref": "paper"
         },
         {
          "showarrow": false,
          "text": "regiao_nome=NORDESTE",
          "x": 0.5,
          "xanchor": "center",
          "xref": "paper",
          "y": 0.7859999999999999,
          "yanchor": "bottom",
          "yref": "paper"
         },
         {
          "showarrow": false,
          "text": "regiao_nome=CENTRO-OESTE",
          "x": 0.5,
          "xanchor": "center",
          "xref": "paper",
          "y": 1.0,
          "yanchor": "bottom",
          "yref": "paper"
         },
         {
          "showarrow": false,
          "text": "Aumento",
          "x": 2022,
          "xanchor": "left",
          "xref": "x",
          "y": 1,
          "yanchor": "top",
          "yref": "y domain"
         },
         {
          "showarrow": false,
          "text": "Aumento",
          "x": 2022,
          "xanchor": "left",
          "xref": "x2",
          "y": 1,
          "yanchor": "top",
          "yref": "y2 domain"
         },
         {
          "showarrow": false,
          "text": "Aumento",
          "x": 2022,
          "xanchor": "left",
          "xref": "x3",
          "y": 1,
          "yanchor": "top",
          "yref": "y3 domain"
         },
         {
          "showarrow": false,
          "text": "Aumento",
          "x": 2022,
          "xanchor": "left",
          "xref": "x4",
          "y": 1,
          "yanchor": "top",
          "yref": "y4 domain"
         },
         {
          "showarrow": false,
          "text": "Aumento",
          "x": 2022,
          "xanchor": "left",
          "xref": "x5",
          "y": 1,
          "yanchor": "top",
          "yref": "y5 domain"
         },
         {
          "showarrow": false,
          "text": "pandemia",
          "x": 2019,
          "xanchor": "left",
          "xref": "x",
          "y": 1,
          "yanchor": "top",
          "yref": "y domain"
         },
         {
          "showarrow": false,
          "text": "pandemia",
          "x": 2019,
          "xanchor": "left",
          "xref": "x2",
          "y": 1,
          "yanchor": "top",
          "yref": "y2 domain"
         },
         {
          "showarrow": false,
          "text": "pandemia",
          "x": 2019,
          "xanchor": "left",
          "xref": "x3",
          "y": 1,
          "yanchor": "top",
          "yref": "y3 domain"
         },
         {
          "showarrow": false,
          "text": "pandemia",
          "x": 2019,
          "xanchor": "left",
          "xref": "x4",
          "y": 1,
          "yanchor": "top",
          "yref": "y4 domain"
         },
         {
          "showarrow": false,
          "text": "pandemia",
          "x": 2019,
          "xanchor": "left",
          "xref": "x5",
          "y": 1,
          "yanchor": "top",
          "yref": "y5 domain"
         }
        ],
        "legend": {
         "title": {
          "text": "variable"
         },
         "tracegroupgap": 0
        },
        "margin": {
         "t": 60
        },
        "height": 1000,
        "shapes": [
         {
          "fillcolor": "green",
          "line": {
           "width": 0
          },
          "opacity": 0.15,
          "type": "rect",
          "x0": 2022,
          "x1": 2023,
          "xref": "x",
          "y0": 0,
          "y1": 1,
          "yref": "y domain"
         },
         {
          "fillcolor": "green",
          "line": {
           "width": 0
          },
          "opacity": 0.15,
          "type": "rect",
          "x0": 2022,
          "x1": 2023,
          "xref": "x2",
          "y0": 0,
          "y1": 1,
          "yref": "y2 domain"
         },
         {
          "fillcolor": "green",
          "line": {
           "width": 0
          },
          "opacity": 0.15,
          "type": "rect",
          "x0": 2022,
          "x1": 2023,
          "xref": "x3",
          "y0": 0,
          "y1": 1,
          "yref": "y3 domain"
         },
         {
          "fillcolor": "green",
          "line": {
           "width": 0
          },
          "opacity": 0.15,
          "type": "rect",
          "x0": 2022,
          "x1": 2023,
          "xref": "x4",
          "y0": 0,
          "y1": 1,
          "yref": "y4 domain"
         },
         {
          "fillcolor": "green",
          "line": {
           "width": 0
          },
          "opacity": 0.15,
          "type": "rect",
          "x0": 2022,
          "x1": 2023,
          "xref": "x5",
          "y0": 0,
          "y1": 1,
          "yref": "y5 domain"
         },
         {
          "fillcolor": "black",
          "line": {
           "width": 0
          },
          "opacity": 0.15,
          "type": "rect",
          "x0": 2019,
          "x1": 2022,
          "xref": "x",
          "y0": 0,
          "y1": 1,
          "yref": "y domain"
         },
         {
          "fillcolor": "black",
          "line": {
           "width": 0
          },
          "opacity": 0.15,
          "type": "rect",
          "x0": 2019,
          "x1": 2022,
          "xref": "x2",
          "y0": 0,
          "y1": 1,
          "yref": "y2 domain"
         },
         {
          "fillcolor": "black",
          "line": {
           "width": 0
          },
          "opacity": 0.15,
          "type": "rect",
          "x0": 2019,
          "x1": 2022,
          "xref": "x3",
          "y0": 0,
          "y1": 1,
          "yref": "y3 domain"
         },
         {
          "fillcolor": "black",
          "line": {
           "width": 0
          },
          "opacity": 0.15,
          "type": "rect",
          "x0": 2019,
          "x1": 2022,
          "xref": "x4",
          "y0": 0,
          "y1": 1,
          "yref": "y4 domain"
         },
         {
          "fillcolor": "black",
          "line": {
           "width": 0
          },
          "opacity": 0.15,
          "type": "rect",
          "x0": 2019,
          "x1": 2022,
          "xref": "x5",
          "y0": 0,
          "y1": 1,
          "yref": "y5 domain"
         }
        ],
        "title": {
         "text": "Número de procedimentos por região entre 2008 a 2023"
        }
       },
       "config": {
        "plotlyServerURL": "https://plot.ly"
       }
      },
      "text/html": "<div>                            <div id=\"eb239284-db5f-45aa-b02f-01dd854e7e15\" class=\"plotly-graph-div\" style=\"height:1000px; width:100%;\"></div>            <script type=\"text/javascript\">                require([\"plotly\"], function(Plotly) {                    window.PLOTLYENV=window.PLOTLYENV || {};                                    if (document.getElementById(\"eb239284-db5f-45aa-b02f-01dd854e7e15\")) {                    Plotly.newPlot(                        \"eb239284-db5f-45aa-b02f-01dd854e7e15\",                        [{\"fillpattern\":{\"shape\":\"\"},\"hovertemplate\":\"variable=acoes_complementares_da_atencao_a_saude_qtd\\u003cbr\\u003eregiao_nome=CENTRO-OESTE\\u003cbr\\u003eano=%{x}\\u003cbr\\u003evalue=%{y}\\u003cextra\\u003e\\u003c\\u002fextra\\u003e\",\"legendgroup\":\"acoes_complementares_da_atencao_a_saude_qtd\",\"line\":{\"color\":\"#636efa\"},\"marker\":{\"symbol\":\"circle\"},\"mode\":\"lines\",\"name\":\"acoes_complementares_da_atencao_a_saude_qtd\",\"orientation\":\"v\",\"showlegend\":true,\"stackgroup\":\"1\",\"x\":[2008,2009,2010,2011,2012,2013,2014,2015,2016,2017,2018,2019,2020,2021,2022,2023],\"xaxis\":\"x5\",\"y\":[118221,318121,360769,368118,384591,415591,196577,211124,260677,239217,535035,821661,544356,532644,573013,2240684],\"yaxis\":\"y5\",\"type\":\"scatter\"},{\"fillpattern\":{\"shape\":\"\"},\"hovertemplate\":\"variable=acoes_complementares_da_atencao_a_saude_qtd\\u003cbr\\u003eregiao_nome=NORDESTE\\u003cbr\\u003eano=%{x}\\u003cbr\\u003evalue=%{y}\\u003cextra\\u003e\\u003c\\u002fextra\\u003e\",\"legendgroup\":\"acoes_complementares_da_atencao_a_saude_qtd\",\"line\":{\"color\":\"#636efa\"},\"marker\":{\"symbol\":\"circle\"},\"mode\":\"lines\",\"name\":\"acoes_complementares_da_atencao_a_saude_qtd\",\"orientation\":\"v\",\"showlegend\":false,\"stackgroup\":\"1\",\"x\":[2008,2009,2010,2011,2012,2013,2014,2015,2016,2017,2018,2019,2020,2021,2022,2023],\"xaxis\":\"x4\",\"y\":[474094,1196743,1230105,1314388,1343225,1479978,741948,842067,954945,980107,2025998,3183472,2069699,2001898,2140707,8141240],\"yaxis\":\"y4\",\"type\":\"scatter\"},{\"fillpattern\":{\"shape\":\"\"},\"hovertemplate\":\"variable=acoes_complementares_da_atencao_a_saude_qtd\\u003cbr\\u003eregiao_nome=NORTE\\u003cbr\\u003eano=%{x}\\u003cbr\\u003evalue=%{y}\\u003cextra\\u003e\\u003c\\u002fextra\\u003e\",\"legendgroup\":\"acoes_complementares_da_atencao_a_saude_qtd\",\"line\":{\"color\":\"#636efa\"},\"marker\":{\"symbol\":\"circle\"},\"mode\":\"lines\",\"name\":\"acoes_complementares_da_atencao_a_saude_qtd\",\"orientation\":\"v\",\"showlegend\":false,\"stackgroup\":\"1\",\"x\":[2008,2009,2010,2011,2012,2013,2014,2015,2016,2017,2018,2019,2020,2021,2022,2023],\"xaxis\":\"x3\",\"y\":[118953,331454,363172,384001,386282,417083,213017,247272,271399,290462,571297,935480,629781,602654,636901,2238466],\"yaxis\":\"y3\",\"type\":\"scatter\"},{\"fillpattern\":{\"shape\":\"\"},\"hovertemplate\":\"variable=acoes_complementares_da_atencao_a_saude_qtd\\u003cbr\\u003eregiao_nome=SUDESTE\\u003cbr\\u003eano=%{x}\\u003cbr\\u003evalue=%{y}\\u003cextra\\u003e\\u003c\\u002fextra\\u003e\",\"legendgroup\":\"acoes_complementares_da_atencao_a_saude_qtd\",\"line\":{\"color\":\"#636efa\"},\"marker\":{\"symbol\":\"circle\"},\"mode\":\"lines\",\"name\":\"acoes_complementares_da_atencao_a_saude_qtd\",\"orientation\":\"v\",\"showlegend\":false,\"stackgroup\":\"1\",\"x\":[2008,2009,2010,2011,2012,2013,2014,2015,2016,2017,2018,2019,2020,2021,2022,2023],\"xaxis\":\"x2\",\"y\":[676294,1757785,1891664,1989080,2025386,2095566,1049416,1166512,1248827,1254662,2691438,4127520,2650173,2501083,2750707,10529188],\"yaxis\":\"y2\",\"type\":\"scatter\"},{\"fillpattern\":{\"shape\":\"\"},\"hovertemplate\":\"variable=acoes_complementares_da_atencao_a_saude_qtd\\u003cbr\\u003eregiao_nome=SUL\\u003cbr\\u003eano=%{x}\\u003cbr\\u003evalue=%{y}\\u003cextra\\u003e\\u003c\\u002fextra\\u003e\",\"legendgroup\":\"acoes_complementares_da_atencao_a_saude_qtd\",\"line\":{\"color\":\"#636efa\"},\"marker\":{\"symbol\":\"circle\"},\"mode\":\"lines\",\"name\":\"acoes_complementares_da_atencao_a_saude_qtd\",\"orientation\":\"v\",\"showlegend\":false,\"stackgroup\":\"1\",\"x\":[2008,2009,2010,2011,2012,2013,2014,2015,2016,2017,2018,2019,2020,2021,2022,2023],\"xaxis\":\"x\",\"y\":[311434,777751,849909,855801,890336,907902,452453,491117,549136,549046,1120649,1786455,1120402,1116959,1208509,4536248],\"yaxis\":\"y\",\"type\":\"scatter\"},{\"fillpattern\":{\"shape\":\"\"},\"hovertemplate\":\"variable=acoes_relacionadas_a_doacao_de_orgaos_e_tecidos_para_transplante_qtd\\u003cbr\\u003eregiao_nome=CENTRO-OESTE\\u003cbr\\u003eano=%{x}\\u003cbr\\u003evalue=%{y}\\u003cextra\\u003e\\u003c\\u002fextra\\u003e\",\"legendgroup\":\"acoes_relacionadas_a_doacao_de_orgaos_e_tecidos_para_transplante_qtd\",\"line\":{\"color\":\"#EF553B\"},\"marker\":{\"symbol\":\"circle\"},\"mode\":\"lines\",\"name\":\"acoes_relacionadas_a_doacao_de_orgaos_e_tecidos_para_transplante_qtd\",\"orientation\":\"v\",\"showlegend\":true,\"stackgroup\":\"1\",\"x\":[2008,2009,2010,2011,2012,2013,2014,2015,2016,2017,2018,2019,2020,2021,2022,2023],\"xaxis\":\"x5\",\"y\":[133,108,49,79,143,124,27,69,52,47,225,412,243,209,306,824],\"yaxis\":\"y5\",\"type\":\"scatter\"},{\"fillpattern\":{\"shape\":\"\"},\"hovertemplate\":\"variable=acoes_relacionadas_a_doacao_de_orgaos_e_tecidos_para_transplante_qtd\\u003cbr\\u003eregiao_nome=NORDESTE\\u003cbr\\u003eano=%{x}\\u003cbr\\u003evalue=%{y}\\u003cextra\\u003e\\u003c\\u002fextra\\u003e\",\"legendgroup\":\"acoes_relacionadas_a_doacao_de_orgaos_e_tecidos_para_transplante_qtd\",\"line\":{\"color\":\"#EF553B\"},\"marker\":{\"symbol\":\"circle\"},\"mode\":\"lines\",\"name\":\"acoes_relacionadas_a_doacao_de_orgaos_e_tecidos_para_transplante_qtd\",\"orientation\":\"v\",\"showlegend\":false,\"stackgroup\":\"1\",\"x\":[2008,2009,2010,2011,2012,2013,2014,2015,2016,2017,2018,2019,2020,2021,2022,2023],\"xaxis\":\"x4\",\"y\":[99,272,345,397,541,667,248,318,403,442,790,1319,805,543,989,3793],\"yaxis\":\"y4\",\"type\":\"scatter\"},{\"fillpattern\":{\"shape\":\"\"},\"hovertemplate\":\"variable=acoes_relacionadas_a_doacao_de_orgaos_e_tecidos_para_transplante_qtd\\u003cbr\\u003eregiao_nome=NORTE\\u003cbr\\u003eano=%{x}\\u003cbr\\u003evalue=%{y}\\u003cextra\\u003e\\u003c\\u002fextra\\u003e\",\"legendgroup\":\"acoes_relacionadas_a_doacao_de_orgaos_e_tecidos_para_transplante_qtd\",\"line\":{\"color\":\"#EF553B\"},\"marker\":{\"symbol\":\"circle\"},\"mode\":\"lines\",\"name\":\"acoes_relacionadas_a_doacao_de_orgaos_e_tecidos_para_transplante_qtd\",\"orientation\":\"v\",\"showlegend\":false,\"stackgroup\":\"1\",\"x\":[2008,2009,2010,2011,2012,2013,2014,2015,2016,2017,2018,2019,2020,2021,2022,2023],\"xaxis\":\"x3\",\"y\":[1,19,11,8,32,30,24,19,83,19,109,181,222,92,188,520],\"yaxis\":\"y3\",\"type\":\"scatter\"},{\"fillpattern\":{\"shape\":\"\"},\"hovertemplate\":\"variable=acoes_relacionadas_a_doacao_de_orgaos_e_tecidos_para_transplante_qtd\\u003cbr\\u003eregiao_nome=SUDESTE\\u003cbr\\u003eano=%{x}\\u003cbr\\u003evalue=%{y}\\u003cextra\\u003e\\u003c\\u002fextra\\u003e\",\"legendgroup\":\"acoes_relacionadas_a_doacao_de_orgaos_e_tecidos_para_transplante_qtd\",\"line\":{\"color\":\"#EF553B\"},\"marker\":{\"symbol\":\"circle\"},\"mode\":\"lines\",\"name\":\"acoes_relacionadas_a_doacao_de_orgaos_e_tecidos_para_transplante_qtd\",\"orientation\":\"v\",\"showlegend\":false,\"stackgroup\":\"1\",\"x\":[2008,2009,2010,2011,2012,2013,2014,2015,2016,2017,2018,2019,2020,2021,2022,2023],\"xaxis\":\"x2\",\"y\":[942,1594,1781,1754,1634,1808,807,1032,1058,1127,2315,4007,2584,2043,2397,8782],\"yaxis\":\"y2\",\"type\":\"scatter\"},{\"fillpattern\":{\"shape\":\"\"},\"hovertemplate\":\"variable=acoes_relacionadas_a_doacao_de_orgaos_e_tecidos_para_transplante_qtd\\u003cbr\\u003eregiao_nome=SUL\\u003cbr\\u003eano=%{x}\\u003cbr\\u003evalue=%{y}\\u003cextra\\u003e\\u003c\\u002fextra\\u003e\",\"legendgroup\":\"acoes_relacionadas_a_doacao_de_orgaos_e_tecidos_para_transplante_qtd\",\"line\":{\"color\":\"#EF553B\"},\"marker\":{\"symbol\":\"circle\"},\"mode\":\"lines\",\"name\":\"acoes_relacionadas_a_doacao_de_orgaos_e_tecidos_para_transplante_qtd\",\"orientation\":\"v\",\"showlegend\":false,\"stackgroup\":\"1\",\"x\":[2008,2009,2010,2011,2012,2013,2014,2015,2016,2017,2018,2019,2020,2021,2022,2023],\"xaxis\":\"x\",\"y\":[390,736,781,982,1092,1352,485,438,791,851,1705,2461,1847,1095,1367,5636],\"yaxis\":\"y\",\"type\":\"scatter\"},{\"fillpattern\":{\"shape\":\"\"},\"hovertemplate\":\"variable=acoes_relacionadas_ao_estabelecimento_qtd\\u003cbr\\u003eregiao_nome=CENTRO-OESTE\\u003cbr\\u003eano=%{x}\\u003cbr\\u003evalue=%{y}\\u003cextra\\u003e\\u003c\\u002fextra\\u003e\",\"legendgroup\":\"acoes_relacionadas_ao_estabelecimento_qtd\",\"line\":{\"color\":\"#00cc96\"},\"marker\":{\"symbol\":\"circle\"},\"mode\":\"lines\",\"name\":\"acoes_relacionadas_ao_estabelecimento_qtd\",\"orientation\":\"v\",\"showlegend\":true,\"stackgroup\":\"1\",\"x\":[2008,2009,2010,2011,2012,2013,2014,2015,2016,2017,2018,2019,2020,2021,2022,2023],\"xaxis\":\"x5\",\"y\":[5508,11874,11627,11608,10065,9925,3949,4318,4053,4689,8808,8857,6435,6034,6923,25484],\"yaxis\":\"y5\",\"type\":\"scatter\"},{\"fillpattern\":{\"shape\":\"\"},\"hovertemplate\":\"variable=acoes_relacionadas_ao_estabelecimento_qtd\\u003cbr\\u003eregiao_nome=NORDESTE\\u003cbr\\u003eano=%{x}\\u003cbr\\u003evalue=%{y}\\u003cextra\\u003e\\u003c\\u002fextra\\u003e\",\"legendgroup\":\"acoes_relacionadas_ao_estabelecimento_qtd\",\"line\":{\"color\":\"#00cc96\"},\"marker\":{\"symbol\":\"circle\"},\"mode\":\"lines\",\"name\":\"acoes_relacionadas_ao_estabelecimento_qtd\",\"orientation\":\"v\",\"showlegend\":false,\"stackgroup\":\"1\",\"x\":[2008,2009,2010,2011,2012,2013,2014,2015,2016,2017,2018,2019,2020,2021,2022,2023],\"xaxis\":\"x4\",\"y\":[14411,28955,30692,30397,28363,23021,7262,6437,7708,8002,18346,18693,11195,13131,12563,57939],\"yaxis\":\"y4\",\"type\":\"scatter\"},{\"fillpattern\":{\"shape\":\"\"},\"hovertemplate\":\"variable=acoes_relacionadas_ao_estabelecimento_qtd\\u003cbr\\u003eregiao_nome=NORTE\\u003cbr\\u003eano=%{x}\\u003cbr\\u003evalue=%{y}\\u003cextra\\u003e\\u003c\\u002fextra\\u003e\",\"legendgroup\":\"acoes_relacionadas_ao_estabelecimento_qtd\",\"line\":{\"color\":\"#00cc96\"},\"marker\":{\"symbol\":\"circle\"},\"mode\":\"lines\",\"name\":\"acoes_relacionadas_ao_estabelecimento_qtd\",\"orientation\":\"v\",\"showlegend\":false,\"stackgroup\":\"1\",\"x\":[2008,2009,2010,2011,2012,2013,2014,2015,2016,2017,2018,2019,2020,2021,2022,2023],\"xaxis\":\"x3\",\"y\":[4773,13032,11855,11818,10510,9557,3465,3140,2555,3032,5572,6315,3892,3303,3095,12603],\"yaxis\":\"y3\",\"type\":\"scatter\"},{\"fillpattern\":{\"shape\":\"\"},\"hovertemplate\":\"variable=acoes_relacionadas_ao_estabelecimento_qtd\\u003cbr\\u003eregiao_nome=SUDESTE\\u003cbr\\u003eano=%{x}\\u003cbr\\u003evalue=%{y}\\u003cextra\\u003e\\u003c\\u002fextra\\u003e\",\"legendgroup\":\"acoes_relacionadas_ao_estabelecimento_qtd\",\"line\":{\"color\":\"#00cc96\"},\"marker\":{\"symbol\":\"circle\"},\"mode\":\"lines\",\"name\":\"acoes_relacionadas_ao_estabelecimento_qtd\",\"orientation\":\"v\",\"showlegend\":false,\"stackgroup\":\"1\",\"x\":[2008,2009,2010,2011,2012,2013,2014,2015,2016,2017,2018,2019,2020,2021,2022,2023],\"xaxis\":\"x2\",\"y\":[28983,51998,55512,56514,53449,57429,24874,27720,26072,30977,63496,63804,40912,30757,31988,134724],\"yaxis\":\"y2\",\"type\":\"scatter\"},{\"fillpattern\":{\"shape\":\"\"},\"hovertemplate\":\"variable=acoes_relacionadas_ao_estabelecimento_qtd\\u003cbr\\u003eregiao_nome=SUL\\u003cbr\\u003eano=%{x}\\u003cbr\\u003evalue=%{y}\\u003cextra\\u003e\\u003c\\u002fextra\\u003e\",\"legendgroup\":\"acoes_relacionadas_ao_estabelecimento_qtd\",\"line\":{\"color\":\"#00cc96\"},\"marker\":{\"symbol\":\"circle\"},\"mode\":\"lines\",\"name\":\"acoes_relacionadas_ao_estabelecimento_qtd\",\"orientation\":\"v\",\"showlegend\":false,\"stackgroup\":\"1\",\"x\":[2008,2009,2010,2011,2012,2013,2014,2015,2016,2017,2018,2019,2020,2021,2022,2023],\"xaxis\":\"x\",\"y\":[12469,24305,24336,26044,25991,26919,12390,12549,12863,14068,29961,23899,14273,12403,13439,51825],\"yaxis\":\"y\",\"type\":\"scatter\"},{\"fillpattern\":{\"shape\":\"\"},\"hovertemplate\":\"variable=acoes_relacionadas_ao_atendimento_qtd\\u003cbr\\u003eregiao_nome=CENTRO-OESTE\\u003cbr\\u003eano=%{x}\\u003cbr\\u003evalue=%{y}\\u003cextra\\u003e\\u003c\\u002fextra\\u003e\",\"legendgroup\":\"acoes_relacionadas_ao_atendimento_qtd\",\"line\":{\"color\":\"#ab63fa\"},\"marker\":{\"symbol\":\"circle\"},\"mode\":\"lines\",\"name\":\"acoes_relacionadas_ao_atendimento_qtd\",\"orientation\":\"v\",\"showlegend\":true,\"stackgroup\":\"1\",\"x\":[2008,2009,2010,2011,2012,2013,2014,2015,2016,2017,2018,2019,2020,2021,2022,2023],\"xaxis\":\"x5\",\"y\":[112713,306247,349142,356510,374526,405666,192628,206806,256624,234528,526227,812804,537921,526610,566090,2215200],\"yaxis\":\"y5\",\"type\":\"scatter\"},{\"fillpattern\":{\"shape\":\"\"},\"hovertemplate\":\"variable=acoes_relacionadas_ao_atendimento_qtd\\u003cbr\\u003eregiao_nome=NORDESTE\\u003cbr\\u003eano=%{x}\\u003cbr\\u003evalue=%{y}\\u003cextra\\u003e\\u003c\\u002fextra\\u003e\",\"legendgroup\":\"acoes_relacionadas_ao_atendimento_qtd\",\"line\":{\"color\":\"#ab63fa\"},\"marker\":{\"symbol\":\"circle\"},\"mode\":\"lines\",\"name\":\"acoes_relacionadas_ao_atendimento_qtd\",\"orientation\":\"v\",\"showlegend\":false,\"stackgroup\":\"1\",\"x\":[2008,2009,2010,2011,2012,2013,2014,2015,2016,2017,2018,2019,2020,2021,2022,2023],\"xaxis\":\"x4\",\"y\":[459683,1167788,1199413,1283991,1314862,1456957,734686,835630,947237,972105,2007652,3164779,2058504,1988767,2128144,8083301],\"yaxis\":\"y4\",\"type\":\"scatter\"},{\"fillpattern\":{\"shape\":\"\"},\"hovertemplate\":\"variable=acoes_relacionadas_ao_atendimento_qtd\\u003cbr\\u003eregiao_nome=NORTE\\u003cbr\\u003eano=%{x}\\u003cbr\\u003evalue=%{y}\\u003cextra\\u003e\\u003c\\u002fextra\\u003e\",\"legendgroup\":\"acoes_relacionadas_ao_atendimento_qtd\",\"line\":{\"color\":\"#ab63fa\"},\"marker\":{\"symbol\":\"circle\"},\"mode\":\"lines\",\"name\":\"acoes_relacionadas_ao_atendimento_qtd\",\"orientation\":\"v\",\"showlegend\":false,\"stackgroup\":\"1\",\"x\":[2008,2009,2010,2011,2012,2013,2014,2015,2016,2017,2018,2019,2020,2021,2022,2023],\"xaxis\":\"x3\",\"y\":[114180,318422,351317,372183,375772,407526,209552,244132,268844,287430,565725,929165,625889,599351,633806,2225863],\"yaxis\":\"y3\",\"type\":\"scatter\"},{\"fillpattern\":{\"shape\":\"\"},\"hovertemplate\":\"variable=acoes_relacionadas_ao_atendimento_qtd\\u003cbr\\u003eregiao_nome=SUDESTE\\u003cbr\\u003eano=%{x}\\u003cbr\\u003evalue=%{y}\\u003cextra\\u003e\\u003c\\u002fextra\\u003e\",\"legendgroup\":\"acoes_relacionadas_ao_atendimento_qtd\",\"line\":{\"color\":\"#ab63fa\"},\"marker\":{\"symbol\":\"circle\"},\"mode\":\"lines\",\"name\":\"acoes_relacionadas_ao_atendimento_qtd\",\"orientation\":\"v\",\"showlegend\":false,\"stackgroup\":\"1\",\"x\":[2008,2009,2010,2011,2012,2013,2014,2015,2016,2017,2018,2019,2020,2021,2022,2023],\"xaxis\":\"x2\",\"y\":[647311,1705787,1836152,1932566,1971937,2038137,1024542,1138792,1222755,1223685,2627942,4063716,2609261,2470326,2718719,10394464],\"yaxis\":\"y2\",\"type\":\"scatter\"},{\"fillpattern\":{\"shape\":\"\"},\"hovertemplate\":\"variable=acoes_relacionadas_ao_atendimento_qtd\\u003cbr\\u003eregiao_nome=SUL\\u003cbr\\u003eano=%{x}\\u003cbr\\u003evalue=%{y}\\u003cextra\\u003e\\u003c\\u002fextra\\u003e\",\"legendgroup\":\"acoes_relacionadas_ao_atendimento_qtd\",\"line\":{\"color\":\"#ab63fa\"},\"marker\":{\"symbol\":\"circle\"},\"mode\":\"lines\",\"name\":\"acoes_relacionadas_ao_atendimento_qtd\",\"orientation\":\"v\",\"showlegend\":false,\"stackgroup\":\"1\",\"x\":[2008,2009,2010,2011,2012,2013,2014,2015,2016,2017,2018,2019,2020,2021,2022,2023],\"xaxis\":\"x\",\"y\":[298965,753446,825573,829757,864345,880983,440063,478568,536273,534978,1090688,1762556,1106129,1104556,1195070,4484423],\"yaxis\":\"y\",\"type\":\"scatter\"}],                        {\"template\":{\"data\":{\"barpolar\":[{\"marker\":{\"line\":{\"color\":\"white\",\"width\":0.5},\"pattern\":{\"fillmode\":\"overlay\",\"size\":10,\"solidity\":0.2}},\"type\":\"barpolar\"}],\"bar\":[{\"error_x\":{\"color\":\"#2a3f5f\"},\"error_y\":{\"color\":\"#2a3f5f\"},\"marker\":{\"line\":{\"color\":\"white\",\"width\":0.5},\"pattern\":{\"fillmode\":\"overlay\",\"size\":10,\"solidity\":0.2}},\"type\":\"bar\"}],\"carpet\":[{\"aaxis\":{\"endlinecolor\":\"#2a3f5f\",\"gridcolor\":\"#C8D4E3\",\"linecolor\":\"#C8D4E3\",\"minorgridcolor\":\"#C8D4E3\",\"startlinecolor\":\"#2a3f5f\"},\"baxis\":{\"endlinecolor\":\"#2a3f5f\",\"gridcolor\":\"#C8D4E3\",\"linecolor\":\"#C8D4E3\",\"minorgridcolor\":\"#C8D4E3\",\"startlinecolor\":\"#2a3f5f\"},\"type\":\"carpet\"}],\"choropleth\":[{\"colorbar\":{\"outlinewidth\":0,\"ticks\":\"\"},\"type\":\"choropleth\"}],\"contourcarpet\":[{\"colorbar\":{\"outlinewidth\":0,\"ticks\":\"\"},\"type\":\"contourcarpet\"}],\"contour\":[{\"colorbar\":{\"outlinewidth\":0,\"ticks\":\"\"},\"colorscale\":[[0.0,\"#0d0887\"],[0.1111111111111111,\"#46039f\"],[0.2222222222222222,\"#7201a8\"],[0.3333333333333333,\"#9c179e\"],[0.4444444444444444,\"#bd3786\"],[0.5555555555555556,\"#d8576b\"],[0.6666666666666666,\"#ed7953\"],[0.7777777777777778,\"#fb9f3a\"],[0.8888888888888888,\"#fdca26\"],[1.0,\"#f0f921\"]],\"type\":\"contour\"}],\"heatmapgl\":[{\"colorbar\":{\"outlinewidth\":0,\"ticks\":\"\"},\"colorscale\":[[0.0,\"#0d0887\"],[0.1111111111111111,\"#46039f\"],[0.2222222222222222,\"#7201a8\"],[0.3333333333333333,\"#9c179e\"],[0.4444444444444444,\"#bd3786\"],[0.5555555555555556,\"#d8576b\"],[0.6666666666666666,\"#ed7953\"],[0.7777777777777778,\"#fb9f3a\"],[0.8888888888888888,\"#fdca26\"],[1.0,\"#f0f921\"]],\"type\":\"heatmapgl\"}],\"heatmap\":[{\"colorbar\":{\"outlinewidth\":0,\"ticks\":\"\"},\"colorscale\":[[0.0,\"#0d0887\"],[0.1111111111111111,\"#46039f\"],[0.2222222222222222,\"#7201a8\"],[0.3333333333333333,\"#9c179e\"],[0.4444444444444444,\"#bd3786\"],[0.5555555555555556,\"#d8576b\"],[0.6666666666666666,\"#ed7953\"],[0.7777777777777778,\"#fb9f3a\"],[0.8888888888888888,\"#fdca26\"],[1.0,\"#f0f921\"]],\"type\":\"heatmap\"}],\"histogram2dcontour\":[{\"colorbar\":{\"outlinewidth\":0,\"ticks\":\"\"},\"colorscale\":[[0.0,\"#0d0887\"],[0.1111111111111111,\"#46039f\"],[0.2222222222222222,\"#7201a8\"],[0.3333333333333333,\"#9c179e\"],[0.4444444444444444,\"#bd3786\"],[0.5555555555555556,\"#d8576b\"],[0.6666666666666666,\"#ed7953\"],[0.7777777777777778,\"#fb9f3a\"],[0.8888888888888888,\"#fdca26\"],[1.0,\"#f0f921\"]],\"type\":\"histogram2dcontour\"}],\"histogram2d\":[{\"colorbar\":{\"outlinewidth\":0,\"ticks\":\"\"},\"colorscale\":[[0.0,\"#0d0887\"],[0.1111111111111111,\"#46039f\"],[0.2222222222222222,\"#7201a8\"],[0.3333333333333333,\"#9c179e\"],[0.4444444444444444,\"#bd3786\"],[0.5555555555555556,\"#d8576b\"],[0.6666666666666666,\"#ed7953\"],[0.7777777777777778,\"#fb9f3a\"],[0.8888888888888888,\"#fdca26\"],[1.0,\"#f0f921\"]],\"type\":\"histogram2d\"}],\"histogram\":[{\"marker\":{\"pattern\":{\"fillmode\":\"overlay\",\"size\":10,\"solidity\":0.2}},\"type\":\"histogram\"}],\"mesh3d\":[{\"colorbar\":{\"outlinewidth\":0,\"ticks\":\"\"},\"type\":\"mesh3d\"}],\"parcoords\":[{\"line\":{\"colorbar\":{\"outlinewidth\":0,\"ticks\":\"\"}},\"type\":\"parcoords\"}],\"pie\":[{\"automargin\":true,\"type\":\"pie\"}],\"scatter3d\":[{\"line\":{\"colorbar\":{\"outlinewidth\":0,\"ticks\":\"\"}},\"marker\":{\"colorbar\":{\"outlinewidth\":0,\"ticks\":\"\"}},\"type\":\"scatter3d\"}],\"scattercarpet\":[{\"marker\":{\"colorbar\":{\"outlinewidth\":0,\"ticks\":\"\"}},\"type\":\"scattercarpet\"}],\"scattergeo\":[{\"marker\":{\"colorbar\":{\"outlinewidth\":0,\"ticks\":\"\"}},\"type\":\"scattergeo\"}],\"scattergl\":[{\"marker\":{\"colorbar\":{\"outlinewidth\":0,\"ticks\":\"\"}},\"type\":\"scattergl\"}],\"scattermapbox\":[{\"marker\":{\"colorbar\":{\"outlinewidth\":0,\"ticks\":\"\"}},\"type\":\"scattermapbox\"}],\"scatterpolargl\":[{\"marker\":{\"colorbar\":{\"outlinewidth\":0,\"ticks\":\"\"}},\"type\":\"scatterpolargl\"}],\"scatterpolar\":[{\"marker\":{\"colorbar\":{\"outlinewidth\":0,\"ticks\":\"\"}},\"type\":\"scatterpolar\"}],\"scatter\":[{\"fillpattern\":{\"fillmode\":\"overlay\",\"size\":10,\"solidity\":0.2},\"type\":\"scatter\"}],\"scatterternary\":[{\"marker\":{\"colorbar\":{\"outlinewidth\":0,\"ticks\":\"\"}},\"type\":\"scatterternary\"}],\"surface\":[{\"colorbar\":{\"outlinewidth\":0,\"ticks\":\"\"},\"colorscale\":[[0.0,\"#0d0887\"],[0.1111111111111111,\"#46039f\"],[0.2222222222222222,\"#7201a8\"],[0.3333333333333333,\"#9c179e\"],[0.4444444444444444,\"#bd3786\"],[0.5555555555555556,\"#d8576b\"],[0.6666666666666666,\"#ed7953\"],[0.7777777777777778,\"#fb9f3a\"],[0.8888888888888888,\"#fdca26\"],[1.0,\"#f0f921\"]],\"type\":\"surface\"}],\"table\":[{\"cells\":{\"fill\":{\"color\":\"#EBF0F8\"},\"line\":{\"color\":\"white\"}},\"header\":{\"fill\":{\"color\":\"#C8D4E3\"},\"line\":{\"color\":\"white\"}},\"type\":\"table\"}]},\"layout\":{\"annotationdefaults\":{\"arrowcolor\":\"#2a3f5f\",\"arrowhead\":0,\"arrowwidth\":1},\"autotypenumbers\":\"strict\",\"coloraxis\":{\"colorbar\":{\"outlinewidth\":0,\"ticks\":\"\"}},\"colorscale\":{\"diverging\":[[0,\"#8e0152\"],[0.1,\"#c51b7d\"],[0.2,\"#de77ae\"],[0.3,\"#f1b6da\"],[0.4,\"#fde0ef\"],[0.5,\"#f7f7f7\"],[0.6,\"#e6f5d0\"],[0.7,\"#b8e186\"],[0.8,\"#7fbc41\"],[0.9,\"#4d9221\"],[1,\"#276419\"]],\"sequential\":[[0.0,\"#0d0887\"],[0.1111111111111111,\"#46039f\"],[0.2222222222222222,\"#7201a8\"],[0.3333333333333333,\"#9c179e\"],[0.4444444444444444,\"#bd3786\"],[0.5555555555555556,\"#d8576b\"],[0.6666666666666666,\"#ed7953\"],[0.7777777777777778,\"#fb9f3a\"],[0.8888888888888888,\"#fdca26\"],[1.0,\"#f0f921\"]],\"sequentialminus\":[[0.0,\"#0d0887\"],[0.1111111111111111,\"#46039f\"],[0.2222222222222222,\"#7201a8\"],[0.3333333333333333,\"#9c179e\"],[0.4444444444444444,\"#bd3786\"],[0.5555555555555556,\"#d8576b\"],[0.6666666666666666,\"#ed7953\"],[0.7777777777777778,\"#fb9f3a\"],[0.8888888888888888,\"#fdca26\"],[1.0,\"#f0f921\"]]},\"colorway\":[\"#636efa\",\"#EF553B\",\"#00cc96\",\"#ab63fa\",\"#FFA15A\",\"#19d3f3\",\"#FF6692\",\"#B6E880\",\"#FF97FF\",\"#FECB52\"],\"font\":{\"color\":\"#2a3f5f\"},\"geo\":{\"bgcolor\":\"white\",\"lakecolor\":\"white\",\"landcolor\":\"white\",\"showlakes\":true,\"showland\":true,\"subunitcolor\":\"#C8D4E3\"},\"hoverlabel\":{\"align\":\"left\"},\"hovermode\":\"closest\",\"mapbox\":{\"style\":\"light\"},\"paper_bgcolor\":\"white\",\"plot_bgcolor\":\"white\",\"polar\":{\"angularaxis\":{\"gridcolor\":\"#EBF0F8\",\"linecolor\":\"#EBF0F8\",\"ticks\":\"\"},\"bgcolor\":\"white\",\"radialaxis\":{\"gridcolor\":\"#EBF0F8\",\"linecolor\":\"#EBF0F8\",\"ticks\":\"\"}},\"scene\":{\"xaxis\":{\"backgroundcolor\":\"white\",\"gridcolor\":\"#DFE8F3\",\"gridwidth\":2,\"linecolor\":\"#EBF0F8\",\"showbackground\":true,\"ticks\":\"\",\"zerolinecolor\":\"#EBF0F8\"},\"yaxis\":{\"backgroundcolor\":\"white\",\"gridcolor\":\"#DFE8F3\",\"gridwidth\":2,\"linecolor\":\"#EBF0F8\",\"showbackground\":true,\"ticks\":\"\",\"zerolinecolor\":\"#EBF0F8\"},\"zaxis\":{\"backgroundcolor\":\"white\",\"gridcolor\":\"#DFE8F3\",\"gridwidth\":2,\"linecolor\":\"#EBF0F8\",\"showbackground\":true,\"ticks\":\"\",\"zerolinecolor\":\"#EBF0F8\"}},\"shapedefaults\":{\"line\":{\"color\":\"#2a3f5f\"}},\"ternary\":{\"aaxis\":{\"gridcolor\":\"#DFE8F3\",\"linecolor\":\"#A2B1C6\",\"ticks\":\"\"},\"baxis\":{\"gridcolor\":\"#DFE8F3\",\"linecolor\":\"#A2B1C6\",\"ticks\":\"\"},\"bgcolor\":\"white\",\"caxis\":{\"gridcolor\":\"#DFE8F3\",\"linecolor\":\"#A2B1C6\",\"ticks\":\"\"}},\"title\":{\"x\":0.05},\"xaxis\":{\"automargin\":true,\"gridcolor\":\"#EBF0F8\",\"linecolor\":\"#EBF0F8\",\"ticks\":\"\",\"title\":{\"standoff\":15},\"zerolinecolor\":\"#EBF0F8\",\"zerolinewidth\":2},\"yaxis\":{\"automargin\":true,\"gridcolor\":\"#EBF0F8\",\"linecolor\":\"#EBF0F8\",\"ticks\":\"\",\"title\":{\"standoff\":15},\"zerolinecolor\":\"#EBF0F8\",\"zerolinewidth\":2}}},\"xaxis\":{\"anchor\":\"y\",\"domain\":[0.0,1.0],\"title\":{\"text\":\"\\u003cb\\u003eAno\"},\"tickmode\":\"linear\",\"tick0\":2008,\"dtick\":1},\"yaxis\":{\"anchor\":\"x\",\"domain\":[0.0,0.144],\"title\":{\"text\":\"\\u003cb\\u003eQuantidade\"}},\"xaxis2\":{\"anchor\":\"y2\",\"domain\":[0.0,1.0],\"matches\":\"x\",\"showticklabels\":false,\"title\":{\"text\":\"\\u003cb\\u003eAno\"}},\"yaxis2\":{\"anchor\":\"x2\",\"domain\":[0.214,0.358],\"matches\":\"y\",\"title\":{\"text\":\"\\u003cb\\u003eQuantidade\"}},\"xaxis3\":{\"anchor\":\"y3\",\"domain\":[0.0,1.0],\"matches\":\"x\",\"showticklabels\":false,\"title\":{\"text\":\"\\u003cb\\u003eAno\"}},\"yaxis3\":{\"anchor\":\"x3\",\"domain\":[0.428,0.572],\"matches\":\"y\",\"title\":{\"text\":\"\\u003cb\\u003eQuantidade\"}},\"xaxis4\":{\"anchor\":\"y4\",\"domain\":[0.0,1.0],\"matches\":\"x\",\"showticklabels\":false,\"title\":{\"text\":\"\\u003cb\\u003eAno\"}},\"yaxis4\":{\"anchor\":\"x4\",\"domain\":[0.6419999999999999,0.7859999999999999],\"matches\":\"y\",\"title\":{\"text\":\"\\u003cb\\u003eQuantidade\"}},\"xaxis5\":{\"anchor\":\"y5\",\"domain\":[0.0,1.0],\"matches\":\"x\",\"showticklabels\":false,\"title\":{\"text\":\"\\u003cb\\u003eAno\"}},\"yaxis5\":{\"anchor\":\"x5\",\"domain\":[0.856,1.0],\"matches\":\"y\",\"title\":{\"text\":\"\\u003cb\\u003eQuantidade\"}},\"annotations\":[{\"showarrow\":false,\"text\":\"regiao_nome=SUL\",\"x\":0.5,\"xanchor\":\"center\",\"xref\":\"paper\",\"y\":0.144,\"yanchor\":\"bottom\",\"yref\":\"paper\"},{\"showarrow\":false,\"text\":\"regiao_nome=SUDESTE\",\"x\":0.5,\"xanchor\":\"center\",\"xref\":\"paper\",\"y\":0.358,\"yanchor\":\"bottom\",\"yref\":\"paper\"},{\"showarrow\":false,\"text\":\"regiao_nome=NORTE\",\"x\":0.5,\"xanchor\":\"center\",\"xref\":\"paper\",\"y\":0.572,\"yanchor\":\"bottom\",\"yref\":\"paper\"},{\"showarrow\":false,\"text\":\"regiao_nome=NORDESTE\",\"x\":0.5,\"xanchor\":\"center\",\"xref\":\"paper\",\"y\":0.7859999999999999,\"yanchor\":\"bottom\",\"yref\":\"paper\"},{\"showarrow\":false,\"text\":\"regiao_nome=CENTRO-OESTE\",\"x\":0.5,\"xanchor\":\"center\",\"xref\":\"paper\",\"y\":1.0,\"yanchor\":\"bottom\",\"yref\":\"paper\"},{\"showarrow\":false,\"text\":\"Aumento\",\"x\":2022,\"xanchor\":\"left\",\"xref\":\"x\",\"y\":1,\"yanchor\":\"top\",\"yref\":\"y domain\"},{\"showarrow\":false,\"text\":\"Aumento\",\"x\":2022,\"xanchor\":\"left\",\"xref\":\"x2\",\"y\":1,\"yanchor\":\"top\",\"yref\":\"y2 domain\"},{\"showarrow\":false,\"text\":\"Aumento\",\"x\":2022,\"xanchor\":\"left\",\"xref\":\"x3\",\"y\":1,\"yanchor\":\"top\",\"yref\":\"y3 domain\"},{\"showarrow\":false,\"text\":\"Aumento\",\"x\":2022,\"xanchor\":\"left\",\"xref\":\"x4\",\"y\":1,\"yanchor\":\"top\",\"yref\":\"y4 domain\"},{\"showarrow\":false,\"text\":\"Aumento\",\"x\":2022,\"xanchor\":\"left\",\"xref\":\"x5\",\"y\":1,\"yanchor\":\"top\",\"yref\":\"y5 domain\"},{\"showarrow\":false,\"text\":\"pandemia\",\"x\":2019,\"xanchor\":\"left\",\"xref\":\"x\",\"y\":1,\"yanchor\":\"top\",\"yref\":\"y domain\"},{\"showarrow\":false,\"text\":\"pandemia\",\"x\":2019,\"xanchor\":\"left\",\"xref\":\"x2\",\"y\":1,\"yanchor\":\"top\",\"yref\":\"y2 domain\"},{\"showarrow\":false,\"text\":\"pandemia\",\"x\":2019,\"xanchor\":\"left\",\"xref\":\"x3\",\"y\":1,\"yanchor\":\"top\",\"yref\":\"y3 domain\"},{\"showarrow\":false,\"text\":\"pandemia\",\"x\":2019,\"xanchor\":\"left\",\"xref\":\"x4\",\"y\":1,\"yanchor\":\"top\",\"yref\":\"y4 domain\"},{\"showarrow\":false,\"text\":\"pandemia\",\"x\":2019,\"xanchor\":\"left\",\"xref\":\"x5\",\"y\":1,\"yanchor\":\"top\",\"yref\":\"y5 domain\"}],\"legend\":{\"title\":{\"text\":\"variable\"},\"tracegroupgap\":0},\"margin\":{\"t\":60},\"height\":1000,\"shapes\":[{\"fillcolor\":\"green\",\"line\":{\"width\":0},\"opacity\":0.15,\"type\":\"rect\",\"x0\":2022,\"x1\":2023,\"xref\":\"x\",\"y0\":0,\"y1\":1,\"yref\":\"y domain\"},{\"fillcolor\":\"green\",\"line\":{\"width\":0},\"opacity\":0.15,\"type\":\"rect\",\"x0\":2022,\"x1\":2023,\"xref\":\"x2\",\"y0\":0,\"y1\":1,\"yref\":\"y2 domain\"},{\"fillcolor\":\"green\",\"line\":{\"width\":0},\"opacity\":0.15,\"type\":\"rect\",\"x0\":2022,\"x1\":2023,\"xref\":\"x3\",\"y0\":0,\"y1\":1,\"yref\":\"y3 domain\"},{\"fillcolor\":\"green\",\"line\":{\"width\":0},\"opacity\":0.15,\"type\":\"rect\",\"x0\":2022,\"x1\":2023,\"xref\":\"x4\",\"y0\":0,\"y1\":1,\"yref\":\"y4 domain\"},{\"fillcolor\":\"green\",\"line\":{\"width\":0},\"opacity\":0.15,\"type\":\"rect\",\"x0\":2022,\"x1\":2023,\"xref\":\"x5\",\"y0\":0,\"y1\":1,\"yref\":\"y5 domain\"},{\"fillcolor\":\"black\",\"line\":{\"width\":0},\"opacity\":0.15,\"type\":\"rect\",\"x0\":2019,\"x1\":2022,\"xref\":\"x\",\"y0\":0,\"y1\":1,\"yref\":\"y domain\"},{\"fillcolor\":\"black\",\"line\":{\"width\":0},\"opacity\":0.15,\"type\":\"rect\",\"x0\":2019,\"x1\":2022,\"xref\":\"x2\",\"y0\":0,\"y1\":1,\"yref\":\"y2 domain\"},{\"fillcolor\":\"black\",\"line\":{\"width\":0},\"opacity\":0.15,\"type\":\"rect\",\"x0\":2019,\"x1\":2022,\"xref\":\"x3\",\"y0\":0,\"y1\":1,\"yref\":\"y3 domain\"},{\"fillcolor\":\"black\",\"line\":{\"width\":0},\"opacity\":0.15,\"type\":\"rect\",\"x0\":2019,\"x1\":2022,\"xref\":\"x4\",\"y0\":0,\"y1\":1,\"yref\":\"y4 domain\"},{\"fillcolor\":\"black\",\"line\":{\"width\":0},\"opacity\":0.15,\"type\":\"rect\",\"x0\":2019,\"x1\":2022,\"xref\":\"x5\",\"y0\":0,\"y1\":1,\"yref\":\"y5 domain\"}],\"title\":{\"text\":\"N\\u00famero de procedimentos por regi\\u00e3o entre 2008 a 2023\"}},                        {\"responsive\": true}                    ).then(function(){\n                            \nvar gd = document.getElementById('eb239284-db5f-45aa-b02f-01dd854e7e15');\nvar x = new MutationObserver(function (mutations, observer) {{\n        var display = window.getComputedStyle(gd).display;\n        if (!display || display === 'none') {{\n            console.log([gd, 'removed!']);\n            Plotly.purge(gd);\n            observer.disconnect();\n        }}\n}});\n\n// Listen for the removal of the full notebook cells\nvar notebookContainer = gd.closest('#notebook-container');\nif (notebookContainer) {{\n    x.observe(notebookContainer, {childList: true});\n}}\n\n// Listen for the clearing of the current output cell\nvar outputEl = gd.closest('.output');\nif (outputEl) {{\n    x.observe(outputEl, {childList: true});\n}}\n\n                        })                };                });            </script>        </div>"
     },
     "metadata": {},
     "output_type": "display_data"
    }
   ],
   "source": [
    "padrao_cirurgia_qtd = r'regiao_nome|^cirurgia_.*_qtd$|cirurgia.*_qtd$|bucomaxilofacial_qtd$'\n",
    "padrao_proced_qtd = r'regiao_nome|^procedimentos_.*_qtd$'\n",
    "padrao_transplante_qtd = r'regiao_nome|^transplante.*_qtd$|pos_transplante.*_qtd$'\n",
    "padrao_medicamentos_qtd = r'regiao_nome|medicamentos.*_qtd$|medicamentos_.*_qtd'\n",
    "padrao_proteses_qtd = r'regiao_nome|proteses_.*_qtd$'\n",
    "padrao_acoes_saude_qtd = r'regiao_nome|^acoes_.*_qtd$'\n",
    "padrao_consultas_tratamentos_terapias_qtd = r'regiao_nome|^consultas.*_qtd$|^tratamentos_.*_qtd$|^tratamento_.*_qtd$|terapia.*_qtd$'\n",
    "padrao_parto_nascimento_qtd = r'regiao_nome$|parto_.*_qtd$'\n",
    "padrao_coleta_diagnostico_qtd = r'regiao_nome|^coleta.*_qtd$|^diagnostico_.*_qtd$'\n",
    "padrao_qtd = r'regiao_nome|_qtd$'\n",
    "fig = px.area(df_datasus_agrupado_ano_regiao.filter(regex=padrao_acoes_saude_qtd),\n",
    "              facet_col_wrap=1,\n",
    "              color='variable',\n",
    "              height=1000,\n",
    "              facet_col=\"regiao_nome\")\n",
    "\n",
    "fig.add_vrect(x0=2022, x1=2023, col=1, annotation_text=\"Aumento\", annotation_position=\"top left\",\n",
    "              fillcolor=\"green\", opacity=0.15, line_width=0)\n",
    "\n",
    "fig.add_vrect(x0=2019, x1=2022, col=1, annotation_text=\"pandemia\", annotation_position=\"top left\",\n",
    "              fillcolor=\"black\", opacity=0.15, line_width=0)\n",
    "\n",
    "\n",
    "fig.update_yaxes(title_text='<b>Quantidade')\n",
    "fig.update_xaxes(title_text='<b>Ano')\n",
    "fig.update_layout(template='plotly_white', title='Número de procedimentos por região entre 2008 a 2023', xaxis = dict(\n",
    "        tickmode = 'linear',\n",
    "        tick0 = 2008,\n",
    "        dtick = 1\n",
    "    ))\n",
    "fig.show()"
   ],
   "metadata": {
    "collapsed": false,
    "ExecuteTime": {
     "end_time": "2024-03-05T05:30:21.782718859Z",
     "start_time": "2024-03-05T05:30:21.371626906Z"
    }
   },
   "id": "e2181dbdcdd9e614",
   "execution_count": 436
  },
  {
   "cell_type": "code",
   "outputs": [
    {
     "data": {
      "text/plain": "       regiao_nome  procedimentos_com_finalidade_diagnostica_val  \\\nano                                                                \n2008  CENTRO-OESTE                                  1.028925e+06   \n2008      NORDESTE                                  2.674956e+06   \n2008         NORTE                                  5.945984e+05   \n2008       SUDESTE                                  8.126995e+06   \n2008           SUL                                  4.898049e+06   \n...            ...                                           ...   \n2023  CENTRO-OESTE                                  4.517653e+07   \n2023      NORDESTE                                  1.059644e+08   \n2023         NORTE                                  2.227182e+07   \n2023       SUDESTE                                  2.902799e+08   \n2023           SUL                                  1.610729e+08   \n\n      procedimentos_clinicos_val  procedimentos_cirurgicos_val  \\\nano                                                              \n2008                2.221484e+07                  1.370143e+07   \n2008                7.948262e+07                  5.231219e+07   \n2008                2.029752e+07                  1.217338e+07   \n2008                1.144507e+08                  8.084442e+07   \n2008                4.486271e+07                  3.826789e+07   \n...                          ...                           ...   \n2023                1.878710e+08                  2.985622e+08   \n2023                6.581306e+08                  1.058790e+09   \n2023                1.756974e+08                  2.511439e+08   \n2023                1.079839e+09                  1.670540e+09   \n2023                4.724161e+08                  8.348919e+08   \n\n      transplantes_de_orgaos_tecidos_e_celulas_val  medicamentos_val  \\\nano                                                                    \n2008                                  6.610510e+05         159259.62   \n2008                                  2.094081e+06         451019.39   \n2008                                  3.569991e+04         103677.09   \n2008                                  8.434294e+06        1608037.77   \n2008                                  4.355560e+06         690089.86   \n...                                            ...               ...   \n2023                                  1.942420e+07        2902909.66   \n2023                                  7.480360e+07        9536559.02   \n2023                                  4.795599e+06        2060983.33   \n2023                                  2.385364e+08       35599451.78   \n2023                                  1.193155e+08       12124802.36   \n\n      orteses_proteses_e_materiais_especiais_val  \\\nano                                                \n2008                                3.737570e+06   \n2008                                1.071472e+07   \n2008                                1.526927e+06   \n2008                                3.016053e+07   \n2008                                1.948509e+07   \n...                                          ...   \n2023                                8.065437e+07   \n2023                                1.817083e+08   \n2023                                2.966659e+07   \n2023                                4.567783e+08   \n2023                                2.617210e+08   \n\n      acoes_complementares_da_atencao_a_saude_val  coleta_de_material_val  \\\nano                                                                         \n2008                                 8.108463e+06               161577.26   \n2008                                 2.001088e+07               687942.90   \n2008                                 4.591810e+06                 3877.03   \n2008                                 5.004712e+07               205841.76   \n2008                                 2.375574e+07               160054.36   \n...                                           ...                     ...   \n2023                                 2.668703e+08               349506.42   \n2023                                 7.695298e+08               921517.11   \n2023                                 1.953748e+08               132907.94   \n2023                                 1.634564e+09              2786507.75   \n2023                                 6.596415e+08              1302338.78   \n\n      diagnostico_em_laboratorio_clinico_val  ...  \\\nano                                           ...   \n2008                                 6880.00  ...   \n2008                                15955.00  ...   \n2008                                 2638.00  ...   \n2008                                39251.50  ...   \n2008                                11370.00  ...   \n...                                      ...  ...   \n2023                               371813.97  ...   \n2023                               500640.16  ...   \n2023                               199605.56  ...   \n2023                              2825056.74  ...   \n2023                              1947409.08  ...   \n\n      avaliacao_de_morte_encefalica_val  \\\nano                                       \n2008                             3505.0   \n2008                             2315.0   \n2008                                0.0   \n2008                            18295.0   \n2008                            11560.0   \n...                                 ...   \n2023                            47050.0   \n2023                           212255.0   \n2023                            27950.0   \n2023                           321800.0   \n2023                           265375.0   \n\n      acoes_relacionadas_a_doacao_de_orgaos_e_tecidos_para_transplante_val  \\\nano                                                                          \n2008                                           55103.38                      \n2008                                           85832.18                      \n2008                                            2123.60                      \n2008                                          589602.74                      \n2008                                          229379.42                      \n...                                                 ...                      \n2023                                         1176864.87                      \n2023                                         3773025.93                      \n2023                                          449833.18                      \n2023                                        10616789.18                      \n2023                                         6559052.41                      \n\n      processamento_de_tecidos_para_transplante_val  \\\nano                                                   \n2008                                            0.0   \n2008                                            0.0   \n2008                                            0.0   \n2008                                         7630.0   \n2008                                        14960.0   \n...                                             ...   \n2023                                       111628.8   \n2023                                       372216.0   \n2023                                       138607.2   \n2023                                       301328.1   \n2023                                       631177.0   \n\n      transplante_de_orgaos_tecidos_e_celulas_val  \\\nano                                                 \n2008                                 5.340402e+05   \n2008                                 1.778050e+06   \n2008                                 0.000000e+00   \n2008                                 7.137401e+06   \n2008                                 3.611595e+06   \n...                                           ...   \n2023                                 1.621179e+07   \n2023                                 6.225824e+07   \n2023                                 3.721833e+06   \n2023                                 1.975176e+08   \n2023                                 9.940688e+07   \n\n      acompanhamento_e_intercorrencias_no_pre_e_pos_transplante_val  \\\nano                                                                   \n2008                                           64729.41               \n2008                                          216763.52               \n2008                                           33210.00               \n2008                                          641896.02               \n2008                                          457966.07               \n...                                                 ...               \n2023                                         1607165.03               \n2023                                         6911748.11               \n2023                                          368948.23               \n2023                                        25773367.15               \n2023                                        10802301.83               \n\n      medicamentos_de_ambito_hospitalar_e_urgencia_val  \\\nano                                                      \n2008                                         159259.62   \n2008                                         451019.39   \n2008                                         103677.09   \n2008                                        1608037.77   \n2008                                         690089.86   \n...                                                ...   \n2023                                        2902909.66   \n2023                                        9536559.02   \n2023                                        2060983.33   \n2023                                       35599451.78   \n2023                                       12124802.36   \n\n      orteses_proteses_e_materiais_especiais_relacionados_ao_ato_cirurgico_val  \\\nano                                                                              \n2008                                       3.737570e+06                          \n2008                                       1.071472e+07                          \n2008                                       1.526927e+06                          \n2008                                       3.016053e+07                          \n2008                                       1.948509e+07                          \n...                                                 ...                          \n2023                                       8.065437e+07                          \n2023                                       1.817083e+08                          \n2023                                       2.966659e+07                          \n2023                                       4.567783e+08                          \n2023                                       2.617210e+08                          \n\n      acoes_relacionadas_ao_estabelecimento_val  \\\nano                                               \n2008                                  169430.00   \n2008                                  488450.00   \n2008                                  161395.75   \n2008                                  837194.25   \n2008                                  397960.00   \n...                                         ...   \n2023                                  387272.25   \n2023                                 1144010.00   \n2023                                  271405.00   \n2023                                 2846549.50   \n2023                                 1396569.00   \n\n      acoes_relacionadas_ao_atendimento_val  tratamentos_odontologicos_val  \nano                                                                         \n2008                           7.939033e+06                           0.00  \n2008                           1.952243e+07                           0.00  \n2008                           4.430414e+06                           0.00  \n2008                           4.920992e+07                           0.00  \n2008                           2.335778e+07                           0.00  \n...                                     ...                            ...  \n2023                           2.664831e+08                          59.38  \n2023                           7.683858e+08                        8847.73  \n2023                           1.951034e+08                         414.32  \n2023                           1.631718e+09                        4584.41  \n2023                           6.582449e+08                         950.21  \n\n[80 rows x 58 columns]",
      "text/html": "<div>\n<style scoped>\n    .dataframe tbody tr th:only-of-type {\n        vertical-align: middle;\n    }\n\n    .dataframe tbody tr th {\n        vertical-align: top;\n    }\n\n    .dataframe thead th {\n        text-align: right;\n    }\n</style>\n<table border=\"1\" class=\"dataframe\">\n  <thead>\n    <tr style=\"text-align: right;\">\n      <th></th>\n      <th>regiao_nome</th>\n      <th>procedimentos_com_finalidade_diagnostica_val</th>\n      <th>procedimentos_clinicos_val</th>\n      <th>procedimentos_cirurgicos_val</th>\n      <th>transplantes_de_orgaos_tecidos_e_celulas_val</th>\n      <th>medicamentos_val</th>\n      <th>orteses_proteses_e_materiais_especiais_val</th>\n      <th>acoes_complementares_da_atencao_a_saude_val</th>\n      <th>coleta_de_material_val</th>\n      <th>diagnostico_em_laboratorio_clinico_val</th>\n      <th>...</th>\n      <th>avaliacao_de_morte_encefalica_val</th>\n      <th>acoes_relacionadas_a_doacao_de_orgaos_e_tecidos_para_transplante_val</th>\n      <th>processamento_de_tecidos_para_transplante_val</th>\n      <th>transplante_de_orgaos_tecidos_e_celulas_val</th>\n      <th>acompanhamento_e_intercorrencias_no_pre_e_pos_transplante_val</th>\n      <th>medicamentos_de_ambito_hospitalar_e_urgencia_val</th>\n      <th>orteses_proteses_e_materiais_especiais_relacionados_ao_ato_cirurgico_val</th>\n      <th>acoes_relacionadas_ao_estabelecimento_val</th>\n      <th>acoes_relacionadas_ao_atendimento_val</th>\n      <th>tratamentos_odontologicos_val</th>\n    </tr>\n    <tr>\n      <th>ano</th>\n      <th></th>\n      <th></th>\n      <th></th>\n      <th></th>\n      <th></th>\n      <th></th>\n      <th></th>\n      <th></th>\n      <th></th>\n      <th></th>\n      <th></th>\n      <th></th>\n      <th></th>\n      <th></th>\n      <th></th>\n      <th></th>\n      <th></th>\n      <th></th>\n      <th></th>\n      <th></th>\n      <th></th>\n    </tr>\n  </thead>\n  <tbody>\n    <tr>\n      <th>2008</th>\n      <td>CENTRO-OESTE</td>\n      <td>1.028925e+06</td>\n      <td>2.221484e+07</td>\n      <td>1.370143e+07</td>\n      <td>6.610510e+05</td>\n      <td>159259.62</td>\n      <td>3.737570e+06</td>\n      <td>8.108463e+06</td>\n      <td>161577.26</td>\n      <td>6880.00</td>\n      <td>...</td>\n      <td>3505.0</td>\n      <td>55103.38</td>\n      <td>0.0</td>\n      <td>5.340402e+05</td>\n      <td>64729.41</td>\n      <td>159259.62</td>\n      <td>3.737570e+06</td>\n      <td>169430.00</td>\n      <td>7.939033e+06</td>\n      <td>0.00</td>\n    </tr>\n    <tr>\n      <th>2008</th>\n      <td>NORDESTE</td>\n      <td>2.674956e+06</td>\n      <td>7.948262e+07</td>\n      <td>5.231219e+07</td>\n      <td>2.094081e+06</td>\n      <td>451019.39</td>\n      <td>1.071472e+07</td>\n      <td>2.001088e+07</td>\n      <td>687942.90</td>\n      <td>15955.00</td>\n      <td>...</td>\n      <td>2315.0</td>\n      <td>85832.18</td>\n      <td>0.0</td>\n      <td>1.778050e+06</td>\n      <td>216763.52</td>\n      <td>451019.39</td>\n      <td>1.071472e+07</td>\n      <td>488450.00</td>\n      <td>1.952243e+07</td>\n      <td>0.00</td>\n    </tr>\n    <tr>\n      <th>2008</th>\n      <td>NORTE</td>\n      <td>5.945984e+05</td>\n      <td>2.029752e+07</td>\n      <td>1.217338e+07</td>\n      <td>3.569991e+04</td>\n      <td>103677.09</td>\n      <td>1.526927e+06</td>\n      <td>4.591810e+06</td>\n      <td>3877.03</td>\n      <td>2638.00</td>\n      <td>...</td>\n      <td>0.0</td>\n      <td>2123.60</td>\n      <td>0.0</td>\n      <td>0.000000e+00</td>\n      <td>33210.00</td>\n      <td>103677.09</td>\n      <td>1.526927e+06</td>\n      <td>161395.75</td>\n      <td>4.430414e+06</td>\n      <td>0.00</td>\n    </tr>\n    <tr>\n      <th>2008</th>\n      <td>SUDESTE</td>\n      <td>8.126995e+06</td>\n      <td>1.144507e+08</td>\n      <td>8.084442e+07</td>\n      <td>8.434294e+06</td>\n      <td>1608037.77</td>\n      <td>3.016053e+07</td>\n      <td>5.004712e+07</td>\n      <td>205841.76</td>\n      <td>39251.50</td>\n      <td>...</td>\n      <td>18295.0</td>\n      <td>589602.74</td>\n      <td>7630.0</td>\n      <td>7.137401e+06</td>\n      <td>641896.02</td>\n      <td>1608037.77</td>\n      <td>3.016053e+07</td>\n      <td>837194.25</td>\n      <td>4.920992e+07</td>\n      <td>0.00</td>\n    </tr>\n    <tr>\n      <th>2008</th>\n      <td>SUL</td>\n      <td>4.898049e+06</td>\n      <td>4.486271e+07</td>\n      <td>3.826789e+07</td>\n      <td>4.355560e+06</td>\n      <td>690089.86</td>\n      <td>1.948509e+07</td>\n      <td>2.375574e+07</td>\n      <td>160054.36</td>\n      <td>11370.00</td>\n      <td>...</td>\n      <td>11560.0</td>\n      <td>229379.42</td>\n      <td>14960.0</td>\n      <td>3.611595e+06</td>\n      <td>457966.07</td>\n      <td>690089.86</td>\n      <td>1.948509e+07</td>\n      <td>397960.00</td>\n      <td>2.335778e+07</td>\n      <td>0.00</td>\n    </tr>\n    <tr>\n      <th>...</th>\n      <td>...</td>\n      <td>...</td>\n      <td>...</td>\n      <td>...</td>\n      <td>...</td>\n      <td>...</td>\n      <td>...</td>\n      <td>...</td>\n      <td>...</td>\n      <td>...</td>\n      <td>...</td>\n      <td>...</td>\n      <td>...</td>\n      <td>...</td>\n      <td>...</td>\n      <td>...</td>\n      <td>...</td>\n      <td>...</td>\n      <td>...</td>\n      <td>...</td>\n      <td>...</td>\n    </tr>\n    <tr>\n      <th>2023</th>\n      <td>CENTRO-OESTE</td>\n      <td>4.517653e+07</td>\n      <td>1.878710e+08</td>\n      <td>2.985622e+08</td>\n      <td>1.942420e+07</td>\n      <td>2902909.66</td>\n      <td>8.065437e+07</td>\n      <td>2.668703e+08</td>\n      <td>349506.42</td>\n      <td>371813.97</td>\n      <td>...</td>\n      <td>47050.0</td>\n      <td>1176864.87</td>\n      <td>111628.8</td>\n      <td>1.621179e+07</td>\n      <td>1607165.03</td>\n      <td>2902909.66</td>\n      <td>8.065437e+07</td>\n      <td>387272.25</td>\n      <td>2.664831e+08</td>\n      <td>59.38</td>\n    </tr>\n    <tr>\n      <th>2023</th>\n      <td>NORDESTE</td>\n      <td>1.059644e+08</td>\n      <td>6.581306e+08</td>\n      <td>1.058790e+09</td>\n      <td>7.480360e+07</td>\n      <td>9536559.02</td>\n      <td>1.817083e+08</td>\n      <td>7.695298e+08</td>\n      <td>921517.11</td>\n      <td>500640.16</td>\n      <td>...</td>\n      <td>212255.0</td>\n      <td>3773025.93</td>\n      <td>372216.0</td>\n      <td>6.225824e+07</td>\n      <td>6911748.11</td>\n      <td>9536559.02</td>\n      <td>1.817083e+08</td>\n      <td>1144010.00</td>\n      <td>7.683858e+08</td>\n      <td>8847.73</td>\n    </tr>\n    <tr>\n      <th>2023</th>\n      <td>NORTE</td>\n      <td>2.227182e+07</td>\n      <td>1.756974e+08</td>\n      <td>2.511439e+08</td>\n      <td>4.795599e+06</td>\n      <td>2060983.33</td>\n      <td>2.966659e+07</td>\n      <td>1.953748e+08</td>\n      <td>132907.94</td>\n      <td>199605.56</td>\n      <td>...</td>\n      <td>27950.0</td>\n      <td>449833.18</td>\n      <td>138607.2</td>\n      <td>3.721833e+06</td>\n      <td>368948.23</td>\n      <td>2060983.33</td>\n      <td>2.966659e+07</td>\n      <td>271405.00</td>\n      <td>1.951034e+08</td>\n      <td>414.32</td>\n    </tr>\n    <tr>\n      <th>2023</th>\n      <td>SUDESTE</td>\n      <td>2.902799e+08</td>\n      <td>1.079839e+09</td>\n      <td>1.670540e+09</td>\n      <td>2.385364e+08</td>\n      <td>35599451.78</td>\n      <td>4.567783e+08</td>\n      <td>1.634564e+09</td>\n      <td>2786507.75</td>\n      <td>2825056.74</td>\n      <td>...</td>\n      <td>321800.0</td>\n      <td>10616789.18</td>\n      <td>301328.1</td>\n      <td>1.975176e+08</td>\n      <td>25773367.15</td>\n      <td>35599451.78</td>\n      <td>4.567783e+08</td>\n      <td>2846549.50</td>\n      <td>1.631718e+09</td>\n      <td>4584.41</td>\n    </tr>\n    <tr>\n      <th>2023</th>\n      <td>SUL</td>\n      <td>1.610729e+08</td>\n      <td>4.724161e+08</td>\n      <td>8.348919e+08</td>\n      <td>1.193155e+08</td>\n      <td>12124802.36</td>\n      <td>2.617210e+08</td>\n      <td>6.596415e+08</td>\n      <td>1302338.78</td>\n      <td>1947409.08</td>\n      <td>...</td>\n      <td>265375.0</td>\n      <td>6559052.41</td>\n      <td>631177.0</td>\n      <td>9.940688e+07</td>\n      <td>10802301.83</td>\n      <td>12124802.36</td>\n      <td>2.617210e+08</td>\n      <td>1396569.00</td>\n      <td>6.582449e+08</td>\n      <td>950.21</td>\n    </tr>\n  </tbody>\n</table>\n<p>80 rows × 58 columns</p>\n</div>"
     },
     "execution_count": 309,
     "metadata": {},
     "output_type": "execute_result"
    }
   ],
   "source": [
    "df_datasus_agrupado_ano_regiao.filter(regex='_val|regiao_nome')"
   ],
   "metadata": {
    "collapsed": false,
    "ExecuteTime": {
     "end_time": "2024-03-05T00:09:56.935404561Z",
     "start_time": "2024-03-05T00:09:56.839723488Z"
    }
   },
   "id": "e3911b992678de61",
   "execution_count": 309
  }
 ],
 "metadata": {
  "kernelspec": {
   "display_name": "Python 3",
   "language": "python",
   "name": "python3"
  },
  "language_info": {
   "codemirror_mode": {
    "name": "ipython",
    "version": 2
   },
   "file_extension": ".py",
   "mimetype": "text/x-python",
   "name": "python",
   "nbconvert_exporter": "python",
   "pygments_lexer": "ipython2",
   "version": "2.7.6"
  }
 },
 "nbformat": 4,
 "nbformat_minor": 5
}
