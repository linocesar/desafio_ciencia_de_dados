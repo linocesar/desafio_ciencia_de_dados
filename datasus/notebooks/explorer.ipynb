{
 "cells": [
  {
   "cell_type": "code",
   "execution_count": 1,
   "id": "initial_id",
   "metadata": {
    "collapsed": true,
    "ExecuteTime": {
     "end_time": "2024-03-05T22:41:33.197270Z",
     "start_time": "2024-03-05T22:41:30.290208Z"
    }
   },
   "outputs": [],
   "source": [
    "import pandas as pd"
   ]
  },
  {
   "cell_type": "code",
   "outputs": [],
   "source": [
    "df_datasus = pd.read_csv(r'../storage/3_data_exploration/datasus.csv')"
   ],
   "metadata": {
    "collapsed": false,
    "ExecuteTime": {
     "end_time": "2024-03-05T22:41:47.637290Z",
     "start_time": "2024-03-05T22:41:33.198281Z"
    }
   },
   "id": "9f43890ee8f12968",
   "execution_count": 2
  },
  {
   "cell_type": "code",
   "outputs": [
    {
     "data": {
      "text/plain": "Index                                          128\ncod_municipio                              8555520\nmunicipio                                 73375104\nuf                                        63096960\nuf_nome                                   82573632\n                                            ...   \nacoes_de_promocao_e_prevencao_em_saude     8555520\nacoes_coletivas_individuais_em_saude       8555520\nanestesiologia                             8555520\ntratamentos_odontologicos_qtd              8555520\ntratamentos_odontologicos_val              8555520\nLength: 128, dtype: int64"
     },
     "execution_count": 3,
     "metadata": {},
     "output_type": "execute_result"
    }
   ],
   "source": [
    "df_datasus.memory_usage(deep=True)"
   ],
   "metadata": {
    "collapsed": false,
    "ExecuteTime": {
     "end_time": "2024-03-05T22:41:52.519076Z",
     "start_time": "2024-03-05T22:41:50.809066Z"
    }
   },
   "id": "93985ad73797baef",
   "execution_count": 3
  },
  {
   "cell_type": "code",
   "outputs": [
    {
     "name": "stdout",
     "output_type": "stream",
     "text": [
      "<class 'pandas.core.frame.DataFrame'>\n",
      "RangeIndex: 1069440 entries, 0 to 1069439\n",
      "Columns: 127 entries, cod_municipio to tratamentos_odontologicos_val\n",
      "dtypes: float64(63), int64(59), object(5)\n",
      "memory usage: 1.0+ GB\n"
     ]
    }
   ],
   "source": [
    "df_datasus.info()"
   ],
   "metadata": {
    "collapsed": false,
    "ExecuteTime": {
     "end_time": "2024-03-05T22:41:54.285450Z",
     "start_time": "2024-03-05T22:41:54.270999Z"
    }
   },
   "id": "e68a124b8626e971",
   "execution_count": 4
  },
  {
   "cell_type": "code",
   "outputs": [],
   "source": [
    "df_datasus = df_datasus.apply(lambda x: x.astype('category') if x.dtype == 'object' else x)"
   ],
   "metadata": {
    "collapsed": false,
    "ExecuteTime": {
     "end_time": "2024-03-05T22:41:58.734336Z",
     "start_time": "2024-03-05T22:41:56.784334Z"
    }
   },
   "id": "7bf21e2b5bb5315a",
   "execution_count": 5
  },
  {
   "cell_type": "code",
   "outputs": [
    {
     "name": "stdout",
     "output_type": "stream",
     "text": [
      "<class 'pandas.core.frame.DataFrame'>\n",
      "RangeIndex: 1069440 entries, 0 to 1069439\n",
      "Columns: 127 entries, cod_municipio to tratamentos_odontologicos_val\n",
      "dtypes: category(5), float64(63), int64(59)\n",
      "memory usage: 1001.7 MB\n"
     ]
    }
   ],
   "source": [
    "df_datasus.info()"
   ],
   "metadata": {
    "collapsed": false,
    "ExecuteTime": {
     "end_time": "2024-03-05T22:41:59.608275Z",
     "start_time": "2024-03-05T22:41:59.582786Z"
    }
   },
   "id": "adbb01d68b1a37a6",
   "execution_count": 6
  },
  {
   "cell_type": "code",
   "outputs": [],
   "source": [],
   "metadata": {
    "collapsed": false,
    "ExecuteTime": {
     "end_time": "2024-03-04T21:28:55.360906456Z",
     "start_time": "2024-03-04T21:28:55.312462590Z"
    }
   },
   "id": "218a986b2bf1dae1",
   "execution_count": 209
  },
  {
   "cell_type": "code",
   "outputs": [],
   "source": [
    "tipagem_coluna = {'coluna': list(df_datasus.columns), 'tipo': [str(dtype) for dtype in df_datasus.dtypes]}\n",
    "df_tipo = pd.DataFrame(tipagem_coluna)"
   ],
   "metadata": {
    "collapsed": false,
    "ExecuteTime": {
     "end_time": "2024-03-01T01:30:01.935445Z",
     "start_time": "2024-03-01T01:30:01.930377Z"
    }
   },
   "id": "93266056bdc4155f",
   "execution_count": 9
  },
  {
   "cell_type": "code",
   "outputs": [
    {
     "data": {
      "text/plain": "                                     coluna      tipo\n0                             cod_municipio     int64\n1                                 municipio  category\n2                                        uf  category\n3                                   uf_nome  category\n4                               regiao_nome  category\n..                                      ...       ...\n122  acoes_de_promocao_e_prevencao_em_saude   float64\n123    acoes_coletivas_individuais_em_saude   float64\n124                          anestesiologia   float64\n125           tratamentos_odontologicos_qtd   float64\n126           tratamentos_odontologicos_val   float64\n\n[127 rows x 2 columns]",
      "text/html": "<div>\n<style scoped>\n    .dataframe tbody tr th:only-of-type {\n        vertical-align: middle;\n    }\n\n    .dataframe tbody tr th {\n        vertical-align: top;\n    }\n\n    .dataframe thead th {\n        text-align: right;\n    }\n</style>\n<table border=\"1\" class=\"dataframe\">\n  <thead>\n    <tr style=\"text-align: right;\">\n      <th></th>\n      <th>coluna</th>\n      <th>tipo</th>\n    </tr>\n  </thead>\n  <tbody>\n    <tr>\n      <th>0</th>\n      <td>cod_municipio</td>\n      <td>int64</td>\n    </tr>\n    <tr>\n      <th>1</th>\n      <td>municipio</td>\n      <td>category</td>\n    </tr>\n    <tr>\n      <th>2</th>\n      <td>uf</td>\n      <td>category</td>\n    </tr>\n    <tr>\n      <th>3</th>\n      <td>uf_nome</td>\n      <td>category</td>\n    </tr>\n    <tr>\n      <th>4</th>\n      <td>regiao_nome</td>\n      <td>category</td>\n    </tr>\n    <tr>\n      <th>...</th>\n      <td>...</td>\n      <td>...</td>\n    </tr>\n    <tr>\n      <th>122</th>\n      <td>acoes_de_promocao_e_prevencao_em_saude</td>\n      <td>float64</td>\n    </tr>\n    <tr>\n      <th>123</th>\n      <td>acoes_coletivas_individuais_em_saude</td>\n      <td>float64</td>\n    </tr>\n    <tr>\n      <th>124</th>\n      <td>anestesiologia</td>\n      <td>float64</td>\n    </tr>\n    <tr>\n      <th>125</th>\n      <td>tratamentos_odontologicos_qtd</td>\n      <td>float64</td>\n    </tr>\n    <tr>\n      <th>126</th>\n      <td>tratamentos_odontologicos_val</td>\n      <td>float64</td>\n    </tr>\n  </tbody>\n</table>\n<p>127 rows × 2 columns</p>\n</div>"
     },
     "execution_count": 11,
     "metadata": {},
     "output_type": "execute_result"
    }
   ],
   "source": [
    "df_tipo"
   ],
   "metadata": {
    "collapsed": false,
    "ExecuteTime": {
     "end_time": "2024-03-01T01:30:59.370421Z",
     "start_time": "2024-03-01T01:30:59.363499Z"
    }
   },
   "id": "549e356cff6606fa",
   "execution_count": 11
  },
  {
   "cell_type": "code",
   "outputs": [],
   "source": [
    "tipo = df_datasus.dtypes"
   ],
   "metadata": {
    "collapsed": false,
    "ExecuteTime": {
     "end_time": "2024-03-04T00:37:32.740396Z",
     "start_time": "2024-03-04T00:37:32.734071Z"
    }
   },
   "id": "60e0183bd31bc050",
   "execution_count": 6
  },
  {
   "cell_type": "code",
   "outputs": [],
   "source": [
    "contagem_tipo = tipo.value_counts()"
   ],
   "metadata": {
    "collapsed": false,
    "ExecuteTime": {
     "end_time": "2024-03-04T00:37:33.262544Z",
     "start_time": "2024-03-04T00:37:33.255268Z"
    }
   },
   "id": "81dc73b82fa1e730",
   "execution_count": 7
  },
  {
   "cell_type": "code",
   "outputs": [
    {
     "data": {
      "text/plain": "float64     63\nint64       59\ncategory     1\ncategory     1\ncategory     1\ncategory     1\ncategory     1\nName: count, dtype: int64"
     },
     "execution_count": 8,
     "metadata": {},
     "output_type": "execute_result"
    }
   ],
   "source": [
    "contagem_tipo"
   ],
   "metadata": {
    "collapsed": false,
    "ExecuteTime": {
     "end_time": "2024-03-04T00:37:33.973043Z",
     "start_time": "2024-03-04T00:37:33.964194Z"
    }
   },
   "id": "74b7c1da28989141",
   "execution_count": 8
  },
  {
   "cell_type": "code",
   "outputs": [],
   "source": [],
   "metadata": {
    "collapsed": false
   },
   "id": "95081f5111f9641f"
  },
  {
   "cell_type": "code",
   "outputs": [
    {
     "name": "stdout",
     "output_type": "stream",
     "text": [
      "     A  G  total  percentage\n",
      "0  Cat  F      4   80.000000\n",
      "1  Cat  M      1   20.000000\n",
      "2  Dog  F      4   57.142857\n",
      "3  Dog  M      3   42.857143\n",
      "4  Fox  F      1   25.000000\n"
     ]
    },
    {
     "data": {
      "application/vnd.plotly.v1+json": {
       "data": [
        {
         "alignmentgroup": "True",
         "hovertemplate": "G=F<br>A=%{x}<br>value=%{y}<br>text=%{text}<extra></extra>",
         "legendgroup": "F",
         "marker": {
          "color": "#636efa",
          "pattern": {
           "shape": ""
          }
         },
         "name": "F",
         "offsetgroup": "F",
         "orientation": "v",
         "showlegend": true,
         "text": [
          "80.00%",
          "57.14%",
          "25.00%"
         ],
         "textposition": "auto",
         "x": [
          "Cat",
          "Dog",
          "Fox"
         ],
         "xaxis": "x",
         "y": [
          4,
          4,
          1
         ],
         "yaxis": "y",
         "type": "bar"
        },
        {
         "alignmentgroup": "True",
         "hovertemplate": "G=M<br>A=%{x}<br>value=%{y}<br>text=%{text}<extra></extra>",
         "legendgroup": "M",
         "marker": {
          "color": "#EF553B",
          "pattern": {
           "shape": ""
          }
         },
         "name": "M",
         "offsetgroup": "M",
         "orientation": "v",
         "showlegend": true,
         "text": [
          "20.00%",
          "42.86%",
          "75.00%"
         ],
         "textposition": "auto",
         "x": [
          "Cat",
          "Dog",
          "Fox"
         ],
         "xaxis": "x",
         "y": [
          1,
          3,
          3
         ],
         "yaxis": "y",
         "type": "bar"
        }
       ],
       "layout": {
        "template": {
         "data": {
          "histogram2dcontour": [
           {
            "type": "histogram2dcontour",
            "colorbar": {
             "outlinewidth": 0,
             "ticks": ""
            },
            "colorscale": [
             [
              0.0,
              "#0d0887"
             ],
             [
              0.1111111111111111,
              "#46039f"
             ],
             [
              0.2222222222222222,
              "#7201a8"
             ],
             [
              0.3333333333333333,
              "#9c179e"
             ],
             [
              0.4444444444444444,
              "#bd3786"
             ],
             [
              0.5555555555555556,
              "#d8576b"
             ],
             [
              0.6666666666666666,
              "#ed7953"
             ],
             [
              0.7777777777777778,
              "#fb9f3a"
             ],
             [
              0.8888888888888888,
              "#fdca26"
             ],
             [
              1.0,
              "#f0f921"
             ]
            ]
           }
          ],
          "choropleth": [
           {
            "type": "choropleth",
            "colorbar": {
             "outlinewidth": 0,
             "ticks": ""
            }
           }
          ],
          "histogram2d": [
           {
            "type": "histogram2d",
            "colorbar": {
             "outlinewidth": 0,
             "ticks": ""
            },
            "colorscale": [
             [
              0.0,
              "#0d0887"
             ],
             [
              0.1111111111111111,
              "#46039f"
             ],
             [
              0.2222222222222222,
              "#7201a8"
             ],
             [
              0.3333333333333333,
              "#9c179e"
             ],
             [
              0.4444444444444444,
              "#bd3786"
             ],
             [
              0.5555555555555556,
              "#d8576b"
             ],
             [
              0.6666666666666666,
              "#ed7953"
             ],
             [
              0.7777777777777778,
              "#fb9f3a"
             ],
             [
              0.8888888888888888,
              "#fdca26"
             ],
             [
              1.0,
              "#f0f921"
             ]
            ]
           }
          ],
          "heatmap": [
           {
            "type": "heatmap",
            "colorbar": {
             "outlinewidth": 0,
             "ticks": ""
            },
            "colorscale": [
             [
              0.0,
              "#0d0887"
             ],
             [
              0.1111111111111111,
              "#46039f"
             ],
             [
              0.2222222222222222,
              "#7201a8"
             ],
             [
              0.3333333333333333,
              "#9c179e"
             ],
             [
              0.4444444444444444,
              "#bd3786"
             ],
             [
              0.5555555555555556,
              "#d8576b"
             ],
             [
              0.6666666666666666,
              "#ed7953"
             ],
             [
              0.7777777777777778,
              "#fb9f3a"
             ],
             [
              0.8888888888888888,
              "#fdca26"
             ],
             [
              1.0,
              "#f0f921"
             ]
            ]
           }
          ],
          "heatmapgl": [
           {
            "type": "heatmapgl",
            "colorbar": {
             "outlinewidth": 0,
             "ticks": ""
            },
            "colorscale": [
             [
              0.0,
              "#0d0887"
             ],
             [
              0.1111111111111111,
              "#46039f"
             ],
             [
              0.2222222222222222,
              "#7201a8"
             ],
             [
              0.3333333333333333,
              "#9c179e"
             ],
             [
              0.4444444444444444,
              "#bd3786"
             ],
             [
              0.5555555555555556,
              "#d8576b"
             ],
             [
              0.6666666666666666,
              "#ed7953"
             ],
             [
              0.7777777777777778,
              "#fb9f3a"
             ],
             [
              0.8888888888888888,
              "#fdca26"
             ],
             [
              1.0,
              "#f0f921"
             ]
            ]
           }
          ],
          "contourcarpet": [
           {
            "type": "contourcarpet",
            "colorbar": {
             "outlinewidth": 0,
             "ticks": ""
            }
           }
          ],
          "contour": [
           {
            "type": "contour",
            "colorbar": {
             "outlinewidth": 0,
             "ticks": ""
            },
            "colorscale": [
             [
              0.0,
              "#0d0887"
             ],
             [
              0.1111111111111111,
              "#46039f"
             ],
             [
              0.2222222222222222,
              "#7201a8"
             ],
             [
              0.3333333333333333,
              "#9c179e"
             ],
             [
              0.4444444444444444,
              "#bd3786"
             ],
             [
              0.5555555555555556,
              "#d8576b"
             ],
             [
              0.6666666666666666,
              "#ed7953"
             ],
             [
              0.7777777777777778,
              "#fb9f3a"
             ],
             [
              0.8888888888888888,
              "#fdca26"
             ],
             [
              1.0,
              "#f0f921"
             ]
            ]
           }
          ],
          "surface": [
           {
            "type": "surface",
            "colorbar": {
             "outlinewidth": 0,
             "ticks": ""
            },
            "colorscale": [
             [
              0.0,
              "#0d0887"
             ],
             [
              0.1111111111111111,
              "#46039f"
             ],
             [
              0.2222222222222222,
              "#7201a8"
             ],
             [
              0.3333333333333333,
              "#9c179e"
             ],
             [
              0.4444444444444444,
              "#bd3786"
             ],
             [
              0.5555555555555556,
              "#d8576b"
             ],
             [
              0.6666666666666666,
              "#ed7953"
             ],
             [
              0.7777777777777778,
              "#fb9f3a"
             ],
             [
              0.8888888888888888,
              "#fdca26"
             ],
             [
              1.0,
              "#f0f921"
             ]
            ]
           }
          ],
          "mesh3d": [
           {
            "type": "mesh3d",
            "colorbar": {
             "outlinewidth": 0,
             "ticks": ""
            }
           }
          ],
          "scatter": [
           {
            "marker": {
             "line": {
              "color": "#283442"
             }
            },
            "type": "scatter"
           }
          ],
          "parcoords": [
           {
            "type": "parcoords",
            "line": {
             "colorbar": {
              "outlinewidth": 0,
              "ticks": ""
             }
            }
           }
          ],
          "scatterpolargl": [
           {
            "type": "scatterpolargl",
            "marker": {
             "colorbar": {
              "outlinewidth": 0,
              "ticks": ""
             }
            }
           }
          ],
          "bar": [
           {
            "error_x": {
             "color": "#f2f5fa"
            },
            "error_y": {
             "color": "#f2f5fa"
            },
            "marker": {
             "line": {
              "color": "rgb(17,17,17)",
              "width": 0.5
             },
             "pattern": {
              "fillmode": "overlay",
              "size": 10,
              "solidity": 0.2
             }
            },
            "type": "bar"
           }
          ],
          "scattergeo": [
           {
            "type": "scattergeo",
            "marker": {
             "colorbar": {
              "outlinewidth": 0,
              "ticks": ""
             }
            }
           }
          ],
          "scatterpolar": [
           {
            "type": "scatterpolar",
            "marker": {
             "colorbar": {
              "outlinewidth": 0,
              "ticks": ""
             }
            }
           }
          ],
          "histogram": [
           {
            "marker": {
             "pattern": {
              "fillmode": "overlay",
              "size": 10,
              "solidity": 0.2
             }
            },
            "type": "histogram"
           }
          ],
          "scattergl": [
           {
            "marker": {
             "line": {
              "color": "#283442"
             }
            },
            "type": "scattergl"
           }
          ],
          "scatter3d": [
           {
            "type": "scatter3d",
            "line": {
             "colorbar": {
              "outlinewidth": 0,
              "ticks": ""
             }
            },
            "marker": {
             "colorbar": {
              "outlinewidth": 0,
              "ticks": ""
             }
            }
           }
          ],
          "scattermapbox": [
           {
            "type": "scattermapbox",
            "marker": {
             "colorbar": {
              "outlinewidth": 0,
              "ticks": ""
             }
            }
           }
          ],
          "scatterternary": [
           {
            "type": "scatterternary",
            "marker": {
             "colorbar": {
              "outlinewidth": 0,
              "ticks": ""
             }
            }
           }
          ],
          "scattercarpet": [
           {
            "type": "scattercarpet",
            "marker": {
             "colorbar": {
              "outlinewidth": 0,
              "ticks": ""
             }
            }
           }
          ],
          "carpet": [
           {
            "aaxis": {
             "endlinecolor": "#A2B1C6",
             "gridcolor": "#506784",
             "linecolor": "#506784",
             "minorgridcolor": "#506784",
             "startlinecolor": "#A2B1C6"
            },
            "baxis": {
             "endlinecolor": "#A2B1C6",
             "gridcolor": "#506784",
             "linecolor": "#506784",
             "minorgridcolor": "#506784",
             "startlinecolor": "#A2B1C6"
            },
            "type": "carpet"
           }
          ],
          "table": [
           {
            "cells": {
             "fill": {
              "color": "#506784"
             },
             "line": {
              "color": "rgb(17,17,17)"
             }
            },
            "header": {
             "fill": {
              "color": "#2a3f5f"
             },
             "line": {
              "color": "rgb(17,17,17)"
             }
            },
            "type": "table"
           }
          ],
          "barpolar": [
           {
            "marker": {
             "line": {
              "color": "rgb(17,17,17)",
              "width": 0.5
             },
             "pattern": {
              "fillmode": "overlay",
              "size": 10,
              "solidity": 0.2
             }
            },
            "type": "barpolar"
           }
          ],
          "pie": [
           {
            "automargin": true,
            "type": "pie"
           }
          ]
         },
         "layout": {
          "autotypenumbers": "strict",
          "colorway": [
           "#636efa",
           "#EF553B",
           "#00cc96",
           "#ab63fa",
           "#FFA15A",
           "#19d3f3",
           "#FF6692",
           "#B6E880",
           "#FF97FF",
           "#FECB52"
          ],
          "font": {
           "color": "#f2f5fa"
          },
          "hovermode": "closest",
          "hoverlabel": {
           "align": "left"
          },
          "paper_bgcolor": "rgb(17,17,17)",
          "plot_bgcolor": "rgb(17,17,17)",
          "polar": {
           "bgcolor": "rgb(17,17,17)",
           "angularaxis": {
            "gridcolor": "#506784",
            "linecolor": "#506784",
            "ticks": ""
           },
           "radialaxis": {
            "gridcolor": "#506784",
            "linecolor": "#506784",
            "ticks": ""
           }
          },
          "ternary": {
           "bgcolor": "rgb(17,17,17)",
           "aaxis": {
            "gridcolor": "#506784",
            "linecolor": "#506784",
            "ticks": ""
           },
           "baxis": {
            "gridcolor": "#506784",
            "linecolor": "#506784",
            "ticks": ""
           },
           "caxis": {
            "gridcolor": "#506784",
            "linecolor": "#506784",
            "ticks": ""
           }
          },
          "coloraxis": {
           "colorbar": {
            "outlinewidth": 0,
            "ticks": ""
           }
          },
          "colorscale": {
           "sequential": [
            [
             0.0,
             "#0d0887"
            ],
            [
             0.1111111111111111,
             "#46039f"
            ],
            [
             0.2222222222222222,
             "#7201a8"
            ],
            [
             0.3333333333333333,
             "#9c179e"
            ],
            [
             0.4444444444444444,
             "#bd3786"
            ],
            [
             0.5555555555555556,
             "#d8576b"
            ],
            [
             0.6666666666666666,
             "#ed7953"
            ],
            [
             0.7777777777777778,
             "#fb9f3a"
            ],
            [
             0.8888888888888888,
             "#fdca26"
            ],
            [
             1.0,
             "#f0f921"
            ]
           ],
           "sequentialminus": [
            [
             0.0,
             "#0d0887"
            ],
            [
             0.1111111111111111,
             "#46039f"
            ],
            [
             0.2222222222222222,
             "#7201a8"
            ],
            [
             0.3333333333333333,
             "#9c179e"
            ],
            [
             0.4444444444444444,
             "#bd3786"
            ],
            [
             0.5555555555555556,
             "#d8576b"
            ],
            [
             0.6666666666666666,
             "#ed7953"
            ],
            [
             0.7777777777777778,
             "#fb9f3a"
            ],
            [
             0.8888888888888888,
             "#fdca26"
            ],
            [
             1.0,
             "#f0f921"
            ]
           ],
           "diverging": [
            [
             0,
             "#8e0152"
            ],
            [
             0.1,
             "#c51b7d"
            ],
            [
             0.2,
             "#de77ae"
            ],
            [
             0.3,
             "#f1b6da"
            ],
            [
             0.4,
             "#fde0ef"
            ],
            [
             0.5,
             "#f7f7f7"
            ],
            [
             0.6,
             "#e6f5d0"
            ],
            [
             0.7,
             "#b8e186"
            ],
            [
             0.8,
             "#7fbc41"
            ],
            [
             0.9,
             "#4d9221"
            ],
            [
             1,
             "#276419"
            ]
           ]
          },
          "xaxis": {
           "gridcolor": "#283442",
           "linecolor": "#506784",
           "ticks": "",
           "title": {
            "standoff": 15
           },
           "zerolinecolor": "#283442",
           "automargin": true,
           "zerolinewidth": 2
          },
          "yaxis": {
           "gridcolor": "#283442",
           "linecolor": "#506784",
           "ticks": "",
           "title": {
            "standoff": 15
           },
           "zerolinecolor": "#283442",
           "automargin": true,
           "zerolinewidth": 2
          },
          "scene": {
           "xaxis": {
            "backgroundcolor": "rgb(17,17,17)",
            "gridcolor": "#506784",
            "linecolor": "#506784",
            "showbackground": true,
            "ticks": "",
            "zerolinecolor": "#C8D4E3",
            "gridwidth": 2
           },
           "yaxis": {
            "backgroundcolor": "rgb(17,17,17)",
            "gridcolor": "#506784",
            "linecolor": "#506784",
            "showbackground": true,
            "ticks": "",
            "zerolinecolor": "#C8D4E3",
            "gridwidth": 2
           },
           "zaxis": {
            "backgroundcolor": "rgb(17,17,17)",
            "gridcolor": "#506784",
            "linecolor": "#506784",
            "showbackground": true,
            "ticks": "",
            "zerolinecolor": "#C8D4E3",
            "gridwidth": 2
           }
          },
          "shapedefaults": {
           "line": {
            "color": "#f2f5fa"
           }
          },
          "annotationdefaults": {
           "arrowcolor": "#f2f5fa",
           "arrowhead": 0,
           "arrowwidth": 1
          },
          "geo": {
           "bgcolor": "rgb(17,17,17)",
           "landcolor": "rgb(17,17,17)",
           "subunitcolor": "#506784",
           "showland": true,
           "showlakes": true,
           "lakecolor": "rgb(17,17,17)"
          },
          "title": {
           "x": 0.05
          },
          "updatemenudefaults": {
           "bgcolor": "#506784",
           "borderwidth": 0
          },
          "sliderdefaults": {
           "bgcolor": "#C8D4E3",
           "borderwidth": 1,
           "bordercolor": "rgb(17,17,17)",
           "tickwidth": 0
          },
          "mapbox": {
           "style": "dark"
          }
         }
        },
        "xaxis": {
         "anchor": "y",
         "domain": [
          0.0,
          1.0
         ],
         "title": {
          "text": "A"
         }
        },
        "yaxis": {
         "anchor": "x",
         "domain": [
          0.0,
          1.0
         ],
         "title": {
          "text": "value"
         }
        },
        "legend": {
         "title": {
          "text": "G"
         },
         "tracegroupgap": 0
        },
        "margin": {
         "t": 60
        },
        "barmode": "relative"
       },
       "config": {
        "plotlyServerURL": "https://plot.ly"
       }
      },
      "text/html": "<div>                            <div id=\"4ff77947-1181-40c3-a439-c5752a9a094f\" class=\"plotly-graph-div\" style=\"height:525px; width:100%;\"></div>            <script type=\"text/javascript\">                require([\"plotly\"], function(Plotly) {                    window.PLOTLYENV=window.PLOTLYENV || {};                                    if (document.getElementById(\"4ff77947-1181-40c3-a439-c5752a9a094f\")) {                    Plotly.newPlot(                        \"4ff77947-1181-40c3-a439-c5752a9a094f\",                        [{\"alignmentgroup\":\"True\",\"hovertemplate\":\"G=F\\u003cbr\\u003eA=%{x}\\u003cbr\\u003evalue=%{y}\\u003cbr\\u003etext=%{text}\\u003cextra\\u003e\\u003c\\u002fextra\\u003e\",\"legendgroup\":\"F\",\"marker\":{\"color\":\"#636efa\",\"pattern\":{\"shape\":\"\"}},\"name\":\"F\",\"offsetgroup\":\"F\",\"orientation\":\"v\",\"showlegend\":true,\"text\":[\"80.00%\",\"57.14%\",\"25.00%\"],\"textposition\":\"auto\",\"x\":[\"Cat\",\"Dog\",\"Fox\"],\"xaxis\":\"x\",\"y\":[4,4,1],\"yaxis\":\"y\",\"type\":\"bar\"},{\"alignmentgroup\":\"True\",\"hovertemplate\":\"G=M\\u003cbr\\u003eA=%{x}\\u003cbr\\u003evalue=%{y}\\u003cbr\\u003etext=%{text}\\u003cextra\\u003e\\u003c\\u002fextra\\u003e\",\"legendgroup\":\"M\",\"marker\":{\"color\":\"#EF553B\",\"pattern\":{\"shape\":\"\"}},\"name\":\"M\",\"offsetgroup\":\"M\",\"orientation\":\"v\",\"showlegend\":true,\"text\":[\"20.00%\",\"42.86%\",\"75.00%\"],\"textposition\":\"auto\",\"x\":[\"Cat\",\"Dog\",\"Fox\"],\"xaxis\":\"x\",\"y\":[1,3,3],\"yaxis\":\"y\",\"type\":\"bar\"}],                        {\"template\":{\"data\":{\"histogram2dcontour\":[{\"type\":\"histogram2dcontour\",\"colorbar\":{\"outlinewidth\":0,\"ticks\":\"\"},\"colorscale\":[[0.0,\"#0d0887\"],[0.1111111111111111,\"#46039f\"],[0.2222222222222222,\"#7201a8\"],[0.3333333333333333,\"#9c179e\"],[0.4444444444444444,\"#bd3786\"],[0.5555555555555556,\"#d8576b\"],[0.6666666666666666,\"#ed7953\"],[0.7777777777777778,\"#fb9f3a\"],[0.8888888888888888,\"#fdca26\"],[1.0,\"#f0f921\"]]}],\"choropleth\":[{\"type\":\"choropleth\",\"colorbar\":{\"outlinewidth\":0,\"ticks\":\"\"}}],\"histogram2d\":[{\"type\":\"histogram2d\",\"colorbar\":{\"outlinewidth\":0,\"ticks\":\"\"},\"colorscale\":[[0.0,\"#0d0887\"],[0.1111111111111111,\"#46039f\"],[0.2222222222222222,\"#7201a8\"],[0.3333333333333333,\"#9c179e\"],[0.4444444444444444,\"#bd3786\"],[0.5555555555555556,\"#d8576b\"],[0.6666666666666666,\"#ed7953\"],[0.7777777777777778,\"#fb9f3a\"],[0.8888888888888888,\"#fdca26\"],[1.0,\"#f0f921\"]]}],\"heatmap\":[{\"type\":\"heatmap\",\"colorbar\":{\"outlinewidth\":0,\"ticks\":\"\"},\"colorscale\":[[0.0,\"#0d0887\"],[0.1111111111111111,\"#46039f\"],[0.2222222222222222,\"#7201a8\"],[0.3333333333333333,\"#9c179e\"],[0.4444444444444444,\"#bd3786\"],[0.5555555555555556,\"#d8576b\"],[0.6666666666666666,\"#ed7953\"],[0.7777777777777778,\"#fb9f3a\"],[0.8888888888888888,\"#fdca26\"],[1.0,\"#f0f921\"]]}],\"heatmapgl\":[{\"type\":\"heatmapgl\",\"colorbar\":{\"outlinewidth\":0,\"ticks\":\"\"},\"colorscale\":[[0.0,\"#0d0887\"],[0.1111111111111111,\"#46039f\"],[0.2222222222222222,\"#7201a8\"],[0.3333333333333333,\"#9c179e\"],[0.4444444444444444,\"#bd3786\"],[0.5555555555555556,\"#d8576b\"],[0.6666666666666666,\"#ed7953\"],[0.7777777777777778,\"#fb9f3a\"],[0.8888888888888888,\"#fdca26\"],[1.0,\"#f0f921\"]]}],\"contourcarpet\":[{\"type\":\"contourcarpet\",\"colorbar\":{\"outlinewidth\":0,\"ticks\":\"\"}}],\"contour\":[{\"type\":\"contour\",\"colorbar\":{\"outlinewidth\":0,\"ticks\":\"\"},\"colorscale\":[[0.0,\"#0d0887\"],[0.1111111111111111,\"#46039f\"],[0.2222222222222222,\"#7201a8\"],[0.3333333333333333,\"#9c179e\"],[0.4444444444444444,\"#bd3786\"],[0.5555555555555556,\"#d8576b\"],[0.6666666666666666,\"#ed7953\"],[0.7777777777777778,\"#fb9f3a\"],[0.8888888888888888,\"#fdca26\"],[1.0,\"#f0f921\"]]}],\"surface\":[{\"type\":\"surface\",\"colorbar\":{\"outlinewidth\":0,\"ticks\":\"\"},\"colorscale\":[[0.0,\"#0d0887\"],[0.1111111111111111,\"#46039f\"],[0.2222222222222222,\"#7201a8\"],[0.3333333333333333,\"#9c179e\"],[0.4444444444444444,\"#bd3786\"],[0.5555555555555556,\"#d8576b\"],[0.6666666666666666,\"#ed7953\"],[0.7777777777777778,\"#fb9f3a\"],[0.8888888888888888,\"#fdca26\"],[1.0,\"#f0f921\"]]}],\"mesh3d\":[{\"type\":\"mesh3d\",\"colorbar\":{\"outlinewidth\":0,\"ticks\":\"\"}}],\"scatter\":[{\"marker\":{\"line\":{\"color\":\"#283442\"}},\"type\":\"scatter\"}],\"parcoords\":[{\"type\":\"parcoords\",\"line\":{\"colorbar\":{\"outlinewidth\":0,\"ticks\":\"\"}}}],\"scatterpolargl\":[{\"type\":\"scatterpolargl\",\"marker\":{\"colorbar\":{\"outlinewidth\":0,\"ticks\":\"\"}}}],\"bar\":[{\"error_x\":{\"color\":\"#f2f5fa\"},\"error_y\":{\"color\":\"#f2f5fa\"},\"marker\":{\"line\":{\"color\":\"rgb(17,17,17)\",\"width\":0.5},\"pattern\":{\"fillmode\":\"overlay\",\"size\":10,\"solidity\":0.2}},\"type\":\"bar\"}],\"scattergeo\":[{\"type\":\"scattergeo\",\"marker\":{\"colorbar\":{\"outlinewidth\":0,\"ticks\":\"\"}}}],\"scatterpolar\":[{\"type\":\"scatterpolar\",\"marker\":{\"colorbar\":{\"outlinewidth\":0,\"ticks\":\"\"}}}],\"histogram\":[{\"marker\":{\"pattern\":{\"fillmode\":\"overlay\",\"size\":10,\"solidity\":0.2}},\"type\":\"histogram\"}],\"scattergl\":[{\"marker\":{\"line\":{\"color\":\"#283442\"}},\"type\":\"scattergl\"}],\"scatter3d\":[{\"type\":\"scatter3d\",\"line\":{\"colorbar\":{\"outlinewidth\":0,\"ticks\":\"\"}},\"marker\":{\"colorbar\":{\"outlinewidth\":0,\"ticks\":\"\"}}}],\"scattermapbox\":[{\"type\":\"scattermapbox\",\"marker\":{\"colorbar\":{\"outlinewidth\":0,\"ticks\":\"\"}}}],\"scatterternary\":[{\"type\":\"scatterternary\",\"marker\":{\"colorbar\":{\"outlinewidth\":0,\"ticks\":\"\"}}}],\"scattercarpet\":[{\"type\":\"scattercarpet\",\"marker\":{\"colorbar\":{\"outlinewidth\":0,\"ticks\":\"\"}}}],\"carpet\":[{\"aaxis\":{\"endlinecolor\":\"#A2B1C6\",\"gridcolor\":\"#506784\",\"linecolor\":\"#506784\",\"minorgridcolor\":\"#506784\",\"startlinecolor\":\"#A2B1C6\"},\"baxis\":{\"endlinecolor\":\"#A2B1C6\",\"gridcolor\":\"#506784\",\"linecolor\":\"#506784\",\"minorgridcolor\":\"#506784\",\"startlinecolor\":\"#A2B1C6\"},\"type\":\"carpet\"}],\"table\":[{\"cells\":{\"fill\":{\"color\":\"#506784\"},\"line\":{\"color\":\"rgb(17,17,17)\"}},\"header\":{\"fill\":{\"color\":\"#2a3f5f\"},\"line\":{\"color\":\"rgb(17,17,17)\"}},\"type\":\"table\"}],\"barpolar\":[{\"marker\":{\"line\":{\"color\":\"rgb(17,17,17)\",\"width\":0.5},\"pattern\":{\"fillmode\":\"overlay\",\"size\":10,\"solidity\":0.2}},\"type\":\"barpolar\"}],\"pie\":[{\"automargin\":true,\"type\":\"pie\"}]},\"layout\":{\"autotypenumbers\":\"strict\",\"colorway\":[\"#636efa\",\"#EF553B\",\"#00cc96\",\"#ab63fa\",\"#FFA15A\",\"#19d3f3\",\"#FF6692\",\"#B6E880\",\"#FF97FF\",\"#FECB52\"],\"font\":{\"color\":\"#f2f5fa\"},\"hovermode\":\"closest\",\"hoverlabel\":{\"align\":\"left\"},\"paper_bgcolor\":\"rgb(17,17,17)\",\"plot_bgcolor\":\"rgb(17,17,17)\",\"polar\":{\"bgcolor\":\"rgb(17,17,17)\",\"angularaxis\":{\"gridcolor\":\"#506784\",\"linecolor\":\"#506784\",\"ticks\":\"\"},\"radialaxis\":{\"gridcolor\":\"#506784\",\"linecolor\":\"#506784\",\"ticks\":\"\"}},\"ternary\":{\"bgcolor\":\"rgb(17,17,17)\",\"aaxis\":{\"gridcolor\":\"#506784\",\"linecolor\":\"#506784\",\"ticks\":\"\"},\"baxis\":{\"gridcolor\":\"#506784\",\"linecolor\":\"#506784\",\"ticks\":\"\"},\"caxis\":{\"gridcolor\":\"#506784\",\"linecolor\":\"#506784\",\"ticks\":\"\"}},\"coloraxis\":{\"colorbar\":{\"outlinewidth\":0,\"ticks\":\"\"}},\"colorscale\":{\"sequential\":[[0.0,\"#0d0887\"],[0.1111111111111111,\"#46039f\"],[0.2222222222222222,\"#7201a8\"],[0.3333333333333333,\"#9c179e\"],[0.4444444444444444,\"#bd3786\"],[0.5555555555555556,\"#d8576b\"],[0.6666666666666666,\"#ed7953\"],[0.7777777777777778,\"#fb9f3a\"],[0.8888888888888888,\"#fdca26\"],[1.0,\"#f0f921\"]],\"sequentialminus\":[[0.0,\"#0d0887\"],[0.1111111111111111,\"#46039f\"],[0.2222222222222222,\"#7201a8\"],[0.3333333333333333,\"#9c179e\"],[0.4444444444444444,\"#bd3786\"],[0.5555555555555556,\"#d8576b\"],[0.6666666666666666,\"#ed7953\"],[0.7777777777777778,\"#fb9f3a\"],[0.8888888888888888,\"#fdca26\"],[1.0,\"#f0f921\"]],\"diverging\":[[0,\"#8e0152\"],[0.1,\"#c51b7d\"],[0.2,\"#de77ae\"],[0.3,\"#f1b6da\"],[0.4,\"#fde0ef\"],[0.5,\"#f7f7f7\"],[0.6,\"#e6f5d0\"],[0.7,\"#b8e186\"],[0.8,\"#7fbc41\"],[0.9,\"#4d9221\"],[1,\"#276419\"]]},\"xaxis\":{\"gridcolor\":\"#283442\",\"linecolor\":\"#506784\",\"ticks\":\"\",\"title\":{\"standoff\":15},\"zerolinecolor\":\"#283442\",\"automargin\":true,\"zerolinewidth\":2},\"yaxis\":{\"gridcolor\":\"#283442\",\"linecolor\":\"#506784\",\"ticks\":\"\",\"title\":{\"standoff\":15},\"zerolinecolor\":\"#283442\",\"automargin\":true,\"zerolinewidth\":2},\"scene\":{\"xaxis\":{\"backgroundcolor\":\"rgb(17,17,17)\",\"gridcolor\":\"#506784\",\"linecolor\":\"#506784\",\"showbackground\":true,\"ticks\":\"\",\"zerolinecolor\":\"#C8D4E3\",\"gridwidth\":2},\"yaxis\":{\"backgroundcolor\":\"rgb(17,17,17)\",\"gridcolor\":\"#506784\",\"linecolor\":\"#506784\",\"showbackground\":true,\"ticks\":\"\",\"zerolinecolor\":\"#C8D4E3\",\"gridwidth\":2},\"zaxis\":{\"backgroundcolor\":\"rgb(17,17,17)\",\"gridcolor\":\"#506784\",\"linecolor\":\"#506784\",\"showbackground\":true,\"ticks\":\"\",\"zerolinecolor\":\"#C8D4E3\",\"gridwidth\":2}},\"shapedefaults\":{\"line\":{\"color\":\"#f2f5fa\"}},\"annotationdefaults\":{\"arrowcolor\":\"#f2f5fa\",\"arrowhead\":0,\"arrowwidth\":1},\"geo\":{\"bgcolor\":\"rgb(17,17,17)\",\"landcolor\":\"rgb(17,17,17)\",\"subunitcolor\":\"#506784\",\"showland\":true,\"showlakes\":true,\"lakecolor\":\"rgb(17,17,17)\"},\"title\":{\"x\":0.05},\"updatemenudefaults\":{\"bgcolor\":\"#506784\",\"borderwidth\":0},\"sliderdefaults\":{\"bgcolor\":\"#C8D4E3\",\"borderwidth\":1,\"bordercolor\":\"rgb(17,17,17)\",\"tickwidth\":0},\"mapbox\":{\"style\":\"dark\"}}},\"xaxis\":{\"anchor\":\"y\",\"domain\":[0.0,1.0],\"title\":{\"text\":\"A\"}},\"yaxis\":{\"anchor\":\"x\",\"domain\":[0.0,1.0],\"title\":{\"text\":\"value\"}},\"legend\":{\"title\":{\"text\":\"G\"},\"tracegroupgap\":0},\"margin\":{\"t\":60},\"barmode\":\"relative\"},                        {\"responsive\": true}                    ).then(function(){\n                            \nvar gd = document.getElementById('4ff77947-1181-40c3-a439-c5752a9a094f');\nvar x = new MutationObserver(function (mutations, observer) {{\n        var display = window.getComputedStyle(gd).display;\n        if (!display || display === 'none') {{\n            console.log([gd, 'removed!']);\n            Plotly.purge(gd);\n            observer.disconnect();\n        }}\n}});\n\n// Listen for the removal of the full notebook cells\nvar notebookContainer = gd.closest('#notebook-container');\nif (notebookContainer) {{\n    x.observe(notebookContainer, {childList: true});\n}}\n\n// Listen for the clearing of the current output cell\nvar outputEl = gd.closest('.output');\nif (outputEl) {{\n    x.observe(outputEl, {childList: true});\n}}\n\n                        })                };                });            </script>        </div>"
     },
     "metadata": {},
     "output_type": "display_data"
    }
   ],
   "source": [
    "import numpy as np\n",
    "import pandas as pd\n",
    "import plotly.express as px\n",
    "\n",
    "arr = np.array([\n",
    "        ['Dog', 'M'], ['Dog', 'M'], ['Dog', 'F'], ['Dog', 'F'],\n",
    "        ['Cat', 'F'], ['Cat', 'F'], ['Cat', 'F'], ['Cat', 'M'],\n",
    "        ['Fox', 'M'], ['Fox', 'M'], ['Fox', 'M'], ['Fox', 'F'],\n",
    "        ['Dog', 'F'], ['Dog', 'F'], ['Cat', 'F'], ['Dog', 'M']\n",
    "    ])\n",
    "\n",
    "df = pd.DataFrame(arr, columns=['A', 'G'])\n",
    "\n",
    "df_g = df.groupby(['A', 'G']).size().reset_index().rename(columns={0: 'total'})\n",
    "df_g.head()\n",
    "df_g['percentage'] = df.groupby(['A', 'G']).size().groupby(level=0).apply(lambda x: 100 * x / float(x.sum())).values\n",
    "\n",
    "print(df_g.head())\n",
    "px.bar(df_g, x='A', y=['total'], color='G', text=df_g['percentage'].apply(lambda x: '{0:1.2f}%'.format(x)))"
   ],
   "metadata": {
    "collapsed": false,
    "ExecuteTime": {
     "end_time": "2024-03-01T20:20:05.008170Z",
     "start_time": "2024-03-01T20:20:04.955757Z"
    }
   },
   "id": "3617837896e745a3",
   "execution_count": 20
  },
  {
   "cell_type": "code",
   "outputs": [],
   "source": [],
   "metadata": {
    "collapsed": false
   },
   "id": "7ec9c6afd52d025"
  },
  {
   "cell_type": "code",
   "outputs": [
    {
     "data": {
      "text/plain": "   cod_municipio              municipio  uf   uf_nome regiao_nome  longitude  \\\n0         110001  ALTA FLORESTA D'OESTE  RO  RONDÔNIA       NORTE -61.999824   \n1         110002              ARIQUEMES  RO  RONDÔNIA       NORTE -63.033269   \n2         110003                 CABIXI  RO  RONDÔNIA       NORTE -60.544314   \n3         110004                 CACOAL  RO  RONDÔNIA       NORTE -61.442944   \n4         110005             CEREJEIRAS  RO  RONDÔNIA       NORTE -60.818426   \n\n    latitude  nu_populacao  mes   ano  ...  \\\n0 -11.935540         21495  OUT  2023  ...   \n1  -9.908463         96833  OUT  2023  ...   \n2 -13.499763          5363  OUT  2023  ...   \n3 -11.433865         86895  OUT  2023  ...   \n4 -13.195033         15890  OUT  2023  ...   \n\n   orteses_proteses_e_materiais_especiais_relacionados_ao_ato_cirurgico_val  \\\n0                                               0.00                          \n1                                            1571.12                          \n2                                               0.00                          \n3                                           35674.84                          \n4                                               0.00                          \n\n   acoes_relacionadas_ao_estabelecimento_qtd  \\\n0                                          0   \n1                                          0   \n2                                          0   \n3                                         30   \n4                                         11   \n\n   acoes_relacionadas_ao_estabelecimento_val  \\\n0                                        0.0   \n1                                        0.0   \n2                                        0.0   \n3                                      325.0   \n4                                      440.0   \n\n   acoes_relacionadas_ao_atendimento_qtd  \\\n0                                    150   \n1                                   1983   \n2                                     10   \n3                                   3191   \n4                                    216   \n\n   acoes_relacionadas_ao_atendimento_val  \\\n0                                1200.00   \n1                              397306.24   \n2                                  80.00   \n3                              337971.80   \n4                                1883.61   \n\n   acoes_de_promocao_e_prevencao_em_saude  \\\n0                                       0   \n1                                       0   \n2                                       0   \n3                                       0   \n4                                       0   \n\n   acoes_coletivas_individuais_em_saude  anestesiologia  \\\n0                                     0            0.00   \n1                                     0         2875.46   \n2                                     0            0.00   \n3                                     0         2712.21   \n4                                     0            0.00   \n\n   tratamentos_odontologicos_qtd  tratamentos_odontologicos_val  \n0                              0                            0.0  \n1                              0                            0.0  \n2                              0                            0.0  \n3                              0                            0.0  \n4                              0                            0.0  \n\n[5 rows x 127 columns]",
      "text/html": "<div>\n<style scoped>\n    .dataframe tbody tr th:only-of-type {\n        vertical-align: middle;\n    }\n\n    .dataframe tbody tr th {\n        vertical-align: top;\n    }\n\n    .dataframe thead th {\n        text-align: right;\n    }\n</style>\n<table border=\"1\" class=\"dataframe\">\n  <thead>\n    <tr style=\"text-align: right;\">\n      <th></th>\n      <th>cod_municipio</th>\n      <th>municipio</th>\n      <th>uf</th>\n      <th>uf_nome</th>\n      <th>regiao_nome</th>\n      <th>longitude</th>\n      <th>latitude</th>\n      <th>nu_populacao</th>\n      <th>mes</th>\n      <th>ano</th>\n      <th>...</th>\n      <th>orteses_proteses_e_materiais_especiais_relacionados_ao_ato_cirurgico_val</th>\n      <th>acoes_relacionadas_ao_estabelecimento_qtd</th>\n      <th>acoes_relacionadas_ao_estabelecimento_val</th>\n      <th>acoes_relacionadas_ao_atendimento_qtd</th>\n      <th>acoes_relacionadas_ao_atendimento_val</th>\n      <th>acoes_de_promocao_e_prevencao_em_saude</th>\n      <th>acoes_coletivas_individuais_em_saude</th>\n      <th>anestesiologia</th>\n      <th>tratamentos_odontologicos_qtd</th>\n      <th>tratamentos_odontologicos_val</th>\n    </tr>\n  </thead>\n  <tbody>\n    <tr>\n      <th>0</th>\n      <td>110001</td>\n      <td>ALTA FLORESTA D'OESTE</td>\n      <td>RO</td>\n      <td>RONDÔNIA</td>\n      <td>NORTE</td>\n      <td>-61.999824</td>\n      <td>-11.935540</td>\n      <td>21495</td>\n      <td>OUT</td>\n      <td>2023</td>\n      <td>...</td>\n      <td>0.00</td>\n      <td>0</td>\n      <td>0.0</td>\n      <td>150</td>\n      <td>1200.00</td>\n      <td>0</td>\n      <td>0</td>\n      <td>0.00</td>\n      <td>0</td>\n      <td>0.0</td>\n    </tr>\n    <tr>\n      <th>1</th>\n      <td>110002</td>\n      <td>ARIQUEMES</td>\n      <td>RO</td>\n      <td>RONDÔNIA</td>\n      <td>NORTE</td>\n      <td>-63.033269</td>\n      <td>-9.908463</td>\n      <td>96833</td>\n      <td>OUT</td>\n      <td>2023</td>\n      <td>...</td>\n      <td>1571.12</td>\n      <td>0</td>\n      <td>0.0</td>\n      <td>1983</td>\n      <td>397306.24</td>\n      <td>0</td>\n      <td>0</td>\n      <td>2875.46</td>\n      <td>0</td>\n      <td>0.0</td>\n    </tr>\n    <tr>\n      <th>2</th>\n      <td>110003</td>\n      <td>CABIXI</td>\n      <td>RO</td>\n      <td>RONDÔNIA</td>\n      <td>NORTE</td>\n      <td>-60.544314</td>\n      <td>-13.499763</td>\n      <td>5363</td>\n      <td>OUT</td>\n      <td>2023</td>\n      <td>...</td>\n      <td>0.00</td>\n      <td>0</td>\n      <td>0.0</td>\n      <td>10</td>\n      <td>80.00</td>\n      <td>0</td>\n      <td>0</td>\n      <td>0.00</td>\n      <td>0</td>\n      <td>0.0</td>\n    </tr>\n    <tr>\n      <th>3</th>\n      <td>110004</td>\n      <td>CACOAL</td>\n      <td>RO</td>\n      <td>RONDÔNIA</td>\n      <td>NORTE</td>\n      <td>-61.442944</td>\n      <td>-11.433865</td>\n      <td>86895</td>\n      <td>OUT</td>\n      <td>2023</td>\n      <td>...</td>\n      <td>35674.84</td>\n      <td>30</td>\n      <td>325.0</td>\n      <td>3191</td>\n      <td>337971.80</td>\n      <td>0</td>\n      <td>0</td>\n      <td>2712.21</td>\n      <td>0</td>\n      <td>0.0</td>\n    </tr>\n    <tr>\n      <th>4</th>\n      <td>110005</td>\n      <td>CEREJEIRAS</td>\n      <td>RO</td>\n      <td>RONDÔNIA</td>\n      <td>NORTE</td>\n      <td>-60.818426</td>\n      <td>-13.195033</td>\n      <td>15890</td>\n      <td>OUT</td>\n      <td>2023</td>\n      <td>...</td>\n      <td>0.00</td>\n      <td>11</td>\n      <td>440.0</td>\n      <td>216</td>\n      <td>1883.61</td>\n      <td>0</td>\n      <td>0</td>\n      <td>0.00</td>\n      <td>0</td>\n      <td>0.0</td>\n    </tr>\n  </tbody>\n</table>\n<p>5 rows × 127 columns</p>\n</div>"
     },
     "execution_count": 20,
     "metadata": {},
     "output_type": "execute_result"
    }
   ],
   "source": [
    "df_datasus.head()"
   ],
   "metadata": {
    "collapsed": false,
    "ExecuteTime": {
     "end_time": "2024-03-04T16:57:40.984204147Z",
     "start_time": "2024-03-04T16:57:40.921159695Z"
    }
   },
   "id": "2e3f65b490f11988",
   "execution_count": 20
  },
  {
   "cell_type": "code",
   "outputs": [
    {
     "data": {
      "text/plain": "       cod_municipio         municipio  uf         uf_nome regiao_nome  \\\n4311          420005     ABDON BATISTA  SC  SANTA CATARINA         SUL   \n4312          420010      ABELARDO LUZ  SC  SANTA CATARINA         SUL   \n4313          420020        AGROLANDIA  SC  SANTA CATARINA         SUL   \n4314          420030        AGRONOMICA  SC  SANTA CATARINA         SUL   \n4315          420040         AGUA DOCE  SC  SANTA CATARINA         SUL   \n...              ...               ...  ..             ...         ...   \n60301         421950           XANXERE  SC  SANTA CATARINA         SUL   \n60302         421960         XAVANTINA  SC  SANTA CATARINA         SUL   \n60303         421970             XAXIM  SC  SANTA CATARINA         SUL   \n60304         421985            ZORTEA  SC  SANTA CATARINA         SUL   \n60305         422000  BALNEARIO RINCAO  SC  SANTA CATARINA         SUL   \n\n       longitude   latitude  nu_populacao  mes   ano  ...  \\\n4311  -51.025272 -27.608987          2598  OUT  2023  ...   \n4312  -52.336482 -26.563031         17392  OUT  2023  ...   \n4313  -49.825653 -27.400517         10990  OUT  2023  ...   \n4314  -49.718369 -27.269716          6055  OUT  2023  ...   \n4315  -51.559097 -27.004092          6508  OUT  2023  ...   \n...          ...        ...           ...  ...   ...  ...   \n60301 -52.404667 -26.874584         51607  JUN  2022  ...   \n60302 -52.342851 -27.070250          3653  JUN  2022  ...   \n60303 -52.534933 -26.963719         31918  JUN  2022  ...   \n60304 -51.549566 -27.450251          3930  JUN  2022  ...   \n60305 -49.236100 -28.834400         15981  JUN  2022  ...   \n\n       orteses_proteses_e_materiais_especiais_relacionados_ao_ato_cirurgico_val  \\\n4311                                                0.00                          \n4312                                             8859.73                          \n4313                                                0.00                          \n4314                                                0.00                          \n4315                                                0.00                          \n...                                                  ...                          \n60301                                          579168.37                          \n60302                                               0.00                          \n60303                                             362.00                          \n60304                                               0.00                          \n60305                                               0.00                          \n\n       acoes_relacionadas_ao_estabelecimento_qtd  \\\n4311                                           0   \n4312                                           0   \n4313                                           0   \n4314                                           0   \n4315                                           0   \n...                                          ...   \n60301                                          4   \n60302                                          0   \n60303                                          0   \n60304                                          0   \n60305                                          0   \n\n       acoes_relacionadas_ao_estabelecimento_val  \\\n4311                                         0.0   \n4312                                         0.0   \n4313                                         0.0   \n4314                                         0.0   \n4315                                         0.0   \n...                                          ...   \n60301                                       20.0   \n60302                                        0.0   \n60303                                        0.0   \n60304                                        0.0   \n60305                                        0.0   \n\n       acoes_relacionadas_ao_atendimento_qtd  \\\n4311                                       0   \n4312                                     103   \n4313                                       0   \n4314                                       0   \n4315                                      10   \n...                                      ...   \n60301                                   3843   \n60302                                     35   \n60303                                    497   \n60304                                      0   \n60305                                      0   \n\n       acoes_relacionadas_ao_atendimento_val  \\\n4311                                    0.00   \n4312                                  979.61   \n4313                                    0.00   \n4314                                    0.00   \n4315                                   80.00   \n...                                      ...   \n60301                              401079.39   \n60302                                 280.00   \n60303                                4131.61   \n60304                                   0.00   \n60305                                   0.00   \n\n       acoes_de_promocao_e_prevencao_em_saude  \\\n4311                                        0   \n4312                                        0   \n4313                                        0   \n4314                                        0   \n4315                                        0   \n...                                       ...   \n60301                                       0   \n60302                                       0   \n60303                                       0   \n60304                                       0   \n60305                                       0   \n\n       acoes_coletivas_individuais_em_saude  anestesiologia  \\\n4311                                      0            0.00   \n4312                                      0          389.62   \n4313                                      0            0.00   \n4314                                      0            0.00   \n4315                                      0            0.00   \n...                                     ...             ...   \n60301                                     0         5076.96   \n60302                                     0            0.00   \n60303                                     0          168.00   \n60304                                     0            0.00   \n60305                                     0            0.00   \n\n       tratamentos_odontologicos_qtd  tratamentos_odontologicos_val  \n4311                               0                            0.0  \n4312                               0                            0.0  \n4313                               0                            0.0  \n4314                               0                            0.0  \n4315                               0                            0.0  \n...                              ...                            ...  \n60301                              0                            0.0  \n60302                              0                            0.0  \n60303                              0                            0.0  \n60304                              0                            0.0  \n60305                              0                            0.0  \n\n[3245 rows x 127 columns]",
      "text/html": "<div>\n<style scoped>\n    .dataframe tbody tr th:only-of-type {\n        vertical-align: middle;\n    }\n\n    .dataframe tbody tr th {\n        vertical-align: top;\n    }\n\n    .dataframe thead th {\n        text-align: right;\n    }\n</style>\n<table border=\"1\" class=\"dataframe\">\n  <thead>\n    <tr style=\"text-align: right;\">\n      <th></th>\n      <th>cod_municipio</th>\n      <th>municipio</th>\n      <th>uf</th>\n      <th>uf_nome</th>\n      <th>regiao_nome</th>\n      <th>longitude</th>\n      <th>latitude</th>\n      <th>nu_populacao</th>\n      <th>mes</th>\n      <th>ano</th>\n      <th>...</th>\n      <th>orteses_proteses_e_materiais_especiais_relacionados_ao_ato_cirurgico_val</th>\n      <th>acoes_relacionadas_ao_estabelecimento_qtd</th>\n      <th>acoes_relacionadas_ao_estabelecimento_val</th>\n      <th>acoes_relacionadas_ao_atendimento_qtd</th>\n      <th>acoes_relacionadas_ao_atendimento_val</th>\n      <th>acoes_de_promocao_e_prevencao_em_saude</th>\n      <th>acoes_coletivas_individuais_em_saude</th>\n      <th>anestesiologia</th>\n      <th>tratamentos_odontologicos_qtd</th>\n      <th>tratamentos_odontologicos_val</th>\n    </tr>\n  </thead>\n  <tbody>\n    <tr>\n      <th>4311</th>\n      <td>420005</td>\n      <td>ABDON BATISTA</td>\n      <td>SC</td>\n      <td>SANTA CATARINA</td>\n      <td>SUL</td>\n      <td>-51.025272</td>\n      <td>-27.608987</td>\n      <td>2598</td>\n      <td>OUT</td>\n      <td>2023</td>\n      <td>...</td>\n      <td>0.00</td>\n      <td>0</td>\n      <td>0.0</td>\n      <td>0</td>\n      <td>0.00</td>\n      <td>0</td>\n      <td>0</td>\n      <td>0.00</td>\n      <td>0</td>\n      <td>0.0</td>\n    </tr>\n    <tr>\n      <th>4312</th>\n      <td>420010</td>\n      <td>ABELARDO LUZ</td>\n      <td>SC</td>\n      <td>SANTA CATARINA</td>\n      <td>SUL</td>\n      <td>-52.336482</td>\n      <td>-26.563031</td>\n      <td>17392</td>\n      <td>OUT</td>\n      <td>2023</td>\n      <td>...</td>\n      <td>8859.73</td>\n      <td>0</td>\n      <td>0.0</td>\n      <td>103</td>\n      <td>979.61</td>\n      <td>0</td>\n      <td>0</td>\n      <td>389.62</td>\n      <td>0</td>\n      <td>0.0</td>\n    </tr>\n    <tr>\n      <th>4313</th>\n      <td>420020</td>\n      <td>AGROLANDIA</td>\n      <td>SC</td>\n      <td>SANTA CATARINA</td>\n      <td>SUL</td>\n      <td>-49.825653</td>\n      <td>-27.400517</td>\n      <td>10990</td>\n      <td>OUT</td>\n      <td>2023</td>\n      <td>...</td>\n      <td>0.00</td>\n      <td>0</td>\n      <td>0.0</td>\n      <td>0</td>\n      <td>0.00</td>\n      <td>0</td>\n      <td>0</td>\n      <td>0.00</td>\n      <td>0</td>\n      <td>0.0</td>\n    </tr>\n    <tr>\n      <th>4314</th>\n      <td>420030</td>\n      <td>AGRONOMICA</td>\n      <td>SC</td>\n      <td>SANTA CATARINA</td>\n      <td>SUL</td>\n      <td>-49.718369</td>\n      <td>-27.269716</td>\n      <td>6055</td>\n      <td>OUT</td>\n      <td>2023</td>\n      <td>...</td>\n      <td>0.00</td>\n      <td>0</td>\n      <td>0.0</td>\n      <td>0</td>\n      <td>0.00</td>\n      <td>0</td>\n      <td>0</td>\n      <td>0.00</td>\n      <td>0</td>\n      <td>0.0</td>\n    </tr>\n    <tr>\n      <th>4315</th>\n      <td>420040</td>\n      <td>AGUA DOCE</td>\n      <td>SC</td>\n      <td>SANTA CATARINA</td>\n      <td>SUL</td>\n      <td>-51.559097</td>\n      <td>-27.004092</td>\n      <td>6508</td>\n      <td>OUT</td>\n      <td>2023</td>\n      <td>...</td>\n      <td>0.00</td>\n      <td>0</td>\n      <td>0.0</td>\n      <td>10</td>\n      <td>80.00</td>\n      <td>0</td>\n      <td>0</td>\n      <td>0.00</td>\n      <td>0</td>\n      <td>0.0</td>\n    </tr>\n    <tr>\n      <th>...</th>\n      <td>...</td>\n      <td>...</td>\n      <td>...</td>\n      <td>...</td>\n      <td>...</td>\n      <td>...</td>\n      <td>...</td>\n      <td>...</td>\n      <td>...</td>\n      <td>...</td>\n      <td>...</td>\n      <td>...</td>\n      <td>...</td>\n      <td>...</td>\n      <td>...</td>\n      <td>...</td>\n      <td>...</td>\n      <td>...</td>\n      <td>...</td>\n      <td>...</td>\n      <td>...</td>\n    </tr>\n    <tr>\n      <th>60301</th>\n      <td>421950</td>\n      <td>XANXERE</td>\n      <td>SC</td>\n      <td>SANTA CATARINA</td>\n      <td>SUL</td>\n      <td>-52.404667</td>\n      <td>-26.874584</td>\n      <td>51607</td>\n      <td>JUN</td>\n      <td>2022</td>\n      <td>...</td>\n      <td>579168.37</td>\n      <td>4</td>\n      <td>20.0</td>\n      <td>3843</td>\n      <td>401079.39</td>\n      <td>0</td>\n      <td>0</td>\n      <td>5076.96</td>\n      <td>0</td>\n      <td>0.0</td>\n    </tr>\n    <tr>\n      <th>60302</th>\n      <td>421960</td>\n      <td>XAVANTINA</td>\n      <td>SC</td>\n      <td>SANTA CATARINA</td>\n      <td>SUL</td>\n      <td>-52.342851</td>\n      <td>-27.070250</td>\n      <td>3653</td>\n      <td>JUN</td>\n      <td>2022</td>\n      <td>...</td>\n      <td>0.00</td>\n      <td>0</td>\n      <td>0.0</td>\n      <td>35</td>\n      <td>280.00</td>\n      <td>0</td>\n      <td>0</td>\n      <td>0.00</td>\n      <td>0</td>\n      <td>0.0</td>\n    </tr>\n    <tr>\n      <th>60303</th>\n      <td>421970</td>\n      <td>XAXIM</td>\n      <td>SC</td>\n      <td>SANTA CATARINA</td>\n      <td>SUL</td>\n      <td>-52.534933</td>\n      <td>-26.963719</td>\n      <td>31918</td>\n      <td>JUN</td>\n      <td>2022</td>\n      <td>...</td>\n      <td>362.00</td>\n      <td>0</td>\n      <td>0.0</td>\n      <td>497</td>\n      <td>4131.61</td>\n      <td>0</td>\n      <td>0</td>\n      <td>168.00</td>\n      <td>0</td>\n      <td>0.0</td>\n    </tr>\n    <tr>\n      <th>60304</th>\n      <td>421985</td>\n      <td>ZORTEA</td>\n      <td>SC</td>\n      <td>SANTA CATARINA</td>\n      <td>SUL</td>\n      <td>-51.549566</td>\n      <td>-27.450251</td>\n      <td>3930</td>\n      <td>JUN</td>\n      <td>2022</td>\n      <td>...</td>\n      <td>0.00</td>\n      <td>0</td>\n      <td>0.0</td>\n      <td>0</td>\n      <td>0.00</td>\n      <td>0</td>\n      <td>0</td>\n      <td>0.00</td>\n      <td>0</td>\n      <td>0.0</td>\n    </tr>\n    <tr>\n      <th>60305</th>\n      <td>422000</td>\n      <td>BALNEARIO RINCAO</td>\n      <td>SC</td>\n      <td>SANTA CATARINA</td>\n      <td>SUL</td>\n      <td>-49.236100</td>\n      <td>-28.834400</td>\n      <td>15981</td>\n      <td>JUN</td>\n      <td>2022</td>\n      <td>...</td>\n      <td>0.00</td>\n      <td>0</td>\n      <td>0.0</td>\n      <td>0</td>\n      <td>0.00</td>\n      <td>0</td>\n      <td>0</td>\n      <td>0.00</td>\n      <td>0</td>\n      <td>0.0</td>\n    </tr>\n  </tbody>\n</table>\n<p>3245 rows × 127 columns</p>\n</div>"
     },
     "execution_count": 21,
     "metadata": {},
     "output_type": "execute_result"
    }
   ],
   "source": [
    "df_datasus.query(\"regiao_nome == 'SUL' and uf == 'SC'\")"
   ],
   "metadata": {
    "collapsed": false,
    "ExecuteTime": {
     "end_time": "2024-03-04T16:57:46.042062633Z",
     "start_time": "2024-03-04T16:57:45.949920853Z"
    }
   },
   "id": "c3e4ca2d6a18ed36",
   "execution_count": 21
  },
  {
   "cell_type": "code",
   "outputs": [],
   "source": [
    "df_datasus['tratamentos_odontologicos_qtd'] = df_datasus['tratamentos_odontologicos_qtd'].fillna(0).astype('int64')"
   ],
   "metadata": {
    "collapsed": false,
    "ExecuteTime": {
     "end_time": "2024-03-04T18:04:49.046740358Z",
     "start_time": "2024-03-04T18:04:48.924201861Z"
    }
   },
   "id": "64db7300ba4b3c49",
   "execution_count": 46
  },
  {
   "cell_type": "code",
   "outputs": [
    {
     "data": {
      "text/plain": "    cod_municipio              municipio  uf   uf_nome regiao_nome  longitude  \\\n0          110001  ALTA FLORESTA D'OESTE  RO  RONDÔNIA       NORTE -61.999824   \n1          110002              ARIQUEMES  RO  RONDÔNIA       NORTE -63.033269   \n2          110003                 CABIXI  RO  RONDÔNIA       NORTE -60.544314   \n3          110004                 CACOAL  RO  RONDÔNIA       NORTE -61.442944   \n4          110005             CEREJEIRAS  RO  RONDÔNIA       NORTE -60.818426   \n..            ...                    ...  ..       ...         ...        ...   \n95         130140               EIRUNEPE  AM  AMAZONAS       NORTE -69.866290   \n96         130150                 ENVIRA  AM  AMAZONAS       NORTE -70.030413   \n97         130160              FONTE BOA  AM  AMAZONAS       NORTE -66.096503   \n98         130165                GUAJARA  AM  AMAZONAS       NORTE -72.582431   \n99         130170                HUMAITA  AM  AMAZONAS       NORTE -63.026698   \n\n     latitude  nu_populacao  mes   ano  ...  \\\n0  -11.935540         21495  OUT  2023  ...   \n1   -9.908463         96833  OUT  2023  ...   \n2  -13.499763          5363  OUT  2023  ...   \n3  -11.433865         86895  OUT  2023  ...   \n4  -13.195033         15890  OUT  2023  ...   \n..        ...           ...  ...   ...  ...   \n95  -6.667353         33170  OUT  2023  ...   \n96  -7.439818         17186  OUT  2023  ...   \n97  -2.512271         25871  OUT  2023  ...   \n98  -7.547774         13815  OUT  2023  ...   \n99  -7.512225         57473  OUT  2023  ...   \n\n    orteses_proteses_e_materiais_especiais_relacionados_ao_ato_cirurgico_val  \\\n0                                                0.00                          \n1                                             1571.12                          \n2                                                0.00                          \n3                                            35674.84                          \n4                                                0.00                          \n..                                                ...                          \n95                                               0.00                          \n96                                               0.00                          \n97                                               0.00                          \n98                                               0.00                          \n99                                               0.00                          \n\n    acoes_relacionadas_ao_estabelecimento_qtd  \\\n0                                           0   \n1                                           0   \n2                                           0   \n3                                          30   \n4                                          11   \n..                                        ...   \n95                                         62   \n96                                         24   \n97                                          0   \n98                                          2   \n99                                          0   \n\n    acoes_relacionadas_ao_estabelecimento_val  \\\n0                                         0.0   \n1                                         0.0   \n2                                         0.0   \n3                                       325.0   \n4                                       440.0   \n..                                        ...   \n95                                     2480.0   \n96                                      715.0   \n97                                        0.0   \n98                                       10.0   \n99                                        0.0   \n\n    acoes_relacionadas_ao_atendimento_qtd  \\\n0                                     150   \n1                                    1983   \n2                                      10   \n3                                    3191   \n4                                     216   \n..                                    ...   \n95                                    498   \n96                                    108   \n97                                    268   \n98                                     90   \n99                                      0   \n\n    acoes_relacionadas_ao_atendimento_val  \\\n0                                 1200.00   \n1                               397306.24   \n2                                   80.00   \n3                               337971.80   \n4                                 1883.61   \n..                                    ...   \n95                                3984.00   \n96                                 852.00   \n97                                2144.00   \n98                                 720.00   \n99                                   0.00   \n\n    acoes_de_promocao_e_prevencao_em_saude  \\\n0                                        0   \n1                                        0   \n2                                        0   \n3                                        0   \n4                                        0   \n..                                     ...   \n95                                       0   \n96                                       0   \n97                                       0   \n98                                       0   \n99                                       0   \n\n    acoes_coletivas_individuais_em_saude  anestesiologia  \\\n0                                      0            0.00   \n1                                      0         2875.46   \n2                                      0            0.00   \n3                                      0         2712.21   \n4                                      0            0.00   \n..                                   ...             ...   \n95                                     0         1407.14   \n96                                     0          672.98   \n97                                     0            0.00   \n98                                     0            0.00   \n99                                     0         2080.12   \n\n    tratamentos_odontologicos_qtd  tratamentos_odontologicos_val  \n0                               0                            0.0  \n1                               0                            0.0  \n2                               0                            0.0  \n3                               0                            0.0  \n4                               0                            0.0  \n..                            ...                            ...  \n95                              0                            0.0  \n96                              0                            0.0  \n97                              0                            0.0  \n98                              0                            0.0  \n99                              0                            0.0  \n\n[100 rows x 127 columns]",
      "text/html": "<div>\n<style scoped>\n    .dataframe tbody tr th:only-of-type {\n        vertical-align: middle;\n    }\n\n    .dataframe tbody tr th {\n        vertical-align: top;\n    }\n\n    .dataframe thead th {\n        text-align: right;\n    }\n</style>\n<table border=\"1\" class=\"dataframe\">\n  <thead>\n    <tr style=\"text-align: right;\">\n      <th></th>\n      <th>cod_municipio</th>\n      <th>municipio</th>\n      <th>uf</th>\n      <th>uf_nome</th>\n      <th>regiao_nome</th>\n      <th>longitude</th>\n      <th>latitude</th>\n      <th>nu_populacao</th>\n      <th>mes</th>\n      <th>ano</th>\n      <th>...</th>\n      <th>orteses_proteses_e_materiais_especiais_relacionados_ao_ato_cirurgico_val</th>\n      <th>acoes_relacionadas_ao_estabelecimento_qtd</th>\n      <th>acoes_relacionadas_ao_estabelecimento_val</th>\n      <th>acoes_relacionadas_ao_atendimento_qtd</th>\n      <th>acoes_relacionadas_ao_atendimento_val</th>\n      <th>acoes_de_promocao_e_prevencao_em_saude</th>\n      <th>acoes_coletivas_individuais_em_saude</th>\n      <th>anestesiologia</th>\n      <th>tratamentos_odontologicos_qtd</th>\n      <th>tratamentos_odontologicos_val</th>\n    </tr>\n  </thead>\n  <tbody>\n    <tr>\n      <th>0</th>\n      <td>110001</td>\n      <td>ALTA FLORESTA D'OESTE</td>\n      <td>RO</td>\n      <td>RONDÔNIA</td>\n      <td>NORTE</td>\n      <td>-61.999824</td>\n      <td>-11.935540</td>\n      <td>21495</td>\n      <td>OUT</td>\n      <td>2023</td>\n      <td>...</td>\n      <td>0.00</td>\n      <td>0</td>\n      <td>0.0</td>\n      <td>150</td>\n      <td>1200.00</td>\n      <td>0</td>\n      <td>0</td>\n      <td>0.00</td>\n      <td>0</td>\n      <td>0.0</td>\n    </tr>\n    <tr>\n      <th>1</th>\n      <td>110002</td>\n      <td>ARIQUEMES</td>\n      <td>RO</td>\n      <td>RONDÔNIA</td>\n      <td>NORTE</td>\n      <td>-63.033269</td>\n      <td>-9.908463</td>\n      <td>96833</td>\n      <td>OUT</td>\n      <td>2023</td>\n      <td>...</td>\n      <td>1571.12</td>\n      <td>0</td>\n      <td>0.0</td>\n      <td>1983</td>\n      <td>397306.24</td>\n      <td>0</td>\n      <td>0</td>\n      <td>2875.46</td>\n      <td>0</td>\n      <td>0.0</td>\n    </tr>\n    <tr>\n      <th>2</th>\n      <td>110003</td>\n      <td>CABIXI</td>\n      <td>RO</td>\n      <td>RONDÔNIA</td>\n      <td>NORTE</td>\n      <td>-60.544314</td>\n      <td>-13.499763</td>\n      <td>5363</td>\n      <td>OUT</td>\n      <td>2023</td>\n      <td>...</td>\n      <td>0.00</td>\n      <td>0</td>\n      <td>0.0</td>\n      <td>10</td>\n      <td>80.00</td>\n      <td>0</td>\n      <td>0</td>\n      <td>0.00</td>\n      <td>0</td>\n      <td>0.0</td>\n    </tr>\n    <tr>\n      <th>3</th>\n      <td>110004</td>\n      <td>CACOAL</td>\n      <td>RO</td>\n      <td>RONDÔNIA</td>\n      <td>NORTE</td>\n      <td>-61.442944</td>\n      <td>-11.433865</td>\n      <td>86895</td>\n      <td>OUT</td>\n      <td>2023</td>\n      <td>...</td>\n      <td>35674.84</td>\n      <td>30</td>\n      <td>325.0</td>\n      <td>3191</td>\n      <td>337971.80</td>\n      <td>0</td>\n      <td>0</td>\n      <td>2712.21</td>\n      <td>0</td>\n      <td>0.0</td>\n    </tr>\n    <tr>\n      <th>4</th>\n      <td>110005</td>\n      <td>CEREJEIRAS</td>\n      <td>RO</td>\n      <td>RONDÔNIA</td>\n      <td>NORTE</td>\n      <td>-60.818426</td>\n      <td>-13.195033</td>\n      <td>15890</td>\n      <td>OUT</td>\n      <td>2023</td>\n      <td>...</td>\n      <td>0.00</td>\n      <td>11</td>\n      <td>440.0</td>\n      <td>216</td>\n      <td>1883.61</td>\n      <td>0</td>\n      <td>0</td>\n      <td>0.00</td>\n      <td>0</td>\n      <td>0.0</td>\n    </tr>\n    <tr>\n      <th>...</th>\n      <td>...</td>\n      <td>...</td>\n      <td>...</td>\n      <td>...</td>\n      <td>...</td>\n      <td>...</td>\n      <td>...</td>\n      <td>...</td>\n      <td>...</td>\n      <td>...</td>\n      <td>...</td>\n      <td>...</td>\n      <td>...</td>\n      <td>...</td>\n      <td>...</td>\n      <td>...</td>\n      <td>...</td>\n      <td>...</td>\n      <td>...</td>\n      <td>...</td>\n      <td>...</td>\n    </tr>\n    <tr>\n      <th>95</th>\n      <td>130140</td>\n      <td>EIRUNEPE</td>\n      <td>AM</td>\n      <td>AMAZONAS</td>\n      <td>NORTE</td>\n      <td>-69.866290</td>\n      <td>-6.667353</td>\n      <td>33170</td>\n      <td>OUT</td>\n      <td>2023</td>\n      <td>...</td>\n      <td>0.00</td>\n      <td>62</td>\n      <td>2480.0</td>\n      <td>498</td>\n      <td>3984.00</td>\n      <td>0</td>\n      <td>0</td>\n      <td>1407.14</td>\n      <td>0</td>\n      <td>0.0</td>\n    </tr>\n    <tr>\n      <th>96</th>\n      <td>130150</td>\n      <td>ENVIRA</td>\n      <td>AM</td>\n      <td>AMAZONAS</td>\n      <td>NORTE</td>\n      <td>-70.030413</td>\n      <td>-7.439818</td>\n      <td>17186</td>\n      <td>OUT</td>\n      <td>2023</td>\n      <td>...</td>\n      <td>0.00</td>\n      <td>24</td>\n      <td>715.0</td>\n      <td>108</td>\n      <td>852.00</td>\n      <td>0</td>\n      <td>0</td>\n      <td>672.98</td>\n      <td>0</td>\n      <td>0.0</td>\n    </tr>\n    <tr>\n      <th>97</th>\n      <td>130160</td>\n      <td>FONTE BOA</td>\n      <td>AM</td>\n      <td>AMAZONAS</td>\n      <td>NORTE</td>\n      <td>-66.096503</td>\n      <td>-2.512271</td>\n      <td>25871</td>\n      <td>OUT</td>\n      <td>2023</td>\n      <td>...</td>\n      <td>0.00</td>\n      <td>0</td>\n      <td>0.0</td>\n      <td>268</td>\n      <td>2144.00</td>\n      <td>0</td>\n      <td>0</td>\n      <td>0.00</td>\n      <td>0</td>\n      <td>0.0</td>\n    </tr>\n    <tr>\n      <th>98</th>\n      <td>130165</td>\n      <td>GUAJARA</td>\n      <td>AM</td>\n      <td>AMAZONAS</td>\n      <td>NORTE</td>\n      <td>-72.582431</td>\n      <td>-7.547774</td>\n      <td>13815</td>\n      <td>OUT</td>\n      <td>2023</td>\n      <td>...</td>\n      <td>0.00</td>\n      <td>2</td>\n      <td>10.0</td>\n      <td>90</td>\n      <td>720.00</td>\n      <td>0</td>\n      <td>0</td>\n      <td>0.00</td>\n      <td>0</td>\n      <td>0.0</td>\n    </tr>\n    <tr>\n      <th>99</th>\n      <td>130170</td>\n      <td>HUMAITA</td>\n      <td>AM</td>\n      <td>AMAZONAS</td>\n      <td>NORTE</td>\n      <td>-63.026698</td>\n      <td>-7.512225</td>\n      <td>57473</td>\n      <td>OUT</td>\n      <td>2023</td>\n      <td>...</td>\n      <td>0.00</td>\n      <td>0</td>\n      <td>0.0</td>\n      <td>0</td>\n      <td>0.00</td>\n      <td>0</td>\n      <td>0</td>\n      <td>2080.12</td>\n      <td>0</td>\n      <td>0.0</td>\n    </tr>\n  </tbody>\n</table>\n<p>100 rows × 127 columns</p>\n</div>"
     },
     "execution_count": 45,
     "metadata": {},
     "output_type": "execute_result"
    }
   ],
   "source": [
    "df_datasus.head(100)"
   ],
   "metadata": {
    "collapsed": false,
    "ExecuteTime": {
     "end_time": "2024-03-04T18:04:16.290779981Z",
     "start_time": "2024-03-04T18:04:16.189822270Z"
    }
   },
   "id": "446e63bec4eb5722",
   "execution_count": 45
  },
  {
   "cell_type": "code",
   "outputs": [
    {
     "data": {
      "text/plain": "count    61270.000000\nmean         0.086829\nstd          3.992448\nmin          0.000000\n25%          0.000000\n50%          0.000000\n75%          0.000000\nmax        422.000000\nName: acoes_de_promocao_e_prevencao_em_saude, dtype: float64"
     },
     "execution_count": 48,
     "metadata": {},
     "output_type": "execute_result"
    }
   ],
   "source": [
    "df_datasus['acoes_de_promocao_e_prevencao_em_saude'].describe()"
   ],
   "metadata": {
    "collapsed": false,
    "ExecuteTime": {
     "end_time": "2024-03-04T18:06:53.934800346Z",
     "start_time": "2024-03-04T18:06:53.890123539Z"
    }
   },
   "id": "a114a40e38606fde",
   "execution_count": 48
  },
  {
   "cell_type": "code",
   "outputs": [
    {
     "data": {
      "text/plain": "count    61270.000000\nmean         0.086829\nstd          3.992448\nmin          0.000000\n25%          0.000000\n50%          0.000000\n75%          0.000000\nmax        422.000000\nName: acoes_coletivas_individuais_em_saude, dtype: float64"
     },
     "execution_count": 50,
     "metadata": {},
     "output_type": "execute_result"
    }
   ],
   "source": [
    "df_datasus['acoes_coletivas_individuais_em_saude'].describe()"
   ],
   "metadata": {
    "collapsed": false,
    "ExecuteTime": {
     "end_time": "2024-03-04T18:07:06.054270217Z",
     "start_time": "2024-03-04T18:07:06.011415490Z"
    }
   },
   "id": "7644d098f8e044a5",
   "execution_count": 50
  },
  {
   "cell_type": "code",
   "outputs": [],
   "source": [
    "for colum in df_datasus.columns:\n",
    "    if df_datasus[colum].dtype == 'int64':\n",
    "        df_datasus[colum] = df_datasus[colum].fillna(0)\n",
    "    elif df_datasus[colum].dtype == 'float64':\n",
    "        df_datasus[colum] = df_datasus[colum].fillna(0.0)"
   ],
   "metadata": {
    "collapsed": false,
    "ExecuteTime": {
     "end_time": "2024-03-04T21:29:09.375998858Z",
     "start_time": "2024-03-04T21:29:09.229826080Z"
    }
   },
   "id": "5cecb5b8fd54b61f",
   "execution_count": 210
  },
  {
   "cell_type": "code",
   "outputs": [
    {
     "data": {
      "text/plain": "cod_municipio    0\nmunicipio        0\nuf               0\nuf_nome          0\nregiao_nome      0\nlongitude        0\nlatitude         0\nnu_populacao     0\nmes              0\nano              0\ndtype: int64"
     },
     "execution_count": 211,
     "metadata": {},
     "output_type": "execute_result"
    }
   ],
   "source": [
    "df_datasus.isnull().sum()[:10]"
   ],
   "metadata": {
    "collapsed": false,
    "ExecuteTime": {
     "end_time": "2024-03-04T21:29:12.534837874Z",
     "start_time": "2024-03-04T21:29:12.464409097Z"
    }
   },
   "id": "a7abaa970d65953",
   "execution_count": 211
  },
  {
   "cell_type": "code",
   "outputs": [
    {
     "data": {
      "text/plain": "         cumsum\n1069435     653\n1069436     653\n1069437     653\n1069438     653\n1069439    9617",
      "text/html": "<div>\n<style scoped>\n    .dataframe tbody tr th:only-of-type {\n        vertical-align: middle;\n    }\n\n    .dataframe tbody tr th {\n        vertical-align: top;\n    }\n\n    .dataframe thead th {\n        text-align: right;\n    }\n</style>\n<table border=\"1\" class=\"dataframe\">\n  <thead>\n    <tr style=\"text-align: right;\">\n      <th></th>\n      <th>cumsum</th>\n    </tr>\n  </thead>\n  <tbody>\n    <tr>\n      <th>1069435</th>\n      <td>653</td>\n    </tr>\n    <tr>\n      <th>1069436</th>\n      <td>653</td>\n    </tr>\n    <tr>\n      <th>1069437</th>\n      <td>653</td>\n    </tr>\n    <tr>\n      <th>1069438</th>\n      <td>653</td>\n    </tr>\n    <tr>\n      <th>1069439</th>\n      <td>9617</td>\n    </tr>\n  </tbody>\n</table>\n</div>"
     },
     "execution_count": 51,
     "metadata": {},
     "output_type": "execute_result"
    }
   ],
   "source": [
    "df_datasus.groupby(['uf', 'ano'], observed=True)['tratamentos_odontologicos_qtd'].agg(['cumsum']).tail()"
   ],
   "metadata": {
    "collapsed": false,
    "ExecuteTime": {
     "end_time": "2024-03-04T01:43:25.669664Z",
     "start_time": "2024-03-04T01:43:25.587112Z"
    }
   },
   "id": "d1bb19604c99fa04",
   "execution_count": 51
  },
  {
   "cell_type": "code",
   "outputs": [],
   "source": [
    "df_datasus_qtd = df_datasus.filter(regex='_qtd', axis=1)\n",
    "df_datasus_val = df_datasus.filter(regex='_val', axis=1)"
   ],
   "metadata": {
    "collapsed": false,
    "ExecuteTime": {
     "end_time": "2024-03-05T22:58:31.579668Z",
     "start_time": "2024-03-05T22:58:31.329868Z"
    }
   },
   "id": "cc246eb187e3e36",
   "execution_count": 28
  },
  {
   "cell_type": "code",
   "outputs": [],
   "source": [],
   "metadata": {
    "collapsed": false,
    "ExecuteTime": {
     "end_time": "2024-03-05T22:58:32.338506Z",
     "start_time": "2024-03-05T22:58:32.333442Z"
    }
   },
   "id": "2e99c26b3f6df1cb",
   "execution_count": 28
  },
  {
   "cell_type": "code",
   "outputs": [],
   "source": [
    "colum_qtd = df_datasus_qtd.columns\n",
    "colum_val = df_datasus_val.columns"
   ],
   "metadata": {
    "collapsed": false,
    "ExecuteTime": {
     "end_time": "2024-03-05T22:58:32.920725Z",
     "start_time": "2024-03-05T22:58:32.913011Z"
    }
   },
   "id": "5aa1a055d1f51765",
   "execution_count": 29
  },
  {
   "cell_type": "code",
   "outputs": [
    {
     "data": {
      "text/plain": "Index(['procedimentos_com_finalidade_diagnostica_qtd',\n       'procedimentos_clinicos_qtd', 'procedimentos_cirurgicos_qtd',\n       'transplantes_de_orgaos_tecidos_e_celulas_qtd', 'medicamentos_qtd',\n       'orteses_proteses_e_materiais_especiais_qtd',\n       'acoes_complementares_da_atencao_a_saude_qtd', 'coleta_de_material_qtd',\n       'diagnostico_em_laboratorio_clinico_qtd',\n       'diagnostico_por_anatomia_patologica_e_citopatologia_qtd',\n       'diagnostico_por_radiologia_qtd', 'diagnostico_por_ultrasonografia_qtd',\n       'diagnostico_por_tomografia_qtd',\n       'diagnostico_por_ressonancia_magnetica_qtd',\n       'diagnostico_por_medicina_nuclear_in_vivo_qtd',\n       'diagnostico_por_endoscopia_qtd',\n       'diagnostico_por_radiologia_intervencionista_qtd',\n       'metodos_diagnosticos_em_especialidades_qtd',\n       'diagnostico_e_procedimentos_especiais_em_hemoterapia_qtd',\n       'diagnostico_por_teste_rapido_qtd',\n       'consultas_atendimentos_acompanhamentos_qtd', 'fisioterapia_qtd',\n       'tratamentos_clinicos_outras_especialidades_qtd',\n       'tratamento_em_oncologia_qtd', 'tratamento_em_nefrologia_qtd',\n       'hemoterapia_qtd',\n       'tratamento_de_lesoes_envenenamentos_e_outros_decorrentes_de_causas_externas_qtd',\n       'terapias_especializadas_qtd', 'parto_e_nascimento_qtd',\n       'pequenas_cirurgias_e_cirurgias_de_pele_tecido_subcutaneo_e_mucosa_qtd',\n       'cirurgia_de_glandulas_endocrinas_qtd',\n       'cirurgia_do_sistema_nervoso_central_e_periferico_qtd',\n       'cirurgia_das_vias_aereas_superiores_da_face_da_cabeca_e_do_pescoco_qtd',\n       'cirurgia_do_aparelho_da_visao_qtd',\n       'cirurgia_do_aparelho_circulatorio_qtd',\n       'cirurgia_do_aparelho_digestivo_orgaos_anexos_e_parede_abdominal_qtd',\n       'cirurgia_do_sistema_osteomuscular_qtd',\n       'cirurgia_do_aparelho_geniturinario_qtd', 'cirurgia_de_mama_qtd',\n       'cirurgia_obstetrica_qtd', 'cirurgia_toracica_qtd',\n       'cirurgia_reparadora_qtd', 'bucomaxilofacial_qtd',\n       'outras_cirurgias_qtd', 'cirurgia_em_oncologia_qtd',\n       'cirurgia_em_nefrologia_qtd',\n       'coleta_e_exames_para_fins_de_doacao_de_orgaos_tecidos_e_celulas_e_de_transplante_qtd',\n       'avaliacao_de_morte_encefalica_qtd',\n       'acoes_relacionadas_a_doacao_de_orgaos_e_tecidos_para_transplante_qtd',\n       'processamento_de_tecidos_para_transplante_qtd',\n       'transplante_de_orgaos_tecidos_e_celulas_qtd',\n       'acompanhamento_e_intercorrencias_no_pre_e_pos_transplante_qtd',\n       'medicamentos_de_ambito_hospitalar_e_urgencia_qtd',\n       'orteses_proteses_e_materiais_especiais_relacionados_ao_ato_cirurgico_qtd',\n       'acoes_relacionadas_ao_estabelecimento_qtd',\n       'acoes_relacionadas_ao_atendimento_qtd',\n       'tratamentos_odontologicos_qtd'],\n      dtype='object')"
     },
     "execution_count": 30,
     "metadata": {},
     "output_type": "execute_result"
    }
   ],
   "source": [
    "colum_qtd"
   ],
   "metadata": {
    "collapsed": false,
    "ExecuteTime": {
     "end_time": "2024-03-05T22:58:33.865884Z",
     "start_time": "2024-03-05T22:58:33.849632Z"
    }
   },
   "id": "59f0fc5de97b43db",
   "execution_count": 30
  },
  {
   "cell_type": "code",
   "outputs": [],
   "source": [
    "df_datasus_agrupado_ano_regiao = df_datasus.groupby(['ano', 'regiao_nome'], observed=True).agg({coluna: lambda x: x.sum() for coluna in df_datasus.columns if '_qtd' in coluna or '_val' in coluna}).reset_index()"
   ],
   "metadata": {
    "collapsed": false,
    "ExecuteTime": {
     "end_time": "2024-03-05T22:58:38.322710Z",
     "start_time": "2024-03-05T22:58:35.550600Z"
    }
   },
   "id": "1a7a8a485cc99233",
   "execution_count": 31
  },
  {
   "cell_type": "code",
   "outputs": [],
   "source": [
    "#df_datasus_agrupado_ano_regiao.set_index('ano', inplace=True)"
   ],
   "metadata": {
    "collapsed": false,
    "ExecuteTime": {
     "end_time": "2024-03-05T22:58:39.069997Z",
     "start_time": "2024-03-05T22:58:39.066081Z"
    }
   },
   "id": "1521122d1409b084",
   "execution_count": 32
  },
  {
   "cell_type": "code",
   "outputs": [
    {
     "data": {
      "text/plain": "     ano   regiao_nome  procedimentos_com_finalidade_diagnostica_qtd  \\\n0   2008  CENTRO-OESTE                                       5496733   \n1   2008      NORDESTE                                      11771365   \n2   2008         NORTE                                       3862408   \n3   2008       SUDESTE                                      39301647   \n4   2008           SUL                                      14515305   \n..   ...           ...                                           ...   \n75  2023  CENTRO-OESTE                                      19220796   \n76  2023      NORDESTE                                      40689214   \n77  2023         NORTE                                      10629515   \n78  2023       SUDESTE                                     107208284   \n79  2023           SUL                                      39760310   \n\n    procedimentos_com_finalidade_diagnostica_val  procedimentos_clinicos_qtd  \\\n0                                   1.185461e+07                     3896888   \n1                                   2.759200e+07                    10058218   \n2                                   7.738389e+06                     2762117   \n3                                   1.050679e+08                    26955708   \n4                                   6.046986e+07                    12040746   \n..                                           ...                         ...   \n75                                  7.610077e+07                    12526502   \n76                                  1.769787e+08                    38912090   \n77                                  3.898947e+07                     9351866   \n78                                  4.798486e+08                    69111645   \n79                                  2.712900e+08                    23623681   \n\n    procedimentos_clinicos_val  procedimentos_cirurgicos_qtd  \\\n0                 2.531055e+08                        297008   \n1                 8.958544e+08                       1077448   \n2                 2.508618e+08                        338340   \n3                 1.383614e+09                       1911740   \n4                 5.390746e+08                        722071   \n..                         ...                           ...   \n75                3.260726e+08                        913849   \n76                1.125401e+09                       2885453   \n77                3.137433e+08                       1232369   \n78                1.830989e+09                       5389379   \n79                8.006659e+08                       2300142   \n\n    procedimentos_cirurgicos_val  \\\n0                   1.715557e+08   \n1                   6.152951e+08   \n2                   1.594219e+08   \n3                   1.015540e+09   \n4                   4.621672e+08   \n..                           ...   \n75                  4.973195e+08   \n76                  1.708378e+09   \n77                  4.272674e+08   \n78                  2.709615e+09   \n79                  1.373988e+09   \n\n    transplantes_de_orgaos_tecidos_e_celulas_qtd  \\\n0                                           2619   \n1                                           8394   \n2                                            455   \n3                                          39568   \n4                                          15181   \n..                                           ...   \n75                                         18882   \n76                                         82364   \n77                                          6311   \n78                                        260010   \n79                                        105997   \n\n    transplantes_de_orgaos_tecidos_e_celulas_val  ...  \\\n0                                   5.185894e+06  ...   \n1                                   2.907539e+07  ...   \n2                                   1.006948e+06  ...   \n3                                   1.156452e+08  ...   \n4                                   4.821394e+07  ...   \n..                                           ...  ...   \n75                                  2.975284e+07  ...   \n76                                  1.197481e+08  ...   \n77                                  7.007680e+06  ...   \n78                                  3.848555e+08  ...   \n79                                  1.922964e+08  ...   \n\n    medicamentos_de_ambito_hospitalar_e_urgencia_qtd  \\\n0                                              45404   \n1                                             120637   \n2                                              27041   \n3                                             488365   \n4                                             316864   \n..                                               ...   \n75                                            147839   \n76                                            509282   \n77                                             72425   \n78                                           1535789   \n79                                            646329   \n\n    medicamentos_de_ambito_hospitalar_e_urgencia_val  \\\n0                                         1979645.15   \n1                                         5146141.47   \n2                                         1432633.78   \n3                                        20822357.03   \n4                                         8820304.45   \n..                                               ...   \n75                                        4927613.39   \n76                                       16728511.92   \n77                                        3674897.76   \n78                                       58730092.88   \n79                                       21112699.34   \n\n    orteses_proteses_e_materiais_especiais_relacionados_ao_ato_cirurgico_qtd  \\\n0                                               73112                          \n1                                              297168                          \n2                                               39427                          \n3                                              569079                          \n4                                              414762                          \n..                                                ...                          \n75                                             273728                          \n76                                             606446                          \n77                                             123647                          \n78                                            1479605                          \n79                                             781818                          \n\n    orteses_proteses_e_materiais_especiais_relacionados_ao_ato_cirurgico_val  \\\n0                                        5.131897e+07                          \n1                                        1.173281e+08                          \n2                                        2.229142e+07                          \n3                                        3.627313e+08                          \n4                                        2.056595e+08                          \n..                                                ...                          \n75                                       1.269413e+08                          \n76                                       2.832263e+08                          \n77                                       5.060501e+07                          \n78                                       7.245372e+08                          \n79                                       4.160250e+08                          \n\n    acoes_relacionadas_ao_estabelecimento_qtd  \\\n0                                       66312   \n1                                      164638   \n2                                       63183   \n3                                      328461   \n4                                      147708   \n..                                        ...   \n75                                      44703   \n76                                      94333   \n77                                      20895   \n78                                     230580   \n79                                      90586   \n\n    acoes_relacionadas_ao_estabelecimento_val  \\\n0                                  2001235.00   \n1                                  5435755.00   \n2                                  2131355.75   \n3                                  9342757.50   \n4                                  4560723.00   \n..                                        ...   \n75                                  660787.50   \n76                                 1766875.00   \n77                                  399210.00   \n78                                 4877690.25   \n79                                 2474222.00   \n\n    acoes_relacionadas_ao_atendimento_qtd  \\\n0                                 1435164   \n1                                 5325115   \n2                                 1483606   \n3                                 8407516   \n4                                 3801598   \n..                                    ...   \n75                                3750720   \n76                               13640700   \n77                                3968982   \n78                               17413235   \n79                                7494576   \n\n    acoes_relacionadas_ao_atendimento_val  tratamentos_odontologicos_qtd  \\\n0                            9.573805e+07                            0.0   \n1                            2.203600e+08                            0.0   \n2                            6.073955e+07                            0.0   \n3                            6.356737e+08                            0.0   \n4                            2.942023e+08                            0.0   \n..                                    ...                            ...   \n75                           4.459402e+08                        10639.0   \n76                           1.292644e+09                         6051.0   \n77                           3.413019e+08                         3894.0   \n78                           2.734844e+09                        26805.0   \n79                           1.115572e+09                         9280.0   \n\n    tratamentos_odontologicos_val  \n0                            0.00  \n1                            0.00  \n2                            0.00  \n3                            0.00  \n4                            0.00  \n..                            ...  \n75                        2404.35  \n76                       12035.11  \n77                         823.47  \n78                        8494.73  \n79                        1742.93  \n\n[80 rows x 116 columns]",
      "text/html": "<div>\n<style scoped>\n    .dataframe tbody tr th:only-of-type {\n        vertical-align: middle;\n    }\n\n    .dataframe tbody tr th {\n        vertical-align: top;\n    }\n\n    .dataframe thead th {\n        text-align: right;\n    }\n</style>\n<table border=\"1\" class=\"dataframe\">\n  <thead>\n    <tr style=\"text-align: right;\">\n      <th></th>\n      <th>ano</th>\n      <th>regiao_nome</th>\n      <th>procedimentos_com_finalidade_diagnostica_qtd</th>\n      <th>procedimentos_com_finalidade_diagnostica_val</th>\n      <th>procedimentos_clinicos_qtd</th>\n      <th>procedimentos_clinicos_val</th>\n      <th>procedimentos_cirurgicos_qtd</th>\n      <th>procedimentos_cirurgicos_val</th>\n      <th>transplantes_de_orgaos_tecidos_e_celulas_qtd</th>\n      <th>transplantes_de_orgaos_tecidos_e_celulas_val</th>\n      <th>...</th>\n      <th>medicamentos_de_ambito_hospitalar_e_urgencia_qtd</th>\n      <th>medicamentos_de_ambito_hospitalar_e_urgencia_val</th>\n      <th>orteses_proteses_e_materiais_especiais_relacionados_ao_ato_cirurgico_qtd</th>\n      <th>orteses_proteses_e_materiais_especiais_relacionados_ao_ato_cirurgico_val</th>\n      <th>acoes_relacionadas_ao_estabelecimento_qtd</th>\n      <th>acoes_relacionadas_ao_estabelecimento_val</th>\n      <th>acoes_relacionadas_ao_atendimento_qtd</th>\n      <th>acoes_relacionadas_ao_atendimento_val</th>\n      <th>tratamentos_odontologicos_qtd</th>\n      <th>tratamentos_odontologicos_val</th>\n    </tr>\n  </thead>\n  <tbody>\n    <tr>\n      <th>0</th>\n      <td>2008</td>\n      <td>CENTRO-OESTE</td>\n      <td>5496733</td>\n      <td>1.185461e+07</td>\n      <td>3896888</td>\n      <td>2.531055e+08</td>\n      <td>297008</td>\n      <td>1.715557e+08</td>\n      <td>2619</td>\n      <td>5.185894e+06</td>\n      <td>...</td>\n      <td>45404</td>\n      <td>1979645.15</td>\n      <td>73112</td>\n      <td>5.131897e+07</td>\n      <td>66312</td>\n      <td>2001235.00</td>\n      <td>1435164</td>\n      <td>9.573805e+07</td>\n      <td>0.0</td>\n      <td>0.00</td>\n    </tr>\n    <tr>\n      <th>1</th>\n      <td>2008</td>\n      <td>NORDESTE</td>\n      <td>11771365</td>\n      <td>2.759200e+07</td>\n      <td>10058218</td>\n      <td>8.958544e+08</td>\n      <td>1077448</td>\n      <td>6.152951e+08</td>\n      <td>8394</td>\n      <td>2.907539e+07</td>\n      <td>...</td>\n      <td>120637</td>\n      <td>5146141.47</td>\n      <td>297168</td>\n      <td>1.173281e+08</td>\n      <td>164638</td>\n      <td>5435755.00</td>\n      <td>5325115</td>\n      <td>2.203600e+08</td>\n      <td>0.0</td>\n      <td>0.00</td>\n    </tr>\n    <tr>\n      <th>2</th>\n      <td>2008</td>\n      <td>NORTE</td>\n      <td>3862408</td>\n      <td>7.738389e+06</td>\n      <td>2762117</td>\n      <td>2.508618e+08</td>\n      <td>338340</td>\n      <td>1.594219e+08</td>\n      <td>455</td>\n      <td>1.006948e+06</td>\n      <td>...</td>\n      <td>27041</td>\n      <td>1432633.78</td>\n      <td>39427</td>\n      <td>2.229142e+07</td>\n      <td>63183</td>\n      <td>2131355.75</td>\n      <td>1483606</td>\n      <td>6.073955e+07</td>\n      <td>0.0</td>\n      <td>0.00</td>\n    </tr>\n    <tr>\n      <th>3</th>\n      <td>2008</td>\n      <td>SUDESTE</td>\n      <td>39301647</td>\n      <td>1.050679e+08</td>\n      <td>26955708</td>\n      <td>1.383614e+09</td>\n      <td>1911740</td>\n      <td>1.015540e+09</td>\n      <td>39568</td>\n      <td>1.156452e+08</td>\n      <td>...</td>\n      <td>488365</td>\n      <td>20822357.03</td>\n      <td>569079</td>\n      <td>3.627313e+08</td>\n      <td>328461</td>\n      <td>9342757.50</td>\n      <td>8407516</td>\n      <td>6.356737e+08</td>\n      <td>0.0</td>\n      <td>0.00</td>\n    </tr>\n    <tr>\n      <th>4</th>\n      <td>2008</td>\n      <td>SUL</td>\n      <td>14515305</td>\n      <td>6.046986e+07</td>\n      <td>12040746</td>\n      <td>5.390746e+08</td>\n      <td>722071</td>\n      <td>4.621672e+08</td>\n      <td>15181</td>\n      <td>4.821394e+07</td>\n      <td>...</td>\n      <td>316864</td>\n      <td>8820304.45</td>\n      <td>414762</td>\n      <td>2.056595e+08</td>\n      <td>147708</td>\n      <td>4560723.00</td>\n      <td>3801598</td>\n      <td>2.942023e+08</td>\n      <td>0.0</td>\n      <td>0.00</td>\n    </tr>\n    <tr>\n      <th>...</th>\n      <td>...</td>\n      <td>...</td>\n      <td>...</td>\n      <td>...</td>\n      <td>...</td>\n      <td>...</td>\n      <td>...</td>\n      <td>...</td>\n      <td>...</td>\n      <td>...</td>\n      <td>...</td>\n      <td>...</td>\n      <td>...</td>\n      <td>...</td>\n      <td>...</td>\n      <td>...</td>\n      <td>...</td>\n      <td>...</td>\n      <td>...</td>\n      <td>...</td>\n      <td>...</td>\n    </tr>\n    <tr>\n      <th>75</th>\n      <td>2023</td>\n      <td>CENTRO-OESTE</td>\n      <td>19220796</td>\n      <td>7.610077e+07</td>\n      <td>12526502</td>\n      <td>3.260726e+08</td>\n      <td>913849</td>\n      <td>4.973195e+08</td>\n      <td>18882</td>\n      <td>2.975284e+07</td>\n      <td>...</td>\n      <td>147839</td>\n      <td>4927613.39</td>\n      <td>273728</td>\n      <td>1.269413e+08</td>\n      <td>44703</td>\n      <td>660787.50</td>\n      <td>3750720</td>\n      <td>4.459402e+08</td>\n      <td>10639.0</td>\n      <td>2404.35</td>\n    </tr>\n    <tr>\n      <th>76</th>\n      <td>2023</td>\n      <td>NORDESTE</td>\n      <td>40689214</td>\n      <td>1.769787e+08</td>\n      <td>38912090</td>\n      <td>1.125401e+09</td>\n      <td>2885453</td>\n      <td>1.708378e+09</td>\n      <td>82364</td>\n      <td>1.197481e+08</td>\n      <td>...</td>\n      <td>509282</td>\n      <td>16728511.92</td>\n      <td>606446</td>\n      <td>2.832263e+08</td>\n      <td>94333</td>\n      <td>1766875.00</td>\n      <td>13640700</td>\n      <td>1.292644e+09</td>\n      <td>6051.0</td>\n      <td>12035.11</td>\n    </tr>\n    <tr>\n      <th>77</th>\n      <td>2023</td>\n      <td>NORTE</td>\n      <td>10629515</td>\n      <td>3.898947e+07</td>\n      <td>9351866</td>\n      <td>3.137433e+08</td>\n      <td>1232369</td>\n      <td>4.272674e+08</td>\n      <td>6311</td>\n      <td>7.007680e+06</td>\n      <td>...</td>\n      <td>72425</td>\n      <td>3674897.76</td>\n      <td>123647</td>\n      <td>5.060501e+07</td>\n      <td>20895</td>\n      <td>399210.00</td>\n      <td>3968982</td>\n      <td>3.413019e+08</td>\n      <td>3894.0</td>\n      <td>823.47</td>\n    </tr>\n    <tr>\n      <th>78</th>\n      <td>2023</td>\n      <td>SUDESTE</td>\n      <td>107208284</td>\n      <td>4.798486e+08</td>\n      <td>69111645</td>\n      <td>1.830989e+09</td>\n      <td>5389379</td>\n      <td>2.709615e+09</td>\n      <td>260010</td>\n      <td>3.848555e+08</td>\n      <td>...</td>\n      <td>1535789</td>\n      <td>58730092.88</td>\n      <td>1479605</td>\n      <td>7.245372e+08</td>\n      <td>230580</td>\n      <td>4877690.25</td>\n      <td>17413235</td>\n      <td>2.734844e+09</td>\n      <td>26805.0</td>\n      <td>8494.73</td>\n    </tr>\n    <tr>\n      <th>79</th>\n      <td>2023</td>\n      <td>SUL</td>\n      <td>39760310</td>\n      <td>2.712900e+08</td>\n      <td>23623681</td>\n      <td>8.006659e+08</td>\n      <td>2300142</td>\n      <td>1.373988e+09</td>\n      <td>105997</td>\n      <td>1.922964e+08</td>\n      <td>...</td>\n      <td>646329</td>\n      <td>21112699.34</td>\n      <td>781818</td>\n      <td>4.160250e+08</td>\n      <td>90586</td>\n      <td>2474222.00</td>\n      <td>7494576</td>\n      <td>1.115572e+09</td>\n      <td>9280.0</td>\n      <td>1742.93</td>\n    </tr>\n  </tbody>\n</table>\n<p>80 rows × 116 columns</p>\n</div>"
     },
     "execution_count": 33,
     "metadata": {},
     "output_type": "execute_result"
    }
   ],
   "source": [
    "df_datasus_agrupado_ano_regiao.head(100)"
   ],
   "metadata": {
    "collapsed": false,
    "ExecuteTime": {
     "end_time": "2024-03-05T22:58:39.604338Z",
     "start_time": "2024-03-05T22:58:39.574581Z"
    }
   },
   "id": "122549a34fe5d819",
   "execution_count": 33
  },
  {
   "cell_type": "code",
   "outputs": [],
   "source": [
    "df_datasus_agrupado_ano_regiao['quantidade_procedimentos_total'] = df_datasus_agrupado_ano_regiao[df_datasus_qtd.columns].agg(['sum'], axis=1)\n",
    "df_datasus_agrupado_ano_regiao['valor_procedimentos_total'] = df_datasus_agrupado_ano_regiao[df_datasus_val.columns].agg(['sum'], axis=1)\n"
   ],
   "metadata": {
    "collapsed": false,
    "ExecuteTime": {
     "end_time": "2024-03-05T22:58:42.777668Z",
     "start_time": "2024-03-05T22:58:42.732369Z"
    }
   },
   "id": "fa9265a7fc7a4da0",
   "execution_count": 34
  },
  {
   "cell_type": "code",
   "outputs": [
    {
     "data": {
      "text/plain": "     ano   regiao_nome  quantidade_procedimentos_total  \\\n0   2008  CENTRO-OESTE                      22626480.0   \n1   2008      NORDESTE                      57645966.0   \n2   2008         NORTE                      17153154.0   \n3   2008       SUDESTE                     156004168.0   \n4   2008           SUL                      63948470.0   \n..   ...           ...                             ...   \n75  2023  CENTRO-OESTE                      73794038.0   \n76  2023      NORDESTE                     194839764.0   \n77  2023         NORTE                      50812020.0   \n78  2023       SUDESTE                     405257054.0   \n79  2023           SUL                     149606878.0   \n\n    valor_procedimentos_total  \n0                1.181512e+09  \n1                3.816664e+09  \n2                1.006002e+09  \n3                7.276055e+09  \n4                3.239606e+09  \n..                        ...  \n75               3.009246e+09  \n76               9.428650e+09  \n77               2.357888e+09  \n78               1.782625e+10  \n79               8.373831e+09  \n\n[80 rows x 4 columns]",
      "text/html": "<div>\n<style scoped>\n    .dataframe tbody tr th:only-of-type {\n        vertical-align: middle;\n    }\n\n    .dataframe tbody tr th {\n        vertical-align: top;\n    }\n\n    .dataframe thead th {\n        text-align: right;\n    }\n</style>\n<table border=\"1\" class=\"dataframe\">\n  <thead>\n    <tr style=\"text-align: right;\">\n      <th></th>\n      <th>ano</th>\n      <th>regiao_nome</th>\n      <th>quantidade_procedimentos_total</th>\n      <th>valor_procedimentos_total</th>\n    </tr>\n  </thead>\n  <tbody>\n    <tr>\n      <th>0</th>\n      <td>2008</td>\n      <td>CENTRO-OESTE</td>\n      <td>22626480.0</td>\n      <td>1.181512e+09</td>\n    </tr>\n    <tr>\n      <th>1</th>\n      <td>2008</td>\n      <td>NORDESTE</td>\n      <td>57645966.0</td>\n      <td>3.816664e+09</td>\n    </tr>\n    <tr>\n      <th>2</th>\n      <td>2008</td>\n      <td>NORTE</td>\n      <td>17153154.0</td>\n      <td>1.006002e+09</td>\n    </tr>\n    <tr>\n      <th>3</th>\n      <td>2008</td>\n      <td>SUDESTE</td>\n      <td>156004168.0</td>\n      <td>7.276055e+09</td>\n    </tr>\n    <tr>\n      <th>4</th>\n      <td>2008</td>\n      <td>SUL</td>\n      <td>63948470.0</td>\n      <td>3.239606e+09</td>\n    </tr>\n    <tr>\n      <th>...</th>\n      <td>...</td>\n      <td>...</td>\n      <td>...</td>\n      <td>...</td>\n    </tr>\n    <tr>\n      <th>75</th>\n      <td>2023</td>\n      <td>CENTRO-OESTE</td>\n      <td>73794038.0</td>\n      <td>3.009246e+09</td>\n    </tr>\n    <tr>\n      <th>76</th>\n      <td>2023</td>\n      <td>NORDESTE</td>\n      <td>194839764.0</td>\n      <td>9.428650e+09</td>\n    </tr>\n    <tr>\n      <th>77</th>\n      <td>2023</td>\n      <td>NORTE</td>\n      <td>50812020.0</td>\n      <td>2.357888e+09</td>\n    </tr>\n    <tr>\n      <th>78</th>\n      <td>2023</td>\n      <td>SUDESTE</td>\n      <td>405257054.0</td>\n      <td>1.782625e+10</td>\n    </tr>\n    <tr>\n      <th>79</th>\n      <td>2023</td>\n      <td>SUL</td>\n      <td>149606878.0</td>\n      <td>8.373831e+09</td>\n    </tr>\n  </tbody>\n</table>\n<p>80 rows × 4 columns</p>\n</div>"
     },
     "execution_count": 35,
     "metadata": {},
     "output_type": "execute_result"
    }
   ],
   "source": [
    "df_datasus_agrupado_ano_regiao.loc[:, ['ano', 'regiao_nome', 'quantidade_procedimentos_total', 'valor_procedimentos_total']]"
   ],
   "metadata": {
    "collapsed": false,
    "ExecuteTime": {
     "end_time": "2024-03-05T22:58:45.611047Z",
     "start_time": "2024-03-05T22:58:45.597691Z"
    }
   },
   "id": "6d1470b5277cafb3",
   "execution_count": 35
  },
  {
   "cell_type": "code",
   "outputs": [],
   "source": [
    "df_datasus_agrupado_ano_regiao.set_index('ano', inplace=True)"
   ],
   "metadata": {
    "collapsed": false,
    "ExecuteTime": {
     "end_time": "2024-03-05T22:58:46.882935Z",
     "start_time": "2024-03-05T22:58:46.878367Z"
    }
   },
   "id": "9d79c45e8a703fba",
   "execution_count": 36
  },
  {
   "cell_type": "code",
   "outputs": [],
   "source": [
    "from plotly.subplots import make_subplots\n",
    "import plotly.graph_objects as go"
   ],
   "metadata": {
    "collapsed": false,
    "ExecuteTime": {
     "end_time": "2024-03-05T22:58:48.189350Z",
     "start_time": "2024-03-05T22:58:48.186078Z"
    }
   },
   "id": "99e1e023a07ae235",
   "execution_count": 37
  },
  {
   "cell_type": "code",
   "outputs": [],
   "source": [],
   "metadata": {
    "collapsed": false,
    "ExecuteTime": {
     "end_time": "2024-03-05T22:58:49.736443Z",
     "start_time": "2024-03-05T22:58:49.733097Z"
    }
   },
   "id": "9e636d5bf7d3aaa0",
   "execution_count": 37
  },
  {
   "cell_type": "code",
   "outputs": [
    {
     "data": {
      "application/vnd.plotly.v1+json": {
       "data": [
        {
         "name": "Quantidade Procedimentos Total",
         "x": [
          2008,
          2008,
          2008,
          2008,
          2008,
          2009,
          2009,
          2009,
          2009,
          2009,
          2010,
          2010,
          2010,
          2010,
          2010,
          2011,
          2011,
          2011,
          2011,
          2011,
          2012,
          2012,
          2012,
          2012,
          2012,
          2013,
          2013,
          2013,
          2013,
          2013,
          2014,
          2014,
          2014,
          2014,
          2014,
          2015,
          2015,
          2015,
          2015,
          2015,
          2016,
          2016,
          2016,
          2016,
          2016,
          2017,
          2017,
          2017,
          2017,
          2017,
          2018,
          2018,
          2018,
          2018,
          2018,
          2019,
          2019,
          2019,
          2019,
          2019,
          2020,
          2020,
          2020,
          2020,
          2020,
          2021,
          2021,
          2021,
          2021,
          2021,
          2022,
          2022,
          2022,
          2022,
          2022,
          2023,
          2023,
          2023,
          2023,
          2023
         ],
         "y": [
          2.262648E7,
          5.7645966E7,
          1.7153154E7,
          1.56004168E8,
          6.394847E7,
          2.6191858E7,
          6.9089566E7,
          2.0025392E7,
          1.82868676E8,
          7.2706096E7,
          2.7179334E7,
          7.431591E7,
          2.1504824E7,
          2.0342284E8,
          7.7687356E7,
          2.8868902E7,
          8.4638046E7,
          2.3252872E7,
          2.29171984E8,
          8.2693782E7,
          2.9818712E7,
          9.0744152E7,
          2.3414054E7,
          2.44450058E8,
          8.909589E7,
          3.1418364E7,
          9.944682E7,
          2.528741E7,
          2.61948266E8,
          9.704573E7,
          3.527265E7,
          1.06544698E8,
          2.680241E7,
          2.7325302E8,
          1.04874872E8,
          3.7113018E7,
          1.14628094E8,
          2.9198514E7,
          2.85626036E8,
          1.0807542E8,
          4.2217088E7,
          1.20473264E8,
          3.0924958E7,
          2.9178256E8,
          1.08546442E8,
          4.4137132E7,
          1.2865505E8,
          3.4344184E7,
          2.99032126E8,
          1.12550386E8,
          4.9138652E7,
          1.38688176E8,
          3.699881E7,
          3.12299066E8,
          1.18878218E8,
          5.4211358E7,
          1.49077412E8,
          4.0452194E7,
          3.28908232E8,
          1.268988E8,
          5.8379366E7,
          1.4717222E8,
          4.0068314E7,
          3.38498764E8,
          1.24359592E8,
          7.392044E7,
          1.85960464E8,
          4.9524104E7,
          4.07009994E8,
          1.52541428E8,
          7.0940278E7,
          1.85068038E8,
          5.0453002E7,
          3.90394174E8,
          1.45242462E8,
          7.3794038E7,
          1.94839764E8,
          5.081202E7,
          4.05257054E8,
          1.49606878E8
         ],
         "type": "bar",
         "xaxis": "x",
         "yaxis": "y"
        },
        {
         "name": "Valores Procedimentos Total",
         "x": [
          2008,
          2008,
          2008,
          2008,
          2008,
          2009,
          2009,
          2009,
          2009,
          2009,
          2010,
          2010,
          2010,
          2010,
          2010,
          2011,
          2011,
          2011,
          2011,
          2011,
          2012,
          2012,
          2012,
          2012,
          2012,
          2013,
          2013,
          2013,
          2013,
          2013,
          2014,
          2014,
          2014,
          2014,
          2014,
          2015,
          2015,
          2015,
          2015,
          2015,
          2016,
          2016,
          2016,
          2016,
          2016,
          2017,
          2017,
          2017,
          2017,
          2017,
          2018,
          2018,
          2018,
          2018,
          2018,
          2019,
          2019,
          2019,
          2019,
          2019,
          2020,
          2020,
          2020,
          2020,
          2020,
          2021,
          2021,
          2021,
          2021,
          2021,
          2022,
          2022,
          2022,
          2022,
          2022,
          2023,
          2023,
          2023,
          2023,
          2023
         ],
         "y": [
          1.1815124811599998E9,
          3.81666406591E9,
          1.00600200602E9,
          7.27605482808E9,
          3.23960624023E9,
          1.44171746818E9,
          4.637247083389999E9,
          1.2117962571299999E9,
          8.967487935759998E9,
          3.9336791594399996E9,
          1.5114144757800002E9,
          4.87338268631E9,
          1.26813559898E9,
          9.58692068457E9,
          4.18103849236E9,
          1.57641107974E9,
          5.089866760070001E9,
          1.30003609627E9,
          1.0178774944600002E10,
          4.40951707229E9,
          1.63025857708E9,
          5.253743436169999E9,
          1.30450727751E9,
          1.045735524577E10,
          4.60363403097E9,
          1.7764937776999998E9,
          5.83356435379E9,
          1.40237371885E9,
          1.119855356104E10,
          5.12056437969E9,
          1.8440991898300002E9,
          6.12733425012E9,
          1.41573543264E9,
          1.1865020628810001E10,
          5.421439960870001E9,
          1.91114878992E9,
          6.362914393879999E9,
          1.49951835059E9,
          1.2056754790069998E10,
          5.677000645429999E9,
          1.96318397046E9,
          6.5112278086E9,
          1.52559975598E9,
          1.207322935936E10,
          5.86020012973E9,
          1.99493919352E9,
          6.7883661905E9,
          1.6094985798700001E9,
          1.2455376591900002E10,
          6.11586885993E9,
          2.06015414393E9,
          7.049159212880001E9,
          1.6820880876900003E9,
          1.287720678304E10,
          6.46720768574E9,
          2.1669220193599997E9,
          7.382396208119999E9,
          1.7713967224799998E9,
          1.347706479954E10,
          6.75674491641E9,
          2.334298526799999E9,
          7.57086008293E9,
          1.92221027635E9,
          1.4179155741179998E10,
          6.68957699713E9,
          3.4125506036499996E9,
          1.044810678895E10,
          2.44102993812E9,
          1.9337207579060005E10,
          9.032484521000002E9,
          2.70784899966E9,
          8.88213273258E9,
          2.25218908203E9,
          1.6445195783530005E10,
          7.787237741499999E9,
          3.00924573342E9,
          9.42864954894E9,
          2.3578879248299994E9,
          1.782625365784E10,
          8.37383080909E9
         ],
         "type": "bar",
         "xaxis": "x2",
         "yaxis": "y2"
        }
       ],
       "layout": {
        "template": {
         "data": {
          "barpolar": [
           {
            "marker": {
             "line": {
              "color": "white",
              "width": 0.5
             },
             "pattern": {
              "fillmode": "overlay",
              "size": 10,
              "solidity": 0.2
             }
            },
            "type": "barpolar"
           }
          ],
          "bar": [
           {
            "error_x": {
             "color": "#2a3f5f"
            },
            "error_y": {
             "color": "#2a3f5f"
            },
            "marker": {
             "line": {
              "color": "white",
              "width": 0.5
             },
             "pattern": {
              "fillmode": "overlay",
              "size": 10,
              "solidity": 0.2
             }
            },
            "type": "bar"
           }
          ],
          "carpet": [
           {
            "aaxis": {
             "endlinecolor": "#2a3f5f",
             "gridcolor": "#C8D4E3",
             "linecolor": "#C8D4E3",
             "minorgridcolor": "#C8D4E3",
             "startlinecolor": "#2a3f5f"
            },
            "baxis": {
             "endlinecolor": "#2a3f5f",
             "gridcolor": "#C8D4E3",
             "linecolor": "#C8D4E3",
             "minorgridcolor": "#C8D4E3",
             "startlinecolor": "#2a3f5f"
            },
            "type": "carpet"
           }
          ],
          "choropleth": [
           {
            "colorbar": {
             "outlinewidth": 0,
             "ticks": ""
            },
            "type": "choropleth"
           }
          ],
          "contourcarpet": [
           {
            "colorbar": {
             "outlinewidth": 0,
             "ticks": ""
            },
            "type": "contourcarpet"
           }
          ],
          "contour": [
           {
            "colorbar": {
             "outlinewidth": 0,
             "ticks": ""
            },
            "colorscale": [
             [
              0.0,
              "#0d0887"
             ],
             [
              0.1111111111111111,
              "#46039f"
             ],
             [
              0.2222222222222222,
              "#7201a8"
             ],
             [
              0.3333333333333333,
              "#9c179e"
             ],
             [
              0.4444444444444444,
              "#bd3786"
             ],
             [
              0.5555555555555556,
              "#d8576b"
             ],
             [
              0.6666666666666666,
              "#ed7953"
             ],
             [
              0.7777777777777778,
              "#fb9f3a"
             ],
             [
              0.8888888888888888,
              "#fdca26"
             ],
             [
              1.0,
              "#f0f921"
             ]
            ],
            "type": "contour"
           }
          ],
          "heatmapgl": [
           {
            "colorbar": {
             "outlinewidth": 0,
             "ticks": ""
            },
            "colorscale": [
             [
              0.0,
              "#0d0887"
             ],
             [
              0.1111111111111111,
              "#46039f"
             ],
             [
              0.2222222222222222,
              "#7201a8"
             ],
             [
              0.3333333333333333,
              "#9c179e"
             ],
             [
              0.4444444444444444,
              "#bd3786"
             ],
             [
              0.5555555555555556,
              "#d8576b"
             ],
             [
              0.6666666666666666,
              "#ed7953"
             ],
             [
              0.7777777777777778,
              "#fb9f3a"
             ],
             [
              0.8888888888888888,
              "#fdca26"
             ],
             [
              1.0,
              "#f0f921"
             ]
            ],
            "type": "heatmapgl"
           }
          ],
          "heatmap": [
           {
            "colorbar": {
             "outlinewidth": 0,
             "ticks": ""
            },
            "colorscale": [
             [
              0.0,
              "#0d0887"
             ],
             [
              0.1111111111111111,
              "#46039f"
             ],
             [
              0.2222222222222222,
              "#7201a8"
             ],
             [
              0.3333333333333333,
              "#9c179e"
             ],
             [
              0.4444444444444444,
              "#bd3786"
             ],
             [
              0.5555555555555556,
              "#d8576b"
             ],
             [
              0.6666666666666666,
              "#ed7953"
             ],
             [
              0.7777777777777778,
              "#fb9f3a"
             ],
             [
              0.8888888888888888,
              "#fdca26"
             ],
             [
              1.0,
              "#f0f921"
             ]
            ],
            "type": "heatmap"
           }
          ],
          "histogram2dcontour": [
           {
            "colorbar": {
             "outlinewidth": 0,
             "ticks": ""
            },
            "colorscale": [
             [
              0.0,
              "#0d0887"
             ],
             [
              0.1111111111111111,
              "#46039f"
             ],
             [
              0.2222222222222222,
              "#7201a8"
             ],
             [
              0.3333333333333333,
              "#9c179e"
             ],
             [
              0.4444444444444444,
              "#bd3786"
             ],
             [
              0.5555555555555556,
              "#d8576b"
             ],
             [
              0.6666666666666666,
              "#ed7953"
             ],
             [
              0.7777777777777778,
              "#fb9f3a"
             ],
             [
              0.8888888888888888,
              "#fdca26"
             ],
             [
              1.0,
              "#f0f921"
             ]
            ],
            "type": "histogram2dcontour"
           }
          ],
          "histogram2d": [
           {
            "colorbar": {
             "outlinewidth": 0,
             "ticks": ""
            },
            "colorscale": [
             [
              0.0,
              "#0d0887"
             ],
             [
              0.1111111111111111,
              "#46039f"
             ],
             [
              0.2222222222222222,
              "#7201a8"
             ],
             [
              0.3333333333333333,
              "#9c179e"
             ],
             [
              0.4444444444444444,
              "#bd3786"
             ],
             [
              0.5555555555555556,
              "#d8576b"
             ],
             [
              0.6666666666666666,
              "#ed7953"
             ],
             [
              0.7777777777777778,
              "#fb9f3a"
             ],
             [
              0.8888888888888888,
              "#fdca26"
             ],
             [
              1.0,
              "#f0f921"
             ]
            ],
            "type": "histogram2d"
           }
          ],
          "histogram": [
           {
            "marker": {
             "pattern": {
              "fillmode": "overlay",
              "size": 10,
              "solidity": 0.2
             }
            },
            "type": "histogram"
           }
          ],
          "mesh3d": [
           {
            "colorbar": {
             "outlinewidth": 0,
             "ticks": ""
            },
            "type": "mesh3d"
           }
          ],
          "parcoords": [
           {
            "line": {
             "colorbar": {
              "outlinewidth": 0,
              "ticks": ""
             }
            },
            "type": "parcoords"
           }
          ],
          "pie": [
           {
            "automargin": true,
            "type": "pie"
           }
          ],
          "scatter3d": [
           {
            "line": {
             "colorbar": {
              "outlinewidth": 0,
              "ticks": ""
             }
            },
            "marker": {
             "colorbar": {
              "outlinewidth": 0,
              "ticks": ""
             }
            },
            "type": "scatter3d"
           }
          ],
          "scattercarpet": [
           {
            "marker": {
             "colorbar": {
              "outlinewidth": 0,
              "ticks": ""
             }
            },
            "type": "scattercarpet"
           }
          ],
          "scattergeo": [
           {
            "marker": {
             "colorbar": {
              "outlinewidth": 0,
              "ticks": ""
             }
            },
            "type": "scattergeo"
           }
          ],
          "scattergl": [
           {
            "marker": {
             "colorbar": {
              "outlinewidth": 0,
              "ticks": ""
             }
            },
            "type": "scattergl"
           }
          ],
          "scattermapbox": [
           {
            "marker": {
             "colorbar": {
              "outlinewidth": 0,
              "ticks": ""
             }
            },
            "type": "scattermapbox"
           }
          ],
          "scatterpolargl": [
           {
            "marker": {
             "colorbar": {
              "outlinewidth": 0,
              "ticks": ""
             }
            },
            "type": "scatterpolargl"
           }
          ],
          "scatterpolar": [
           {
            "marker": {
             "colorbar": {
              "outlinewidth": 0,
              "ticks": ""
             }
            },
            "type": "scatterpolar"
           }
          ],
          "scatter": [
           {
            "fillpattern": {
             "fillmode": "overlay",
             "size": 10,
             "solidity": 0.2
            },
            "type": "scatter"
           }
          ],
          "scatterternary": [
           {
            "marker": {
             "colorbar": {
              "outlinewidth": 0,
              "ticks": ""
             }
            },
            "type": "scatterternary"
           }
          ],
          "surface": [
           {
            "colorbar": {
             "outlinewidth": 0,
             "ticks": ""
            },
            "colorscale": [
             [
              0.0,
              "#0d0887"
             ],
             [
              0.1111111111111111,
              "#46039f"
             ],
             [
              0.2222222222222222,
              "#7201a8"
             ],
             [
              0.3333333333333333,
              "#9c179e"
             ],
             [
              0.4444444444444444,
              "#bd3786"
             ],
             [
              0.5555555555555556,
              "#d8576b"
             ],
             [
              0.6666666666666666,
              "#ed7953"
             ],
             [
              0.7777777777777778,
              "#fb9f3a"
             ],
             [
              0.8888888888888888,
              "#fdca26"
             ],
             [
              1.0,
              "#f0f921"
             ]
            ],
            "type": "surface"
           }
          ],
          "table": [
           {
            "cells": {
             "fill": {
              "color": "#EBF0F8"
             },
             "line": {
              "color": "white"
             }
            },
            "header": {
             "fill": {
              "color": "#C8D4E3"
             },
             "line": {
              "color": "white"
             }
            },
            "type": "table"
           }
          ]
         },
         "layout": {
          "annotationdefaults": {
           "arrowcolor": "#2a3f5f",
           "arrowhead": 0,
           "arrowwidth": 1
          },
          "autotypenumbers": "strict",
          "coloraxis": {
           "colorbar": {
            "outlinewidth": 0,
            "ticks": ""
           }
          },
          "colorscale": {
           "diverging": [
            [
             0,
             "#8e0152"
            ],
            [
             0.1,
             "#c51b7d"
            ],
            [
             0.2,
             "#de77ae"
            ],
            [
             0.3,
             "#f1b6da"
            ],
            [
             0.4,
             "#fde0ef"
            ],
            [
             0.5,
             "#f7f7f7"
            ],
            [
             0.6,
             "#e6f5d0"
            ],
            [
             0.7,
             "#b8e186"
            ],
            [
             0.8,
             "#7fbc41"
            ],
            [
             0.9,
             "#4d9221"
            ],
            [
             1,
             "#276419"
            ]
           ],
           "sequential": [
            [
             0.0,
             "#0d0887"
            ],
            [
             0.1111111111111111,
             "#46039f"
            ],
            [
             0.2222222222222222,
             "#7201a8"
            ],
            [
             0.3333333333333333,
             "#9c179e"
            ],
            [
             0.4444444444444444,
             "#bd3786"
            ],
            [
             0.5555555555555556,
             "#d8576b"
            ],
            [
             0.6666666666666666,
             "#ed7953"
            ],
            [
             0.7777777777777778,
             "#fb9f3a"
            ],
            [
             0.8888888888888888,
             "#fdca26"
            ],
            [
             1.0,
             "#f0f921"
            ]
           ],
           "sequentialminus": [
            [
             0.0,
             "#0d0887"
            ],
            [
             0.1111111111111111,
             "#46039f"
            ],
            [
             0.2222222222222222,
             "#7201a8"
            ],
            [
             0.3333333333333333,
             "#9c179e"
            ],
            [
             0.4444444444444444,
             "#bd3786"
            ],
            [
             0.5555555555555556,
             "#d8576b"
            ],
            [
             0.6666666666666666,
             "#ed7953"
            ],
            [
             0.7777777777777778,
             "#fb9f3a"
            ],
            [
             0.8888888888888888,
             "#fdca26"
            ],
            [
             1.0,
             "#f0f921"
            ]
           ]
          },
          "colorway": [
           "#636efa",
           "#EF553B",
           "#00cc96",
           "#ab63fa",
           "#FFA15A",
           "#19d3f3",
           "#FF6692",
           "#B6E880",
           "#FF97FF",
           "#FECB52"
          ],
          "font": {
           "color": "#2a3f5f"
          },
          "geo": {
           "bgcolor": "white",
           "lakecolor": "white",
           "landcolor": "white",
           "showlakes": true,
           "showland": true,
           "subunitcolor": "#C8D4E3"
          },
          "hoverlabel": {
           "align": "left"
          },
          "hovermode": "closest",
          "mapbox": {
           "style": "light"
          },
          "paper_bgcolor": "white",
          "plot_bgcolor": "white",
          "polar": {
           "angularaxis": {
            "gridcolor": "#EBF0F8",
            "linecolor": "#EBF0F8",
            "ticks": ""
           },
           "bgcolor": "white",
           "radialaxis": {
            "gridcolor": "#EBF0F8",
            "linecolor": "#EBF0F8",
            "ticks": ""
           }
          },
          "scene": {
           "xaxis": {
            "backgroundcolor": "white",
            "gridcolor": "#DFE8F3",
            "gridwidth": 2,
            "linecolor": "#EBF0F8",
            "showbackground": true,
            "ticks": "",
            "zerolinecolor": "#EBF0F8"
           },
           "yaxis": {
            "backgroundcolor": "white",
            "gridcolor": "#DFE8F3",
            "gridwidth": 2,
            "linecolor": "#EBF0F8",
            "showbackground": true,
            "ticks": "",
            "zerolinecolor": "#EBF0F8"
           },
           "zaxis": {
            "backgroundcolor": "white",
            "gridcolor": "#DFE8F3",
            "gridwidth": 2,
            "linecolor": "#EBF0F8",
            "showbackground": true,
            "ticks": "",
            "zerolinecolor": "#EBF0F8"
           }
          },
          "shapedefaults": {
           "line": {
            "color": "#2a3f5f"
           }
          },
          "ternary": {
           "aaxis": {
            "gridcolor": "#DFE8F3",
            "linecolor": "#A2B1C6",
            "ticks": ""
           },
           "baxis": {
            "gridcolor": "#DFE8F3",
            "linecolor": "#A2B1C6",
            "ticks": ""
           },
           "bgcolor": "white",
           "caxis": {
            "gridcolor": "#DFE8F3",
            "linecolor": "#A2B1C6",
            "ticks": ""
           }
          },
          "title": {
           "x": 0.05
          },
          "xaxis": {
           "automargin": true,
           "gridcolor": "#EBF0F8",
           "linecolor": "#EBF0F8",
           "ticks": "",
           "title": {
            "standoff": 15
           },
           "zerolinecolor": "#EBF0F8",
           "zerolinewidth": 2
          },
          "yaxis": {
           "automargin": true,
           "gridcolor": "#EBF0F8",
           "linecolor": "#EBF0F8",
           "ticks": "",
           "title": {
            "standoff": 15
           },
           "zerolinecolor": "#EBF0F8",
           "zerolinewidth": 2
          }
         }
        },
        "xaxis": {
         "anchor": "y",
         "domain": [
          0.0,
          1.0
         ],
         "matches": "x2",
         "showticklabels": false
        },
        "yaxis": {
         "anchor": "x",
         "domain": [
          0.575,
          1.0
         ],
         "title": {
          "text": "<b>Quantidade<br>Procedimentos"
         }
        },
        "xaxis2": {
         "anchor": "y2",
         "domain": [
          0.0,
          1.0
         ],
         "title": {
          "text": "<b>Ano"
         },
         "ticklabelmode": "period"
        },
        "yaxis2": {
         "anchor": "x2",
         "domain": [
          0.0,
          0.425
         ],
         "title": {
          "text": "<b>Valor<br>Procedimentos"
         }
        },
        "title": {
         "text": "Totais"
        }
       },
       "config": {
        "plotlyServerURL": "https://plot.ly"
       }
      },
      "text/html": "<div>                            <div id=\"b7155128-16ce-472c-8231-1d661f03e052\" class=\"plotly-graph-div\" style=\"height:525px; width:100%;\"></div>            <script type=\"text/javascript\">                require([\"plotly\"], function(Plotly) {                    window.PLOTLYENV=window.PLOTLYENV || {};                                    if (document.getElementById(\"b7155128-16ce-472c-8231-1d661f03e052\")) {                    Plotly.newPlot(                        \"b7155128-16ce-472c-8231-1d661f03e052\",                        [{\"name\":\"Quantidade Procedimentos Total\",\"x\":[2008,2008,2008,2008,2008,2009,2009,2009,2009,2009,2010,2010,2010,2010,2010,2011,2011,2011,2011,2011,2012,2012,2012,2012,2012,2013,2013,2013,2013,2013,2014,2014,2014,2014,2014,2015,2015,2015,2015,2015,2016,2016,2016,2016,2016,2017,2017,2017,2017,2017,2018,2018,2018,2018,2018,2019,2019,2019,2019,2019,2020,2020,2020,2020,2020,2021,2021,2021,2021,2021,2022,2022,2022,2022,2022,2023,2023,2023,2023,2023],\"y\":[22626480.0,57645966.0,17153154.0,156004168.0,63948470.0,26191858.0,69089566.0,20025392.0,182868676.0,72706096.0,27179334.0,74315910.0,21504824.0,203422840.0,77687356.0,28868902.0,84638046.0,23252872.0,229171984.0,82693782.0,29818712.0,90744152.0,23414054.0,244450058.0,89095890.0,31418364.0,99446820.0,25287410.0,261948266.0,97045730.0,35272650.0,106544698.0,26802410.0,273253020.0,104874872.0,37113018.0,114628094.0,29198514.0,285626036.0,108075420.0,42217088.0,120473264.0,30924958.0,291782560.0,108546442.0,44137132.0,128655050.0,34344184.0,299032126.0,112550386.0,49138652.0,138688176.0,36998810.0,312299066.0,118878218.0,54211358.0,149077412.0,40452194.0,328908232.0,126898800.0,58379366.0,147172220.0,40068314.0,338498764.0,124359592.0,73920440.0,185960464.0,49524104.0,407009994.0,152541428.0,70940278.0,185068038.0,50453002.0,390394174.0,145242462.0,73794038.0,194839764.0,50812020.0,405257054.0,149606878.0],\"type\":\"bar\",\"xaxis\":\"x\",\"yaxis\":\"y\"},{\"name\":\"Valores Procedimentos Total\",\"x\":[2008,2008,2008,2008,2008,2009,2009,2009,2009,2009,2010,2010,2010,2010,2010,2011,2011,2011,2011,2011,2012,2012,2012,2012,2012,2013,2013,2013,2013,2013,2014,2014,2014,2014,2014,2015,2015,2015,2015,2015,2016,2016,2016,2016,2016,2017,2017,2017,2017,2017,2018,2018,2018,2018,2018,2019,2019,2019,2019,2019,2020,2020,2020,2020,2020,2021,2021,2021,2021,2021,2022,2022,2022,2022,2022,2023,2023,2023,2023,2023],\"y\":[1181512481.1599998,3816664065.91,1006002006.02,7276054828.08,3239606240.23,1441717468.18,4637247083.389999,1211796257.1299999,8967487935.759998,3933679159.4399996,1511414475.7800002,4873382686.31,1268135598.98,9586920684.57,4181038492.36,1576411079.74,5089866760.070001,1300036096.27,10178774944.600002,4409517072.29,1630258577.08,5253743436.169999,1304507277.51,10457355245.77,4603634030.97,1776493777.6999998,5833564353.79,1402373718.85,11198553561.04,5120564379.69,1844099189.8300002,6127334250.12,1415735432.64,11865020628.810001,5421439960.870001,1911148789.92,6362914393.879999,1499518350.59,12056754790.069998,5677000645.429999,1963183970.46,6511227808.6,1525599755.98,12073229359.36,5860200129.73,1994939193.52,6788366190.5,1609498579.8700001,12455376591.900002,6115868859.93,2060154143.93,7049159212.880001,1682088087.6900003,12877206783.04,6467207685.74,2166922019.3599997,7382396208.119999,1771396722.4799998,13477064799.54,6756744916.41,2334298526.799999,7570860082.93,1922210276.35,14179155741.179998,6689576997.13,3412550603.6499996,10448106788.95,2441029938.12,19337207579.060005,9032484521.000002,2707848999.66,8882132732.58,2252189082.03,16445195783.530005,7787237741.499999,3009245733.42,9428649548.94,2357887924.8299994,17826253657.84,8373830809.09],\"type\":\"bar\",\"xaxis\":\"x2\",\"yaxis\":\"y2\"}],                        {\"template\":{\"data\":{\"barpolar\":[{\"marker\":{\"line\":{\"color\":\"white\",\"width\":0.5},\"pattern\":{\"fillmode\":\"overlay\",\"size\":10,\"solidity\":0.2}},\"type\":\"barpolar\"}],\"bar\":[{\"error_x\":{\"color\":\"#2a3f5f\"},\"error_y\":{\"color\":\"#2a3f5f\"},\"marker\":{\"line\":{\"color\":\"white\",\"width\":0.5},\"pattern\":{\"fillmode\":\"overlay\",\"size\":10,\"solidity\":0.2}},\"type\":\"bar\"}],\"carpet\":[{\"aaxis\":{\"endlinecolor\":\"#2a3f5f\",\"gridcolor\":\"#C8D4E3\",\"linecolor\":\"#C8D4E3\",\"minorgridcolor\":\"#C8D4E3\",\"startlinecolor\":\"#2a3f5f\"},\"baxis\":{\"endlinecolor\":\"#2a3f5f\",\"gridcolor\":\"#C8D4E3\",\"linecolor\":\"#C8D4E3\",\"minorgridcolor\":\"#C8D4E3\",\"startlinecolor\":\"#2a3f5f\"},\"type\":\"carpet\"}],\"choropleth\":[{\"colorbar\":{\"outlinewidth\":0,\"ticks\":\"\"},\"type\":\"choropleth\"}],\"contourcarpet\":[{\"colorbar\":{\"outlinewidth\":0,\"ticks\":\"\"},\"type\":\"contourcarpet\"}],\"contour\":[{\"colorbar\":{\"outlinewidth\":0,\"ticks\":\"\"},\"colorscale\":[[0.0,\"#0d0887\"],[0.1111111111111111,\"#46039f\"],[0.2222222222222222,\"#7201a8\"],[0.3333333333333333,\"#9c179e\"],[0.4444444444444444,\"#bd3786\"],[0.5555555555555556,\"#d8576b\"],[0.6666666666666666,\"#ed7953\"],[0.7777777777777778,\"#fb9f3a\"],[0.8888888888888888,\"#fdca26\"],[1.0,\"#f0f921\"]],\"type\":\"contour\"}],\"heatmapgl\":[{\"colorbar\":{\"outlinewidth\":0,\"ticks\":\"\"},\"colorscale\":[[0.0,\"#0d0887\"],[0.1111111111111111,\"#46039f\"],[0.2222222222222222,\"#7201a8\"],[0.3333333333333333,\"#9c179e\"],[0.4444444444444444,\"#bd3786\"],[0.5555555555555556,\"#d8576b\"],[0.6666666666666666,\"#ed7953\"],[0.7777777777777778,\"#fb9f3a\"],[0.8888888888888888,\"#fdca26\"],[1.0,\"#f0f921\"]],\"type\":\"heatmapgl\"}],\"heatmap\":[{\"colorbar\":{\"outlinewidth\":0,\"ticks\":\"\"},\"colorscale\":[[0.0,\"#0d0887\"],[0.1111111111111111,\"#46039f\"],[0.2222222222222222,\"#7201a8\"],[0.3333333333333333,\"#9c179e\"],[0.4444444444444444,\"#bd3786\"],[0.5555555555555556,\"#d8576b\"],[0.6666666666666666,\"#ed7953\"],[0.7777777777777778,\"#fb9f3a\"],[0.8888888888888888,\"#fdca26\"],[1.0,\"#f0f921\"]],\"type\":\"heatmap\"}],\"histogram2dcontour\":[{\"colorbar\":{\"outlinewidth\":0,\"ticks\":\"\"},\"colorscale\":[[0.0,\"#0d0887\"],[0.1111111111111111,\"#46039f\"],[0.2222222222222222,\"#7201a8\"],[0.3333333333333333,\"#9c179e\"],[0.4444444444444444,\"#bd3786\"],[0.5555555555555556,\"#d8576b\"],[0.6666666666666666,\"#ed7953\"],[0.7777777777777778,\"#fb9f3a\"],[0.8888888888888888,\"#fdca26\"],[1.0,\"#f0f921\"]],\"type\":\"histogram2dcontour\"}],\"histogram2d\":[{\"colorbar\":{\"outlinewidth\":0,\"ticks\":\"\"},\"colorscale\":[[0.0,\"#0d0887\"],[0.1111111111111111,\"#46039f\"],[0.2222222222222222,\"#7201a8\"],[0.3333333333333333,\"#9c179e\"],[0.4444444444444444,\"#bd3786\"],[0.5555555555555556,\"#d8576b\"],[0.6666666666666666,\"#ed7953\"],[0.7777777777777778,\"#fb9f3a\"],[0.8888888888888888,\"#fdca26\"],[1.0,\"#f0f921\"]],\"type\":\"histogram2d\"}],\"histogram\":[{\"marker\":{\"pattern\":{\"fillmode\":\"overlay\",\"size\":10,\"solidity\":0.2}},\"type\":\"histogram\"}],\"mesh3d\":[{\"colorbar\":{\"outlinewidth\":0,\"ticks\":\"\"},\"type\":\"mesh3d\"}],\"parcoords\":[{\"line\":{\"colorbar\":{\"outlinewidth\":0,\"ticks\":\"\"}},\"type\":\"parcoords\"}],\"pie\":[{\"automargin\":true,\"type\":\"pie\"}],\"scatter3d\":[{\"line\":{\"colorbar\":{\"outlinewidth\":0,\"ticks\":\"\"}},\"marker\":{\"colorbar\":{\"outlinewidth\":0,\"ticks\":\"\"}},\"type\":\"scatter3d\"}],\"scattercarpet\":[{\"marker\":{\"colorbar\":{\"outlinewidth\":0,\"ticks\":\"\"}},\"type\":\"scattercarpet\"}],\"scattergeo\":[{\"marker\":{\"colorbar\":{\"outlinewidth\":0,\"ticks\":\"\"}},\"type\":\"scattergeo\"}],\"scattergl\":[{\"marker\":{\"colorbar\":{\"outlinewidth\":0,\"ticks\":\"\"}},\"type\":\"scattergl\"}],\"scattermapbox\":[{\"marker\":{\"colorbar\":{\"outlinewidth\":0,\"ticks\":\"\"}},\"type\":\"scattermapbox\"}],\"scatterpolargl\":[{\"marker\":{\"colorbar\":{\"outlinewidth\":0,\"ticks\":\"\"}},\"type\":\"scatterpolargl\"}],\"scatterpolar\":[{\"marker\":{\"colorbar\":{\"outlinewidth\":0,\"ticks\":\"\"}},\"type\":\"scatterpolar\"}],\"scatter\":[{\"fillpattern\":{\"fillmode\":\"overlay\",\"size\":10,\"solidity\":0.2},\"type\":\"scatter\"}],\"scatterternary\":[{\"marker\":{\"colorbar\":{\"outlinewidth\":0,\"ticks\":\"\"}},\"type\":\"scatterternary\"}],\"surface\":[{\"colorbar\":{\"outlinewidth\":0,\"ticks\":\"\"},\"colorscale\":[[0.0,\"#0d0887\"],[0.1111111111111111,\"#46039f\"],[0.2222222222222222,\"#7201a8\"],[0.3333333333333333,\"#9c179e\"],[0.4444444444444444,\"#bd3786\"],[0.5555555555555556,\"#d8576b\"],[0.6666666666666666,\"#ed7953\"],[0.7777777777777778,\"#fb9f3a\"],[0.8888888888888888,\"#fdca26\"],[1.0,\"#f0f921\"]],\"type\":\"surface\"}],\"table\":[{\"cells\":{\"fill\":{\"color\":\"#EBF0F8\"},\"line\":{\"color\":\"white\"}},\"header\":{\"fill\":{\"color\":\"#C8D4E3\"},\"line\":{\"color\":\"white\"}},\"type\":\"table\"}]},\"layout\":{\"annotationdefaults\":{\"arrowcolor\":\"#2a3f5f\",\"arrowhead\":0,\"arrowwidth\":1},\"autotypenumbers\":\"strict\",\"coloraxis\":{\"colorbar\":{\"outlinewidth\":0,\"ticks\":\"\"}},\"colorscale\":{\"diverging\":[[0,\"#8e0152\"],[0.1,\"#c51b7d\"],[0.2,\"#de77ae\"],[0.3,\"#f1b6da\"],[0.4,\"#fde0ef\"],[0.5,\"#f7f7f7\"],[0.6,\"#e6f5d0\"],[0.7,\"#b8e186\"],[0.8,\"#7fbc41\"],[0.9,\"#4d9221\"],[1,\"#276419\"]],\"sequential\":[[0.0,\"#0d0887\"],[0.1111111111111111,\"#46039f\"],[0.2222222222222222,\"#7201a8\"],[0.3333333333333333,\"#9c179e\"],[0.4444444444444444,\"#bd3786\"],[0.5555555555555556,\"#d8576b\"],[0.6666666666666666,\"#ed7953\"],[0.7777777777777778,\"#fb9f3a\"],[0.8888888888888888,\"#fdca26\"],[1.0,\"#f0f921\"]],\"sequentialminus\":[[0.0,\"#0d0887\"],[0.1111111111111111,\"#46039f\"],[0.2222222222222222,\"#7201a8\"],[0.3333333333333333,\"#9c179e\"],[0.4444444444444444,\"#bd3786\"],[0.5555555555555556,\"#d8576b\"],[0.6666666666666666,\"#ed7953\"],[0.7777777777777778,\"#fb9f3a\"],[0.8888888888888888,\"#fdca26\"],[1.0,\"#f0f921\"]]},\"colorway\":[\"#636efa\",\"#EF553B\",\"#00cc96\",\"#ab63fa\",\"#FFA15A\",\"#19d3f3\",\"#FF6692\",\"#B6E880\",\"#FF97FF\",\"#FECB52\"],\"font\":{\"color\":\"#2a3f5f\"},\"geo\":{\"bgcolor\":\"white\",\"lakecolor\":\"white\",\"landcolor\":\"white\",\"showlakes\":true,\"showland\":true,\"subunitcolor\":\"#C8D4E3\"},\"hoverlabel\":{\"align\":\"left\"},\"hovermode\":\"closest\",\"mapbox\":{\"style\":\"light\"},\"paper_bgcolor\":\"white\",\"plot_bgcolor\":\"white\",\"polar\":{\"angularaxis\":{\"gridcolor\":\"#EBF0F8\",\"linecolor\":\"#EBF0F8\",\"ticks\":\"\"},\"bgcolor\":\"white\",\"radialaxis\":{\"gridcolor\":\"#EBF0F8\",\"linecolor\":\"#EBF0F8\",\"ticks\":\"\"}},\"scene\":{\"xaxis\":{\"backgroundcolor\":\"white\",\"gridcolor\":\"#DFE8F3\",\"gridwidth\":2,\"linecolor\":\"#EBF0F8\",\"showbackground\":true,\"ticks\":\"\",\"zerolinecolor\":\"#EBF0F8\"},\"yaxis\":{\"backgroundcolor\":\"white\",\"gridcolor\":\"#DFE8F3\",\"gridwidth\":2,\"linecolor\":\"#EBF0F8\",\"showbackground\":true,\"ticks\":\"\",\"zerolinecolor\":\"#EBF0F8\"},\"zaxis\":{\"backgroundcolor\":\"white\",\"gridcolor\":\"#DFE8F3\",\"gridwidth\":2,\"linecolor\":\"#EBF0F8\",\"showbackground\":true,\"ticks\":\"\",\"zerolinecolor\":\"#EBF0F8\"}},\"shapedefaults\":{\"line\":{\"color\":\"#2a3f5f\"}},\"ternary\":{\"aaxis\":{\"gridcolor\":\"#DFE8F3\",\"linecolor\":\"#A2B1C6\",\"ticks\":\"\"},\"baxis\":{\"gridcolor\":\"#DFE8F3\",\"linecolor\":\"#A2B1C6\",\"ticks\":\"\"},\"bgcolor\":\"white\",\"caxis\":{\"gridcolor\":\"#DFE8F3\",\"linecolor\":\"#A2B1C6\",\"ticks\":\"\"}},\"title\":{\"x\":0.05},\"xaxis\":{\"automargin\":true,\"gridcolor\":\"#EBF0F8\",\"linecolor\":\"#EBF0F8\",\"ticks\":\"\",\"title\":{\"standoff\":15},\"zerolinecolor\":\"#EBF0F8\",\"zerolinewidth\":2},\"yaxis\":{\"automargin\":true,\"gridcolor\":\"#EBF0F8\",\"linecolor\":\"#EBF0F8\",\"ticks\":\"\",\"title\":{\"standoff\":15},\"zerolinecolor\":\"#EBF0F8\",\"zerolinewidth\":2}}},\"xaxis\":{\"anchor\":\"y\",\"domain\":[0.0,1.0],\"matches\":\"x2\",\"showticklabels\":false},\"yaxis\":{\"anchor\":\"x\",\"domain\":[0.575,1.0],\"title\":{\"text\":\"\\u003cb\\u003eQuantidade\\u003cbr\\u003eProcedimentos\"}},\"xaxis2\":{\"anchor\":\"y2\",\"domain\":[0.0,1.0],\"title\":{\"text\":\"\\u003cb\\u003eAno\"},\"ticklabelmode\":\"period\"},\"yaxis2\":{\"anchor\":\"x2\",\"domain\":[0.0,0.425],\"title\":{\"text\":\"\\u003cb\\u003eValor\\u003cbr\\u003eProcedimentos\"}},\"title\":{\"text\":\"Totais\"}},                        {\"responsive\": true}                    ).then(function(){\n                            \nvar gd = document.getElementById('b7155128-16ce-472c-8231-1d661f03e052');\nvar x = new MutationObserver(function (mutations, observer) {{\n        var display = window.getComputedStyle(gd).display;\n        if (!display || display === 'none') {{\n            console.log([gd, 'removed!']);\n            Plotly.purge(gd);\n            observer.disconnect();\n        }}\n}});\n\n// Listen for the removal of the full notebook cells\nvar notebookContainer = gd.closest('#notebook-container');\nif (notebookContainer) {{\n    x.observe(notebookContainer, {childList: true});\n}}\n\n// Listen for the clearing of the current output cell\nvar outputEl = gd.closest('.output');\nif (outputEl) {{\n    x.observe(outputEl, {childList: true});\n}}\n\n                        })                };                });            </script>        </div>"
     },
     "metadata": {},
     "output_type": "display_data"
    }
   ],
   "source": [
    "fig = make_subplots(rows=2, cols=1, shared_xaxes=True , shared_yaxes=False)\n",
    "fig.add_trace(go.Bar(x=df_datasus_agrupado_ano_regiao.index,\n",
    "                     y=df_datasus_agrupado_ano_regiao['quantidade_procedimentos_total'],\n",
    "                     name='Quantidade Procedimentos Total'),\n",
    "              row=1,\n",
    "              col=1)\n",
    "fig.add_trace(go.Bar(x=df_datasus_agrupado_ano_regiao.index,\n",
    "                     y=df_datasus_agrupado_ano_regiao['valor_procedimentos_total'],\n",
    "                     name='Valores Procedimentos Total'),\n",
    "              row=2,\n",
    "              col=1)\n",
    "fig.update_yaxes(title_text=\"<b>Quantidade<br>Procedimentos\", row=1, col=1)\n",
    "fig.update_yaxes(title_text=\"<b>Valor<br>Procedimentos\", row=2, col=1)\n",
    "fig.update_xaxes(title_text=\"<b>Ano\", row=2, col=1, ticklabelmode=\"period\")\n",
    "\n",
    "fig.update_layout(template='plotly_white', title_text='Totais')"
   ],
   "metadata": {
    "collapsed": false,
    "ExecuteTime": {
     "end_time": "2024-03-05T22:58:51.052640Z",
     "start_time": "2024-03-05T22:58:50.820170Z"
    }
   },
   "id": "951e3faff5047e8f",
   "execution_count": 38
  },
  {
   "cell_type": "code",
   "outputs": [],
   "source": [
    "import plotly.express as px"
   ],
   "metadata": {
    "collapsed": false,
    "ExecuteTime": {
     "end_time": "2024-03-05T22:45:35.091479Z",
     "start_time": "2024-03-05T22:45:35.088227Z"
    }
   },
   "id": "3854c4b551d724d6",
   "execution_count": 16
  },
  {
   "cell_type": "code",
   "outputs": [
    {
     "data": {
      "application/vnd.plotly.v1+json": {
       "data": [
        {
         "fillpattern": {
          "shape": ""
         },
         "hovertemplate": "variable=acoes_complementares_da_atencao_a_saude_qtd<br>regiao_nome=CENTRO-OESTE<br>ano=%{x}<br>value=%{y}<extra></extra>",
         "legendgroup": "acoes_complementares_da_atencao_a_saude_qtd",
         "line": {
          "color": "#636efa"
         },
         "marker": {
          "symbol": "circle"
         },
         "mode": "lines",
         "name": "acoes_complementares_da_atencao_a_saude_qtd",
         "orientation": "v",
         "showlegend": true,
         "stackgroup": "1",
         "x": [
          2008,
          2009,
          2010,
          2011,
          2012,
          2013,
          2014,
          2015,
          2016,
          2017,
          2018,
          2019,
          2020,
          2021,
          2022,
          2023
         ],
         "xaxis": "x5",
         "y": [
          1501476,
          1984242,
          2137477,
          2188645,
          2308737,
          2427319,
          2449516,
          2473611,
          2778604,
          2901111,
          3062867,
          3287029,
          2779639,
          3019681,
          3434878,
          3795423
         ],
         "yaxis": "y5",
         "type": "scatter"
        },
        {
         "fillpattern": {
          "shape": ""
         },
         "hovertemplate": "variable=acoes_complementares_da_atencao_a_saude_qtd<br>regiao_nome=NORDESTE<br>ano=%{x}<br>value=%{y}<extra></extra>",
         "legendgroup": "acoes_complementares_da_atencao_a_saude_qtd",
         "line": {
          "color": "#636efa"
         },
         "marker": {
          "symbol": "circle"
         },
         "mode": "lines",
         "name": "acoes_complementares_da_atencao_a_saude_qtd",
         "orientation": "v",
         "showlegend": false,
         "stackgroup": "1",
         "x": [
          2008,
          2009,
          2010,
          2011,
          2012,
          2013,
          2014,
          2015,
          2016,
          2017,
          2018,
          2019,
          2020,
          2021,
          2022,
          2023
         ],
         "xaxis": "x4",
         "y": [
          5489753,
          6884488,
          7355791,
          7752348,
          8011170,
          8836076,
          9429367,
          10308329,
          10822936,
          11322485,
          11870793,
          12564853,
          10472710,
          11509986,
          12816906,
          13735033
         ],
         "yaxis": "y4",
         "type": "scatter"
        },
        {
         "fillpattern": {
          "shape": ""
         },
         "hovertemplate": "variable=acoes_complementares_da_atencao_a_saude_qtd<br>regiao_nome=NORTE<br>ano=%{x}<br>value=%{y}<extra></extra>",
         "legendgroup": "acoes_complementares_da_atencao_a_saude_qtd",
         "line": {
          "color": "#636efa"
         },
         "marker": {
          "symbol": "circle"
         },
         "mode": "lines",
         "name": "acoes_complementares_da_atencao_a_saude_qtd",
         "orientation": "v",
         "showlegend": false,
         "stackgroup": "1",
         "x": [
          2008,
          2009,
          2010,
          2011,
          2012,
          2013,
          2014,
          2015,
          2016,
          2017,
          2018,
          2019,
          2020,
          2021,
          2022,
          2023
         ],
         "xaxis": "x3",
         "y": [
          1546789,
          1931697,
          2159958,
          2319225,
          2348922,
          2517688,
          2676676,
          2908459,
          3088576,
          3339049,
          3446283,
          3732686,
          3213807,
          3551840,
          3930515,
          3989877
         ],
         "yaxis": "y3",
         "type": "scatter"
        },
        {
         "fillpattern": {
          "shape": ""
         },
         "hovertemplate": "variable=acoes_complementares_da_atencao_a_saude_qtd<br>regiao_nome=SUDESTE<br>ano=%{x}<br>value=%{y}<extra></extra>",
         "legendgroup": "acoes_complementares_da_atencao_a_saude_qtd",
         "line": {
          "color": "#636efa"
         },
         "marker": {
          "symbol": "circle"
         },
         "mode": "lines",
         "name": "acoes_complementares_da_atencao_a_saude_qtd",
         "orientation": "v",
         "showlegend": false,
         "stackgroup": "1",
         "x": [
          2008,
          2009,
          2010,
          2011,
          2012,
          2013,
          2014,
          2015,
          2016,
          2017,
          2018,
          2019,
          2020,
          2021,
          2022,
          2023
         ],
         "xaxis": "x2",
         "y": [
          8735977,
          10517435,
          11319707,
          11695090,
          12079615,
          12771105,
          13376352,
          14099000,
          14383887,
          14903670,
          15536407,
          16230235,
          13725124,
          14722124,
          16275864,
          17643815
         ],
         "yaxis": "y2",
         "type": "scatter"
        },
        {
         "fillpattern": {
          "shape": ""
         },
         "hovertemplate": "variable=acoes_complementares_da_atencao_a_saude_qtd<br>regiao_nome=SUL<br>ano=%{x}<br>value=%{y}<extra></extra>",
         "legendgroup": "acoes_complementares_da_atencao_a_saude_qtd",
         "line": {
          "color": "#636efa"
         },
         "marker": {
          "symbol": "circle"
         },
         "mode": "lines",
         "name": "acoes_complementares_da_atencao_a_saude_qtd",
         "orientation": "v",
         "showlegend": false,
         "stackgroup": "1",
         "x": [
          2008,
          2009,
          2010,
          2011,
          2012,
          2013,
          2014,
          2015,
          2016,
          2017,
          2018,
          2019,
          2020,
          2021,
          2022,
          2023
         ],
         "xaxis": "x",
         "y": [
          3949306,
          4638599,
          4951035,
          5045067,
          5250032,
          5544133,
          5748397,
          5996390,
          6200113,
          6295490,
          6622311,
          6918879,
          5794008,
          6466015,
          7029070,
          7585162
         ],
         "yaxis": "y",
         "type": "scatter"
        },
        {
         "fillpattern": {
          "shape": ""
         },
         "hovertemplate": "variable=acoes_relacionadas_a_doacao_de_orgaos_e_tecidos_para_transplante_qtd<br>regiao_nome=CENTRO-OESTE<br>ano=%{x}<br>value=%{y}<extra></extra>",
         "legendgroup": "acoes_relacionadas_a_doacao_de_orgaos_e_tecidos_para_transplante_qtd",
         "line": {
          "color": "#EF553B"
         },
         "marker": {
          "symbol": "circle"
         },
         "mode": "lines",
         "name": "acoes_relacionadas_a_doacao_de_orgaos_e_tecidos_para_transplante_qtd",
         "orientation": "v",
         "showlegend": true,
         "stackgroup": "1",
         "x": [
          2008,
          2009,
          2010,
          2011,
          2012,
          2013,
          2014,
          2015,
          2016,
          2017,
          2018,
          2019,
          2020,
          2021,
          2022,
          2023
         ],
         "xaxis": "x5",
         "y": [
          684,
          522,
          382,
          489,
          851,
          598,
          667,
          905,
          836,
          941,
          1262,
          1500,
          1284,
          1228,
          1184,
          1375
         ],
         "yaxis": "y5",
         "type": "scatter"
        },
        {
         "fillpattern": {
          "shape": ""
         },
         "hovertemplate": "variable=acoes_relacionadas_a_doacao_de_orgaos_e_tecidos_para_transplante_qtd<br>regiao_nome=NORDESTE<br>ano=%{x}<br>value=%{y}<extra></extra>",
         "legendgroup": "acoes_relacionadas_a_doacao_de_orgaos_e_tecidos_para_transplante_qtd",
         "line": {
          "color": "#EF553B"
         },
         "marker": {
          "symbol": "circle"
         },
         "mode": "lines",
         "name": "acoes_relacionadas_a_doacao_de_orgaos_e_tecidos_para_transplante_qtd",
         "orientation": "v",
         "showlegend": false,
         "stackgroup": "1",
         "x": [
          2008,
          2009,
          2010,
          2011,
          2012,
          2013,
          2014,
          2015,
          2016,
          2017,
          2018,
          2019,
          2020,
          2021,
          2022,
          2023
         ],
         "xaxis": "x4",
         "y": [
          1134,
          1632,
          1967,
          2202,
          2758,
          3277,
          3535,
          3672,
          4528,
          4698,
          4588,
          4871,
          3623,
          4343,
          5743,
          6277
         ],
         "yaxis": "y4",
         "type": "scatter"
        },
        {
         "fillpattern": {
          "shape": ""
         },
         "hovertemplate": "variable=acoes_relacionadas_a_doacao_de_orgaos_e_tecidos_para_transplante_qtd<br>regiao_nome=NORTE<br>ano=%{x}<br>value=%{y}<extra></extra>",
         "legendgroup": "acoes_relacionadas_a_doacao_de_orgaos_e_tecidos_para_transplante_qtd",
         "line": {
          "color": "#EF553B"
         },
         "marker": {
          "symbol": "circle"
         },
         "mode": "lines",
         "name": "acoes_relacionadas_a_doacao_de_orgaos_e_tecidos_para_transplante_qtd",
         "orientation": "v",
         "showlegend": false,
         "stackgroup": "1",
         "x": [
          2008,
          2009,
          2010,
          2011,
          2012,
          2013,
          2014,
          2015,
          2016,
          2017,
          2018,
          2019,
          2020,
          2021,
          2022,
          2023
         ],
         "xaxis": "x3",
         "y": [
          36,
          79,
          67,
          90,
          135,
          174,
          561,
          828,
          747,
          614,
          683,
          969,
          515,
          476,
          718,
          998
         ],
         "yaxis": "y3",
         "type": "scatter"
        },
        {
         "fillpattern": {
          "shape": ""
         },
         "hovertemplate": "variable=acoes_relacionadas_a_doacao_de_orgaos_e_tecidos_para_transplante_qtd<br>regiao_nome=SUDESTE<br>ano=%{x}<br>value=%{y}<extra></extra>",
         "legendgroup": "acoes_relacionadas_a_doacao_de_orgaos_e_tecidos_para_transplante_qtd",
         "line": {
          "color": "#EF553B"
         },
         "marker": {
          "symbol": "circle"
         },
         "mode": "lines",
         "name": "acoes_relacionadas_a_doacao_de_orgaos_e_tecidos_para_transplante_qtd",
         "orientation": "v",
         "showlegend": false,
         "stackgroup": "1",
         "x": [
          2008,
          2009,
          2010,
          2011,
          2012,
          2013,
          2014,
          2015,
          2016,
          2017,
          2018,
          2019,
          2020,
          2021,
          2022,
          2023
         ],
         "xaxis": "x2",
         "y": [
          11304,
          9791,
          10198,
          9754,
          9708,
          10364,
          12153,
          11791,
          11723,
          12907,
          13853,
          14496,
          12223,
          12020,
          13214,
          14819
         ],
         "yaxis": "y2",
         "type": "scatter"
        },
        {
         "fillpattern": {
          "shape": ""
         },
         "hovertemplate": "variable=acoes_relacionadas_a_doacao_de_orgaos_e_tecidos_para_transplante_qtd<br>regiao_nome=SUL<br>ano=%{x}<br>value=%{y}<extra></extra>",
         "legendgroup": "acoes_relacionadas_a_doacao_de_orgaos_e_tecidos_para_transplante_qtd",
         "line": {
          "color": "#EF553B"
         },
         "marker": {
          "symbol": "circle"
         },
         "mode": "lines",
         "name": "acoes_relacionadas_a_doacao_de_orgaos_e_tecidos_para_transplante_qtd",
         "orientation": "v",
         "showlegend": false,
         "stackgroup": "1",
         "x": [
          2008,
          2009,
          2010,
          2011,
          2012,
          2013,
          2014,
          2015,
          2016,
          2017,
          2018,
          2019,
          2020,
          2021,
          2022,
          2023
         ],
         "xaxis": "x",
         "y": [
          3840,
          4423,
          4206,
          5026,
          6028,
          6401,
          6580,
          7106,
          8086,
          9198,
          9846,
          9327,
          7488,
          7105,
          8097,
          9434
         ],
         "yaxis": "y",
         "type": "scatter"
        },
        {
         "fillpattern": {
          "shape": ""
         },
         "hovertemplate": "variable=acoes_relacionadas_ao_estabelecimento_qtd<br>regiao_nome=CENTRO-OESTE<br>ano=%{x}<br>value=%{y}<extra></extra>",
         "legendgroup": "acoes_relacionadas_ao_estabelecimento_qtd",
         "line": {
          "color": "#00cc96"
         },
         "marker": {
          "symbol": "circle"
         },
         "mode": "lines",
         "name": "acoes_relacionadas_ao_estabelecimento_qtd",
         "orientation": "v",
         "showlegend": true,
         "stackgroup": "1",
         "x": [
          2008,
          2009,
          2010,
          2011,
          2012,
          2013,
          2014,
          2015,
          2016,
          2017,
          2018,
          2019,
          2020,
          2021,
          2022,
          2023
         ],
         "xaxis": "x5",
         "y": [
          66312,
          71410,
          71051,
          68408,
          63888,
          56758,
          49377,
          50302,
          50080,
          51333,
          49807,
          39754,
          30772,
          38118,
          41566,
          44703
         ],
         "yaxis": "y5",
         "type": "scatter"
        },
        {
         "fillpattern": {
          "shape": ""
         },
         "hovertemplate": "variable=acoes_relacionadas_ao_estabelecimento_qtd<br>regiao_nome=NORDESTE<br>ano=%{x}<br>value=%{y}<extra></extra>",
         "legendgroup": "acoes_relacionadas_ao_estabelecimento_qtd",
         "line": {
          "color": "#00cc96"
         },
         "marker": {
          "symbol": "circle"
         },
         "mode": "lines",
         "name": "acoes_relacionadas_ao_estabelecimento_qtd",
         "orientation": "v",
         "showlegend": false,
         "stackgroup": "1",
         "x": [
          2008,
          2009,
          2010,
          2011,
          2012,
          2013,
          2014,
          2015,
          2016,
          2017,
          2018,
          2019,
          2020,
          2021,
          2022,
          2023
         ],
         "xaxis": "x4",
         "y": [
          164638,
          177814,
          179720,
          174910,
          172328,
          121572,
          81630,
          83505,
          83182,
          94030,
          99280,
          78033,
          58560,
          74453,
          77014,
          94333
         ],
         "yaxis": "y4",
         "type": "scatter"
        },
        {
         "fillpattern": {
          "shape": ""
         },
         "hovertemplate": "variable=acoes_relacionadas_ao_estabelecimento_qtd<br>regiao_nome=NORTE<br>ano=%{x}<br>value=%{y}<extra></extra>",
         "legendgroup": "acoes_relacionadas_ao_estabelecimento_qtd",
         "line": {
          "color": "#00cc96"
         },
         "marker": {
          "symbol": "circle"
         },
         "mode": "lines",
         "name": "acoes_relacionadas_ao_estabelecimento_qtd",
         "orientation": "v",
         "showlegend": false,
         "stackgroup": "1",
         "x": [
          2008,
          2009,
          2010,
          2011,
          2012,
          2013,
          2014,
          2015,
          2016,
          2017,
          2018,
          2019,
          2020,
          2021,
          2022,
          2023
         ],
         "xaxis": "x3",
         "y": [
          63183,
          75070,
          69036,
          68245,
          64172,
          52377,
          41436,
          35213,
          30138,
          35246,
          35762,
          25484,
          17518,
          19175,
          20449,
          20895
         ],
         "yaxis": "y3",
         "type": "scatter"
        },
        {
         "fillpattern": {
          "shape": ""
         },
         "hovertemplate": "variable=acoes_relacionadas_ao_estabelecimento_qtd<br>regiao_nome=SUDESTE<br>ano=%{x}<br>value=%{y}<extra></extra>",
         "legendgroup": "acoes_relacionadas_ao_estabelecimento_qtd",
         "line": {
          "color": "#00cc96"
         },
         "marker": {
          "symbol": "circle"
         },
         "mode": "lines",
         "name": "acoes_relacionadas_ao_estabelecimento_qtd",
         "orientation": "v",
         "showlegend": false,
         "stackgroup": "1",
         "x": [
          2008,
          2009,
          2010,
          2011,
          2012,
          2013,
          2014,
          2015,
          2016,
          2017,
          2018,
          2019,
          2020,
          2021,
          2022,
          2023
         ],
         "xaxis": "x2",
         "y": [
          328461,
          329365,
          339789,
          351138,
          342462,
          320007,
          305821,
          329971,
          320838,
          346962,
          345080,
          278791,
          187630,
          182375,
          194190,
          230580
         ],
         "yaxis": "y2",
         "type": "scatter"
        },
        {
         "fillpattern": {
          "shape": ""
         },
         "hovertemplate": "variable=acoes_relacionadas_ao_estabelecimento_qtd<br>regiao_nome=SUL<br>ano=%{x}<br>value=%{y}<extra></extra>",
         "legendgroup": "acoes_relacionadas_ao_estabelecimento_qtd",
         "line": {
          "color": "#00cc96"
         },
         "marker": {
          "symbol": "circle"
         },
         "mode": "lines",
         "name": "acoes_relacionadas_ao_estabelecimento_qtd",
         "orientation": "v",
         "showlegend": false,
         "stackgroup": "1",
         "x": [
          2008,
          2009,
          2010,
          2011,
          2012,
          2013,
          2014,
          2015,
          2016,
          2017,
          2018,
          2019,
          2020,
          2021,
          2022,
          2023
         ],
         "xaxis": "x",
         "y": [
          147708,
          156746,
          155127,
          159784,
          163275,
          151549,
          141692,
          148289,
          150326,
          155997,
          161360,
          111964,
          72226,
          73881,
          79483,
          90586
         ],
         "yaxis": "y",
         "type": "scatter"
        },
        {
         "fillpattern": {
          "shape": ""
         },
         "hovertemplate": "variable=acoes_relacionadas_ao_atendimento_qtd<br>regiao_nome=CENTRO-OESTE<br>ano=%{x}<br>value=%{y}<extra></extra>",
         "legendgroup": "acoes_relacionadas_ao_atendimento_qtd",
         "line": {
          "color": "#ab63fa"
         },
         "marker": {
          "symbol": "circle"
         },
         "mode": "lines",
         "name": "acoes_relacionadas_ao_atendimento_qtd",
         "orientation": "v",
         "showlegend": true,
         "stackgroup": "1",
         "x": [
          2008,
          2009,
          2010,
          2011,
          2012,
          2013,
          2014,
          2015,
          2016,
          2017,
          2018,
          2019,
          2020,
          2021,
          2022,
          2023
         ],
         "xaxis": "x5",
         "y": [
          1435164,
          1912832,
          2066426,
          2120237,
          2244849,
          2370561,
          2400139,
          2423309,
          2728524,
          2849778,
          3013060,
          3247275,
          2748867,
          2981563,
          3393312,
          3750720
         ],
         "yaxis": "y5",
         "type": "scatter"
        },
        {
         "fillpattern": {
          "shape": ""
         },
         "hovertemplate": "variable=acoes_relacionadas_ao_atendimento_qtd<br>regiao_nome=NORDESTE<br>ano=%{x}<br>value=%{y}<extra></extra>",
         "legendgroup": "acoes_relacionadas_ao_atendimento_qtd",
         "line": {
          "color": "#ab63fa"
         },
         "marker": {
          "symbol": "circle"
         },
         "mode": "lines",
         "name": "acoes_relacionadas_ao_atendimento_qtd",
         "orientation": "v",
         "showlegend": false,
         "stackgroup": "1",
         "x": [
          2008,
          2009,
          2010,
          2011,
          2012,
          2013,
          2014,
          2015,
          2016,
          2017,
          2018,
          2019,
          2020,
          2021,
          2022,
          2023
         ],
         "xaxis": "x4",
         "y": [
          5325115,
          6706674,
          7176071,
          7577438,
          7838842,
          8714504,
          9347737,
          10224824,
          10739754,
          11228455,
          11771513,
          12486820,
          10414150,
          11435533,
          12739892,
          13640700
         ],
         "yaxis": "y4",
         "type": "scatter"
        },
        {
         "fillpattern": {
          "shape": ""
         },
         "hovertemplate": "variable=acoes_relacionadas_ao_atendimento_qtd<br>regiao_nome=NORTE<br>ano=%{x}<br>value=%{y}<extra></extra>",
         "legendgroup": "acoes_relacionadas_ao_atendimento_qtd",
         "line": {
          "color": "#ab63fa"
         },
         "marker": {
          "symbol": "circle"
         },
         "mode": "lines",
         "name": "acoes_relacionadas_ao_atendimento_qtd",
         "orientation": "v",
         "showlegend": false,
         "stackgroup": "1",
         "x": [
          2008,
          2009,
          2010,
          2011,
          2012,
          2013,
          2014,
          2015,
          2016,
          2017,
          2018,
          2019,
          2020,
          2021,
          2022,
          2023
         ],
         "xaxis": "x3",
         "y": [
          1483606,
          1856627,
          2090922,
          2250980,
          2284750,
          2465311,
          2635240,
          2873246,
          3058438,
          3303803,
          3410521,
          3707202,
          3196289,
          3532665,
          3910066,
          3968982
         ],
         "yaxis": "y3",
         "type": "scatter"
        },
        {
         "fillpattern": {
          "shape": ""
         },
         "hovertemplate": "variable=acoes_relacionadas_ao_atendimento_qtd<br>regiao_nome=SUDESTE<br>ano=%{x}<br>value=%{y}<extra></extra>",
         "legendgroup": "acoes_relacionadas_ao_atendimento_qtd",
         "line": {
          "color": "#ab63fa"
         },
         "marker": {
          "symbol": "circle"
         },
         "mode": "lines",
         "name": "acoes_relacionadas_ao_atendimento_qtd",
         "orientation": "v",
         "showlegend": false,
         "stackgroup": "1",
         "x": [
          2008,
          2009,
          2010,
          2011,
          2012,
          2013,
          2014,
          2015,
          2016,
          2017,
          2018,
          2019,
          2020,
          2021,
          2022,
          2023
         ],
         "xaxis": "x2",
         "y": [
          8407516,
          10188070,
          10979918,
          11343952,
          11737153,
          12451098,
          13070531,
          13769029,
          14063049,
          14556708,
          15191327,
          15951444,
          13537494,
          14539749,
          16081674,
          17413235
         ],
         "yaxis": "y2",
         "type": "scatter"
        },
        {
         "fillpattern": {
          "shape": ""
         },
         "hovertemplate": "variable=acoes_relacionadas_ao_atendimento_qtd<br>regiao_nome=SUL<br>ano=%{x}<br>value=%{y}<extra></extra>",
         "legendgroup": "acoes_relacionadas_ao_atendimento_qtd",
         "line": {
          "color": "#ab63fa"
         },
         "marker": {
          "symbol": "circle"
         },
         "mode": "lines",
         "name": "acoes_relacionadas_ao_atendimento_qtd",
         "orientation": "v",
         "showlegend": false,
         "stackgroup": "1",
         "x": [
          2008,
          2009,
          2010,
          2011,
          2012,
          2013,
          2014,
          2015,
          2016,
          2017,
          2018,
          2019,
          2020,
          2021,
          2022,
          2023
         ],
         "xaxis": "x",
         "y": [
          3801598,
          4481853,
          4795908,
          4885283,
          5086757,
          5392584,
          5606705,
          5848101,
          6049787,
          6139493,
          6460951,
          6806915,
          5721782,
          6392134,
          6949587,
          7494576
         ],
         "yaxis": "y",
         "type": "scatter"
        }
       ],
       "layout": {
        "template": {
         "data": {
          "barpolar": [
           {
            "marker": {
             "line": {
              "color": "white",
              "width": 0.5
             },
             "pattern": {
              "fillmode": "overlay",
              "size": 10,
              "solidity": 0.2
             }
            },
            "type": "barpolar"
           }
          ],
          "bar": [
           {
            "error_x": {
             "color": "#2a3f5f"
            },
            "error_y": {
             "color": "#2a3f5f"
            },
            "marker": {
             "line": {
              "color": "white",
              "width": 0.5
             },
             "pattern": {
              "fillmode": "overlay",
              "size": 10,
              "solidity": 0.2
             }
            },
            "type": "bar"
           }
          ],
          "carpet": [
           {
            "aaxis": {
             "endlinecolor": "#2a3f5f",
             "gridcolor": "#C8D4E3",
             "linecolor": "#C8D4E3",
             "minorgridcolor": "#C8D4E3",
             "startlinecolor": "#2a3f5f"
            },
            "baxis": {
             "endlinecolor": "#2a3f5f",
             "gridcolor": "#C8D4E3",
             "linecolor": "#C8D4E3",
             "minorgridcolor": "#C8D4E3",
             "startlinecolor": "#2a3f5f"
            },
            "type": "carpet"
           }
          ],
          "choropleth": [
           {
            "colorbar": {
             "outlinewidth": 0,
             "ticks": ""
            },
            "type": "choropleth"
           }
          ],
          "contourcarpet": [
           {
            "colorbar": {
             "outlinewidth": 0,
             "ticks": ""
            },
            "type": "contourcarpet"
           }
          ],
          "contour": [
           {
            "colorbar": {
             "outlinewidth": 0,
             "ticks": ""
            },
            "colorscale": [
             [
              0.0,
              "#0d0887"
             ],
             [
              0.1111111111111111,
              "#46039f"
             ],
             [
              0.2222222222222222,
              "#7201a8"
             ],
             [
              0.3333333333333333,
              "#9c179e"
             ],
             [
              0.4444444444444444,
              "#bd3786"
             ],
             [
              0.5555555555555556,
              "#d8576b"
             ],
             [
              0.6666666666666666,
              "#ed7953"
             ],
             [
              0.7777777777777778,
              "#fb9f3a"
             ],
             [
              0.8888888888888888,
              "#fdca26"
             ],
             [
              1.0,
              "#f0f921"
             ]
            ],
            "type": "contour"
           }
          ],
          "heatmapgl": [
           {
            "colorbar": {
             "outlinewidth": 0,
             "ticks": ""
            },
            "colorscale": [
             [
              0.0,
              "#0d0887"
             ],
             [
              0.1111111111111111,
              "#46039f"
             ],
             [
              0.2222222222222222,
              "#7201a8"
             ],
             [
              0.3333333333333333,
              "#9c179e"
             ],
             [
              0.4444444444444444,
              "#bd3786"
             ],
             [
              0.5555555555555556,
              "#d8576b"
             ],
             [
              0.6666666666666666,
              "#ed7953"
             ],
             [
              0.7777777777777778,
              "#fb9f3a"
             ],
             [
              0.8888888888888888,
              "#fdca26"
             ],
             [
              1.0,
              "#f0f921"
             ]
            ],
            "type": "heatmapgl"
           }
          ],
          "heatmap": [
           {
            "colorbar": {
             "outlinewidth": 0,
             "ticks": ""
            },
            "colorscale": [
             [
              0.0,
              "#0d0887"
             ],
             [
              0.1111111111111111,
              "#46039f"
             ],
             [
              0.2222222222222222,
              "#7201a8"
             ],
             [
              0.3333333333333333,
              "#9c179e"
             ],
             [
              0.4444444444444444,
              "#bd3786"
             ],
             [
              0.5555555555555556,
              "#d8576b"
             ],
             [
              0.6666666666666666,
              "#ed7953"
             ],
             [
              0.7777777777777778,
              "#fb9f3a"
             ],
             [
              0.8888888888888888,
              "#fdca26"
             ],
             [
              1.0,
              "#f0f921"
             ]
            ],
            "type": "heatmap"
           }
          ],
          "histogram2dcontour": [
           {
            "colorbar": {
             "outlinewidth": 0,
             "ticks": ""
            },
            "colorscale": [
             [
              0.0,
              "#0d0887"
             ],
             [
              0.1111111111111111,
              "#46039f"
             ],
             [
              0.2222222222222222,
              "#7201a8"
             ],
             [
              0.3333333333333333,
              "#9c179e"
             ],
             [
              0.4444444444444444,
              "#bd3786"
             ],
             [
              0.5555555555555556,
              "#d8576b"
             ],
             [
              0.6666666666666666,
              "#ed7953"
             ],
             [
              0.7777777777777778,
              "#fb9f3a"
             ],
             [
              0.8888888888888888,
              "#fdca26"
             ],
             [
              1.0,
              "#f0f921"
             ]
            ],
            "type": "histogram2dcontour"
           }
          ],
          "histogram2d": [
           {
            "colorbar": {
             "outlinewidth": 0,
             "ticks": ""
            },
            "colorscale": [
             [
              0.0,
              "#0d0887"
             ],
             [
              0.1111111111111111,
              "#46039f"
             ],
             [
              0.2222222222222222,
              "#7201a8"
             ],
             [
              0.3333333333333333,
              "#9c179e"
             ],
             [
              0.4444444444444444,
              "#bd3786"
             ],
             [
              0.5555555555555556,
              "#d8576b"
             ],
             [
              0.6666666666666666,
              "#ed7953"
             ],
             [
              0.7777777777777778,
              "#fb9f3a"
             ],
             [
              0.8888888888888888,
              "#fdca26"
             ],
             [
              1.0,
              "#f0f921"
             ]
            ],
            "type": "histogram2d"
           }
          ],
          "histogram": [
           {
            "marker": {
             "pattern": {
              "fillmode": "overlay",
              "size": 10,
              "solidity": 0.2
             }
            },
            "type": "histogram"
           }
          ],
          "mesh3d": [
           {
            "colorbar": {
             "outlinewidth": 0,
             "ticks": ""
            },
            "type": "mesh3d"
           }
          ],
          "parcoords": [
           {
            "line": {
             "colorbar": {
              "outlinewidth": 0,
              "ticks": ""
             }
            },
            "type": "parcoords"
           }
          ],
          "pie": [
           {
            "automargin": true,
            "type": "pie"
           }
          ],
          "scatter3d": [
           {
            "line": {
             "colorbar": {
              "outlinewidth": 0,
              "ticks": ""
             }
            },
            "marker": {
             "colorbar": {
              "outlinewidth": 0,
              "ticks": ""
             }
            },
            "type": "scatter3d"
           }
          ],
          "scattercarpet": [
           {
            "marker": {
             "colorbar": {
              "outlinewidth": 0,
              "ticks": ""
             }
            },
            "type": "scattercarpet"
           }
          ],
          "scattergeo": [
           {
            "marker": {
             "colorbar": {
              "outlinewidth": 0,
              "ticks": ""
             }
            },
            "type": "scattergeo"
           }
          ],
          "scattergl": [
           {
            "marker": {
             "colorbar": {
              "outlinewidth": 0,
              "ticks": ""
             }
            },
            "type": "scattergl"
           }
          ],
          "scattermapbox": [
           {
            "marker": {
             "colorbar": {
              "outlinewidth": 0,
              "ticks": ""
             }
            },
            "type": "scattermapbox"
           }
          ],
          "scatterpolargl": [
           {
            "marker": {
             "colorbar": {
              "outlinewidth": 0,
              "ticks": ""
             }
            },
            "type": "scatterpolargl"
           }
          ],
          "scatterpolar": [
           {
            "marker": {
             "colorbar": {
              "outlinewidth": 0,
              "ticks": ""
             }
            },
            "type": "scatterpolar"
           }
          ],
          "scatter": [
           {
            "fillpattern": {
             "fillmode": "overlay",
             "size": 10,
             "solidity": 0.2
            },
            "type": "scatter"
           }
          ],
          "scatterternary": [
           {
            "marker": {
             "colorbar": {
              "outlinewidth": 0,
              "ticks": ""
             }
            },
            "type": "scatterternary"
           }
          ],
          "surface": [
           {
            "colorbar": {
             "outlinewidth": 0,
             "ticks": ""
            },
            "colorscale": [
             [
              0.0,
              "#0d0887"
             ],
             [
              0.1111111111111111,
              "#46039f"
             ],
             [
              0.2222222222222222,
              "#7201a8"
             ],
             [
              0.3333333333333333,
              "#9c179e"
             ],
             [
              0.4444444444444444,
              "#bd3786"
             ],
             [
              0.5555555555555556,
              "#d8576b"
             ],
             [
              0.6666666666666666,
              "#ed7953"
             ],
             [
              0.7777777777777778,
              "#fb9f3a"
             ],
             [
              0.8888888888888888,
              "#fdca26"
             ],
             [
              1.0,
              "#f0f921"
             ]
            ],
            "type": "surface"
           }
          ],
          "table": [
           {
            "cells": {
             "fill": {
              "color": "#EBF0F8"
             },
             "line": {
              "color": "white"
             }
            },
            "header": {
             "fill": {
              "color": "#C8D4E3"
             },
             "line": {
              "color": "white"
             }
            },
            "type": "table"
           }
          ]
         },
         "layout": {
          "annotationdefaults": {
           "arrowcolor": "#2a3f5f",
           "arrowhead": 0,
           "arrowwidth": 1
          },
          "autotypenumbers": "strict",
          "coloraxis": {
           "colorbar": {
            "outlinewidth": 0,
            "ticks": ""
           }
          },
          "colorscale": {
           "diverging": [
            [
             0,
             "#8e0152"
            ],
            [
             0.1,
             "#c51b7d"
            ],
            [
             0.2,
             "#de77ae"
            ],
            [
             0.3,
             "#f1b6da"
            ],
            [
             0.4,
             "#fde0ef"
            ],
            [
             0.5,
             "#f7f7f7"
            ],
            [
             0.6,
             "#e6f5d0"
            ],
            [
             0.7,
             "#b8e186"
            ],
            [
             0.8,
             "#7fbc41"
            ],
            [
             0.9,
             "#4d9221"
            ],
            [
             1,
             "#276419"
            ]
           ],
           "sequential": [
            [
             0.0,
             "#0d0887"
            ],
            [
             0.1111111111111111,
             "#46039f"
            ],
            [
             0.2222222222222222,
             "#7201a8"
            ],
            [
             0.3333333333333333,
             "#9c179e"
            ],
            [
             0.4444444444444444,
             "#bd3786"
            ],
            [
             0.5555555555555556,
             "#d8576b"
            ],
            [
             0.6666666666666666,
             "#ed7953"
            ],
            [
             0.7777777777777778,
             "#fb9f3a"
            ],
            [
             0.8888888888888888,
             "#fdca26"
            ],
            [
             1.0,
             "#f0f921"
            ]
           ],
           "sequentialminus": [
            [
             0.0,
             "#0d0887"
            ],
            [
             0.1111111111111111,
             "#46039f"
            ],
            [
             0.2222222222222222,
             "#7201a8"
            ],
            [
             0.3333333333333333,
             "#9c179e"
            ],
            [
             0.4444444444444444,
             "#bd3786"
            ],
            [
             0.5555555555555556,
             "#d8576b"
            ],
            [
             0.6666666666666666,
             "#ed7953"
            ],
            [
             0.7777777777777778,
             "#fb9f3a"
            ],
            [
             0.8888888888888888,
             "#fdca26"
            ],
            [
             1.0,
             "#f0f921"
            ]
           ]
          },
          "colorway": [
           "#636efa",
           "#EF553B",
           "#00cc96",
           "#ab63fa",
           "#FFA15A",
           "#19d3f3",
           "#FF6692",
           "#B6E880",
           "#FF97FF",
           "#FECB52"
          ],
          "font": {
           "color": "#2a3f5f"
          },
          "geo": {
           "bgcolor": "white",
           "lakecolor": "white",
           "landcolor": "white",
           "showlakes": true,
           "showland": true,
           "subunitcolor": "#C8D4E3"
          },
          "hoverlabel": {
           "align": "left"
          },
          "hovermode": "closest",
          "mapbox": {
           "style": "light"
          },
          "paper_bgcolor": "white",
          "plot_bgcolor": "white",
          "polar": {
           "angularaxis": {
            "gridcolor": "#EBF0F8",
            "linecolor": "#EBF0F8",
            "ticks": ""
           },
           "bgcolor": "white",
           "radialaxis": {
            "gridcolor": "#EBF0F8",
            "linecolor": "#EBF0F8",
            "ticks": ""
           }
          },
          "scene": {
           "xaxis": {
            "backgroundcolor": "white",
            "gridcolor": "#DFE8F3",
            "gridwidth": 2,
            "linecolor": "#EBF0F8",
            "showbackground": true,
            "ticks": "",
            "zerolinecolor": "#EBF0F8"
           },
           "yaxis": {
            "backgroundcolor": "white",
            "gridcolor": "#DFE8F3",
            "gridwidth": 2,
            "linecolor": "#EBF0F8",
            "showbackground": true,
            "ticks": "",
            "zerolinecolor": "#EBF0F8"
           },
           "zaxis": {
            "backgroundcolor": "white",
            "gridcolor": "#DFE8F3",
            "gridwidth": 2,
            "linecolor": "#EBF0F8",
            "showbackground": true,
            "ticks": "",
            "zerolinecolor": "#EBF0F8"
           }
          },
          "shapedefaults": {
           "line": {
            "color": "#2a3f5f"
           }
          },
          "ternary": {
           "aaxis": {
            "gridcolor": "#DFE8F3",
            "linecolor": "#A2B1C6",
            "ticks": ""
           },
           "baxis": {
            "gridcolor": "#DFE8F3",
            "linecolor": "#A2B1C6",
            "ticks": ""
           },
           "bgcolor": "white",
           "caxis": {
            "gridcolor": "#DFE8F3",
            "linecolor": "#A2B1C6",
            "ticks": ""
           }
          },
          "title": {
           "x": 0.05
          },
          "xaxis": {
           "automargin": true,
           "gridcolor": "#EBF0F8",
           "linecolor": "#EBF0F8",
           "ticks": "",
           "title": {
            "standoff": 15
           },
           "zerolinecolor": "#EBF0F8",
           "zerolinewidth": 2
          },
          "yaxis": {
           "automargin": true,
           "gridcolor": "#EBF0F8",
           "linecolor": "#EBF0F8",
           "ticks": "",
           "title": {
            "standoff": 15
           },
           "zerolinecolor": "#EBF0F8",
           "zerolinewidth": 2
          }
         }
        },
        "xaxis": {
         "anchor": "y",
         "domain": [
          0.0,
          1.0
         ],
         "title": {
          "text": "ano"
         },
         "tickmode": "auto",
         "tick0": 2008,
         "dtick": 1
        },
        "yaxis": {
         "anchor": "x",
         "domain": [
          0.0,
          0.144
         ],
         "title": {
          "text": "value"
         }
        },
        "xaxis2": {
         "anchor": "y2",
         "domain": [
          0.0,
          1.0
         ],
         "matches": "x",
         "showticklabels": false
        },
        "yaxis2": {
         "anchor": "x2",
         "domain": [
          0.214,
          0.358
         ],
         "matches": "y",
         "title": {
          "text": "value"
         }
        },
        "xaxis3": {
         "anchor": "y3",
         "domain": [
          0.0,
          1.0
         ],
         "matches": "x",
         "showticklabels": false
        },
        "yaxis3": {
         "anchor": "x3",
         "domain": [
          0.428,
          0.572
         ],
         "matches": "y",
         "title": {
          "text": "value"
         }
        },
        "xaxis4": {
         "anchor": "y4",
         "domain": [
          0.0,
          1.0
         ],
         "matches": "x",
         "showticklabels": false
        },
        "yaxis4": {
         "anchor": "x4",
         "domain": [
          0.6419999999999999,
          0.7859999999999999
         ],
         "matches": "y",
         "title": {
          "text": "value"
         }
        },
        "xaxis5": {
         "anchor": "y5",
         "domain": [
          0.0,
          1.0
         ],
         "matches": "x",
         "showticklabels": false
        },
        "yaxis5": {
         "anchor": "x5",
         "domain": [
          0.856,
          1.0
         ],
         "matches": "y",
         "title": {
          "text": "value"
         }
        },
        "annotations": [
         {
          "font": {},
          "showarrow": false,
          "text": "regiao_nome=SUL",
          "x": 0.5,
          "xanchor": "center",
          "xref": "paper",
          "y": 0.144,
          "yanchor": "bottom",
          "yref": "paper"
         },
         {
          "font": {},
          "showarrow": false,
          "text": "regiao_nome=SUDESTE",
          "x": 0.5,
          "xanchor": "center",
          "xref": "paper",
          "y": 0.358,
          "yanchor": "bottom",
          "yref": "paper"
         },
         {
          "font": {},
          "showarrow": false,
          "text": "regiao_nome=NORTE",
          "x": 0.5,
          "xanchor": "center",
          "xref": "paper",
          "y": 0.572,
          "yanchor": "bottom",
          "yref": "paper"
         },
         {
          "font": {},
          "showarrow": false,
          "text": "regiao_nome=NORDESTE",
          "x": 0.5,
          "xanchor": "center",
          "xref": "paper",
          "y": 0.7859999999999999,
          "yanchor": "bottom",
          "yref": "paper"
         },
         {
          "font": {},
          "showarrow": false,
          "text": "regiao_nome=CENTRO-OESTE",
          "x": 0.5,
          "xanchor": "center",
          "xref": "paper",
          "y": 1.0,
          "yanchor": "bottom",
          "yref": "paper"
         }
        ],
        "legend": {
         "title": {
          "text": "variable"
         },
         "tracegroupgap": 0
        },
        "margin": {
         "t": 60
        },
        "height": 1000,
        "showlegend": false,
        "title": {
         "text": "Número de procedimentos por região entre 2008 a 2023"
        }
       },
       "config": {
        "plotlyServerURL": "https://plot.ly"
       }
      },
      "text/html": "<div>                            <div id=\"53c83934-2044-4cf6-866e-8885e861ac83\" class=\"plotly-graph-div\" style=\"height:1000px; width:100%;\"></div>            <script type=\"text/javascript\">                require([\"plotly\"], function(Plotly) {                    window.PLOTLYENV=window.PLOTLYENV || {};                                    if (document.getElementById(\"53c83934-2044-4cf6-866e-8885e861ac83\")) {                    Plotly.newPlot(                        \"53c83934-2044-4cf6-866e-8885e861ac83\",                        [{\"fillpattern\":{\"shape\":\"\"},\"hovertemplate\":\"variable=acoes_complementares_da_atencao_a_saude_qtd\\u003cbr\\u003eregiao_nome=CENTRO-OESTE\\u003cbr\\u003eano=%{x}\\u003cbr\\u003evalue=%{y}\\u003cextra\\u003e\\u003c\\u002fextra\\u003e\",\"legendgroup\":\"acoes_complementares_da_atencao_a_saude_qtd\",\"line\":{\"color\":\"#636efa\"},\"marker\":{\"symbol\":\"circle\"},\"mode\":\"lines\",\"name\":\"acoes_complementares_da_atencao_a_saude_qtd\",\"orientation\":\"v\",\"showlegend\":true,\"stackgroup\":\"1\",\"x\":[2008,2009,2010,2011,2012,2013,2014,2015,2016,2017,2018,2019,2020,2021,2022,2023],\"xaxis\":\"x5\",\"y\":[1501476,1984242,2137477,2188645,2308737,2427319,2449516,2473611,2778604,2901111,3062867,3287029,2779639,3019681,3434878,3795423],\"yaxis\":\"y5\",\"type\":\"scatter\"},{\"fillpattern\":{\"shape\":\"\"},\"hovertemplate\":\"variable=acoes_complementares_da_atencao_a_saude_qtd\\u003cbr\\u003eregiao_nome=NORDESTE\\u003cbr\\u003eano=%{x}\\u003cbr\\u003evalue=%{y}\\u003cextra\\u003e\\u003c\\u002fextra\\u003e\",\"legendgroup\":\"acoes_complementares_da_atencao_a_saude_qtd\",\"line\":{\"color\":\"#636efa\"},\"marker\":{\"symbol\":\"circle\"},\"mode\":\"lines\",\"name\":\"acoes_complementares_da_atencao_a_saude_qtd\",\"orientation\":\"v\",\"showlegend\":false,\"stackgroup\":\"1\",\"x\":[2008,2009,2010,2011,2012,2013,2014,2015,2016,2017,2018,2019,2020,2021,2022,2023],\"xaxis\":\"x4\",\"y\":[5489753,6884488,7355791,7752348,8011170,8836076,9429367,10308329,10822936,11322485,11870793,12564853,10472710,11509986,12816906,13735033],\"yaxis\":\"y4\",\"type\":\"scatter\"},{\"fillpattern\":{\"shape\":\"\"},\"hovertemplate\":\"variable=acoes_complementares_da_atencao_a_saude_qtd\\u003cbr\\u003eregiao_nome=NORTE\\u003cbr\\u003eano=%{x}\\u003cbr\\u003evalue=%{y}\\u003cextra\\u003e\\u003c\\u002fextra\\u003e\",\"legendgroup\":\"acoes_complementares_da_atencao_a_saude_qtd\",\"line\":{\"color\":\"#636efa\"},\"marker\":{\"symbol\":\"circle\"},\"mode\":\"lines\",\"name\":\"acoes_complementares_da_atencao_a_saude_qtd\",\"orientation\":\"v\",\"showlegend\":false,\"stackgroup\":\"1\",\"x\":[2008,2009,2010,2011,2012,2013,2014,2015,2016,2017,2018,2019,2020,2021,2022,2023],\"xaxis\":\"x3\",\"y\":[1546789,1931697,2159958,2319225,2348922,2517688,2676676,2908459,3088576,3339049,3446283,3732686,3213807,3551840,3930515,3989877],\"yaxis\":\"y3\",\"type\":\"scatter\"},{\"fillpattern\":{\"shape\":\"\"},\"hovertemplate\":\"variable=acoes_complementares_da_atencao_a_saude_qtd\\u003cbr\\u003eregiao_nome=SUDESTE\\u003cbr\\u003eano=%{x}\\u003cbr\\u003evalue=%{y}\\u003cextra\\u003e\\u003c\\u002fextra\\u003e\",\"legendgroup\":\"acoes_complementares_da_atencao_a_saude_qtd\",\"line\":{\"color\":\"#636efa\"},\"marker\":{\"symbol\":\"circle\"},\"mode\":\"lines\",\"name\":\"acoes_complementares_da_atencao_a_saude_qtd\",\"orientation\":\"v\",\"showlegend\":false,\"stackgroup\":\"1\",\"x\":[2008,2009,2010,2011,2012,2013,2014,2015,2016,2017,2018,2019,2020,2021,2022,2023],\"xaxis\":\"x2\",\"y\":[8735977,10517435,11319707,11695090,12079615,12771105,13376352,14099000,14383887,14903670,15536407,16230235,13725124,14722124,16275864,17643815],\"yaxis\":\"y2\",\"type\":\"scatter\"},{\"fillpattern\":{\"shape\":\"\"},\"hovertemplate\":\"variable=acoes_complementares_da_atencao_a_saude_qtd\\u003cbr\\u003eregiao_nome=SUL\\u003cbr\\u003eano=%{x}\\u003cbr\\u003evalue=%{y}\\u003cextra\\u003e\\u003c\\u002fextra\\u003e\",\"legendgroup\":\"acoes_complementares_da_atencao_a_saude_qtd\",\"line\":{\"color\":\"#636efa\"},\"marker\":{\"symbol\":\"circle\"},\"mode\":\"lines\",\"name\":\"acoes_complementares_da_atencao_a_saude_qtd\",\"orientation\":\"v\",\"showlegend\":false,\"stackgroup\":\"1\",\"x\":[2008,2009,2010,2011,2012,2013,2014,2015,2016,2017,2018,2019,2020,2021,2022,2023],\"xaxis\":\"x\",\"y\":[3949306,4638599,4951035,5045067,5250032,5544133,5748397,5996390,6200113,6295490,6622311,6918879,5794008,6466015,7029070,7585162],\"yaxis\":\"y\",\"type\":\"scatter\"},{\"fillpattern\":{\"shape\":\"\"},\"hovertemplate\":\"variable=acoes_relacionadas_a_doacao_de_orgaos_e_tecidos_para_transplante_qtd\\u003cbr\\u003eregiao_nome=CENTRO-OESTE\\u003cbr\\u003eano=%{x}\\u003cbr\\u003evalue=%{y}\\u003cextra\\u003e\\u003c\\u002fextra\\u003e\",\"legendgroup\":\"acoes_relacionadas_a_doacao_de_orgaos_e_tecidos_para_transplante_qtd\",\"line\":{\"color\":\"#EF553B\"},\"marker\":{\"symbol\":\"circle\"},\"mode\":\"lines\",\"name\":\"acoes_relacionadas_a_doacao_de_orgaos_e_tecidos_para_transplante_qtd\",\"orientation\":\"v\",\"showlegend\":true,\"stackgroup\":\"1\",\"x\":[2008,2009,2010,2011,2012,2013,2014,2015,2016,2017,2018,2019,2020,2021,2022,2023],\"xaxis\":\"x5\",\"y\":[684,522,382,489,851,598,667,905,836,941,1262,1500,1284,1228,1184,1375],\"yaxis\":\"y5\",\"type\":\"scatter\"},{\"fillpattern\":{\"shape\":\"\"},\"hovertemplate\":\"variable=acoes_relacionadas_a_doacao_de_orgaos_e_tecidos_para_transplante_qtd\\u003cbr\\u003eregiao_nome=NORDESTE\\u003cbr\\u003eano=%{x}\\u003cbr\\u003evalue=%{y}\\u003cextra\\u003e\\u003c\\u002fextra\\u003e\",\"legendgroup\":\"acoes_relacionadas_a_doacao_de_orgaos_e_tecidos_para_transplante_qtd\",\"line\":{\"color\":\"#EF553B\"},\"marker\":{\"symbol\":\"circle\"},\"mode\":\"lines\",\"name\":\"acoes_relacionadas_a_doacao_de_orgaos_e_tecidos_para_transplante_qtd\",\"orientation\":\"v\",\"showlegend\":false,\"stackgroup\":\"1\",\"x\":[2008,2009,2010,2011,2012,2013,2014,2015,2016,2017,2018,2019,2020,2021,2022,2023],\"xaxis\":\"x4\",\"y\":[1134,1632,1967,2202,2758,3277,3535,3672,4528,4698,4588,4871,3623,4343,5743,6277],\"yaxis\":\"y4\",\"type\":\"scatter\"},{\"fillpattern\":{\"shape\":\"\"},\"hovertemplate\":\"variable=acoes_relacionadas_a_doacao_de_orgaos_e_tecidos_para_transplante_qtd\\u003cbr\\u003eregiao_nome=NORTE\\u003cbr\\u003eano=%{x}\\u003cbr\\u003evalue=%{y}\\u003cextra\\u003e\\u003c\\u002fextra\\u003e\",\"legendgroup\":\"acoes_relacionadas_a_doacao_de_orgaos_e_tecidos_para_transplante_qtd\",\"line\":{\"color\":\"#EF553B\"},\"marker\":{\"symbol\":\"circle\"},\"mode\":\"lines\",\"name\":\"acoes_relacionadas_a_doacao_de_orgaos_e_tecidos_para_transplante_qtd\",\"orientation\":\"v\",\"showlegend\":false,\"stackgroup\":\"1\",\"x\":[2008,2009,2010,2011,2012,2013,2014,2015,2016,2017,2018,2019,2020,2021,2022,2023],\"xaxis\":\"x3\",\"y\":[36,79,67,90,135,174,561,828,747,614,683,969,515,476,718,998],\"yaxis\":\"y3\",\"type\":\"scatter\"},{\"fillpattern\":{\"shape\":\"\"},\"hovertemplate\":\"variable=acoes_relacionadas_a_doacao_de_orgaos_e_tecidos_para_transplante_qtd\\u003cbr\\u003eregiao_nome=SUDESTE\\u003cbr\\u003eano=%{x}\\u003cbr\\u003evalue=%{y}\\u003cextra\\u003e\\u003c\\u002fextra\\u003e\",\"legendgroup\":\"acoes_relacionadas_a_doacao_de_orgaos_e_tecidos_para_transplante_qtd\",\"line\":{\"color\":\"#EF553B\"},\"marker\":{\"symbol\":\"circle\"},\"mode\":\"lines\",\"name\":\"acoes_relacionadas_a_doacao_de_orgaos_e_tecidos_para_transplante_qtd\",\"orientation\":\"v\",\"showlegend\":false,\"stackgroup\":\"1\",\"x\":[2008,2009,2010,2011,2012,2013,2014,2015,2016,2017,2018,2019,2020,2021,2022,2023],\"xaxis\":\"x2\",\"y\":[11304,9791,10198,9754,9708,10364,12153,11791,11723,12907,13853,14496,12223,12020,13214,14819],\"yaxis\":\"y2\",\"type\":\"scatter\"},{\"fillpattern\":{\"shape\":\"\"},\"hovertemplate\":\"variable=acoes_relacionadas_a_doacao_de_orgaos_e_tecidos_para_transplante_qtd\\u003cbr\\u003eregiao_nome=SUL\\u003cbr\\u003eano=%{x}\\u003cbr\\u003evalue=%{y}\\u003cextra\\u003e\\u003c\\u002fextra\\u003e\",\"legendgroup\":\"acoes_relacionadas_a_doacao_de_orgaos_e_tecidos_para_transplante_qtd\",\"line\":{\"color\":\"#EF553B\"},\"marker\":{\"symbol\":\"circle\"},\"mode\":\"lines\",\"name\":\"acoes_relacionadas_a_doacao_de_orgaos_e_tecidos_para_transplante_qtd\",\"orientation\":\"v\",\"showlegend\":false,\"stackgroup\":\"1\",\"x\":[2008,2009,2010,2011,2012,2013,2014,2015,2016,2017,2018,2019,2020,2021,2022,2023],\"xaxis\":\"x\",\"y\":[3840,4423,4206,5026,6028,6401,6580,7106,8086,9198,9846,9327,7488,7105,8097,9434],\"yaxis\":\"y\",\"type\":\"scatter\"},{\"fillpattern\":{\"shape\":\"\"},\"hovertemplate\":\"variable=acoes_relacionadas_ao_estabelecimento_qtd\\u003cbr\\u003eregiao_nome=CENTRO-OESTE\\u003cbr\\u003eano=%{x}\\u003cbr\\u003evalue=%{y}\\u003cextra\\u003e\\u003c\\u002fextra\\u003e\",\"legendgroup\":\"acoes_relacionadas_ao_estabelecimento_qtd\",\"line\":{\"color\":\"#00cc96\"},\"marker\":{\"symbol\":\"circle\"},\"mode\":\"lines\",\"name\":\"acoes_relacionadas_ao_estabelecimento_qtd\",\"orientation\":\"v\",\"showlegend\":true,\"stackgroup\":\"1\",\"x\":[2008,2009,2010,2011,2012,2013,2014,2015,2016,2017,2018,2019,2020,2021,2022,2023],\"xaxis\":\"x5\",\"y\":[66312,71410,71051,68408,63888,56758,49377,50302,50080,51333,49807,39754,30772,38118,41566,44703],\"yaxis\":\"y5\",\"type\":\"scatter\"},{\"fillpattern\":{\"shape\":\"\"},\"hovertemplate\":\"variable=acoes_relacionadas_ao_estabelecimento_qtd\\u003cbr\\u003eregiao_nome=NORDESTE\\u003cbr\\u003eano=%{x}\\u003cbr\\u003evalue=%{y}\\u003cextra\\u003e\\u003c\\u002fextra\\u003e\",\"legendgroup\":\"acoes_relacionadas_ao_estabelecimento_qtd\",\"line\":{\"color\":\"#00cc96\"},\"marker\":{\"symbol\":\"circle\"},\"mode\":\"lines\",\"name\":\"acoes_relacionadas_ao_estabelecimento_qtd\",\"orientation\":\"v\",\"showlegend\":false,\"stackgroup\":\"1\",\"x\":[2008,2009,2010,2011,2012,2013,2014,2015,2016,2017,2018,2019,2020,2021,2022,2023],\"xaxis\":\"x4\",\"y\":[164638,177814,179720,174910,172328,121572,81630,83505,83182,94030,99280,78033,58560,74453,77014,94333],\"yaxis\":\"y4\",\"type\":\"scatter\"},{\"fillpattern\":{\"shape\":\"\"},\"hovertemplate\":\"variable=acoes_relacionadas_ao_estabelecimento_qtd\\u003cbr\\u003eregiao_nome=NORTE\\u003cbr\\u003eano=%{x}\\u003cbr\\u003evalue=%{y}\\u003cextra\\u003e\\u003c\\u002fextra\\u003e\",\"legendgroup\":\"acoes_relacionadas_ao_estabelecimento_qtd\",\"line\":{\"color\":\"#00cc96\"},\"marker\":{\"symbol\":\"circle\"},\"mode\":\"lines\",\"name\":\"acoes_relacionadas_ao_estabelecimento_qtd\",\"orientation\":\"v\",\"showlegend\":false,\"stackgroup\":\"1\",\"x\":[2008,2009,2010,2011,2012,2013,2014,2015,2016,2017,2018,2019,2020,2021,2022,2023],\"xaxis\":\"x3\",\"y\":[63183,75070,69036,68245,64172,52377,41436,35213,30138,35246,35762,25484,17518,19175,20449,20895],\"yaxis\":\"y3\",\"type\":\"scatter\"},{\"fillpattern\":{\"shape\":\"\"},\"hovertemplate\":\"variable=acoes_relacionadas_ao_estabelecimento_qtd\\u003cbr\\u003eregiao_nome=SUDESTE\\u003cbr\\u003eano=%{x}\\u003cbr\\u003evalue=%{y}\\u003cextra\\u003e\\u003c\\u002fextra\\u003e\",\"legendgroup\":\"acoes_relacionadas_ao_estabelecimento_qtd\",\"line\":{\"color\":\"#00cc96\"},\"marker\":{\"symbol\":\"circle\"},\"mode\":\"lines\",\"name\":\"acoes_relacionadas_ao_estabelecimento_qtd\",\"orientation\":\"v\",\"showlegend\":false,\"stackgroup\":\"1\",\"x\":[2008,2009,2010,2011,2012,2013,2014,2015,2016,2017,2018,2019,2020,2021,2022,2023],\"xaxis\":\"x2\",\"y\":[328461,329365,339789,351138,342462,320007,305821,329971,320838,346962,345080,278791,187630,182375,194190,230580],\"yaxis\":\"y2\",\"type\":\"scatter\"},{\"fillpattern\":{\"shape\":\"\"},\"hovertemplate\":\"variable=acoes_relacionadas_ao_estabelecimento_qtd\\u003cbr\\u003eregiao_nome=SUL\\u003cbr\\u003eano=%{x}\\u003cbr\\u003evalue=%{y}\\u003cextra\\u003e\\u003c\\u002fextra\\u003e\",\"legendgroup\":\"acoes_relacionadas_ao_estabelecimento_qtd\",\"line\":{\"color\":\"#00cc96\"},\"marker\":{\"symbol\":\"circle\"},\"mode\":\"lines\",\"name\":\"acoes_relacionadas_ao_estabelecimento_qtd\",\"orientation\":\"v\",\"showlegend\":false,\"stackgroup\":\"1\",\"x\":[2008,2009,2010,2011,2012,2013,2014,2015,2016,2017,2018,2019,2020,2021,2022,2023],\"xaxis\":\"x\",\"y\":[147708,156746,155127,159784,163275,151549,141692,148289,150326,155997,161360,111964,72226,73881,79483,90586],\"yaxis\":\"y\",\"type\":\"scatter\"},{\"fillpattern\":{\"shape\":\"\"},\"hovertemplate\":\"variable=acoes_relacionadas_ao_atendimento_qtd\\u003cbr\\u003eregiao_nome=CENTRO-OESTE\\u003cbr\\u003eano=%{x}\\u003cbr\\u003evalue=%{y}\\u003cextra\\u003e\\u003c\\u002fextra\\u003e\",\"legendgroup\":\"acoes_relacionadas_ao_atendimento_qtd\",\"line\":{\"color\":\"#ab63fa\"},\"marker\":{\"symbol\":\"circle\"},\"mode\":\"lines\",\"name\":\"acoes_relacionadas_ao_atendimento_qtd\",\"orientation\":\"v\",\"showlegend\":true,\"stackgroup\":\"1\",\"x\":[2008,2009,2010,2011,2012,2013,2014,2015,2016,2017,2018,2019,2020,2021,2022,2023],\"xaxis\":\"x5\",\"y\":[1435164,1912832,2066426,2120237,2244849,2370561,2400139,2423309,2728524,2849778,3013060,3247275,2748867,2981563,3393312,3750720],\"yaxis\":\"y5\",\"type\":\"scatter\"},{\"fillpattern\":{\"shape\":\"\"},\"hovertemplate\":\"variable=acoes_relacionadas_ao_atendimento_qtd\\u003cbr\\u003eregiao_nome=NORDESTE\\u003cbr\\u003eano=%{x}\\u003cbr\\u003evalue=%{y}\\u003cextra\\u003e\\u003c\\u002fextra\\u003e\",\"legendgroup\":\"acoes_relacionadas_ao_atendimento_qtd\",\"line\":{\"color\":\"#ab63fa\"},\"marker\":{\"symbol\":\"circle\"},\"mode\":\"lines\",\"name\":\"acoes_relacionadas_ao_atendimento_qtd\",\"orientation\":\"v\",\"showlegend\":false,\"stackgroup\":\"1\",\"x\":[2008,2009,2010,2011,2012,2013,2014,2015,2016,2017,2018,2019,2020,2021,2022,2023],\"xaxis\":\"x4\",\"y\":[5325115,6706674,7176071,7577438,7838842,8714504,9347737,10224824,10739754,11228455,11771513,12486820,10414150,11435533,12739892,13640700],\"yaxis\":\"y4\",\"type\":\"scatter\"},{\"fillpattern\":{\"shape\":\"\"},\"hovertemplate\":\"variable=acoes_relacionadas_ao_atendimento_qtd\\u003cbr\\u003eregiao_nome=NORTE\\u003cbr\\u003eano=%{x}\\u003cbr\\u003evalue=%{y}\\u003cextra\\u003e\\u003c\\u002fextra\\u003e\",\"legendgroup\":\"acoes_relacionadas_ao_atendimento_qtd\",\"line\":{\"color\":\"#ab63fa\"},\"marker\":{\"symbol\":\"circle\"},\"mode\":\"lines\",\"name\":\"acoes_relacionadas_ao_atendimento_qtd\",\"orientation\":\"v\",\"showlegend\":false,\"stackgroup\":\"1\",\"x\":[2008,2009,2010,2011,2012,2013,2014,2015,2016,2017,2018,2019,2020,2021,2022,2023],\"xaxis\":\"x3\",\"y\":[1483606,1856627,2090922,2250980,2284750,2465311,2635240,2873246,3058438,3303803,3410521,3707202,3196289,3532665,3910066,3968982],\"yaxis\":\"y3\",\"type\":\"scatter\"},{\"fillpattern\":{\"shape\":\"\"},\"hovertemplate\":\"variable=acoes_relacionadas_ao_atendimento_qtd\\u003cbr\\u003eregiao_nome=SUDESTE\\u003cbr\\u003eano=%{x}\\u003cbr\\u003evalue=%{y}\\u003cextra\\u003e\\u003c\\u002fextra\\u003e\",\"legendgroup\":\"acoes_relacionadas_ao_atendimento_qtd\",\"line\":{\"color\":\"#ab63fa\"},\"marker\":{\"symbol\":\"circle\"},\"mode\":\"lines\",\"name\":\"acoes_relacionadas_ao_atendimento_qtd\",\"orientation\":\"v\",\"showlegend\":false,\"stackgroup\":\"1\",\"x\":[2008,2009,2010,2011,2012,2013,2014,2015,2016,2017,2018,2019,2020,2021,2022,2023],\"xaxis\":\"x2\",\"y\":[8407516,10188070,10979918,11343952,11737153,12451098,13070531,13769029,14063049,14556708,15191327,15951444,13537494,14539749,16081674,17413235],\"yaxis\":\"y2\",\"type\":\"scatter\"},{\"fillpattern\":{\"shape\":\"\"},\"hovertemplate\":\"variable=acoes_relacionadas_ao_atendimento_qtd\\u003cbr\\u003eregiao_nome=SUL\\u003cbr\\u003eano=%{x}\\u003cbr\\u003evalue=%{y}\\u003cextra\\u003e\\u003c\\u002fextra\\u003e\",\"legendgroup\":\"acoes_relacionadas_ao_atendimento_qtd\",\"line\":{\"color\":\"#ab63fa\"},\"marker\":{\"symbol\":\"circle\"},\"mode\":\"lines\",\"name\":\"acoes_relacionadas_ao_atendimento_qtd\",\"orientation\":\"v\",\"showlegend\":false,\"stackgroup\":\"1\",\"x\":[2008,2009,2010,2011,2012,2013,2014,2015,2016,2017,2018,2019,2020,2021,2022,2023],\"xaxis\":\"x\",\"y\":[3801598,4481853,4795908,4885283,5086757,5392584,5606705,5848101,6049787,6139493,6460951,6806915,5721782,6392134,6949587,7494576],\"yaxis\":\"y\",\"type\":\"scatter\"}],                        {\"template\":{\"data\":{\"barpolar\":[{\"marker\":{\"line\":{\"color\":\"white\",\"width\":0.5},\"pattern\":{\"fillmode\":\"overlay\",\"size\":10,\"solidity\":0.2}},\"type\":\"barpolar\"}],\"bar\":[{\"error_x\":{\"color\":\"#2a3f5f\"},\"error_y\":{\"color\":\"#2a3f5f\"},\"marker\":{\"line\":{\"color\":\"white\",\"width\":0.5},\"pattern\":{\"fillmode\":\"overlay\",\"size\":10,\"solidity\":0.2}},\"type\":\"bar\"}],\"carpet\":[{\"aaxis\":{\"endlinecolor\":\"#2a3f5f\",\"gridcolor\":\"#C8D4E3\",\"linecolor\":\"#C8D4E3\",\"minorgridcolor\":\"#C8D4E3\",\"startlinecolor\":\"#2a3f5f\"},\"baxis\":{\"endlinecolor\":\"#2a3f5f\",\"gridcolor\":\"#C8D4E3\",\"linecolor\":\"#C8D4E3\",\"minorgridcolor\":\"#C8D4E3\",\"startlinecolor\":\"#2a3f5f\"},\"type\":\"carpet\"}],\"choropleth\":[{\"colorbar\":{\"outlinewidth\":0,\"ticks\":\"\"},\"type\":\"choropleth\"}],\"contourcarpet\":[{\"colorbar\":{\"outlinewidth\":0,\"ticks\":\"\"},\"type\":\"contourcarpet\"}],\"contour\":[{\"colorbar\":{\"outlinewidth\":0,\"ticks\":\"\"},\"colorscale\":[[0.0,\"#0d0887\"],[0.1111111111111111,\"#46039f\"],[0.2222222222222222,\"#7201a8\"],[0.3333333333333333,\"#9c179e\"],[0.4444444444444444,\"#bd3786\"],[0.5555555555555556,\"#d8576b\"],[0.6666666666666666,\"#ed7953\"],[0.7777777777777778,\"#fb9f3a\"],[0.8888888888888888,\"#fdca26\"],[1.0,\"#f0f921\"]],\"type\":\"contour\"}],\"heatmapgl\":[{\"colorbar\":{\"outlinewidth\":0,\"ticks\":\"\"},\"colorscale\":[[0.0,\"#0d0887\"],[0.1111111111111111,\"#46039f\"],[0.2222222222222222,\"#7201a8\"],[0.3333333333333333,\"#9c179e\"],[0.4444444444444444,\"#bd3786\"],[0.5555555555555556,\"#d8576b\"],[0.6666666666666666,\"#ed7953\"],[0.7777777777777778,\"#fb9f3a\"],[0.8888888888888888,\"#fdca26\"],[1.0,\"#f0f921\"]],\"type\":\"heatmapgl\"}],\"heatmap\":[{\"colorbar\":{\"outlinewidth\":0,\"ticks\":\"\"},\"colorscale\":[[0.0,\"#0d0887\"],[0.1111111111111111,\"#46039f\"],[0.2222222222222222,\"#7201a8\"],[0.3333333333333333,\"#9c179e\"],[0.4444444444444444,\"#bd3786\"],[0.5555555555555556,\"#d8576b\"],[0.6666666666666666,\"#ed7953\"],[0.7777777777777778,\"#fb9f3a\"],[0.8888888888888888,\"#fdca26\"],[1.0,\"#f0f921\"]],\"type\":\"heatmap\"}],\"histogram2dcontour\":[{\"colorbar\":{\"outlinewidth\":0,\"ticks\":\"\"},\"colorscale\":[[0.0,\"#0d0887\"],[0.1111111111111111,\"#46039f\"],[0.2222222222222222,\"#7201a8\"],[0.3333333333333333,\"#9c179e\"],[0.4444444444444444,\"#bd3786\"],[0.5555555555555556,\"#d8576b\"],[0.6666666666666666,\"#ed7953\"],[0.7777777777777778,\"#fb9f3a\"],[0.8888888888888888,\"#fdca26\"],[1.0,\"#f0f921\"]],\"type\":\"histogram2dcontour\"}],\"histogram2d\":[{\"colorbar\":{\"outlinewidth\":0,\"ticks\":\"\"},\"colorscale\":[[0.0,\"#0d0887\"],[0.1111111111111111,\"#46039f\"],[0.2222222222222222,\"#7201a8\"],[0.3333333333333333,\"#9c179e\"],[0.4444444444444444,\"#bd3786\"],[0.5555555555555556,\"#d8576b\"],[0.6666666666666666,\"#ed7953\"],[0.7777777777777778,\"#fb9f3a\"],[0.8888888888888888,\"#fdca26\"],[1.0,\"#f0f921\"]],\"type\":\"histogram2d\"}],\"histogram\":[{\"marker\":{\"pattern\":{\"fillmode\":\"overlay\",\"size\":10,\"solidity\":0.2}},\"type\":\"histogram\"}],\"mesh3d\":[{\"colorbar\":{\"outlinewidth\":0,\"ticks\":\"\"},\"type\":\"mesh3d\"}],\"parcoords\":[{\"line\":{\"colorbar\":{\"outlinewidth\":0,\"ticks\":\"\"}},\"type\":\"parcoords\"}],\"pie\":[{\"automargin\":true,\"type\":\"pie\"}],\"scatter3d\":[{\"line\":{\"colorbar\":{\"outlinewidth\":0,\"ticks\":\"\"}},\"marker\":{\"colorbar\":{\"outlinewidth\":0,\"ticks\":\"\"}},\"type\":\"scatter3d\"}],\"scattercarpet\":[{\"marker\":{\"colorbar\":{\"outlinewidth\":0,\"ticks\":\"\"}},\"type\":\"scattercarpet\"}],\"scattergeo\":[{\"marker\":{\"colorbar\":{\"outlinewidth\":0,\"ticks\":\"\"}},\"type\":\"scattergeo\"}],\"scattergl\":[{\"marker\":{\"colorbar\":{\"outlinewidth\":0,\"ticks\":\"\"}},\"type\":\"scattergl\"}],\"scattermapbox\":[{\"marker\":{\"colorbar\":{\"outlinewidth\":0,\"ticks\":\"\"}},\"type\":\"scattermapbox\"}],\"scatterpolargl\":[{\"marker\":{\"colorbar\":{\"outlinewidth\":0,\"ticks\":\"\"}},\"type\":\"scatterpolargl\"}],\"scatterpolar\":[{\"marker\":{\"colorbar\":{\"outlinewidth\":0,\"ticks\":\"\"}},\"type\":\"scatterpolar\"}],\"scatter\":[{\"fillpattern\":{\"fillmode\":\"overlay\",\"size\":10,\"solidity\":0.2},\"type\":\"scatter\"}],\"scatterternary\":[{\"marker\":{\"colorbar\":{\"outlinewidth\":0,\"ticks\":\"\"}},\"type\":\"scatterternary\"}],\"surface\":[{\"colorbar\":{\"outlinewidth\":0,\"ticks\":\"\"},\"colorscale\":[[0.0,\"#0d0887\"],[0.1111111111111111,\"#46039f\"],[0.2222222222222222,\"#7201a8\"],[0.3333333333333333,\"#9c179e\"],[0.4444444444444444,\"#bd3786\"],[0.5555555555555556,\"#d8576b\"],[0.6666666666666666,\"#ed7953\"],[0.7777777777777778,\"#fb9f3a\"],[0.8888888888888888,\"#fdca26\"],[1.0,\"#f0f921\"]],\"type\":\"surface\"}],\"table\":[{\"cells\":{\"fill\":{\"color\":\"#EBF0F8\"},\"line\":{\"color\":\"white\"}},\"header\":{\"fill\":{\"color\":\"#C8D4E3\"},\"line\":{\"color\":\"white\"}},\"type\":\"table\"}]},\"layout\":{\"annotationdefaults\":{\"arrowcolor\":\"#2a3f5f\",\"arrowhead\":0,\"arrowwidth\":1},\"autotypenumbers\":\"strict\",\"coloraxis\":{\"colorbar\":{\"outlinewidth\":0,\"ticks\":\"\"}},\"colorscale\":{\"diverging\":[[0,\"#8e0152\"],[0.1,\"#c51b7d\"],[0.2,\"#de77ae\"],[0.3,\"#f1b6da\"],[0.4,\"#fde0ef\"],[0.5,\"#f7f7f7\"],[0.6,\"#e6f5d0\"],[0.7,\"#b8e186\"],[0.8,\"#7fbc41\"],[0.9,\"#4d9221\"],[1,\"#276419\"]],\"sequential\":[[0.0,\"#0d0887\"],[0.1111111111111111,\"#46039f\"],[0.2222222222222222,\"#7201a8\"],[0.3333333333333333,\"#9c179e\"],[0.4444444444444444,\"#bd3786\"],[0.5555555555555556,\"#d8576b\"],[0.6666666666666666,\"#ed7953\"],[0.7777777777777778,\"#fb9f3a\"],[0.8888888888888888,\"#fdca26\"],[1.0,\"#f0f921\"]],\"sequentialminus\":[[0.0,\"#0d0887\"],[0.1111111111111111,\"#46039f\"],[0.2222222222222222,\"#7201a8\"],[0.3333333333333333,\"#9c179e\"],[0.4444444444444444,\"#bd3786\"],[0.5555555555555556,\"#d8576b\"],[0.6666666666666666,\"#ed7953\"],[0.7777777777777778,\"#fb9f3a\"],[0.8888888888888888,\"#fdca26\"],[1.0,\"#f0f921\"]]},\"colorway\":[\"#636efa\",\"#EF553B\",\"#00cc96\",\"#ab63fa\",\"#FFA15A\",\"#19d3f3\",\"#FF6692\",\"#B6E880\",\"#FF97FF\",\"#FECB52\"],\"font\":{\"color\":\"#2a3f5f\"},\"geo\":{\"bgcolor\":\"white\",\"lakecolor\":\"white\",\"landcolor\":\"white\",\"showlakes\":true,\"showland\":true,\"subunitcolor\":\"#C8D4E3\"},\"hoverlabel\":{\"align\":\"left\"},\"hovermode\":\"closest\",\"mapbox\":{\"style\":\"light\"},\"paper_bgcolor\":\"white\",\"plot_bgcolor\":\"white\",\"polar\":{\"angularaxis\":{\"gridcolor\":\"#EBF0F8\",\"linecolor\":\"#EBF0F8\",\"ticks\":\"\"},\"bgcolor\":\"white\",\"radialaxis\":{\"gridcolor\":\"#EBF0F8\",\"linecolor\":\"#EBF0F8\",\"ticks\":\"\"}},\"scene\":{\"xaxis\":{\"backgroundcolor\":\"white\",\"gridcolor\":\"#DFE8F3\",\"gridwidth\":2,\"linecolor\":\"#EBF0F8\",\"showbackground\":true,\"ticks\":\"\",\"zerolinecolor\":\"#EBF0F8\"},\"yaxis\":{\"backgroundcolor\":\"white\",\"gridcolor\":\"#DFE8F3\",\"gridwidth\":2,\"linecolor\":\"#EBF0F8\",\"showbackground\":true,\"ticks\":\"\",\"zerolinecolor\":\"#EBF0F8\"},\"zaxis\":{\"backgroundcolor\":\"white\",\"gridcolor\":\"#DFE8F3\",\"gridwidth\":2,\"linecolor\":\"#EBF0F8\",\"showbackground\":true,\"ticks\":\"\",\"zerolinecolor\":\"#EBF0F8\"}},\"shapedefaults\":{\"line\":{\"color\":\"#2a3f5f\"}},\"ternary\":{\"aaxis\":{\"gridcolor\":\"#DFE8F3\",\"linecolor\":\"#A2B1C6\",\"ticks\":\"\"},\"baxis\":{\"gridcolor\":\"#DFE8F3\",\"linecolor\":\"#A2B1C6\",\"ticks\":\"\"},\"bgcolor\":\"white\",\"caxis\":{\"gridcolor\":\"#DFE8F3\",\"linecolor\":\"#A2B1C6\",\"ticks\":\"\"}},\"title\":{\"x\":0.05},\"xaxis\":{\"automargin\":true,\"gridcolor\":\"#EBF0F8\",\"linecolor\":\"#EBF0F8\",\"ticks\":\"\",\"title\":{\"standoff\":15},\"zerolinecolor\":\"#EBF0F8\",\"zerolinewidth\":2},\"yaxis\":{\"automargin\":true,\"gridcolor\":\"#EBF0F8\",\"linecolor\":\"#EBF0F8\",\"ticks\":\"\",\"title\":{\"standoff\":15},\"zerolinecolor\":\"#EBF0F8\",\"zerolinewidth\":2}}},\"xaxis\":{\"anchor\":\"y\",\"domain\":[0.0,1.0],\"title\":{\"text\":\"ano\"},\"tickmode\":\"auto\",\"tick0\":2008,\"dtick\":1},\"yaxis\":{\"anchor\":\"x\",\"domain\":[0.0,0.144],\"title\":{\"text\":\"value\"}},\"xaxis2\":{\"anchor\":\"y2\",\"domain\":[0.0,1.0],\"matches\":\"x\",\"showticklabels\":false},\"yaxis2\":{\"anchor\":\"x2\",\"domain\":[0.214,0.358],\"matches\":\"y\",\"title\":{\"text\":\"value\"}},\"xaxis3\":{\"anchor\":\"y3\",\"domain\":[0.0,1.0],\"matches\":\"x\",\"showticklabels\":false},\"yaxis3\":{\"anchor\":\"x3\",\"domain\":[0.428,0.572],\"matches\":\"y\",\"title\":{\"text\":\"value\"}},\"xaxis4\":{\"anchor\":\"y4\",\"domain\":[0.0,1.0],\"matches\":\"x\",\"showticklabels\":false},\"yaxis4\":{\"anchor\":\"x4\",\"domain\":[0.6419999999999999,0.7859999999999999],\"matches\":\"y\",\"title\":{\"text\":\"value\"}},\"xaxis5\":{\"anchor\":\"y5\",\"domain\":[0.0,1.0],\"matches\":\"x\",\"showticklabels\":false},\"yaxis5\":{\"anchor\":\"x5\",\"domain\":[0.856,1.0],\"matches\":\"y\",\"title\":{\"text\":\"value\"}},\"annotations\":[{\"font\":{},\"showarrow\":false,\"text\":\"regiao_nome=SUL\",\"x\":0.5,\"xanchor\":\"center\",\"xref\":\"paper\",\"y\":0.144,\"yanchor\":\"bottom\",\"yref\":\"paper\"},{\"font\":{},\"showarrow\":false,\"text\":\"regiao_nome=SUDESTE\",\"x\":0.5,\"xanchor\":\"center\",\"xref\":\"paper\",\"y\":0.358,\"yanchor\":\"bottom\",\"yref\":\"paper\"},{\"font\":{},\"showarrow\":false,\"text\":\"regiao_nome=NORTE\",\"x\":0.5,\"xanchor\":\"center\",\"xref\":\"paper\",\"y\":0.572,\"yanchor\":\"bottom\",\"yref\":\"paper\"},{\"font\":{},\"showarrow\":false,\"text\":\"regiao_nome=NORDESTE\",\"x\":0.5,\"xanchor\":\"center\",\"xref\":\"paper\",\"y\":0.7859999999999999,\"yanchor\":\"bottom\",\"yref\":\"paper\"},{\"font\":{},\"showarrow\":false,\"text\":\"regiao_nome=CENTRO-OESTE\",\"x\":0.5,\"xanchor\":\"center\",\"xref\":\"paper\",\"y\":1.0,\"yanchor\":\"bottom\",\"yref\":\"paper\"}],\"legend\":{\"title\":{\"text\":\"variable\"},\"tracegroupgap\":0},\"margin\":{\"t\":60},\"height\":1000,\"showlegend\":false,\"title\":{\"text\":\"N\\u00famero de procedimentos por regi\\u00e3o entre 2008 a 2023\"}},                        {\"responsive\": true}                    ).then(function(){\n                            \nvar gd = document.getElementById('53c83934-2044-4cf6-866e-8885e861ac83');\nvar x = new MutationObserver(function (mutations, observer) {{\n        var display = window.getComputedStyle(gd).display;\n        if (!display || display === 'none') {{\n            console.log([gd, 'removed!']);\n            Plotly.purge(gd);\n            observer.disconnect();\n        }}\n}});\n\n// Listen for the removal of the full notebook cells\nvar notebookContainer = gd.closest('#notebook-container');\nif (notebookContainer) {{\n    x.observe(notebookContainer, {childList: true});\n}}\n\n// Listen for the clearing of the current output cell\nvar outputEl = gd.closest('.output');\nif (outputEl) {{\n    x.observe(outputEl, {childList: true});\n}}\n\n                        })                };                });            </script>        </div>"
     },
     "metadata": {},
     "output_type": "display_data"
    }
   ],
   "source": [
    "padrao_cirurgia_qtd = r'regiao_nome|^cirurgia_.*_qtd$|cirurgia.*_qtd$|bucomaxilofacial_qtd$'\n",
    "padrao_proced_qtd = r'regiao_nome|^procedimentos_.*_qtd$'\n",
    "padrao_transplante_qtd = r'regiao_nome|^transplante.*_qtd$|pos_transplante.*_qtd$'\n",
    "padrao_medicamentos_qtd = r'regiao_nome|medicamentos.*_qtd$|medicamentos_.*_qtd'\n",
    "padrao_proteses_qtd = r'regiao_nome|proteses_.*_qtd$'\n",
    "padrao_acoes_saude_qtd = r'regiao_nome|^acoes_.*_qtd$'\n",
    "padrao_consultas_tratamentos_terapias_qtd = r'regiao_nome|^consultas.*_qtd$|^tratamentos_.*_qtd$|^tratamento_.*_qtd$|terapia.*_qtd$'\n",
    "padrao_parto_nascimento_qtd = r'regiao_nome$|parto_.*_qtd$'\n",
    "padrao_coleta_diagnostico_qtd = r'regiao_nome|^coleta.*_qtd$|^diagnostico_.*_qtd$'\n",
    "padrao_qtd = r'regiao_nome|_qtd$'\n",
    "fig = px.area(df_datasus_agrupado_ano_regiao.filter(regex=padrao_acoes_saude_qtd),\n",
    "              facet_col_wrap=1,\n",
    "              color='variable',\n",
    "              height=1000,\n",
    "              facet_col=\"regiao_nome\")\n",
    "\n",
    "# fig.add_vrect(x0=2022, x1=2023, col=1, annotation_text=\"Aumento\", annotation_position=\"top left\",\n",
    "#               fillcolor=\"green\", opacity=0.15, line_width=0)\n",
    "# \n",
    "# fig.add_vrect(x0=2019, x1=2022, col=1, annotation_text=\"pandemia\", annotation_position=\"top left\",\n",
    "#               fillcolor=\"black\", opacity=0.15, line_width=0)\n",
    "\n",
    "\n",
    "# fig.update_yaxes(title_text='<b>Quantidade')\n",
    "# fig.update_xaxes(title_text='<b>Ano')\n",
    "fig.update_layout(template='plotly_white', title='Número de procedimentos por região entre 2008 a 2023', xaxis = dict(\n",
    "        tickmode = 'auto',\n",
    "        tick0 = 2008,\n",
    "        dtick = 1\n",
    "    ))\n",
    "fig.show()"
   ],
   "metadata": {
    "collapsed": false,
    "ExecuteTime": {
     "end_time": "2024-03-05T23:47:31.277183Z",
     "start_time": "2024-03-05T23:47:31.178524Z"
    }
   },
   "id": "e2181dbdcdd9e614",
   "execution_count": 61
  },
  {
   "cell_type": "code",
   "outputs": [
    {
     "data": {
      "text/plain": "       regiao_nome  procedimentos_com_finalidade_diagnostica_val  \\\nano                                                                \n2008  CENTRO-OESTE                                  1.185461e+07   \n2008      NORDESTE                                  2.759200e+07   \n2008         NORTE                                  7.738389e+06   \n2008       SUDESTE                                  1.050679e+08   \n2008           SUL                                  6.046986e+07   \n...            ...                                           ...   \n2023  CENTRO-OESTE                                  7.610077e+07   \n2023      NORDESTE                                  1.769787e+08   \n2023         NORTE                                  3.898947e+07   \n2023       SUDESTE                                  4.798486e+08   \n2023           SUL                                  2.712900e+08   \n\n      procedimentos_clinicos_val  procedimentos_cirurgicos_val  \\\nano                                                              \n2008                2.531055e+08                  1.715557e+08   \n2008                8.958544e+08                  6.152951e+08   \n2008                2.508618e+08                  1.594219e+08   \n2008                1.383614e+09                  1.015540e+09   \n2008                5.390746e+08                  4.621672e+08   \n...                          ...                           ...   \n2023                3.260726e+08                  4.973195e+08   \n2023                1.125401e+09                  1.708378e+09   \n2023                3.137433e+08                  4.272674e+08   \n2023                1.830989e+09                  2.709615e+09   \n2023                8.006659e+08                  1.373988e+09   \n\n      transplantes_de_orgaos_tecidos_e_celulas_val  medicamentos_val  \\\nano                                                                    \n2008                                  5.185894e+06        1979645.15   \n2008                                  2.907539e+07        5146141.47   \n2008                                  1.006948e+06        1432633.78   \n2008                                  1.156452e+08       20822357.03   \n2008                                  4.821394e+07        8820304.45   \n...                                            ...               ...   \n2023                                  2.975284e+07        4927613.39   \n2023                                  1.197481e+08       16728511.92   \n2023                                  7.007680e+06        3674897.76   \n2023                                  3.848555e+08       58730092.88   \n2023                                  1.922964e+08       21112699.34   \n\n      orteses_proteses_e_materiais_especiais_val  \\\nano                                                \n2008                                5.131897e+07   \n2008                                1.173281e+08   \n2008                                2.229142e+07   \n2008                                3.627313e+08   \n2008                                2.056595e+08   \n...                                          ...   \n2023                                1.269413e+08   \n2023                                2.832263e+08   \n2023                                5.060501e+07   \n2023                                7.245372e+08   \n2023                                4.160250e+08   \n\n      acoes_complementares_da_atencao_a_saude_val  coleta_de_material_val  \\\nano                                                                         \n2008                                 9.773928e+07               695993.63   \n2008                                 2.257958e+08              2934247.04   \n2008                                 6.287091e+07               177611.83   \n2008                                 6.450164e+08              2531018.21   \n2008                                 2.987631e+08              2221510.19   \n...                                           ...                     ...   \n2023                                 4.466010e+08               593175.81   \n2023                                 1.294411e+09              1496216.57   \n2023                                 3.417011e+08               232237.83   \n2023                                 2.739722e+09              4675549.27   \n2023                                 1.118046e+09              2252865.19   \n\n      diagnostico_em_laboratorio_clinico_val  ...  \\\nano                                           ...   \n2008                                52260.00  ...   \n2008                               172490.00  ...   \n2008                                32440.00  ...   \n2008                               450457.00  ...   \n2008                               120700.00  ...   \n...                                      ...  ...   \n2023                               610154.67  ...   \n2023                               887344.38  ...   \n2023                               338500.86  ...   \n2023                              4609331.29  ...   \n2023                              3272985.63  ...   \n\n      avaliacao_de_morte_encefalica_val  \\\nano                                       \n2008                            19695.0   \n2008                            27305.0   \n2008                             1020.0   \n2008                           270415.0   \n2008                            77285.0   \n...                                 ...   \n2023                            92775.0   \n2023                           348160.0   \n2023                            47515.0   \n2023                           582765.0   \n2023                           444125.0   \n\n      acoes_relacionadas_a_doacao_de_orgaos_e_tecidos_para_transplante_val  \\\nano                                                                          \n2008                                          344271.77                      \n2008                                         1056534.57                      \n2008                                           60225.37                      \n2008                                         7016386.11                      \n2008                                         2447525.43                      \n...                                                 ...                      \n2023                                         1926132.50                      \n2023                                         6230973.67                      \n2023                                          715848.69                      \n2023                                        17815685.31                      \n2023                                        11397520.94                      \n\n      processamento_de_tecidos_para_transplante_val  \\\nano                                                   \n2008                                            0.0   \n2008                                            0.0   \n2008                                            0.0   \n2008                                        78533.2   \n2008                                       616872.6   \n...                                             ...   \n2023                                       180295.2   \n2023                                       580431.6   \n2023                                       226562.4   \n2023                                       459495.8   \n2023                                      1059810.6   \n\n      transplante_de_orgaos_tecidos_e_celulas_val  \\\nano                                                 \n2008                                 4.205602e+06   \n2008                                 2.532196e+07   \n2008                                 5.959077e+05   \n2008                                 9.808863e+07   \n2008                                 3.933763e+07   \n...                                           ...   \n2023                                 2.453121e+07   \n2023                                 9.935904e+07   \n2023                                 5.312880e+06   \n2023                                 3.175484e+08   \n2023                                 1.593487e+08   \n\n      acompanhamento_e_intercorrencias_no_pre_e_pos_transplante_val  \\\nano                                                                   \n2008                                          590903.08               \n2008                                         2509655.64               \n2008                                          339626.38               \n2008                                         9569992.44               \n2008                                         5427873.81               \n...                                                 ...               \n2023                                         2559484.11               \n2023                                        11168043.24               \n2023                                          560377.74               \n2023                                        41889782.08               \n2023                                        17290516.19               \n\n      medicamentos_de_ambito_hospitalar_e_urgencia_val  \\\nano                                                      \n2008                                        1979645.15   \n2008                                        5146141.47   \n2008                                        1432633.78   \n2008                                       20822357.03   \n2008                                        8820304.45   \n...                                                ...   \n2023                                        4927613.39   \n2023                                       16728511.92   \n2023                                        3674897.76   \n2023                                       58730092.88   \n2023                                       21112699.34   \n\n      orteses_proteses_e_materiais_especiais_relacionados_ao_ato_cirurgico_val  \\\nano                                                                              \n2008                                       5.131897e+07                          \n2008                                       1.173281e+08                          \n2008                                       2.229142e+07                          \n2008                                       3.627313e+08                          \n2008                                       2.056595e+08                          \n...                                                 ...                          \n2023                                       1.269413e+08                          \n2023                                       2.832263e+08                          \n2023                                       5.060501e+07                          \n2023                                       7.245372e+08                          \n2023                                       4.160250e+08                          \n\n      acoes_relacionadas_ao_estabelecimento_val  \\\nano                                               \n2008                                 2001235.00   \n2008                                 5435755.00   \n2008                                 2131355.75   \n2008                                 9342757.50   \n2008                                 4560723.00   \n...                                         ...   \n2023                                  660787.50   \n2023                                 1766875.00   \n2023                                  399210.00   \n2023                                 4877690.25   \n2023                                 2474222.00   \n\n      acoes_relacionadas_ao_atendimento_val  tratamentos_odontologicos_val  \nano                                                                         \n2008                           9.573805e+07                           0.00  \n2008                           2.203600e+08                           0.00  \n2008                           6.073955e+07                           0.00  \n2008                           6.356737e+08                           0.00  \n2008                           2.942023e+08                           0.00  \n...                                     ...                            ...  \n2023                           4.459402e+08                        2404.35  \n2023                           1.292644e+09                       12035.11  \n2023                           3.413019e+08                         823.47  \n2023                           2.734844e+09                        8494.73  \n2023                           1.115572e+09                        1742.93  \n\n[80 rows x 58 columns]",
      "text/html": "<div>\n<style scoped>\n    .dataframe tbody tr th:only-of-type {\n        vertical-align: middle;\n    }\n\n    .dataframe tbody tr th {\n        vertical-align: top;\n    }\n\n    .dataframe thead th {\n        text-align: right;\n    }\n</style>\n<table border=\"1\" class=\"dataframe\">\n  <thead>\n    <tr style=\"text-align: right;\">\n      <th></th>\n      <th>regiao_nome</th>\n      <th>procedimentos_com_finalidade_diagnostica_val</th>\n      <th>procedimentos_clinicos_val</th>\n      <th>procedimentos_cirurgicos_val</th>\n      <th>transplantes_de_orgaos_tecidos_e_celulas_val</th>\n      <th>medicamentos_val</th>\n      <th>orteses_proteses_e_materiais_especiais_val</th>\n      <th>acoes_complementares_da_atencao_a_saude_val</th>\n      <th>coleta_de_material_val</th>\n      <th>diagnostico_em_laboratorio_clinico_val</th>\n      <th>...</th>\n      <th>avaliacao_de_morte_encefalica_val</th>\n      <th>acoes_relacionadas_a_doacao_de_orgaos_e_tecidos_para_transplante_val</th>\n      <th>processamento_de_tecidos_para_transplante_val</th>\n      <th>transplante_de_orgaos_tecidos_e_celulas_val</th>\n      <th>acompanhamento_e_intercorrencias_no_pre_e_pos_transplante_val</th>\n      <th>medicamentos_de_ambito_hospitalar_e_urgencia_val</th>\n      <th>orteses_proteses_e_materiais_especiais_relacionados_ao_ato_cirurgico_val</th>\n      <th>acoes_relacionadas_ao_estabelecimento_val</th>\n      <th>acoes_relacionadas_ao_atendimento_val</th>\n      <th>tratamentos_odontologicos_val</th>\n    </tr>\n    <tr>\n      <th>ano</th>\n      <th></th>\n      <th></th>\n      <th></th>\n      <th></th>\n      <th></th>\n      <th></th>\n      <th></th>\n      <th></th>\n      <th></th>\n      <th></th>\n      <th></th>\n      <th></th>\n      <th></th>\n      <th></th>\n      <th></th>\n      <th></th>\n      <th></th>\n      <th></th>\n      <th></th>\n      <th></th>\n      <th></th>\n    </tr>\n  </thead>\n  <tbody>\n    <tr>\n      <th>2008</th>\n      <td>CENTRO-OESTE</td>\n      <td>1.185461e+07</td>\n      <td>2.531055e+08</td>\n      <td>1.715557e+08</td>\n      <td>5.185894e+06</td>\n      <td>1979645.15</td>\n      <td>5.131897e+07</td>\n      <td>9.773928e+07</td>\n      <td>695993.63</td>\n      <td>52260.00</td>\n      <td>...</td>\n      <td>19695.0</td>\n      <td>344271.77</td>\n      <td>0.0</td>\n      <td>4.205602e+06</td>\n      <td>590903.08</td>\n      <td>1979645.15</td>\n      <td>5.131897e+07</td>\n      <td>2001235.00</td>\n      <td>9.573805e+07</td>\n      <td>0.00</td>\n    </tr>\n    <tr>\n      <th>2008</th>\n      <td>NORDESTE</td>\n      <td>2.759200e+07</td>\n      <td>8.958544e+08</td>\n      <td>6.152951e+08</td>\n      <td>2.907539e+07</td>\n      <td>5146141.47</td>\n      <td>1.173281e+08</td>\n      <td>2.257958e+08</td>\n      <td>2934247.04</td>\n      <td>172490.00</td>\n      <td>...</td>\n      <td>27305.0</td>\n      <td>1056534.57</td>\n      <td>0.0</td>\n      <td>2.532196e+07</td>\n      <td>2509655.64</td>\n      <td>5146141.47</td>\n      <td>1.173281e+08</td>\n      <td>5435755.00</td>\n      <td>2.203600e+08</td>\n      <td>0.00</td>\n    </tr>\n    <tr>\n      <th>2008</th>\n      <td>NORTE</td>\n      <td>7.738389e+06</td>\n      <td>2.508618e+08</td>\n      <td>1.594219e+08</td>\n      <td>1.006948e+06</td>\n      <td>1432633.78</td>\n      <td>2.229142e+07</td>\n      <td>6.287091e+07</td>\n      <td>177611.83</td>\n      <td>32440.00</td>\n      <td>...</td>\n      <td>1020.0</td>\n      <td>60225.37</td>\n      <td>0.0</td>\n      <td>5.959077e+05</td>\n      <td>339626.38</td>\n      <td>1432633.78</td>\n      <td>2.229142e+07</td>\n      <td>2131355.75</td>\n      <td>6.073955e+07</td>\n      <td>0.00</td>\n    </tr>\n    <tr>\n      <th>2008</th>\n      <td>SUDESTE</td>\n      <td>1.050679e+08</td>\n      <td>1.383614e+09</td>\n      <td>1.015540e+09</td>\n      <td>1.156452e+08</td>\n      <td>20822357.03</td>\n      <td>3.627313e+08</td>\n      <td>6.450164e+08</td>\n      <td>2531018.21</td>\n      <td>450457.00</td>\n      <td>...</td>\n      <td>270415.0</td>\n      <td>7016386.11</td>\n      <td>78533.2</td>\n      <td>9.808863e+07</td>\n      <td>9569992.44</td>\n      <td>20822357.03</td>\n      <td>3.627313e+08</td>\n      <td>9342757.50</td>\n      <td>6.356737e+08</td>\n      <td>0.00</td>\n    </tr>\n    <tr>\n      <th>2008</th>\n      <td>SUL</td>\n      <td>6.046986e+07</td>\n      <td>5.390746e+08</td>\n      <td>4.621672e+08</td>\n      <td>4.821394e+07</td>\n      <td>8820304.45</td>\n      <td>2.056595e+08</td>\n      <td>2.987631e+08</td>\n      <td>2221510.19</td>\n      <td>120700.00</td>\n      <td>...</td>\n      <td>77285.0</td>\n      <td>2447525.43</td>\n      <td>616872.6</td>\n      <td>3.933763e+07</td>\n      <td>5427873.81</td>\n      <td>8820304.45</td>\n      <td>2.056595e+08</td>\n      <td>4560723.00</td>\n      <td>2.942023e+08</td>\n      <td>0.00</td>\n    </tr>\n    <tr>\n      <th>...</th>\n      <td>...</td>\n      <td>...</td>\n      <td>...</td>\n      <td>...</td>\n      <td>...</td>\n      <td>...</td>\n      <td>...</td>\n      <td>...</td>\n      <td>...</td>\n      <td>...</td>\n      <td>...</td>\n      <td>...</td>\n      <td>...</td>\n      <td>...</td>\n      <td>...</td>\n      <td>...</td>\n      <td>...</td>\n      <td>...</td>\n      <td>...</td>\n      <td>...</td>\n      <td>...</td>\n    </tr>\n    <tr>\n      <th>2023</th>\n      <td>CENTRO-OESTE</td>\n      <td>7.610077e+07</td>\n      <td>3.260726e+08</td>\n      <td>4.973195e+08</td>\n      <td>2.975284e+07</td>\n      <td>4927613.39</td>\n      <td>1.269413e+08</td>\n      <td>4.466010e+08</td>\n      <td>593175.81</td>\n      <td>610154.67</td>\n      <td>...</td>\n      <td>92775.0</td>\n      <td>1926132.50</td>\n      <td>180295.2</td>\n      <td>2.453121e+07</td>\n      <td>2559484.11</td>\n      <td>4927613.39</td>\n      <td>1.269413e+08</td>\n      <td>660787.50</td>\n      <td>4.459402e+08</td>\n      <td>2404.35</td>\n    </tr>\n    <tr>\n      <th>2023</th>\n      <td>NORDESTE</td>\n      <td>1.769787e+08</td>\n      <td>1.125401e+09</td>\n      <td>1.708378e+09</td>\n      <td>1.197481e+08</td>\n      <td>16728511.92</td>\n      <td>2.832263e+08</td>\n      <td>1.294411e+09</td>\n      <td>1496216.57</td>\n      <td>887344.38</td>\n      <td>...</td>\n      <td>348160.0</td>\n      <td>6230973.67</td>\n      <td>580431.6</td>\n      <td>9.935904e+07</td>\n      <td>11168043.24</td>\n      <td>16728511.92</td>\n      <td>2.832263e+08</td>\n      <td>1766875.00</td>\n      <td>1.292644e+09</td>\n      <td>12035.11</td>\n    </tr>\n    <tr>\n      <th>2023</th>\n      <td>NORTE</td>\n      <td>3.898947e+07</td>\n      <td>3.137433e+08</td>\n      <td>4.272674e+08</td>\n      <td>7.007680e+06</td>\n      <td>3674897.76</td>\n      <td>5.060501e+07</td>\n      <td>3.417011e+08</td>\n      <td>232237.83</td>\n      <td>338500.86</td>\n      <td>...</td>\n      <td>47515.0</td>\n      <td>715848.69</td>\n      <td>226562.4</td>\n      <td>5.312880e+06</td>\n      <td>560377.74</td>\n      <td>3674897.76</td>\n      <td>5.060501e+07</td>\n      <td>399210.00</td>\n      <td>3.413019e+08</td>\n      <td>823.47</td>\n    </tr>\n    <tr>\n      <th>2023</th>\n      <td>SUDESTE</td>\n      <td>4.798486e+08</td>\n      <td>1.830989e+09</td>\n      <td>2.709615e+09</td>\n      <td>3.848555e+08</td>\n      <td>58730092.88</td>\n      <td>7.245372e+08</td>\n      <td>2.739722e+09</td>\n      <td>4675549.27</td>\n      <td>4609331.29</td>\n      <td>...</td>\n      <td>582765.0</td>\n      <td>17815685.31</td>\n      <td>459495.8</td>\n      <td>3.175484e+08</td>\n      <td>41889782.08</td>\n      <td>58730092.88</td>\n      <td>7.245372e+08</td>\n      <td>4877690.25</td>\n      <td>2.734844e+09</td>\n      <td>8494.73</td>\n    </tr>\n    <tr>\n      <th>2023</th>\n      <td>SUL</td>\n      <td>2.712900e+08</td>\n      <td>8.006659e+08</td>\n      <td>1.373988e+09</td>\n      <td>1.922964e+08</td>\n      <td>21112699.34</td>\n      <td>4.160250e+08</td>\n      <td>1.118046e+09</td>\n      <td>2252865.19</td>\n      <td>3272985.63</td>\n      <td>...</td>\n      <td>444125.0</td>\n      <td>11397520.94</td>\n      <td>1059810.6</td>\n      <td>1.593487e+08</td>\n      <td>17290516.19</td>\n      <td>21112699.34</td>\n      <td>4.160250e+08</td>\n      <td>2474222.00</td>\n      <td>1.115572e+09</td>\n      <td>1742.93</td>\n    </tr>\n  </tbody>\n</table>\n<p>80 rows × 58 columns</p>\n</div>"
     },
     "execution_count": 62,
     "metadata": {},
     "output_type": "execute_result"
    }
   ],
   "source": [
    "df_datasus_agrupado_ano_regiao.filter(regex='_val|regiao_nome')"
   ],
   "metadata": {
    "collapsed": false,
    "ExecuteTime": {
     "end_time": "2024-03-06T00:31:00.245334Z",
     "start_time": "2024-03-06T00:31:00.186222Z"
    }
   },
   "id": "e3911b992678de61",
   "execution_count": 62
  },
  {
   "cell_type": "code",
   "outputs": [
    {
     "data": {
      "text/plain": "       regiao_nome  procedimentos_com_finalidade_diagnostica_qtd  \\\nano                                                                \n2008  CENTRO-OESTE                                       5496733   \n2008      NORDESTE                                      11771365   \n2008         NORTE                                       3862408   \n2008       SUDESTE                                      39301647   \n2008           SUL                                      14515305   \n\n      procedimentos_com_finalidade_diagnostica_val  \\\nano                                                  \n2008                                  1.185461e+07   \n2008                                  2.759200e+07   \n2008                                  7.738389e+06   \n2008                                  1.050679e+08   \n2008                                  6.046986e+07   \n\n      procedimentos_clinicos_qtd  procedimentos_clinicos_val  \\\nano                                                            \n2008                     3896888                2.531055e+08   \n2008                    10058218                8.958544e+08   \n2008                     2762117                2.508618e+08   \n2008                    26955708                1.383614e+09   \n2008                    12040746                5.390746e+08   \n\n      procedimentos_cirurgicos_qtd  procedimentos_cirurgicos_val  \\\nano                                                                \n2008                        297008                  1.715557e+08   \n2008                       1077448                  6.152951e+08   \n2008                        338340                  1.594219e+08   \n2008                       1911740                  1.015540e+09   \n2008                        722071                  4.621672e+08   \n\n      transplantes_de_orgaos_tecidos_e_celulas_qtd  \\\nano                                                  \n2008                                          2619   \n2008                                          8394   \n2008                                           455   \n2008                                         39568   \n2008                                         15181   \n\n      transplantes_de_orgaos_tecidos_e_celulas_val  medicamentos_qtd  ...  \\\nano                                                                   ...   \n2008                                  5.185894e+06             45404  ...   \n2008                                  2.907539e+07            120637  ...   \n2008                                  1.006948e+06             27041  ...   \n2008                                  1.156452e+08            488365  ...   \n2008                                  4.821394e+07            316864  ...   \n\n      medicamentos_de_ambito_hospitalar_e_urgencia_qtd  \\\nano                                                      \n2008                                             45404   \n2008                                            120637   \n2008                                             27041   \n2008                                            488365   \n2008                                            316864   \n\n      medicamentos_de_ambito_hospitalar_e_urgencia_val  \\\nano                                                      \n2008                                        1979645.15   \n2008                                        5146141.47   \n2008                                        1432633.78   \n2008                                       20822357.03   \n2008                                        8820304.45   \n\n      orteses_proteses_e_materiais_especiais_relacionados_ao_ato_cirurgico_qtd  \\\nano                                                                              \n2008                                              73112                          \n2008                                             297168                          \n2008                                              39427                          \n2008                                             569079                          \n2008                                             414762                          \n\n      orteses_proteses_e_materiais_especiais_relacionados_ao_ato_cirurgico_val  \\\nano                                                                              \n2008                                       5.131897e+07                          \n2008                                       1.173281e+08                          \n2008                                       2.229142e+07                          \n2008                                       3.627313e+08                          \n2008                                       2.056595e+08                          \n\n      acoes_relacionadas_ao_estabelecimento_qtd  \\\nano                                               \n2008                                      66312   \n2008                                     164638   \n2008                                      63183   \n2008                                     328461   \n2008                                     147708   \n\n      acoes_relacionadas_ao_estabelecimento_val  \\\nano                                               \n2008                                 2001235.00   \n2008                                 5435755.00   \n2008                                 2131355.75   \n2008                                 9342757.50   \n2008                                 4560723.00   \n\n      acoes_relacionadas_ao_atendimento_qtd  \\\nano                                           \n2008                                1435164   \n2008                                5325115   \n2008                                1483606   \n2008                                8407516   \n2008                                3801598   \n\n      acoes_relacionadas_ao_atendimento_val  tratamentos_odontologicos_qtd  \\\nano                                                                          \n2008                           9.573805e+07                            0.0   \n2008                           2.203600e+08                            0.0   \n2008                           6.073955e+07                            0.0   \n2008                           6.356737e+08                            0.0   \n2008                           2.942023e+08                            0.0   \n\n      tratamentos_odontologicos_val  \nano                                  \n2008                            0.0  \n2008                            0.0  \n2008                            0.0  \n2008                            0.0  \n2008                            0.0  \n\n[5 rows x 115 columns]",
      "text/html": "<div>\n<style scoped>\n    .dataframe tbody tr th:only-of-type {\n        vertical-align: middle;\n    }\n\n    .dataframe tbody tr th {\n        vertical-align: top;\n    }\n\n    .dataframe thead th {\n        text-align: right;\n    }\n</style>\n<table border=\"1\" class=\"dataframe\">\n  <thead>\n    <tr style=\"text-align: right;\">\n      <th></th>\n      <th>regiao_nome</th>\n      <th>procedimentos_com_finalidade_diagnostica_qtd</th>\n      <th>procedimentos_com_finalidade_diagnostica_val</th>\n      <th>procedimentos_clinicos_qtd</th>\n      <th>procedimentos_clinicos_val</th>\n      <th>procedimentos_cirurgicos_qtd</th>\n      <th>procedimentos_cirurgicos_val</th>\n      <th>transplantes_de_orgaos_tecidos_e_celulas_qtd</th>\n      <th>transplantes_de_orgaos_tecidos_e_celulas_val</th>\n      <th>medicamentos_qtd</th>\n      <th>...</th>\n      <th>medicamentos_de_ambito_hospitalar_e_urgencia_qtd</th>\n      <th>medicamentos_de_ambito_hospitalar_e_urgencia_val</th>\n      <th>orteses_proteses_e_materiais_especiais_relacionados_ao_ato_cirurgico_qtd</th>\n      <th>orteses_proteses_e_materiais_especiais_relacionados_ao_ato_cirurgico_val</th>\n      <th>acoes_relacionadas_ao_estabelecimento_qtd</th>\n      <th>acoes_relacionadas_ao_estabelecimento_val</th>\n      <th>acoes_relacionadas_ao_atendimento_qtd</th>\n      <th>acoes_relacionadas_ao_atendimento_val</th>\n      <th>tratamentos_odontologicos_qtd</th>\n      <th>tratamentos_odontologicos_val</th>\n    </tr>\n    <tr>\n      <th>ano</th>\n      <th></th>\n      <th></th>\n      <th></th>\n      <th></th>\n      <th></th>\n      <th></th>\n      <th></th>\n      <th></th>\n      <th></th>\n      <th></th>\n      <th></th>\n      <th></th>\n      <th></th>\n      <th></th>\n      <th></th>\n      <th></th>\n      <th></th>\n      <th></th>\n      <th></th>\n      <th></th>\n      <th></th>\n    </tr>\n  </thead>\n  <tbody>\n    <tr>\n      <th>2008</th>\n      <td>CENTRO-OESTE</td>\n      <td>5496733</td>\n      <td>1.185461e+07</td>\n      <td>3896888</td>\n      <td>2.531055e+08</td>\n      <td>297008</td>\n      <td>1.715557e+08</td>\n      <td>2619</td>\n      <td>5.185894e+06</td>\n      <td>45404</td>\n      <td>...</td>\n      <td>45404</td>\n      <td>1979645.15</td>\n      <td>73112</td>\n      <td>5.131897e+07</td>\n      <td>66312</td>\n      <td>2001235.00</td>\n      <td>1435164</td>\n      <td>9.573805e+07</td>\n      <td>0.0</td>\n      <td>0.0</td>\n    </tr>\n    <tr>\n      <th>2008</th>\n      <td>NORDESTE</td>\n      <td>11771365</td>\n      <td>2.759200e+07</td>\n      <td>10058218</td>\n      <td>8.958544e+08</td>\n      <td>1077448</td>\n      <td>6.152951e+08</td>\n      <td>8394</td>\n      <td>2.907539e+07</td>\n      <td>120637</td>\n      <td>...</td>\n      <td>120637</td>\n      <td>5146141.47</td>\n      <td>297168</td>\n      <td>1.173281e+08</td>\n      <td>164638</td>\n      <td>5435755.00</td>\n      <td>5325115</td>\n      <td>2.203600e+08</td>\n      <td>0.0</td>\n      <td>0.0</td>\n    </tr>\n    <tr>\n      <th>2008</th>\n      <td>NORTE</td>\n      <td>3862408</td>\n      <td>7.738389e+06</td>\n      <td>2762117</td>\n      <td>2.508618e+08</td>\n      <td>338340</td>\n      <td>1.594219e+08</td>\n      <td>455</td>\n      <td>1.006948e+06</td>\n      <td>27041</td>\n      <td>...</td>\n      <td>27041</td>\n      <td>1432633.78</td>\n      <td>39427</td>\n      <td>2.229142e+07</td>\n      <td>63183</td>\n      <td>2131355.75</td>\n      <td>1483606</td>\n      <td>6.073955e+07</td>\n      <td>0.0</td>\n      <td>0.0</td>\n    </tr>\n    <tr>\n      <th>2008</th>\n      <td>SUDESTE</td>\n      <td>39301647</td>\n      <td>1.050679e+08</td>\n      <td>26955708</td>\n      <td>1.383614e+09</td>\n      <td>1911740</td>\n      <td>1.015540e+09</td>\n      <td>39568</td>\n      <td>1.156452e+08</td>\n      <td>488365</td>\n      <td>...</td>\n      <td>488365</td>\n      <td>20822357.03</td>\n      <td>569079</td>\n      <td>3.627313e+08</td>\n      <td>328461</td>\n      <td>9342757.50</td>\n      <td>8407516</td>\n      <td>6.356737e+08</td>\n      <td>0.0</td>\n      <td>0.0</td>\n    </tr>\n    <tr>\n      <th>2008</th>\n      <td>SUL</td>\n      <td>14515305</td>\n      <td>6.046986e+07</td>\n      <td>12040746</td>\n      <td>5.390746e+08</td>\n      <td>722071</td>\n      <td>4.621672e+08</td>\n      <td>15181</td>\n      <td>4.821394e+07</td>\n      <td>316864</td>\n      <td>...</td>\n      <td>316864</td>\n      <td>8820304.45</td>\n      <td>414762</td>\n      <td>2.056595e+08</td>\n      <td>147708</td>\n      <td>4560723.00</td>\n      <td>3801598</td>\n      <td>2.942023e+08</td>\n      <td>0.0</td>\n      <td>0.0</td>\n    </tr>\n  </tbody>\n</table>\n<p>5 rows × 115 columns</p>\n</div>"
     },
     "execution_count": 25,
     "metadata": {},
     "output_type": "execute_result"
    }
   ],
   "source": [
    "df_datasus_agrupado_ano_regiao.head()"
   ],
   "metadata": {
    "collapsed": false,
    "ExecuteTime": {
     "end_time": "2024-03-05T22:49:18.329766Z",
     "start_time": "2024-03-05T22:49:18.313978Z"
    }
   },
   "id": "704c80f08fd69131",
   "execution_count": 25
  },
  {
   "cell_type": "code",
   "outputs": [],
   "source": [
    "df_variable_regiao = df_datasus_agrupado_ano_regiao.filter(regex='regiao_nome$|_qtd$').loc[0:,['regiao_nome','procedimentos_com_finalidade_diagnostica_qtd']]"
   ],
   "metadata": {
    "collapsed": false,
    "ExecuteTime": {
     "end_time": "2024-03-05T23:14:54.076053Z",
     "start_time": "2024-03-05T23:14:54.069427Z"
    }
   },
   "id": "2728c79ef43634f6",
   "execution_count": 46
  },
  {
   "cell_type": "code",
   "outputs": [
    {
     "data": {
      "text/plain": "       regiao_nome  procedimentos_com_finalidade_diagnostica_qtd\nano                                                             \n2008  CENTRO-OESTE                                       5496733\n2008      NORDESTE                                      11771365\n2008         NORTE                                       3862408\n2008       SUDESTE                                      39301647\n2008           SUL                                      14515305",
      "text/html": "<div>\n<style scoped>\n    .dataframe tbody tr th:only-of-type {\n        vertical-align: middle;\n    }\n\n    .dataframe tbody tr th {\n        vertical-align: top;\n    }\n\n    .dataframe thead th {\n        text-align: right;\n    }\n</style>\n<table border=\"1\" class=\"dataframe\">\n  <thead>\n    <tr style=\"text-align: right;\">\n      <th></th>\n      <th>regiao_nome</th>\n      <th>procedimentos_com_finalidade_diagnostica_qtd</th>\n    </tr>\n    <tr>\n      <th>ano</th>\n      <th></th>\n      <th></th>\n    </tr>\n  </thead>\n  <tbody>\n    <tr>\n      <th>2008</th>\n      <td>CENTRO-OESTE</td>\n      <td>5496733</td>\n    </tr>\n    <tr>\n      <th>2008</th>\n      <td>NORDESTE</td>\n      <td>11771365</td>\n    </tr>\n    <tr>\n      <th>2008</th>\n      <td>NORTE</td>\n      <td>3862408</td>\n    </tr>\n    <tr>\n      <th>2008</th>\n      <td>SUDESTE</td>\n      <td>39301647</td>\n    </tr>\n    <tr>\n      <th>2008</th>\n      <td>SUL</td>\n      <td>14515305</td>\n    </tr>\n  </tbody>\n</table>\n</div>"
     },
     "execution_count": 47,
     "metadata": {},
     "output_type": "execute_result"
    }
   ],
   "source": [
    "df_variable_regiao.head()"
   ],
   "metadata": {
    "collapsed": false,
    "ExecuteTime": {
     "end_time": "2024-03-05T23:15:58.442430Z",
     "start_time": "2024-03-05T23:15:58.434727Z"
    }
   },
   "id": "f72e10b5f9788e5a",
   "execution_count": 47
  },
  {
   "cell_type": "code",
   "outputs": [
    {
     "data": {
      "application/vnd.plotly.v1+json": {
       "data": [
        {
         "fillpattern": {
          "shape": ""
         },
         "hovertemplate": "regiao_nome=CENTRO-OESTE<br>ano=%{x}<br>procedimentos_com_finalidade_diagnostica_qtd=%{y}<extra></extra>",
         "legendgroup": "CENTRO-OESTE",
         "line": {
          "color": "#636efa"
         },
         "marker": {
          "symbol": "circle"
         },
         "mode": "lines",
         "name": "CENTRO-OESTE",
         "orientation": "v",
         "showlegend": true,
         "stackgroup": "1",
         "x": [
          2008,
          2009,
          2010,
          2011,
          2012,
          2013,
          2014,
          2015,
          2016,
          2017,
          2018,
          2019,
          2020,
          2021,
          2022,
          2023
         ],
         "xaxis": "x",
         "y": [
          5496733,
          6327868,
          6584016,
          6611571,
          6465390,
          7209758,
          8881931,
          9319926,
          10864821,
          11041879,
          12285913,
          13477153,
          15393224,
          20579099,
          18228491,
          19220796
         ],
         "yaxis": "y",
         "type": "scatter"
        },
        {
         "fillpattern": {
          "shape": ""
         },
         "hovertemplate": "regiao_nome=NORDESTE<br>ano=%{x}<br>procedimentos_com_finalidade_diagnostica_qtd=%{y}<extra></extra>",
         "legendgroup": "NORDESTE",
         "line": {
          "color": "#EF553B"
         },
         "marker": {
          "symbol": "circle"
         },
         "mode": "lines",
         "name": "NORDESTE",
         "orientation": "v",
         "showlegend": true,
         "stackgroup": "1",
         "x": [
          2008,
          2009,
          2010,
          2011,
          2012,
          2013,
          2014,
          2015,
          2016,
          2017,
          2018,
          2019,
          2020,
          2021,
          2022,
          2023
         ],
         "xaxis": "x",
         "y": [
          11771365,
          14235809,
          15798180,
          17314058,
          18950864,
          20753193,
          22525617,
          24086193,
          24430991,
          25306822,
          27090160,
          29690613,
          32893581,
          43817278,
          40652534,
          40689214
         ],
         "yaxis": "y",
         "type": "scatter"
        },
        {
         "fillpattern": {
          "shape": ""
         },
         "hovertemplate": "regiao_nome=NORTE<br>ano=%{x}<br>procedimentos_com_finalidade_diagnostica_qtd=%{y}<extra></extra>",
         "legendgroup": "NORTE",
         "line": {
          "color": "#00cc96"
         },
         "marker": {
          "symbol": "circle"
         },
         "mode": "lines",
         "name": "NORTE",
         "orientation": "v",
         "showlegend": true,
         "stackgroup": "1",
         "x": [
          2008,
          2009,
          2010,
          2011,
          2012,
          2013,
          2014,
          2015,
          2016,
          2017,
          2018,
          2019,
          2020,
          2021,
          2022,
          2023
         ],
         "xaxis": "x",
         "y": [
          3862408,
          4146536,
          4438847,
          4870831,
          4886391,
          5077097,
          5385738,
          6056161,
          6373591,
          7204653,
          7559178,
          8065537,
          9078507,
          11456273,
          10772519,
          10629515
         ],
         "yaxis": "y",
         "type": "scatter"
        },
        {
         "fillpattern": {
          "shape": ""
         },
         "hovertemplate": "regiao_nome=SUDESTE<br>ano=%{x}<br>procedimentos_com_finalidade_diagnostica_qtd=%{y}<extra></extra>",
         "legendgroup": "SUDESTE",
         "line": {
          "color": "#ab63fa"
         },
         "marker": {
          "symbol": "circle"
         },
         "mode": "lines",
         "name": "SUDESTE",
         "orientation": "v",
         "showlegend": true,
         "stackgroup": "1",
         "x": [
          2008,
          2009,
          2010,
          2011,
          2012,
          2013,
          2014,
          2015,
          2016,
          2017,
          2018,
          2019,
          2020,
          2021,
          2022,
          2023
         ],
         "xaxis": "x",
         "y": [
          39301647,
          46308746,
          52228682,
          55924499,
          59023717,
          64661116,
          68749743,
          71740602,
          71939244,
          73671467,
          78061700,
          83178766,
          92950369,
          114677409,
          105388487,
          107208284
         ],
         "yaxis": "y",
         "type": "scatter"
        },
        {
         "fillpattern": {
          "shape": ""
         },
         "hovertemplate": "regiao_nome=SUL<br>ano=%{x}<br>procedimentos_com_finalidade_diagnostica_qtd=%{y}<extra></extra>",
         "legendgroup": "SUL",
         "line": {
          "color": "#FFA15A"
         },
         "marker": {
          "symbol": "circle"
         },
         "mode": "lines",
         "name": "SUL",
         "orientation": "v",
         "showlegend": true,
         "stackgroup": "1",
         "x": [
          2008,
          2009,
          2010,
          2011,
          2012,
          2013,
          2014,
          2015,
          2016,
          2017,
          2018,
          2019,
          2020,
          2021,
          2022,
          2023
         ],
         "xaxis": "x",
         "y": [
          14515305,
          17051522,
          19001875,
          19825151,
          21786534,
          24160161,
          26593571,
          27499555,
          26515880,
          27177994,
          28188557,
          30563380,
          33026300,
          42348787,
          38388209,
          39760310
         ],
         "yaxis": "y",
         "type": "scatter"
        }
       ],
       "layout": {
        "template": {
         "data": {
          "barpolar": [
           {
            "marker": {
             "line": {
              "color": "white",
              "width": 0.5
             },
             "pattern": {
              "fillmode": "overlay",
              "size": 10,
              "solidity": 0.2
             }
            },
            "type": "barpolar"
           }
          ],
          "bar": [
           {
            "error_x": {
             "color": "#2a3f5f"
            },
            "error_y": {
             "color": "#2a3f5f"
            },
            "marker": {
             "line": {
              "color": "white",
              "width": 0.5
             },
             "pattern": {
              "fillmode": "overlay",
              "size": 10,
              "solidity": 0.2
             }
            },
            "type": "bar"
           }
          ],
          "carpet": [
           {
            "aaxis": {
             "endlinecolor": "#2a3f5f",
             "gridcolor": "#C8D4E3",
             "linecolor": "#C8D4E3",
             "minorgridcolor": "#C8D4E3",
             "startlinecolor": "#2a3f5f"
            },
            "baxis": {
             "endlinecolor": "#2a3f5f",
             "gridcolor": "#C8D4E3",
             "linecolor": "#C8D4E3",
             "minorgridcolor": "#C8D4E3",
             "startlinecolor": "#2a3f5f"
            },
            "type": "carpet"
           }
          ],
          "choropleth": [
           {
            "colorbar": {
             "outlinewidth": 0,
             "ticks": ""
            },
            "type": "choropleth"
           }
          ],
          "contourcarpet": [
           {
            "colorbar": {
             "outlinewidth": 0,
             "ticks": ""
            },
            "type": "contourcarpet"
           }
          ],
          "contour": [
           {
            "colorbar": {
             "outlinewidth": 0,
             "ticks": ""
            },
            "colorscale": [
             [
              0.0,
              "#0d0887"
             ],
             [
              0.1111111111111111,
              "#46039f"
             ],
             [
              0.2222222222222222,
              "#7201a8"
             ],
             [
              0.3333333333333333,
              "#9c179e"
             ],
             [
              0.4444444444444444,
              "#bd3786"
             ],
             [
              0.5555555555555556,
              "#d8576b"
             ],
             [
              0.6666666666666666,
              "#ed7953"
             ],
             [
              0.7777777777777778,
              "#fb9f3a"
             ],
             [
              0.8888888888888888,
              "#fdca26"
             ],
             [
              1.0,
              "#f0f921"
             ]
            ],
            "type": "contour"
           }
          ],
          "heatmapgl": [
           {
            "colorbar": {
             "outlinewidth": 0,
             "ticks": ""
            },
            "colorscale": [
             [
              0.0,
              "#0d0887"
             ],
             [
              0.1111111111111111,
              "#46039f"
             ],
             [
              0.2222222222222222,
              "#7201a8"
             ],
             [
              0.3333333333333333,
              "#9c179e"
             ],
             [
              0.4444444444444444,
              "#bd3786"
             ],
             [
              0.5555555555555556,
              "#d8576b"
             ],
             [
              0.6666666666666666,
              "#ed7953"
             ],
             [
              0.7777777777777778,
              "#fb9f3a"
             ],
             [
              0.8888888888888888,
              "#fdca26"
             ],
             [
              1.0,
              "#f0f921"
             ]
            ],
            "type": "heatmapgl"
           }
          ],
          "heatmap": [
           {
            "colorbar": {
             "outlinewidth": 0,
             "ticks": ""
            },
            "colorscale": [
             [
              0.0,
              "#0d0887"
             ],
             [
              0.1111111111111111,
              "#46039f"
             ],
             [
              0.2222222222222222,
              "#7201a8"
             ],
             [
              0.3333333333333333,
              "#9c179e"
             ],
             [
              0.4444444444444444,
              "#bd3786"
             ],
             [
              0.5555555555555556,
              "#d8576b"
             ],
             [
              0.6666666666666666,
              "#ed7953"
             ],
             [
              0.7777777777777778,
              "#fb9f3a"
             ],
             [
              0.8888888888888888,
              "#fdca26"
             ],
             [
              1.0,
              "#f0f921"
             ]
            ],
            "type": "heatmap"
           }
          ],
          "histogram2dcontour": [
           {
            "colorbar": {
             "outlinewidth": 0,
             "ticks": ""
            },
            "colorscale": [
             [
              0.0,
              "#0d0887"
             ],
             [
              0.1111111111111111,
              "#46039f"
             ],
             [
              0.2222222222222222,
              "#7201a8"
             ],
             [
              0.3333333333333333,
              "#9c179e"
             ],
             [
              0.4444444444444444,
              "#bd3786"
             ],
             [
              0.5555555555555556,
              "#d8576b"
             ],
             [
              0.6666666666666666,
              "#ed7953"
             ],
             [
              0.7777777777777778,
              "#fb9f3a"
             ],
             [
              0.8888888888888888,
              "#fdca26"
             ],
             [
              1.0,
              "#f0f921"
             ]
            ],
            "type": "histogram2dcontour"
           }
          ],
          "histogram2d": [
           {
            "colorbar": {
             "outlinewidth": 0,
             "ticks": ""
            },
            "colorscale": [
             [
              0.0,
              "#0d0887"
             ],
             [
              0.1111111111111111,
              "#46039f"
             ],
             [
              0.2222222222222222,
              "#7201a8"
             ],
             [
              0.3333333333333333,
              "#9c179e"
             ],
             [
              0.4444444444444444,
              "#bd3786"
             ],
             [
              0.5555555555555556,
              "#d8576b"
             ],
             [
              0.6666666666666666,
              "#ed7953"
             ],
             [
              0.7777777777777778,
              "#fb9f3a"
             ],
             [
              0.8888888888888888,
              "#fdca26"
             ],
             [
              1.0,
              "#f0f921"
             ]
            ],
            "type": "histogram2d"
           }
          ],
          "histogram": [
           {
            "marker": {
             "pattern": {
              "fillmode": "overlay",
              "size": 10,
              "solidity": 0.2
             }
            },
            "type": "histogram"
           }
          ],
          "mesh3d": [
           {
            "colorbar": {
             "outlinewidth": 0,
             "ticks": ""
            },
            "type": "mesh3d"
           }
          ],
          "parcoords": [
           {
            "line": {
             "colorbar": {
              "outlinewidth": 0,
              "ticks": ""
             }
            },
            "type": "parcoords"
           }
          ],
          "pie": [
           {
            "automargin": true,
            "type": "pie"
           }
          ],
          "scatter3d": [
           {
            "line": {
             "colorbar": {
              "outlinewidth": 0,
              "ticks": ""
             }
            },
            "marker": {
             "colorbar": {
              "outlinewidth": 0,
              "ticks": ""
             }
            },
            "type": "scatter3d"
           }
          ],
          "scattercarpet": [
           {
            "marker": {
             "colorbar": {
              "outlinewidth": 0,
              "ticks": ""
             }
            },
            "type": "scattercarpet"
           }
          ],
          "scattergeo": [
           {
            "marker": {
             "colorbar": {
              "outlinewidth": 0,
              "ticks": ""
             }
            },
            "type": "scattergeo"
           }
          ],
          "scattergl": [
           {
            "marker": {
             "colorbar": {
              "outlinewidth": 0,
              "ticks": ""
             }
            },
            "type": "scattergl"
           }
          ],
          "scattermapbox": [
           {
            "marker": {
             "colorbar": {
              "outlinewidth": 0,
              "ticks": ""
             }
            },
            "type": "scattermapbox"
           }
          ],
          "scatterpolargl": [
           {
            "marker": {
             "colorbar": {
              "outlinewidth": 0,
              "ticks": ""
             }
            },
            "type": "scatterpolargl"
           }
          ],
          "scatterpolar": [
           {
            "marker": {
             "colorbar": {
              "outlinewidth": 0,
              "ticks": ""
             }
            },
            "type": "scatterpolar"
           }
          ],
          "scatter": [
           {
            "fillpattern": {
             "fillmode": "overlay",
             "size": 10,
             "solidity": 0.2
            },
            "type": "scatter"
           }
          ],
          "scatterternary": [
           {
            "marker": {
             "colorbar": {
              "outlinewidth": 0,
              "ticks": ""
             }
            },
            "type": "scatterternary"
           }
          ],
          "surface": [
           {
            "colorbar": {
             "outlinewidth": 0,
             "ticks": ""
            },
            "colorscale": [
             [
              0.0,
              "#0d0887"
             ],
             [
              0.1111111111111111,
              "#46039f"
             ],
             [
              0.2222222222222222,
              "#7201a8"
             ],
             [
              0.3333333333333333,
              "#9c179e"
             ],
             [
              0.4444444444444444,
              "#bd3786"
             ],
             [
              0.5555555555555556,
              "#d8576b"
             ],
             [
              0.6666666666666666,
              "#ed7953"
             ],
             [
              0.7777777777777778,
              "#fb9f3a"
             ],
             [
              0.8888888888888888,
              "#fdca26"
             ],
             [
              1.0,
              "#f0f921"
             ]
            ],
            "type": "surface"
           }
          ],
          "table": [
           {
            "cells": {
             "fill": {
              "color": "#EBF0F8"
             },
             "line": {
              "color": "white"
             }
            },
            "header": {
             "fill": {
              "color": "#C8D4E3"
             },
             "line": {
              "color": "white"
             }
            },
            "type": "table"
           }
          ]
         },
         "layout": {
          "annotationdefaults": {
           "arrowcolor": "#2a3f5f",
           "arrowhead": 0,
           "arrowwidth": 1
          },
          "autotypenumbers": "strict",
          "coloraxis": {
           "colorbar": {
            "outlinewidth": 0,
            "ticks": ""
           }
          },
          "colorscale": {
           "diverging": [
            [
             0,
             "#8e0152"
            ],
            [
             0.1,
             "#c51b7d"
            ],
            [
             0.2,
             "#de77ae"
            ],
            [
             0.3,
             "#f1b6da"
            ],
            [
             0.4,
             "#fde0ef"
            ],
            [
             0.5,
             "#f7f7f7"
            ],
            [
             0.6,
             "#e6f5d0"
            ],
            [
             0.7,
             "#b8e186"
            ],
            [
             0.8,
             "#7fbc41"
            ],
            [
             0.9,
             "#4d9221"
            ],
            [
             1,
             "#276419"
            ]
           ],
           "sequential": [
            [
             0.0,
             "#0d0887"
            ],
            [
             0.1111111111111111,
             "#46039f"
            ],
            [
             0.2222222222222222,
             "#7201a8"
            ],
            [
             0.3333333333333333,
             "#9c179e"
            ],
            [
             0.4444444444444444,
             "#bd3786"
            ],
            [
             0.5555555555555556,
             "#d8576b"
            ],
            [
             0.6666666666666666,
             "#ed7953"
            ],
            [
             0.7777777777777778,
             "#fb9f3a"
            ],
            [
             0.8888888888888888,
             "#fdca26"
            ],
            [
             1.0,
             "#f0f921"
            ]
           ],
           "sequentialminus": [
            [
             0.0,
             "#0d0887"
            ],
            [
             0.1111111111111111,
             "#46039f"
            ],
            [
             0.2222222222222222,
             "#7201a8"
            ],
            [
             0.3333333333333333,
             "#9c179e"
            ],
            [
             0.4444444444444444,
             "#bd3786"
            ],
            [
             0.5555555555555556,
             "#d8576b"
            ],
            [
             0.6666666666666666,
             "#ed7953"
            ],
            [
             0.7777777777777778,
             "#fb9f3a"
            ],
            [
             0.8888888888888888,
             "#fdca26"
            ],
            [
             1.0,
             "#f0f921"
            ]
           ]
          },
          "colorway": [
           "#636efa",
           "#EF553B",
           "#00cc96",
           "#ab63fa",
           "#FFA15A",
           "#19d3f3",
           "#FF6692",
           "#B6E880",
           "#FF97FF",
           "#FECB52"
          ],
          "font": {
           "color": "#2a3f5f"
          },
          "geo": {
           "bgcolor": "white",
           "lakecolor": "white",
           "landcolor": "white",
           "showlakes": true,
           "showland": true,
           "subunitcolor": "#C8D4E3"
          },
          "hoverlabel": {
           "align": "left"
          },
          "hovermode": "closest",
          "mapbox": {
           "style": "light"
          },
          "paper_bgcolor": "white",
          "plot_bgcolor": "white",
          "polar": {
           "angularaxis": {
            "gridcolor": "#EBF0F8",
            "linecolor": "#EBF0F8",
            "ticks": ""
           },
           "bgcolor": "white",
           "radialaxis": {
            "gridcolor": "#EBF0F8",
            "linecolor": "#EBF0F8",
            "ticks": ""
           }
          },
          "scene": {
           "xaxis": {
            "backgroundcolor": "white",
            "gridcolor": "#DFE8F3",
            "gridwidth": 2,
            "linecolor": "#EBF0F8",
            "showbackground": true,
            "ticks": "",
            "zerolinecolor": "#EBF0F8"
           },
           "yaxis": {
            "backgroundcolor": "white",
            "gridcolor": "#DFE8F3",
            "gridwidth": 2,
            "linecolor": "#EBF0F8",
            "showbackground": true,
            "ticks": "",
            "zerolinecolor": "#EBF0F8"
           },
           "zaxis": {
            "backgroundcolor": "white",
            "gridcolor": "#DFE8F3",
            "gridwidth": 2,
            "linecolor": "#EBF0F8",
            "showbackground": true,
            "ticks": "",
            "zerolinecolor": "#EBF0F8"
           }
          },
          "shapedefaults": {
           "line": {
            "color": "#2a3f5f"
           }
          },
          "ternary": {
           "aaxis": {
            "gridcolor": "#DFE8F3",
            "linecolor": "#A2B1C6",
            "ticks": ""
           },
           "baxis": {
            "gridcolor": "#DFE8F3",
            "linecolor": "#A2B1C6",
            "ticks": ""
           },
           "bgcolor": "white",
           "caxis": {
            "gridcolor": "#DFE8F3",
            "linecolor": "#A2B1C6",
            "ticks": ""
           }
          },
          "title": {
           "x": 0.05
          },
          "xaxis": {
           "automargin": true,
           "gridcolor": "#EBF0F8",
           "linecolor": "#EBF0F8",
           "ticks": "",
           "title": {
            "standoff": 15
           },
           "zerolinecolor": "#EBF0F8",
           "zerolinewidth": 2
          },
          "yaxis": {
           "automargin": true,
           "gridcolor": "#EBF0F8",
           "linecolor": "#EBF0F8",
           "ticks": "",
           "title": {
            "standoff": 15
           },
           "zerolinecolor": "#EBF0F8",
           "zerolinewidth": 2
          }
         }
        },
        "xaxis": {
         "anchor": "y",
         "domain": [
          0.0,
          1.0
         ],
         "title": {
          "text": "ano"
         },
         "tickmode": "linear",
         "tick0": 2008,
         "dtick": 1
        },
        "yaxis": {
         "anchor": "x",
         "domain": [
          0.0,
          1.0
         ],
         "title": {
          "text": "procedimentos_com_finalidade_diagnostica_qtd"
         }
        },
        "legend": {
         "title": {
          "text": "regiao_nome"
         },
         "tracegroupgap": 0
        },
        "margin": {
         "t": 60
        },
        "title": {
         "text": "Número de procedimentos por região entre 2008 a 2023"
        }
       },
       "config": {
        "plotlyServerURL": "https://plot.ly"
       }
      },
      "text/html": "<div>                            <div id=\"769573bf-c011-413e-8b23-5808193f8ce0\" class=\"plotly-graph-div\" style=\"height:525px; width:100%;\"></div>            <script type=\"text/javascript\">                require([\"plotly\"], function(Plotly) {                    window.PLOTLYENV=window.PLOTLYENV || {};                                    if (document.getElementById(\"769573bf-c011-413e-8b23-5808193f8ce0\")) {                    Plotly.newPlot(                        \"769573bf-c011-413e-8b23-5808193f8ce0\",                        [{\"fillpattern\":{\"shape\":\"\"},\"hovertemplate\":\"regiao_nome=CENTRO-OESTE\\u003cbr\\u003eano=%{x}\\u003cbr\\u003eprocedimentos_com_finalidade_diagnostica_qtd=%{y}\\u003cextra\\u003e\\u003c\\u002fextra\\u003e\",\"legendgroup\":\"CENTRO-OESTE\",\"line\":{\"color\":\"#636efa\"},\"marker\":{\"symbol\":\"circle\"},\"mode\":\"lines\",\"name\":\"CENTRO-OESTE\",\"orientation\":\"v\",\"showlegend\":true,\"stackgroup\":\"1\",\"x\":[2008,2009,2010,2011,2012,2013,2014,2015,2016,2017,2018,2019,2020,2021,2022,2023],\"xaxis\":\"x\",\"y\":[5496733,6327868,6584016,6611571,6465390,7209758,8881931,9319926,10864821,11041879,12285913,13477153,15393224,20579099,18228491,19220796],\"yaxis\":\"y\",\"type\":\"scatter\"},{\"fillpattern\":{\"shape\":\"\"},\"hovertemplate\":\"regiao_nome=NORDESTE\\u003cbr\\u003eano=%{x}\\u003cbr\\u003eprocedimentos_com_finalidade_diagnostica_qtd=%{y}\\u003cextra\\u003e\\u003c\\u002fextra\\u003e\",\"legendgroup\":\"NORDESTE\",\"line\":{\"color\":\"#EF553B\"},\"marker\":{\"symbol\":\"circle\"},\"mode\":\"lines\",\"name\":\"NORDESTE\",\"orientation\":\"v\",\"showlegend\":true,\"stackgroup\":\"1\",\"x\":[2008,2009,2010,2011,2012,2013,2014,2015,2016,2017,2018,2019,2020,2021,2022,2023],\"xaxis\":\"x\",\"y\":[11771365,14235809,15798180,17314058,18950864,20753193,22525617,24086193,24430991,25306822,27090160,29690613,32893581,43817278,40652534,40689214],\"yaxis\":\"y\",\"type\":\"scatter\"},{\"fillpattern\":{\"shape\":\"\"},\"hovertemplate\":\"regiao_nome=NORTE\\u003cbr\\u003eano=%{x}\\u003cbr\\u003eprocedimentos_com_finalidade_diagnostica_qtd=%{y}\\u003cextra\\u003e\\u003c\\u002fextra\\u003e\",\"legendgroup\":\"NORTE\",\"line\":{\"color\":\"#00cc96\"},\"marker\":{\"symbol\":\"circle\"},\"mode\":\"lines\",\"name\":\"NORTE\",\"orientation\":\"v\",\"showlegend\":true,\"stackgroup\":\"1\",\"x\":[2008,2009,2010,2011,2012,2013,2014,2015,2016,2017,2018,2019,2020,2021,2022,2023],\"xaxis\":\"x\",\"y\":[3862408,4146536,4438847,4870831,4886391,5077097,5385738,6056161,6373591,7204653,7559178,8065537,9078507,11456273,10772519,10629515],\"yaxis\":\"y\",\"type\":\"scatter\"},{\"fillpattern\":{\"shape\":\"\"},\"hovertemplate\":\"regiao_nome=SUDESTE\\u003cbr\\u003eano=%{x}\\u003cbr\\u003eprocedimentos_com_finalidade_diagnostica_qtd=%{y}\\u003cextra\\u003e\\u003c\\u002fextra\\u003e\",\"legendgroup\":\"SUDESTE\",\"line\":{\"color\":\"#ab63fa\"},\"marker\":{\"symbol\":\"circle\"},\"mode\":\"lines\",\"name\":\"SUDESTE\",\"orientation\":\"v\",\"showlegend\":true,\"stackgroup\":\"1\",\"x\":[2008,2009,2010,2011,2012,2013,2014,2015,2016,2017,2018,2019,2020,2021,2022,2023],\"xaxis\":\"x\",\"y\":[39301647,46308746,52228682,55924499,59023717,64661116,68749743,71740602,71939244,73671467,78061700,83178766,92950369,114677409,105388487,107208284],\"yaxis\":\"y\",\"type\":\"scatter\"},{\"fillpattern\":{\"shape\":\"\"},\"hovertemplate\":\"regiao_nome=SUL\\u003cbr\\u003eano=%{x}\\u003cbr\\u003eprocedimentos_com_finalidade_diagnostica_qtd=%{y}\\u003cextra\\u003e\\u003c\\u002fextra\\u003e\",\"legendgroup\":\"SUL\",\"line\":{\"color\":\"#FFA15A\"},\"marker\":{\"symbol\":\"circle\"},\"mode\":\"lines\",\"name\":\"SUL\",\"orientation\":\"v\",\"showlegend\":true,\"stackgroup\":\"1\",\"x\":[2008,2009,2010,2011,2012,2013,2014,2015,2016,2017,2018,2019,2020,2021,2022,2023],\"xaxis\":\"x\",\"y\":[14515305,17051522,19001875,19825151,21786534,24160161,26593571,27499555,26515880,27177994,28188557,30563380,33026300,42348787,38388209,39760310],\"yaxis\":\"y\",\"type\":\"scatter\"}],                        {\"template\":{\"data\":{\"barpolar\":[{\"marker\":{\"line\":{\"color\":\"white\",\"width\":0.5},\"pattern\":{\"fillmode\":\"overlay\",\"size\":10,\"solidity\":0.2}},\"type\":\"barpolar\"}],\"bar\":[{\"error_x\":{\"color\":\"#2a3f5f\"},\"error_y\":{\"color\":\"#2a3f5f\"},\"marker\":{\"line\":{\"color\":\"white\",\"width\":0.5},\"pattern\":{\"fillmode\":\"overlay\",\"size\":10,\"solidity\":0.2}},\"type\":\"bar\"}],\"carpet\":[{\"aaxis\":{\"endlinecolor\":\"#2a3f5f\",\"gridcolor\":\"#C8D4E3\",\"linecolor\":\"#C8D4E3\",\"minorgridcolor\":\"#C8D4E3\",\"startlinecolor\":\"#2a3f5f\"},\"baxis\":{\"endlinecolor\":\"#2a3f5f\",\"gridcolor\":\"#C8D4E3\",\"linecolor\":\"#C8D4E3\",\"minorgridcolor\":\"#C8D4E3\",\"startlinecolor\":\"#2a3f5f\"},\"type\":\"carpet\"}],\"choropleth\":[{\"colorbar\":{\"outlinewidth\":0,\"ticks\":\"\"},\"type\":\"choropleth\"}],\"contourcarpet\":[{\"colorbar\":{\"outlinewidth\":0,\"ticks\":\"\"},\"type\":\"contourcarpet\"}],\"contour\":[{\"colorbar\":{\"outlinewidth\":0,\"ticks\":\"\"},\"colorscale\":[[0.0,\"#0d0887\"],[0.1111111111111111,\"#46039f\"],[0.2222222222222222,\"#7201a8\"],[0.3333333333333333,\"#9c179e\"],[0.4444444444444444,\"#bd3786\"],[0.5555555555555556,\"#d8576b\"],[0.6666666666666666,\"#ed7953\"],[0.7777777777777778,\"#fb9f3a\"],[0.8888888888888888,\"#fdca26\"],[1.0,\"#f0f921\"]],\"type\":\"contour\"}],\"heatmapgl\":[{\"colorbar\":{\"outlinewidth\":0,\"ticks\":\"\"},\"colorscale\":[[0.0,\"#0d0887\"],[0.1111111111111111,\"#46039f\"],[0.2222222222222222,\"#7201a8\"],[0.3333333333333333,\"#9c179e\"],[0.4444444444444444,\"#bd3786\"],[0.5555555555555556,\"#d8576b\"],[0.6666666666666666,\"#ed7953\"],[0.7777777777777778,\"#fb9f3a\"],[0.8888888888888888,\"#fdca26\"],[1.0,\"#f0f921\"]],\"type\":\"heatmapgl\"}],\"heatmap\":[{\"colorbar\":{\"outlinewidth\":0,\"ticks\":\"\"},\"colorscale\":[[0.0,\"#0d0887\"],[0.1111111111111111,\"#46039f\"],[0.2222222222222222,\"#7201a8\"],[0.3333333333333333,\"#9c179e\"],[0.4444444444444444,\"#bd3786\"],[0.5555555555555556,\"#d8576b\"],[0.6666666666666666,\"#ed7953\"],[0.7777777777777778,\"#fb9f3a\"],[0.8888888888888888,\"#fdca26\"],[1.0,\"#f0f921\"]],\"type\":\"heatmap\"}],\"histogram2dcontour\":[{\"colorbar\":{\"outlinewidth\":0,\"ticks\":\"\"},\"colorscale\":[[0.0,\"#0d0887\"],[0.1111111111111111,\"#46039f\"],[0.2222222222222222,\"#7201a8\"],[0.3333333333333333,\"#9c179e\"],[0.4444444444444444,\"#bd3786\"],[0.5555555555555556,\"#d8576b\"],[0.6666666666666666,\"#ed7953\"],[0.7777777777777778,\"#fb9f3a\"],[0.8888888888888888,\"#fdca26\"],[1.0,\"#f0f921\"]],\"type\":\"histogram2dcontour\"}],\"histogram2d\":[{\"colorbar\":{\"outlinewidth\":0,\"ticks\":\"\"},\"colorscale\":[[0.0,\"#0d0887\"],[0.1111111111111111,\"#46039f\"],[0.2222222222222222,\"#7201a8\"],[0.3333333333333333,\"#9c179e\"],[0.4444444444444444,\"#bd3786\"],[0.5555555555555556,\"#d8576b\"],[0.6666666666666666,\"#ed7953\"],[0.7777777777777778,\"#fb9f3a\"],[0.8888888888888888,\"#fdca26\"],[1.0,\"#f0f921\"]],\"type\":\"histogram2d\"}],\"histogram\":[{\"marker\":{\"pattern\":{\"fillmode\":\"overlay\",\"size\":10,\"solidity\":0.2}},\"type\":\"histogram\"}],\"mesh3d\":[{\"colorbar\":{\"outlinewidth\":0,\"ticks\":\"\"},\"type\":\"mesh3d\"}],\"parcoords\":[{\"line\":{\"colorbar\":{\"outlinewidth\":0,\"ticks\":\"\"}},\"type\":\"parcoords\"}],\"pie\":[{\"automargin\":true,\"type\":\"pie\"}],\"scatter3d\":[{\"line\":{\"colorbar\":{\"outlinewidth\":0,\"ticks\":\"\"}},\"marker\":{\"colorbar\":{\"outlinewidth\":0,\"ticks\":\"\"}},\"type\":\"scatter3d\"}],\"scattercarpet\":[{\"marker\":{\"colorbar\":{\"outlinewidth\":0,\"ticks\":\"\"}},\"type\":\"scattercarpet\"}],\"scattergeo\":[{\"marker\":{\"colorbar\":{\"outlinewidth\":0,\"ticks\":\"\"}},\"type\":\"scattergeo\"}],\"scattergl\":[{\"marker\":{\"colorbar\":{\"outlinewidth\":0,\"ticks\":\"\"}},\"type\":\"scattergl\"}],\"scattermapbox\":[{\"marker\":{\"colorbar\":{\"outlinewidth\":0,\"ticks\":\"\"}},\"type\":\"scattermapbox\"}],\"scatterpolargl\":[{\"marker\":{\"colorbar\":{\"outlinewidth\":0,\"ticks\":\"\"}},\"type\":\"scatterpolargl\"}],\"scatterpolar\":[{\"marker\":{\"colorbar\":{\"outlinewidth\":0,\"ticks\":\"\"}},\"type\":\"scatterpolar\"}],\"scatter\":[{\"fillpattern\":{\"fillmode\":\"overlay\",\"size\":10,\"solidity\":0.2},\"type\":\"scatter\"}],\"scatterternary\":[{\"marker\":{\"colorbar\":{\"outlinewidth\":0,\"ticks\":\"\"}},\"type\":\"scatterternary\"}],\"surface\":[{\"colorbar\":{\"outlinewidth\":0,\"ticks\":\"\"},\"colorscale\":[[0.0,\"#0d0887\"],[0.1111111111111111,\"#46039f\"],[0.2222222222222222,\"#7201a8\"],[0.3333333333333333,\"#9c179e\"],[0.4444444444444444,\"#bd3786\"],[0.5555555555555556,\"#d8576b\"],[0.6666666666666666,\"#ed7953\"],[0.7777777777777778,\"#fb9f3a\"],[0.8888888888888888,\"#fdca26\"],[1.0,\"#f0f921\"]],\"type\":\"surface\"}],\"table\":[{\"cells\":{\"fill\":{\"color\":\"#EBF0F8\"},\"line\":{\"color\":\"white\"}},\"header\":{\"fill\":{\"color\":\"#C8D4E3\"},\"line\":{\"color\":\"white\"}},\"type\":\"table\"}]},\"layout\":{\"annotationdefaults\":{\"arrowcolor\":\"#2a3f5f\",\"arrowhead\":0,\"arrowwidth\":1},\"autotypenumbers\":\"strict\",\"coloraxis\":{\"colorbar\":{\"outlinewidth\":0,\"ticks\":\"\"}},\"colorscale\":{\"diverging\":[[0,\"#8e0152\"],[0.1,\"#c51b7d\"],[0.2,\"#de77ae\"],[0.3,\"#f1b6da\"],[0.4,\"#fde0ef\"],[0.5,\"#f7f7f7\"],[0.6,\"#e6f5d0\"],[0.7,\"#b8e186\"],[0.8,\"#7fbc41\"],[0.9,\"#4d9221\"],[1,\"#276419\"]],\"sequential\":[[0.0,\"#0d0887\"],[0.1111111111111111,\"#46039f\"],[0.2222222222222222,\"#7201a8\"],[0.3333333333333333,\"#9c179e\"],[0.4444444444444444,\"#bd3786\"],[0.5555555555555556,\"#d8576b\"],[0.6666666666666666,\"#ed7953\"],[0.7777777777777778,\"#fb9f3a\"],[0.8888888888888888,\"#fdca26\"],[1.0,\"#f0f921\"]],\"sequentialminus\":[[0.0,\"#0d0887\"],[0.1111111111111111,\"#46039f\"],[0.2222222222222222,\"#7201a8\"],[0.3333333333333333,\"#9c179e\"],[0.4444444444444444,\"#bd3786\"],[0.5555555555555556,\"#d8576b\"],[0.6666666666666666,\"#ed7953\"],[0.7777777777777778,\"#fb9f3a\"],[0.8888888888888888,\"#fdca26\"],[1.0,\"#f0f921\"]]},\"colorway\":[\"#636efa\",\"#EF553B\",\"#00cc96\",\"#ab63fa\",\"#FFA15A\",\"#19d3f3\",\"#FF6692\",\"#B6E880\",\"#FF97FF\",\"#FECB52\"],\"font\":{\"color\":\"#2a3f5f\"},\"geo\":{\"bgcolor\":\"white\",\"lakecolor\":\"white\",\"landcolor\":\"white\",\"showlakes\":true,\"showland\":true,\"subunitcolor\":\"#C8D4E3\"},\"hoverlabel\":{\"align\":\"left\"},\"hovermode\":\"closest\",\"mapbox\":{\"style\":\"light\"},\"paper_bgcolor\":\"white\",\"plot_bgcolor\":\"white\",\"polar\":{\"angularaxis\":{\"gridcolor\":\"#EBF0F8\",\"linecolor\":\"#EBF0F8\",\"ticks\":\"\"},\"bgcolor\":\"white\",\"radialaxis\":{\"gridcolor\":\"#EBF0F8\",\"linecolor\":\"#EBF0F8\",\"ticks\":\"\"}},\"scene\":{\"xaxis\":{\"backgroundcolor\":\"white\",\"gridcolor\":\"#DFE8F3\",\"gridwidth\":2,\"linecolor\":\"#EBF0F8\",\"showbackground\":true,\"ticks\":\"\",\"zerolinecolor\":\"#EBF0F8\"},\"yaxis\":{\"backgroundcolor\":\"white\",\"gridcolor\":\"#DFE8F3\",\"gridwidth\":2,\"linecolor\":\"#EBF0F8\",\"showbackground\":true,\"ticks\":\"\",\"zerolinecolor\":\"#EBF0F8\"},\"zaxis\":{\"backgroundcolor\":\"white\",\"gridcolor\":\"#DFE8F3\",\"gridwidth\":2,\"linecolor\":\"#EBF0F8\",\"showbackground\":true,\"ticks\":\"\",\"zerolinecolor\":\"#EBF0F8\"}},\"shapedefaults\":{\"line\":{\"color\":\"#2a3f5f\"}},\"ternary\":{\"aaxis\":{\"gridcolor\":\"#DFE8F3\",\"linecolor\":\"#A2B1C6\",\"ticks\":\"\"},\"baxis\":{\"gridcolor\":\"#DFE8F3\",\"linecolor\":\"#A2B1C6\",\"ticks\":\"\"},\"bgcolor\":\"white\",\"caxis\":{\"gridcolor\":\"#DFE8F3\",\"linecolor\":\"#A2B1C6\",\"ticks\":\"\"}},\"title\":{\"x\":0.05},\"xaxis\":{\"automargin\":true,\"gridcolor\":\"#EBF0F8\",\"linecolor\":\"#EBF0F8\",\"ticks\":\"\",\"title\":{\"standoff\":15},\"zerolinecolor\":\"#EBF0F8\",\"zerolinewidth\":2},\"yaxis\":{\"automargin\":true,\"gridcolor\":\"#EBF0F8\",\"linecolor\":\"#EBF0F8\",\"ticks\":\"\",\"title\":{\"standoff\":15},\"zerolinecolor\":\"#EBF0F8\",\"zerolinewidth\":2}}},\"xaxis\":{\"anchor\":\"y\",\"domain\":[0.0,1.0],\"title\":{\"text\":\"ano\"},\"tickmode\":\"linear\",\"tick0\":2008,\"dtick\":1},\"yaxis\":{\"anchor\":\"x\",\"domain\":[0.0,1.0],\"title\":{\"text\":\"procedimentos_com_finalidade_diagnostica_qtd\"}},\"legend\":{\"title\":{\"text\":\"regiao_nome\"},\"tracegroupgap\":0},\"margin\":{\"t\":60},\"title\":{\"text\":\"N\\u00famero de procedimentos por regi\\u00e3o entre 2008 a 2023\"}},                        {\"responsive\": true}                    ).then(function(){\n                            \nvar gd = document.getElementById('769573bf-c011-413e-8b23-5808193f8ce0');\nvar x = new MutationObserver(function (mutations, observer) {{\n        var display = window.getComputedStyle(gd).display;\n        if (!display || display === 'none') {{\n            console.log([gd, 'removed!']);\n            Plotly.purge(gd);\n            observer.disconnect();\n        }}\n}});\n\n// Listen for the removal of the full notebook cells\nvar notebookContainer = gd.closest('#notebook-container');\nif (notebookContainer) {{\n    x.observe(notebookContainer, {childList: true});\n}}\n\n// Listen for the clearing of the current output cell\nvar outputEl = gd.closest('.output');\nif (outputEl) {{\n    x.observe(outputEl, {childList: true});\n}}\n\n                        })                };                });            </script>        </div>"
     },
     "metadata": {},
     "output_type": "display_data"
    }
   ],
   "source": [
    "fig2 = px.area(df_variable_regiao,\n",
    "              x=df_variable_regiao.index,\n",
    "              y=df_variable_regiao.procedimentos_com_finalidade_diagnostica_qtd,\n",
    "              color='regiao_nome')\n",
    "\n",
    "# fig.add_vrect(x0=2022, x1=2023, col=1, annotation_text=\"Aumento\", annotation_position=\"top left\",\n",
    "#               fillcolor=\"green\", opacity=0.15, line_width=0)\n",
    "# \n",
    "# fig.add_vrect(x0=2019, x1=2022, col=1, annotation_text=\"pandemia\", annotation_position=\"top left\",\n",
    "#               fillcolor=\"black\", opacity=0.15, line_width=0)\n",
    "\n",
    "\n",
    "# fig.update_yaxes(title_text='<b>Quantidade')\n",
    "# fig.update_xaxes(title_text='<b>Ano')\n",
    "fig2.update_layout(template='plotly_white', title='Número de procedimentos por região entre 2008 a 2023', xaxis = dict(\n",
    "        tickmode = 'linear',\n",
    "        tick0 = 2008,\n",
    "        dtick = 1\n",
    "    ))\n",
    "fig2.show()"
   ],
   "metadata": {
    "collapsed": false,
    "ExecuteTime": {
     "end_time": "2024-03-05T23:36:02.033784Z",
     "start_time": "2024-03-05T23:36:01.976284Z"
    }
   },
   "id": "eb7e7ac63bf04086",
   "execution_count": 58
  },
  {
   "cell_type": "code",
   "outputs": [
    {
     "name": "stdout",
     "output_type": "stream",
     "text": [
      "cod_municipio\n",
      "municipio\n",
      "uf\n",
      "uf_nome\n",
      "regiao_nome\n",
      "longitude\n",
      "latitude\n",
      "nu_populacao\n",
      "mes\n",
      "ano\n",
      "procedimentos_com_finalidade_diagnostica_qtd\n",
      "procedimentos_com_finalidade_diagnostica_val\n",
      "procedimentos_clinicos_qtd\n",
      "procedimentos_clinicos_val\n",
      "procedimentos_cirurgicos_qtd\n",
      "procedimentos_cirurgicos_val\n",
      "transplantes_de_orgaos_tecidos_e_celulas_qtd\n",
      "transplantes_de_orgaos_tecidos_e_celulas_val\n",
      "medicamentos_qtd\n",
      "medicamentos_val\n",
      "orteses_proteses_e_materiais_especiais_qtd\n",
      "orteses_proteses_e_materiais_especiais_val\n",
      "acoes_complementares_da_atencao_a_saude_qtd\n",
      "acoes_complementares_da_atencao_a_saude_val\n",
      "coleta_de_material_qtd\n",
      "coleta_de_material_val\n",
      "diagnostico_em_laboratorio_clinico_qtd\n",
      "diagnostico_em_laboratorio_clinico_val\n",
      "diagnostico_por_anatomia_patologica_e_citopatologia_qtd\n",
      "diagnostico_por_anatomia_patologica_e_citopatologia_val\n",
      "diagnostico_por_radiologia_qtd\n",
      "diagnostico_por_radiologia_val\n",
      "diagnostico_por_ultrasonografia_qtd\n",
      "diagnostico_por_ultrasonografia_val\n",
      "diagnostico_por_tomografia_qtd\n",
      "diagnostico_por_tomografia_val\n",
      "diagnostico_por_ressonancia_magnetica_qtd\n",
      "diagnostico_por_ressonancia_magnetica_val\n",
      "diagnostico_por_medicina_nuclear_in_vivo_qtd\n",
      "diagnostico_por_medicina_nuclear_in_vivo_val\n",
      "diagnostico_por_endoscopia_qtd\n",
      "diagnostico_por_endoscopia_val\n",
      "diagnostico_por_radiologia_intervencionista_qtd\n",
      "diagnostico_por_radiologia_intervencionista_val\n",
      "metodos_diagnosticos_em_especialidades_qtd\n",
      "metodos_diagnosticos_em_especialidades_val\n",
      "diagnostico_e_procedimentos_especiais_em_hemoterapia_qtd\n",
      "diagnostico_e_procedimentos_especiais_em_hemoterapia_val\n",
      "diagnostico_por_teste_rapido_qtd\n",
      "diagnostico_por_teste_rapido_val\n",
      "consultas_atendimentos_acompanhamentos_qtd\n",
      "consultas_atendimentos_acompanhamentos_val\n",
      "fisioterapia_qtd\n",
      "fisioterapia_val\n",
      "tratamentos_clinicos_outras_especialidades_qtd\n",
      "tratamentos_clinicos_outras_especialidades_val\n",
      "tratamento_em_oncologia_qtd\n",
      "tratamento_em_oncologia_val\n",
      "tratamento_em_nefrologia_qtd\n",
      "tratamento_em_nefrologia_val\n",
      "hemoterapia_qtd\n",
      "hemoterapia_val\n",
      "tratamento_de_lesoes_envenenamentos_e_outros_decorrentes_de_causas_externas_qtd\n",
      "tratamento_de_lesoes_envenenamentos_e_outros_decorrentes_de_causas_externas_val\n",
      "terapias_especializadas_qtd\n",
      "terapias_especializadas_val\n",
      "parto_e_nascimento_qtd\n",
      "parto_e_nascimento_val\n",
      "pequenas_cirurgias_e_cirurgias_de_pele_tecido_subcutaneo_e_mucosa_qtd\n",
      "pequenas_cirurgias_e_cirurgias_de_pele_tecido_subcutaneo_e_mucosa_val\n",
      "cirurgia_de_glandulas_endocrinas_qtd\n",
      "cirurgia_de_glandulas_endocrinas_val\n",
      "cirurgia_do_sistema_nervoso_central_e_periferico_qtd\n",
      "cirurgia_do_sistema_nervoso_central_e_periferico_val\n",
      "cirurgia_das_vias_aereas_superiores_da_face_da_cabeca_e_do_pescoco_qtd\n",
      "cirurgia_das_vias_aereas_superiores_da_face_da_cabeca_e_do_pescoco_val\n",
      "cirurgia_do_aparelho_da_visao_qtd\n",
      "cirurgia_do_aparelho_da_visao_val\n",
      "cirurgia_do_aparelho_circulatorio_qtd\n",
      "cirurgia_do_aparelho_circulatorio_val\n",
      "cirurgia_do_aparelho_digestivo_orgaos_anexos_e_parede_abdominal_qtd\n",
      "cirurgia_do_aparelho_digestivo_orgaos_anexos_e_parede_abdominal_val\n",
      "cirurgia_do_sistema_osteomuscular_qtd\n",
      "cirurgia_do_sistema_osteomuscular_val\n",
      "cirurgia_do_aparelho_geniturinario_qtd\n",
      "cirurgia_do_aparelho_geniturinario_val\n",
      "cirurgia_de_mama_qtd\n",
      "cirurgia_de_mama_val\n",
      "cirurgia_obstetrica_qtd\n",
      "cirurgia_obstetrica_val\n",
      "cirurgia_toracica_qtd\n",
      "cirurgia_toracica_val\n",
      "cirurgia_reparadora_qtd\n",
      "cirurgia_reparadora_val\n",
      "bucomaxilofacial_qtd\n",
      "bucomaxilofacial_val\n",
      "outras_cirurgias_qtd\n",
      "outras_cirurgias_val\n",
      "cirurgia_em_oncologia_qtd\n",
      "cirurgia_em_oncologia_val\n",
      "cirurgia_em_nefrologia_qtd\n",
      "cirurgia_em_nefrologia_val\n",
      "coleta_e_exames_para_fins_de_doacao_de_orgaos_tecidos_e_celulas_e_de_transplante_qtd\n",
      "coleta_e_exames_para_fins_de_doacao_de_orgaos_tecidos_e_celulas_e_de_transplante_val\n",
      "avaliacao_de_morte_encefalica_qtd\n",
      "avaliacao_de_morte_encefalica_val\n",
      "acoes_relacionadas_a_doacao_de_orgaos_e_tecidos_para_transplante_qtd\n",
      "acoes_relacionadas_a_doacao_de_orgaos_e_tecidos_para_transplante_val\n",
      "processamento_de_tecidos_para_transplante_qtd\n",
      "processamento_de_tecidos_para_transplante_val\n",
      "transplante_de_orgaos_tecidos_e_celulas_qtd\n",
      "transplante_de_orgaos_tecidos_e_celulas_val\n",
      "acompanhamento_e_intercorrencias_no_pre_e_pos_transplante_qtd\n",
      "acompanhamento_e_intercorrencias_no_pre_e_pos_transplante_val\n",
      "medicamentos_de_ambito_hospitalar_e_urgencia_qtd\n",
      "medicamentos_de_ambito_hospitalar_e_urgencia_val\n",
      "orteses_proteses_e_materiais_especiais_relacionados_ao_ato_cirurgico_qtd\n",
      "orteses_proteses_e_materiais_especiais_relacionados_ao_ato_cirurgico_val\n",
      "acoes_relacionadas_ao_estabelecimento_qtd\n",
      "acoes_relacionadas_ao_estabelecimento_val\n",
      "acoes_relacionadas_ao_atendimento_qtd\n",
      "acoes_relacionadas_ao_atendimento_val\n",
      "acoes_de_promocao_e_prevencao_em_saude\n",
      "acoes_coletivas_individuais_em_saude\n",
      "anestesiologia\n",
      "tratamentos_odontologicos_qtd\n",
      "tratamentos_odontologicos_val\n"
     ]
    }
   ],
   "source": [
    "for col in df_datasus.columns:\n",
    "    print(col)"
   ],
   "metadata": {
    "collapsed": false,
    "ExecuteTime": {
     "end_time": "2024-03-05T23:39:15.197454Z",
     "start_time": "2024-03-05T23:39:15.193594Z"
    }
   },
   "id": "7e6cc62911255ad8",
   "execution_count": 60
  }
 ],
 "metadata": {
  "kernelspec": {
   "display_name": "Python 3",
   "language": "python",
   "name": "python3"
  },
  "language_info": {
   "codemirror_mode": {
    "name": "ipython",
    "version": 2
   },
   "file_extension": ".py",
   "mimetype": "text/x-python",
   "name": "python",
   "nbconvert_exporter": "python",
   "pygments_lexer": "ipython2",
   "version": "2.7.6"
  }
 },
 "nbformat": 4,
 "nbformat_minor": 5
}
