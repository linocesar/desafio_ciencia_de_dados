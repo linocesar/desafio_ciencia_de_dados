{
 "cells": [
  {
   "cell_type": "code",
   "execution_count": 1,
   "id": "initial_id",
   "metadata": {
    "collapsed": true,
    "ExecuteTime": {
     "end_time": "2024-03-01T01:00:16.516796Z",
     "start_time": "2024-03-01T01:00:15.995097Z"
    }
   },
   "outputs": [],
   "source": [
    "import pandas as pd"
   ]
  },
  {
   "cell_type": "code",
   "outputs": [],
   "source": [
    "df_datasus = pd.read_csv('datasus.csv')"
   ],
   "metadata": {
    "collapsed": false,
    "ExecuteTime": {
     "end_time": "2024-03-01T01:00:58.708942Z",
     "start_time": "2024-03-01T01:00:50.752261Z"
    }
   },
   "id": "9f43890ee8f12968",
   "execution_count": 2
  },
  {
   "cell_type": "code",
   "outputs": [
    {
     "data": {
      "text/plain": "Index                                         128\ncod_municipio                             8555520\nmunicipio                                 2634485\nuf                                        1072105\nuf_nome                                   1072667\n                                           ...   \nacoes_de_promocao_e_prevencao_em_saude    8555520\nacoes_coletivas_individuais_em_saude      8555520\nanestesiologia                            8555520\ntratamentos_odontologicos_qtd             8555520\ntratamentos_odontologicos_val             8555520\nLength: 128, dtype: int64"
     },
     "execution_count": 7,
     "metadata": {},
     "output_type": "execute_result"
    }
   ],
   "source": [
    "df_datasus.memory_usage(deep=True)"
   ],
   "metadata": {
    "collapsed": false,
    "ExecuteTime": {
     "end_time": "2024-03-01T01:02:44.419696Z",
     "start_time": "2024-03-01T01:02:44.411337Z"
    }
   },
   "id": "93985ad73797baef",
   "execution_count": 7
  },
  {
   "cell_type": "code",
   "outputs": [
    {
     "name": "stdout",
     "output_type": "stream",
     "text": [
      "<class 'pandas.core.frame.DataFrame'>\n",
      "RangeIndex: 1069440 entries, 0 to 1069439\n",
      "Columns: 127 entries, cod_municipio to tratamentos_odontologicos_val\n",
      "dtypes: float64(63), int64(59), object(5)\n",
      "memory usage: 1.0+ GB\n"
     ]
    }
   ],
   "source": [
    "df_datasus.info()"
   ],
   "metadata": {
    "collapsed": false,
    "ExecuteTime": {
     "end_time": "2024-03-01T01:01:54.028648Z",
     "start_time": "2024-03-01T01:01:54.015383Z"
    }
   },
   "id": "e68a124b8626e971",
   "execution_count": 4
  },
  {
   "cell_type": "code",
   "outputs": [],
   "source": [
    "df_datasus = df_datasus.apply(lambda x: x.astype('category') if x.dtype == 'object' else x)"
   ],
   "metadata": {
    "collapsed": false,
    "ExecuteTime": {
     "end_time": "2024-03-01T01:02:25.942121Z",
     "start_time": "2024-03-01T01:02:24.774986Z"
    }
   },
   "id": "7bf21e2b5bb5315a",
   "execution_count": 5
  },
  {
   "cell_type": "code",
   "outputs": [
    {
     "name": "stdout",
     "output_type": "stream",
     "text": [
      "<class 'pandas.core.frame.DataFrame'>\n",
      "RangeIndex: 1069440 entries, 0 to 1069439\n",
      "Columns: 127 entries, cod_municipio to tratamentos_odontologicos_val\n",
      "dtypes: category(5), float64(63), int64(59)\n",
      "memory usage: 1001.7 MB\n"
     ]
    }
   ],
   "source": [
    "df_datasus.info()"
   ],
   "metadata": {
    "collapsed": false,
    "ExecuteTime": {
     "end_time": "2024-03-01T01:02:35.094877Z",
     "start_time": "2024-03-01T01:02:35.081186Z"
    }
   },
   "id": "adbb01d68b1a37a6",
   "execution_count": 6
  },
  {
   "cell_type": "code",
   "outputs": [],
   "source": [],
   "metadata": {
    "collapsed": false
   },
   "id": "218a986b2bf1dae1"
  },
  {
   "cell_type": "code",
   "outputs": [],
   "source": [
    "tipagem_coluna = {'coluna': list(df_datasus.columns), 'tipo': [str(dtype) for dtype in df_datasus.dtypes]}\n",
    "df_tipo = pd.DataFrame(tipagem_coluna)"
   ],
   "metadata": {
    "collapsed": false,
    "ExecuteTime": {
     "end_time": "2024-03-01T01:30:01.935445Z",
     "start_time": "2024-03-01T01:30:01.930377Z"
    }
   },
   "id": "93266056bdc4155f",
   "execution_count": 9
  },
  {
   "cell_type": "code",
   "outputs": [
    {
     "data": {
      "text/plain": "                                     coluna      tipo\n0                             cod_municipio     int64\n1                                 municipio  category\n2                                        uf  category\n3                                   uf_nome  category\n4                               regiao_nome  category\n..                                      ...       ...\n122  acoes_de_promocao_e_prevencao_em_saude   float64\n123    acoes_coletivas_individuais_em_saude   float64\n124                          anestesiologia   float64\n125           tratamentos_odontologicos_qtd   float64\n126           tratamentos_odontologicos_val   float64\n\n[127 rows x 2 columns]",
      "text/html": "<div>\n<style scoped>\n    .dataframe tbody tr th:only-of-type {\n        vertical-align: middle;\n    }\n\n    .dataframe tbody tr th {\n        vertical-align: top;\n    }\n\n    .dataframe thead th {\n        text-align: right;\n    }\n</style>\n<table border=\"1\" class=\"dataframe\">\n  <thead>\n    <tr style=\"text-align: right;\">\n      <th></th>\n      <th>coluna</th>\n      <th>tipo</th>\n    </tr>\n  </thead>\n  <tbody>\n    <tr>\n      <th>0</th>\n      <td>cod_municipio</td>\n      <td>int64</td>\n    </tr>\n    <tr>\n      <th>1</th>\n      <td>municipio</td>\n      <td>category</td>\n    </tr>\n    <tr>\n      <th>2</th>\n      <td>uf</td>\n      <td>category</td>\n    </tr>\n    <tr>\n      <th>3</th>\n      <td>uf_nome</td>\n      <td>category</td>\n    </tr>\n    <tr>\n      <th>4</th>\n      <td>regiao_nome</td>\n      <td>category</td>\n    </tr>\n    <tr>\n      <th>...</th>\n      <td>...</td>\n      <td>...</td>\n    </tr>\n    <tr>\n      <th>122</th>\n      <td>acoes_de_promocao_e_prevencao_em_saude</td>\n      <td>float64</td>\n    </tr>\n    <tr>\n      <th>123</th>\n      <td>acoes_coletivas_individuais_em_saude</td>\n      <td>float64</td>\n    </tr>\n    <tr>\n      <th>124</th>\n      <td>anestesiologia</td>\n      <td>float64</td>\n    </tr>\n    <tr>\n      <th>125</th>\n      <td>tratamentos_odontologicos_qtd</td>\n      <td>float64</td>\n    </tr>\n    <tr>\n      <th>126</th>\n      <td>tratamentos_odontologicos_val</td>\n      <td>float64</td>\n    </tr>\n  </tbody>\n</table>\n<p>127 rows × 2 columns</p>\n</div>"
     },
     "execution_count": 11,
     "metadata": {},
     "output_type": "execute_result"
    }
   ],
   "source": [
    "df_tipo"
   ],
   "metadata": {
    "collapsed": false,
    "ExecuteTime": {
     "end_time": "2024-03-01T01:30:59.370421Z",
     "start_time": "2024-03-01T01:30:59.363499Z"
    }
   },
   "id": "549e356cff6606fa",
   "execution_count": 11
  },
  {
   "cell_type": "code",
   "outputs": [],
   "source": [
    "tipo = df_datasus.dtypes"
   ],
   "metadata": {
    "collapsed": false,
    "ExecuteTime": {
     "end_time": "2024-03-01T03:49:27.406250Z",
     "start_time": "2024-03-01T03:49:27.402339Z"
    }
   },
   "id": "60e0183bd31bc050",
   "execution_count": 15
  },
  {
   "cell_type": "code",
   "outputs": [],
   "source": [
    "contagem_tipo = tipo.value_counts()"
   ],
   "metadata": {
    "collapsed": false,
    "ExecuteTime": {
     "end_time": "2024-03-01T04:01:11.114142Z",
     "start_time": "2024-03-01T04:01:11.110132Z"
    }
   },
   "id": "81dc73b82fa1e730",
   "execution_count": 24
  },
  {
   "cell_type": "code",
   "outputs": [
    {
     "data": {
      "text/plain": "float64     63\nint64       59\ncategory     1\ncategory     1\ncategory     1\ncategory     1\ncategory     1\nName: count, dtype: int64"
     },
     "execution_count": 25,
     "metadata": {},
     "output_type": "execute_result"
    }
   ],
   "source": [
    "contagem_tipo"
   ],
   "metadata": {
    "collapsed": false,
    "ExecuteTime": {
     "end_time": "2024-03-01T04:01:13.482525Z",
     "start_time": "2024-03-01T04:01:13.477632Z"
    }
   },
   "id": "74b7c1da28989141",
   "execution_count": 25
  },
  {
   "cell_type": "code",
   "outputs": [
    {
     "name": "stderr",
     "output_type": "stream",
     "text": [
      "C:\\Users\\lino.pereira\\AppData\\Local\\Temp\\ipykernel_4420\\833855569.py:1: FutureWarning: The default of observed=False is deprecated and will be changed to True in a future version of pandas. Pass observed=False to retain current behavior or observed=True to adopt the future default and silence this warning.\n",
      "  df_datasus.groupby(['municipio']).count()\n"
     ]
    },
    {
     "data": {
      "text/plain": "                     cod_municipio   uf  uf_nome  regiao_nome  longitude  \\\nmunicipio                                                                  \nABADIA DE GOIAS                192  192      192          192        192   \nABADIA DOS DOURADOS            192  192      192          192        192   \nABADIANIA                      192  192      192          192        192   \nABAETE                         192  192      192          192        192   \nABAETETUBA                     192  192      192          192        192   \n...                            ...  ...      ...          ...        ...   \nXIQUE-XIQUE                    192  192      192          192        192   \nZABELE                         192  192      192          192        192   \nZACARIAS                       192  192      192          192        192   \nZE DOCA                        192  192      192          192        192   \nZORTEA                         192  192      192          192        192   \n\n                     latitude  nu_populacao  mes  ano  \\\nmunicipio                                               \nABADIA DE GOIAS           192           192  192  192   \nABADIA DOS DOURADOS       192           192  192  192   \nABADIANIA                 192           192  192  192   \nABAETE                    192           192  192  192   \nABAETETUBA                192           192  192  192   \n...                       ...           ...  ...  ...   \nXIQUE-XIQUE               192           192  192  192   \nZABELE                    192           192  192  192   \nZACARIAS                  192           192  192  192   \nZE DOCA                   192           192  192  192   \nZORTEA                    192           192  192  192   \n\n                     procedimentos_com_finalidade_diagnostica_qtd  ...  \\\nmunicipio                                                          ...   \nABADIA DE GOIAS                                               192  ...   \nABADIA DOS DOURADOS                                           192  ...   \nABADIANIA                                                     192  ...   \nABAETE                                                        192  ...   \nABAETETUBA                                                    192  ...   \n...                                                           ...  ...   \nXIQUE-XIQUE                                                   192  ...   \nZABELE                                                        192  ...   \nZACARIAS                                                      192  ...   \nZE DOCA                                                       192  ...   \nZORTEA                                                        192  ...   \n\n                     orteses_proteses_e_materiais_especiais_relacionados_ao_ato_cirurgico_val  \\\nmunicipio                                                                                       \nABADIA DE GOIAS                                                    192                          \nABADIA DOS DOURADOS                                                192                          \nABADIANIA                                                          192                          \nABAETE                                                             192                          \nABAETETUBA                                                         192                          \n...                                                                ...                          \nXIQUE-XIQUE                                                        192                          \nZABELE                                                             192                          \nZACARIAS                                                           192                          \nZE DOCA                                                            192                          \nZORTEA                                                             192                          \n\n                     acoes_relacionadas_ao_estabelecimento_qtd  \\\nmunicipio                                                        \nABADIA DE GOIAS                                            192   \nABADIA DOS DOURADOS                                        192   \nABADIANIA                                                  192   \nABAETE                                                     192   \nABAETETUBA                                                 192   \n...                                                        ...   \nXIQUE-XIQUE                                                192   \nZABELE                                                     192   \nZACARIAS                                                   192   \nZE DOCA                                                    192   \nZORTEA                                                     192   \n\n                     acoes_relacionadas_ao_estabelecimento_val  \\\nmunicipio                                                        \nABADIA DE GOIAS                                            192   \nABADIA DOS DOURADOS                                        192   \nABADIANIA                                                  192   \nABAETE                                                     192   \nABAETETUBA                                                 192   \n...                                                        ...   \nXIQUE-XIQUE                                                192   \nZABELE                                                     192   \nZACARIAS                                                   192   \nZE DOCA                                                    192   \nZORTEA                                                     192   \n\n                     acoes_relacionadas_ao_atendimento_qtd  \\\nmunicipio                                                    \nABADIA DE GOIAS                                        192   \nABADIA DOS DOURADOS                                    192   \nABADIANIA                                              192   \nABAETE                                                 192   \nABAETETUBA                                             192   \n...                                                    ...   \nXIQUE-XIQUE                                            192   \nZABELE                                                 192   \nZACARIAS                                               192   \nZE DOCA                                                192   \nZORTEA                                                 192   \n\n                     acoes_relacionadas_ao_atendimento_val  \\\nmunicipio                                                    \nABADIA DE GOIAS                                        192   \nABADIA DOS DOURADOS                                    192   \nABADIANIA                                              192   \nABAETE                                                 192   \nABAETETUBA                                             192   \n...                                                    ...   \nXIQUE-XIQUE                                            192   \nZABELE                                                 192   \nZACARIAS                                               192   \nZE DOCA                                                192   \nZORTEA                                                 192   \n\n                     acoes_de_promocao_e_prevencao_em_saude  \\\nmunicipio                                                     \nABADIA DE GOIAS                                         161   \nABADIA DOS DOURADOS                                     161   \nABADIANIA                                               161   \nABAETE                                                  161   \nABAETETUBA                                              161   \n...                                                     ...   \nXIQUE-XIQUE                                             161   \nZABELE                                                  161   \nZACARIAS                                                161   \nZE DOCA                                                 161   \nZORTEA                                                  161   \n\n                     acoes_coletivas_individuais_em_saude  anestesiologia  \\\nmunicipio                                                                   \nABADIA DE GOIAS                                       161             192   \nABADIA DOS DOURADOS                                   161             192   \nABADIANIA                                             161             192   \nABAETE                                                161             192   \nABAETETUBA                                            161             192   \n...                                                   ...             ...   \nXIQUE-XIQUE                                           161             192   \nZABELE                                                161             192   \nZACARIAS                                              161             192   \nZE DOCA                                               161             192   \nZORTEA                                                161             192   \n\n                     tratamentos_odontologicos_qtd  \\\nmunicipio                                            \nABADIA DE GOIAS                                162   \nABADIA DOS DOURADOS                            162   \nABADIANIA                                      162   \nABAETE                                         162   \nABAETETUBA                                     162   \n...                                            ...   \nXIQUE-XIQUE                                    162   \nZABELE                                         162   \nZACARIAS                                       162   \nZE DOCA                                        162   \nZORTEA                                         162   \n\n                     tratamentos_odontologicos_val  \nmunicipio                                           \nABADIA DE GOIAS                                162  \nABADIA DOS DOURADOS                            162  \nABADIANIA                                      162  \nABAETE                                         162  \nABAETETUBA                                     162  \n...                                            ...  \nXIQUE-XIQUE                                    162  \nZABELE                                         162  \nZACARIAS                                       162  \nZE DOCA                                        162  \nZORTEA                                         162  \n\n[5290 rows x 126 columns]",
      "text/html": "<div>\n<style scoped>\n    .dataframe tbody tr th:only-of-type {\n        vertical-align: middle;\n    }\n\n    .dataframe tbody tr th {\n        vertical-align: top;\n    }\n\n    .dataframe thead th {\n        text-align: right;\n    }\n</style>\n<table border=\"1\" class=\"dataframe\">\n  <thead>\n    <tr style=\"text-align: right;\">\n      <th></th>\n      <th>cod_municipio</th>\n      <th>uf</th>\n      <th>uf_nome</th>\n      <th>regiao_nome</th>\n      <th>longitude</th>\n      <th>latitude</th>\n      <th>nu_populacao</th>\n      <th>mes</th>\n      <th>ano</th>\n      <th>procedimentos_com_finalidade_diagnostica_qtd</th>\n      <th>...</th>\n      <th>orteses_proteses_e_materiais_especiais_relacionados_ao_ato_cirurgico_val</th>\n      <th>acoes_relacionadas_ao_estabelecimento_qtd</th>\n      <th>acoes_relacionadas_ao_estabelecimento_val</th>\n      <th>acoes_relacionadas_ao_atendimento_qtd</th>\n      <th>acoes_relacionadas_ao_atendimento_val</th>\n      <th>acoes_de_promocao_e_prevencao_em_saude</th>\n      <th>acoes_coletivas_individuais_em_saude</th>\n      <th>anestesiologia</th>\n      <th>tratamentos_odontologicos_qtd</th>\n      <th>tratamentos_odontologicos_val</th>\n    </tr>\n    <tr>\n      <th>municipio</th>\n      <th></th>\n      <th></th>\n      <th></th>\n      <th></th>\n      <th></th>\n      <th></th>\n      <th></th>\n      <th></th>\n      <th></th>\n      <th></th>\n      <th></th>\n      <th></th>\n      <th></th>\n      <th></th>\n      <th></th>\n      <th></th>\n      <th></th>\n      <th></th>\n      <th></th>\n      <th></th>\n      <th></th>\n    </tr>\n  </thead>\n  <tbody>\n    <tr>\n      <th>ABADIA DE GOIAS</th>\n      <td>192</td>\n      <td>192</td>\n      <td>192</td>\n      <td>192</td>\n      <td>192</td>\n      <td>192</td>\n      <td>192</td>\n      <td>192</td>\n      <td>192</td>\n      <td>192</td>\n      <td>...</td>\n      <td>192</td>\n      <td>192</td>\n      <td>192</td>\n      <td>192</td>\n      <td>192</td>\n      <td>161</td>\n      <td>161</td>\n      <td>192</td>\n      <td>162</td>\n      <td>162</td>\n    </tr>\n    <tr>\n      <th>ABADIA DOS DOURADOS</th>\n      <td>192</td>\n      <td>192</td>\n      <td>192</td>\n      <td>192</td>\n      <td>192</td>\n      <td>192</td>\n      <td>192</td>\n      <td>192</td>\n      <td>192</td>\n      <td>192</td>\n      <td>...</td>\n      <td>192</td>\n      <td>192</td>\n      <td>192</td>\n      <td>192</td>\n      <td>192</td>\n      <td>161</td>\n      <td>161</td>\n      <td>192</td>\n      <td>162</td>\n      <td>162</td>\n    </tr>\n    <tr>\n      <th>ABADIANIA</th>\n      <td>192</td>\n      <td>192</td>\n      <td>192</td>\n      <td>192</td>\n      <td>192</td>\n      <td>192</td>\n      <td>192</td>\n      <td>192</td>\n      <td>192</td>\n      <td>192</td>\n      <td>...</td>\n      <td>192</td>\n      <td>192</td>\n      <td>192</td>\n      <td>192</td>\n      <td>192</td>\n      <td>161</td>\n      <td>161</td>\n      <td>192</td>\n      <td>162</td>\n      <td>162</td>\n    </tr>\n    <tr>\n      <th>ABAETE</th>\n      <td>192</td>\n      <td>192</td>\n      <td>192</td>\n      <td>192</td>\n      <td>192</td>\n      <td>192</td>\n      <td>192</td>\n      <td>192</td>\n      <td>192</td>\n      <td>192</td>\n      <td>...</td>\n      <td>192</td>\n      <td>192</td>\n      <td>192</td>\n      <td>192</td>\n      <td>192</td>\n      <td>161</td>\n      <td>161</td>\n      <td>192</td>\n      <td>162</td>\n      <td>162</td>\n    </tr>\n    <tr>\n      <th>ABAETETUBA</th>\n      <td>192</td>\n      <td>192</td>\n      <td>192</td>\n      <td>192</td>\n      <td>192</td>\n      <td>192</td>\n      <td>192</td>\n      <td>192</td>\n      <td>192</td>\n      <td>192</td>\n      <td>...</td>\n      <td>192</td>\n      <td>192</td>\n      <td>192</td>\n      <td>192</td>\n      <td>192</td>\n      <td>161</td>\n      <td>161</td>\n      <td>192</td>\n      <td>162</td>\n      <td>162</td>\n    </tr>\n    <tr>\n      <th>...</th>\n      <td>...</td>\n      <td>...</td>\n      <td>...</td>\n      <td>...</td>\n      <td>...</td>\n      <td>...</td>\n      <td>...</td>\n      <td>...</td>\n      <td>...</td>\n      <td>...</td>\n      <td>...</td>\n      <td>...</td>\n      <td>...</td>\n      <td>...</td>\n      <td>...</td>\n      <td>...</td>\n      <td>...</td>\n      <td>...</td>\n      <td>...</td>\n      <td>...</td>\n      <td>...</td>\n    </tr>\n    <tr>\n      <th>XIQUE-XIQUE</th>\n      <td>192</td>\n      <td>192</td>\n      <td>192</td>\n      <td>192</td>\n      <td>192</td>\n      <td>192</td>\n      <td>192</td>\n      <td>192</td>\n      <td>192</td>\n      <td>192</td>\n      <td>...</td>\n      <td>192</td>\n      <td>192</td>\n      <td>192</td>\n      <td>192</td>\n      <td>192</td>\n      <td>161</td>\n      <td>161</td>\n      <td>192</td>\n      <td>162</td>\n      <td>162</td>\n    </tr>\n    <tr>\n      <th>ZABELE</th>\n      <td>192</td>\n      <td>192</td>\n      <td>192</td>\n      <td>192</td>\n      <td>192</td>\n      <td>192</td>\n      <td>192</td>\n      <td>192</td>\n      <td>192</td>\n      <td>192</td>\n      <td>...</td>\n      <td>192</td>\n      <td>192</td>\n      <td>192</td>\n      <td>192</td>\n      <td>192</td>\n      <td>161</td>\n      <td>161</td>\n      <td>192</td>\n      <td>162</td>\n      <td>162</td>\n    </tr>\n    <tr>\n      <th>ZACARIAS</th>\n      <td>192</td>\n      <td>192</td>\n      <td>192</td>\n      <td>192</td>\n      <td>192</td>\n      <td>192</td>\n      <td>192</td>\n      <td>192</td>\n      <td>192</td>\n      <td>192</td>\n      <td>...</td>\n      <td>192</td>\n      <td>192</td>\n      <td>192</td>\n      <td>192</td>\n      <td>192</td>\n      <td>161</td>\n      <td>161</td>\n      <td>192</td>\n      <td>162</td>\n      <td>162</td>\n    </tr>\n    <tr>\n      <th>ZE DOCA</th>\n      <td>192</td>\n      <td>192</td>\n      <td>192</td>\n      <td>192</td>\n      <td>192</td>\n      <td>192</td>\n      <td>192</td>\n      <td>192</td>\n      <td>192</td>\n      <td>192</td>\n      <td>...</td>\n      <td>192</td>\n      <td>192</td>\n      <td>192</td>\n      <td>192</td>\n      <td>192</td>\n      <td>161</td>\n      <td>161</td>\n      <td>192</td>\n      <td>162</td>\n      <td>162</td>\n    </tr>\n    <tr>\n      <th>ZORTEA</th>\n      <td>192</td>\n      <td>192</td>\n      <td>192</td>\n      <td>192</td>\n      <td>192</td>\n      <td>192</td>\n      <td>192</td>\n      <td>192</td>\n      <td>192</td>\n      <td>192</td>\n      <td>...</td>\n      <td>192</td>\n      <td>192</td>\n      <td>192</td>\n      <td>192</td>\n      <td>192</td>\n      <td>161</td>\n      <td>161</td>\n      <td>192</td>\n      <td>162</td>\n      <td>162</td>\n    </tr>\n  </tbody>\n</table>\n<p>5290 rows × 126 columns</p>\n</div>"
     },
     "execution_count": 31,
     "metadata": {},
     "output_type": "execute_result"
    }
   ],
   "source": [
    "df_datasus.groupby(['municipio']).count()"
   ],
   "metadata": {
    "collapsed": false,
    "ExecuteTime": {
     "end_time": "2024-03-01T04:22:44.915653Z",
     "start_time": "2024-03-01T04:22:44.038915Z"
    }
   },
   "id": "b598f0ef323efadc",
   "execution_count": 31
  },
  {
   "cell_type": "code",
   "outputs": [],
   "source": [],
   "metadata": {
    "collapsed": false
   },
   "id": "95081f5111f9641f"
  },
  {
   "cell_type": "code",
   "outputs": [
    {
     "name": "stdout",
     "output_type": "stream",
     "text": [
      "     A  G  total  percentage\n",
      "0  Cat  F      4   80.000000\n",
      "1  Cat  M      1   20.000000\n",
      "2  Dog  F      4   57.142857\n",
      "3  Dog  M      3   42.857143\n",
      "4  Fox  F      1   25.000000\n"
     ]
    },
    {
     "data": {
      "application/vnd.plotly.v1+json": {
       "data": [
        {
         "alignmentgroup": "True",
         "hovertemplate": "G=F<br>A=%{x}<br>value=%{y}<br>text=%{text}<extra></extra>",
         "legendgroup": "F",
         "marker": {
          "color": "#636efa",
          "pattern": {
           "shape": ""
          }
         },
         "name": "F",
         "offsetgroup": "F",
         "orientation": "v",
         "showlegend": true,
         "text": [
          "80.00%",
          "57.14%",
          "25.00%"
         ],
         "textposition": "auto",
         "x": [
          "Cat",
          "Dog",
          "Fox"
         ],
         "xaxis": "x",
         "y": [
          4,
          4,
          1
         ],
         "yaxis": "y",
         "type": "bar"
        },
        {
         "alignmentgroup": "True",
         "hovertemplate": "G=M<br>A=%{x}<br>value=%{y}<br>text=%{text}<extra></extra>",
         "legendgroup": "M",
         "marker": {
          "color": "#EF553B",
          "pattern": {
           "shape": ""
          }
         },
         "name": "M",
         "offsetgroup": "M",
         "orientation": "v",
         "showlegend": true,
         "text": [
          "20.00%",
          "42.86%",
          "75.00%"
         ],
         "textposition": "auto",
         "x": [
          "Cat",
          "Dog",
          "Fox"
         ],
         "xaxis": "x",
         "y": [
          1,
          3,
          3
         ],
         "yaxis": "y",
         "type": "bar"
        }
       ],
       "layout": {
        "template": {
         "data": {
          "histogram2dcontour": [
           {
            "type": "histogram2dcontour",
            "colorbar": {
             "outlinewidth": 0,
             "ticks": ""
            },
            "colorscale": [
             [
              0.0,
              "#0d0887"
             ],
             [
              0.1111111111111111,
              "#46039f"
             ],
             [
              0.2222222222222222,
              "#7201a8"
             ],
             [
              0.3333333333333333,
              "#9c179e"
             ],
             [
              0.4444444444444444,
              "#bd3786"
             ],
             [
              0.5555555555555556,
              "#d8576b"
             ],
             [
              0.6666666666666666,
              "#ed7953"
             ],
             [
              0.7777777777777778,
              "#fb9f3a"
             ],
             [
              0.8888888888888888,
              "#fdca26"
             ],
             [
              1.0,
              "#f0f921"
             ]
            ]
           }
          ],
          "choropleth": [
           {
            "type": "choropleth",
            "colorbar": {
             "outlinewidth": 0,
             "ticks": ""
            }
           }
          ],
          "histogram2d": [
           {
            "type": "histogram2d",
            "colorbar": {
             "outlinewidth": 0,
             "ticks": ""
            },
            "colorscale": [
             [
              0.0,
              "#0d0887"
             ],
             [
              0.1111111111111111,
              "#46039f"
             ],
             [
              0.2222222222222222,
              "#7201a8"
             ],
             [
              0.3333333333333333,
              "#9c179e"
             ],
             [
              0.4444444444444444,
              "#bd3786"
             ],
             [
              0.5555555555555556,
              "#d8576b"
             ],
             [
              0.6666666666666666,
              "#ed7953"
             ],
             [
              0.7777777777777778,
              "#fb9f3a"
             ],
             [
              0.8888888888888888,
              "#fdca26"
             ],
             [
              1.0,
              "#f0f921"
             ]
            ]
           }
          ],
          "heatmap": [
           {
            "type": "heatmap",
            "colorbar": {
             "outlinewidth": 0,
             "ticks": ""
            },
            "colorscale": [
             [
              0.0,
              "#0d0887"
             ],
             [
              0.1111111111111111,
              "#46039f"
             ],
             [
              0.2222222222222222,
              "#7201a8"
             ],
             [
              0.3333333333333333,
              "#9c179e"
             ],
             [
              0.4444444444444444,
              "#bd3786"
             ],
             [
              0.5555555555555556,
              "#d8576b"
             ],
             [
              0.6666666666666666,
              "#ed7953"
             ],
             [
              0.7777777777777778,
              "#fb9f3a"
             ],
             [
              0.8888888888888888,
              "#fdca26"
             ],
             [
              1.0,
              "#f0f921"
             ]
            ]
           }
          ],
          "heatmapgl": [
           {
            "type": "heatmapgl",
            "colorbar": {
             "outlinewidth": 0,
             "ticks": ""
            },
            "colorscale": [
             [
              0.0,
              "#0d0887"
             ],
             [
              0.1111111111111111,
              "#46039f"
             ],
             [
              0.2222222222222222,
              "#7201a8"
             ],
             [
              0.3333333333333333,
              "#9c179e"
             ],
             [
              0.4444444444444444,
              "#bd3786"
             ],
             [
              0.5555555555555556,
              "#d8576b"
             ],
             [
              0.6666666666666666,
              "#ed7953"
             ],
             [
              0.7777777777777778,
              "#fb9f3a"
             ],
             [
              0.8888888888888888,
              "#fdca26"
             ],
             [
              1.0,
              "#f0f921"
             ]
            ]
           }
          ],
          "contourcarpet": [
           {
            "type": "contourcarpet",
            "colorbar": {
             "outlinewidth": 0,
             "ticks": ""
            }
           }
          ],
          "contour": [
           {
            "type": "contour",
            "colorbar": {
             "outlinewidth": 0,
             "ticks": ""
            },
            "colorscale": [
             [
              0.0,
              "#0d0887"
             ],
             [
              0.1111111111111111,
              "#46039f"
             ],
             [
              0.2222222222222222,
              "#7201a8"
             ],
             [
              0.3333333333333333,
              "#9c179e"
             ],
             [
              0.4444444444444444,
              "#bd3786"
             ],
             [
              0.5555555555555556,
              "#d8576b"
             ],
             [
              0.6666666666666666,
              "#ed7953"
             ],
             [
              0.7777777777777778,
              "#fb9f3a"
             ],
             [
              0.8888888888888888,
              "#fdca26"
             ],
             [
              1.0,
              "#f0f921"
             ]
            ]
           }
          ],
          "surface": [
           {
            "type": "surface",
            "colorbar": {
             "outlinewidth": 0,
             "ticks": ""
            },
            "colorscale": [
             [
              0.0,
              "#0d0887"
             ],
             [
              0.1111111111111111,
              "#46039f"
             ],
             [
              0.2222222222222222,
              "#7201a8"
             ],
             [
              0.3333333333333333,
              "#9c179e"
             ],
             [
              0.4444444444444444,
              "#bd3786"
             ],
             [
              0.5555555555555556,
              "#d8576b"
             ],
             [
              0.6666666666666666,
              "#ed7953"
             ],
             [
              0.7777777777777778,
              "#fb9f3a"
             ],
             [
              0.8888888888888888,
              "#fdca26"
             ],
             [
              1.0,
              "#f0f921"
             ]
            ]
           }
          ],
          "mesh3d": [
           {
            "type": "mesh3d",
            "colorbar": {
             "outlinewidth": 0,
             "ticks": ""
            }
           }
          ],
          "scatter": [
           {
            "marker": {
             "line": {
              "color": "#283442"
             }
            },
            "type": "scatter"
           }
          ],
          "parcoords": [
           {
            "type": "parcoords",
            "line": {
             "colorbar": {
              "outlinewidth": 0,
              "ticks": ""
             }
            }
           }
          ],
          "scatterpolargl": [
           {
            "type": "scatterpolargl",
            "marker": {
             "colorbar": {
              "outlinewidth": 0,
              "ticks": ""
             }
            }
           }
          ],
          "bar": [
           {
            "error_x": {
             "color": "#f2f5fa"
            },
            "error_y": {
             "color": "#f2f5fa"
            },
            "marker": {
             "line": {
              "color": "rgb(17,17,17)",
              "width": 0.5
             },
             "pattern": {
              "fillmode": "overlay",
              "size": 10,
              "solidity": 0.2
             }
            },
            "type": "bar"
           }
          ],
          "scattergeo": [
           {
            "type": "scattergeo",
            "marker": {
             "colorbar": {
              "outlinewidth": 0,
              "ticks": ""
             }
            }
           }
          ],
          "scatterpolar": [
           {
            "type": "scatterpolar",
            "marker": {
             "colorbar": {
              "outlinewidth": 0,
              "ticks": ""
             }
            }
           }
          ],
          "histogram": [
           {
            "marker": {
             "pattern": {
              "fillmode": "overlay",
              "size": 10,
              "solidity": 0.2
             }
            },
            "type": "histogram"
           }
          ],
          "scattergl": [
           {
            "marker": {
             "line": {
              "color": "#283442"
             }
            },
            "type": "scattergl"
           }
          ],
          "scatter3d": [
           {
            "type": "scatter3d",
            "line": {
             "colorbar": {
              "outlinewidth": 0,
              "ticks": ""
             }
            },
            "marker": {
             "colorbar": {
              "outlinewidth": 0,
              "ticks": ""
             }
            }
           }
          ],
          "scattermapbox": [
           {
            "type": "scattermapbox",
            "marker": {
             "colorbar": {
              "outlinewidth": 0,
              "ticks": ""
             }
            }
           }
          ],
          "scatterternary": [
           {
            "type": "scatterternary",
            "marker": {
             "colorbar": {
              "outlinewidth": 0,
              "ticks": ""
             }
            }
           }
          ],
          "scattercarpet": [
           {
            "type": "scattercarpet",
            "marker": {
             "colorbar": {
              "outlinewidth": 0,
              "ticks": ""
             }
            }
           }
          ],
          "carpet": [
           {
            "aaxis": {
             "endlinecolor": "#A2B1C6",
             "gridcolor": "#506784",
             "linecolor": "#506784",
             "minorgridcolor": "#506784",
             "startlinecolor": "#A2B1C6"
            },
            "baxis": {
             "endlinecolor": "#A2B1C6",
             "gridcolor": "#506784",
             "linecolor": "#506784",
             "minorgridcolor": "#506784",
             "startlinecolor": "#A2B1C6"
            },
            "type": "carpet"
           }
          ],
          "table": [
           {
            "cells": {
             "fill": {
              "color": "#506784"
             },
             "line": {
              "color": "rgb(17,17,17)"
             }
            },
            "header": {
             "fill": {
              "color": "#2a3f5f"
             },
             "line": {
              "color": "rgb(17,17,17)"
             }
            },
            "type": "table"
           }
          ],
          "barpolar": [
           {
            "marker": {
             "line": {
              "color": "rgb(17,17,17)",
              "width": 0.5
             },
             "pattern": {
              "fillmode": "overlay",
              "size": 10,
              "solidity": 0.2
             }
            },
            "type": "barpolar"
           }
          ],
          "pie": [
           {
            "automargin": true,
            "type": "pie"
           }
          ]
         },
         "layout": {
          "autotypenumbers": "strict",
          "colorway": [
           "#636efa",
           "#EF553B",
           "#00cc96",
           "#ab63fa",
           "#FFA15A",
           "#19d3f3",
           "#FF6692",
           "#B6E880",
           "#FF97FF",
           "#FECB52"
          ],
          "font": {
           "color": "#f2f5fa"
          },
          "hovermode": "closest",
          "hoverlabel": {
           "align": "left"
          },
          "paper_bgcolor": "rgb(17,17,17)",
          "plot_bgcolor": "rgb(17,17,17)",
          "polar": {
           "bgcolor": "rgb(17,17,17)",
           "angularaxis": {
            "gridcolor": "#506784",
            "linecolor": "#506784",
            "ticks": ""
           },
           "radialaxis": {
            "gridcolor": "#506784",
            "linecolor": "#506784",
            "ticks": ""
           }
          },
          "ternary": {
           "bgcolor": "rgb(17,17,17)",
           "aaxis": {
            "gridcolor": "#506784",
            "linecolor": "#506784",
            "ticks": ""
           },
           "baxis": {
            "gridcolor": "#506784",
            "linecolor": "#506784",
            "ticks": ""
           },
           "caxis": {
            "gridcolor": "#506784",
            "linecolor": "#506784",
            "ticks": ""
           }
          },
          "coloraxis": {
           "colorbar": {
            "outlinewidth": 0,
            "ticks": ""
           }
          },
          "colorscale": {
           "sequential": [
            [
             0.0,
             "#0d0887"
            ],
            [
             0.1111111111111111,
             "#46039f"
            ],
            [
             0.2222222222222222,
             "#7201a8"
            ],
            [
             0.3333333333333333,
             "#9c179e"
            ],
            [
             0.4444444444444444,
             "#bd3786"
            ],
            [
             0.5555555555555556,
             "#d8576b"
            ],
            [
             0.6666666666666666,
             "#ed7953"
            ],
            [
             0.7777777777777778,
             "#fb9f3a"
            ],
            [
             0.8888888888888888,
             "#fdca26"
            ],
            [
             1.0,
             "#f0f921"
            ]
           ],
           "sequentialminus": [
            [
             0.0,
             "#0d0887"
            ],
            [
             0.1111111111111111,
             "#46039f"
            ],
            [
             0.2222222222222222,
             "#7201a8"
            ],
            [
             0.3333333333333333,
             "#9c179e"
            ],
            [
             0.4444444444444444,
             "#bd3786"
            ],
            [
             0.5555555555555556,
             "#d8576b"
            ],
            [
             0.6666666666666666,
             "#ed7953"
            ],
            [
             0.7777777777777778,
             "#fb9f3a"
            ],
            [
             0.8888888888888888,
             "#fdca26"
            ],
            [
             1.0,
             "#f0f921"
            ]
           ],
           "diverging": [
            [
             0,
             "#8e0152"
            ],
            [
             0.1,
             "#c51b7d"
            ],
            [
             0.2,
             "#de77ae"
            ],
            [
             0.3,
             "#f1b6da"
            ],
            [
             0.4,
             "#fde0ef"
            ],
            [
             0.5,
             "#f7f7f7"
            ],
            [
             0.6,
             "#e6f5d0"
            ],
            [
             0.7,
             "#b8e186"
            ],
            [
             0.8,
             "#7fbc41"
            ],
            [
             0.9,
             "#4d9221"
            ],
            [
             1,
             "#276419"
            ]
           ]
          },
          "xaxis": {
           "gridcolor": "#283442",
           "linecolor": "#506784",
           "ticks": "",
           "title": {
            "standoff": 15
           },
           "zerolinecolor": "#283442",
           "automargin": true,
           "zerolinewidth": 2
          },
          "yaxis": {
           "gridcolor": "#283442",
           "linecolor": "#506784",
           "ticks": "",
           "title": {
            "standoff": 15
           },
           "zerolinecolor": "#283442",
           "automargin": true,
           "zerolinewidth": 2
          },
          "scene": {
           "xaxis": {
            "backgroundcolor": "rgb(17,17,17)",
            "gridcolor": "#506784",
            "linecolor": "#506784",
            "showbackground": true,
            "ticks": "",
            "zerolinecolor": "#C8D4E3",
            "gridwidth": 2
           },
           "yaxis": {
            "backgroundcolor": "rgb(17,17,17)",
            "gridcolor": "#506784",
            "linecolor": "#506784",
            "showbackground": true,
            "ticks": "",
            "zerolinecolor": "#C8D4E3",
            "gridwidth": 2
           },
           "zaxis": {
            "backgroundcolor": "rgb(17,17,17)",
            "gridcolor": "#506784",
            "linecolor": "#506784",
            "showbackground": true,
            "ticks": "",
            "zerolinecolor": "#C8D4E3",
            "gridwidth": 2
           }
          },
          "shapedefaults": {
           "line": {
            "color": "#f2f5fa"
           }
          },
          "annotationdefaults": {
           "arrowcolor": "#f2f5fa",
           "arrowhead": 0,
           "arrowwidth": 1
          },
          "geo": {
           "bgcolor": "rgb(17,17,17)",
           "landcolor": "rgb(17,17,17)",
           "subunitcolor": "#506784",
           "showland": true,
           "showlakes": true,
           "lakecolor": "rgb(17,17,17)"
          },
          "title": {
           "x": 0.05
          },
          "updatemenudefaults": {
           "bgcolor": "#506784",
           "borderwidth": 0
          },
          "sliderdefaults": {
           "bgcolor": "#C8D4E3",
           "borderwidth": 1,
           "bordercolor": "rgb(17,17,17)",
           "tickwidth": 0
          },
          "mapbox": {
           "style": "dark"
          }
         }
        },
        "xaxis": {
         "anchor": "y",
         "domain": [
          0.0,
          1.0
         ],
         "title": {
          "text": "A"
         }
        },
        "yaxis": {
         "anchor": "x",
         "domain": [
          0.0,
          1.0
         ],
         "title": {
          "text": "value"
         }
        },
        "legend": {
         "title": {
          "text": "G"
         },
         "tracegroupgap": 0
        },
        "margin": {
         "t": 60
        },
        "barmode": "relative"
       },
       "config": {
        "plotlyServerURL": "https://plot.ly"
       }
      },
      "text/html": "<div>                            <div id=\"4ff77947-1181-40c3-a439-c5752a9a094f\" class=\"plotly-graph-div\" style=\"height:525px; width:100%;\"></div>            <script type=\"text/javascript\">                require([\"plotly\"], function(Plotly) {                    window.PLOTLYENV=window.PLOTLYENV || {};                                    if (document.getElementById(\"4ff77947-1181-40c3-a439-c5752a9a094f\")) {                    Plotly.newPlot(                        \"4ff77947-1181-40c3-a439-c5752a9a094f\",                        [{\"alignmentgroup\":\"True\",\"hovertemplate\":\"G=F\\u003cbr\\u003eA=%{x}\\u003cbr\\u003evalue=%{y}\\u003cbr\\u003etext=%{text}\\u003cextra\\u003e\\u003c\\u002fextra\\u003e\",\"legendgroup\":\"F\",\"marker\":{\"color\":\"#636efa\",\"pattern\":{\"shape\":\"\"}},\"name\":\"F\",\"offsetgroup\":\"F\",\"orientation\":\"v\",\"showlegend\":true,\"text\":[\"80.00%\",\"57.14%\",\"25.00%\"],\"textposition\":\"auto\",\"x\":[\"Cat\",\"Dog\",\"Fox\"],\"xaxis\":\"x\",\"y\":[4,4,1],\"yaxis\":\"y\",\"type\":\"bar\"},{\"alignmentgroup\":\"True\",\"hovertemplate\":\"G=M\\u003cbr\\u003eA=%{x}\\u003cbr\\u003evalue=%{y}\\u003cbr\\u003etext=%{text}\\u003cextra\\u003e\\u003c\\u002fextra\\u003e\",\"legendgroup\":\"M\",\"marker\":{\"color\":\"#EF553B\",\"pattern\":{\"shape\":\"\"}},\"name\":\"M\",\"offsetgroup\":\"M\",\"orientation\":\"v\",\"showlegend\":true,\"text\":[\"20.00%\",\"42.86%\",\"75.00%\"],\"textposition\":\"auto\",\"x\":[\"Cat\",\"Dog\",\"Fox\"],\"xaxis\":\"x\",\"y\":[1,3,3],\"yaxis\":\"y\",\"type\":\"bar\"}],                        {\"template\":{\"data\":{\"histogram2dcontour\":[{\"type\":\"histogram2dcontour\",\"colorbar\":{\"outlinewidth\":0,\"ticks\":\"\"},\"colorscale\":[[0.0,\"#0d0887\"],[0.1111111111111111,\"#46039f\"],[0.2222222222222222,\"#7201a8\"],[0.3333333333333333,\"#9c179e\"],[0.4444444444444444,\"#bd3786\"],[0.5555555555555556,\"#d8576b\"],[0.6666666666666666,\"#ed7953\"],[0.7777777777777778,\"#fb9f3a\"],[0.8888888888888888,\"#fdca26\"],[1.0,\"#f0f921\"]]}],\"choropleth\":[{\"type\":\"choropleth\",\"colorbar\":{\"outlinewidth\":0,\"ticks\":\"\"}}],\"histogram2d\":[{\"type\":\"histogram2d\",\"colorbar\":{\"outlinewidth\":0,\"ticks\":\"\"},\"colorscale\":[[0.0,\"#0d0887\"],[0.1111111111111111,\"#46039f\"],[0.2222222222222222,\"#7201a8\"],[0.3333333333333333,\"#9c179e\"],[0.4444444444444444,\"#bd3786\"],[0.5555555555555556,\"#d8576b\"],[0.6666666666666666,\"#ed7953\"],[0.7777777777777778,\"#fb9f3a\"],[0.8888888888888888,\"#fdca26\"],[1.0,\"#f0f921\"]]}],\"heatmap\":[{\"type\":\"heatmap\",\"colorbar\":{\"outlinewidth\":0,\"ticks\":\"\"},\"colorscale\":[[0.0,\"#0d0887\"],[0.1111111111111111,\"#46039f\"],[0.2222222222222222,\"#7201a8\"],[0.3333333333333333,\"#9c179e\"],[0.4444444444444444,\"#bd3786\"],[0.5555555555555556,\"#d8576b\"],[0.6666666666666666,\"#ed7953\"],[0.7777777777777778,\"#fb9f3a\"],[0.8888888888888888,\"#fdca26\"],[1.0,\"#f0f921\"]]}],\"heatmapgl\":[{\"type\":\"heatmapgl\",\"colorbar\":{\"outlinewidth\":0,\"ticks\":\"\"},\"colorscale\":[[0.0,\"#0d0887\"],[0.1111111111111111,\"#46039f\"],[0.2222222222222222,\"#7201a8\"],[0.3333333333333333,\"#9c179e\"],[0.4444444444444444,\"#bd3786\"],[0.5555555555555556,\"#d8576b\"],[0.6666666666666666,\"#ed7953\"],[0.7777777777777778,\"#fb9f3a\"],[0.8888888888888888,\"#fdca26\"],[1.0,\"#f0f921\"]]}],\"contourcarpet\":[{\"type\":\"contourcarpet\",\"colorbar\":{\"outlinewidth\":0,\"ticks\":\"\"}}],\"contour\":[{\"type\":\"contour\",\"colorbar\":{\"outlinewidth\":0,\"ticks\":\"\"},\"colorscale\":[[0.0,\"#0d0887\"],[0.1111111111111111,\"#46039f\"],[0.2222222222222222,\"#7201a8\"],[0.3333333333333333,\"#9c179e\"],[0.4444444444444444,\"#bd3786\"],[0.5555555555555556,\"#d8576b\"],[0.6666666666666666,\"#ed7953\"],[0.7777777777777778,\"#fb9f3a\"],[0.8888888888888888,\"#fdca26\"],[1.0,\"#f0f921\"]]}],\"surface\":[{\"type\":\"surface\",\"colorbar\":{\"outlinewidth\":0,\"ticks\":\"\"},\"colorscale\":[[0.0,\"#0d0887\"],[0.1111111111111111,\"#46039f\"],[0.2222222222222222,\"#7201a8\"],[0.3333333333333333,\"#9c179e\"],[0.4444444444444444,\"#bd3786\"],[0.5555555555555556,\"#d8576b\"],[0.6666666666666666,\"#ed7953\"],[0.7777777777777778,\"#fb9f3a\"],[0.8888888888888888,\"#fdca26\"],[1.0,\"#f0f921\"]]}],\"mesh3d\":[{\"type\":\"mesh3d\",\"colorbar\":{\"outlinewidth\":0,\"ticks\":\"\"}}],\"scatter\":[{\"marker\":{\"line\":{\"color\":\"#283442\"}},\"type\":\"scatter\"}],\"parcoords\":[{\"type\":\"parcoords\",\"line\":{\"colorbar\":{\"outlinewidth\":0,\"ticks\":\"\"}}}],\"scatterpolargl\":[{\"type\":\"scatterpolargl\",\"marker\":{\"colorbar\":{\"outlinewidth\":0,\"ticks\":\"\"}}}],\"bar\":[{\"error_x\":{\"color\":\"#f2f5fa\"},\"error_y\":{\"color\":\"#f2f5fa\"},\"marker\":{\"line\":{\"color\":\"rgb(17,17,17)\",\"width\":0.5},\"pattern\":{\"fillmode\":\"overlay\",\"size\":10,\"solidity\":0.2}},\"type\":\"bar\"}],\"scattergeo\":[{\"type\":\"scattergeo\",\"marker\":{\"colorbar\":{\"outlinewidth\":0,\"ticks\":\"\"}}}],\"scatterpolar\":[{\"type\":\"scatterpolar\",\"marker\":{\"colorbar\":{\"outlinewidth\":0,\"ticks\":\"\"}}}],\"histogram\":[{\"marker\":{\"pattern\":{\"fillmode\":\"overlay\",\"size\":10,\"solidity\":0.2}},\"type\":\"histogram\"}],\"scattergl\":[{\"marker\":{\"line\":{\"color\":\"#283442\"}},\"type\":\"scattergl\"}],\"scatter3d\":[{\"type\":\"scatter3d\",\"line\":{\"colorbar\":{\"outlinewidth\":0,\"ticks\":\"\"}},\"marker\":{\"colorbar\":{\"outlinewidth\":0,\"ticks\":\"\"}}}],\"scattermapbox\":[{\"type\":\"scattermapbox\",\"marker\":{\"colorbar\":{\"outlinewidth\":0,\"ticks\":\"\"}}}],\"scatterternary\":[{\"type\":\"scatterternary\",\"marker\":{\"colorbar\":{\"outlinewidth\":0,\"ticks\":\"\"}}}],\"scattercarpet\":[{\"type\":\"scattercarpet\",\"marker\":{\"colorbar\":{\"outlinewidth\":0,\"ticks\":\"\"}}}],\"carpet\":[{\"aaxis\":{\"endlinecolor\":\"#A2B1C6\",\"gridcolor\":\"#506784\",\"linecolor\":\"#506784\",\"minorgridcolor\":\"#506784\",\"startlinecolor\":\"#A2B1C6\"},\"baxis\":{\"endlinecolor\":\"#A2B1C6\",\"gridcolor\":\"#506784\",\"linecolor\":\"#506784\",\"minorgridcolor\":\"#506784\",\"startlinecolor\":\"#A2B1C6\"},\"type\":\"carpet\"}],\"table\":[{\"cells\":{\"fill\":{\"color\":\"#506784\"},\"line\":{\"color\":\"rgb(17,17,17)\"}},\"header\":{\"fill\":{\"color\":\"#2a3f5f\"},\"line\":{\"color\":\"rgb(17,17,17)\"}},\"type\":\"table\"}],\"barpolar\":[{\"marker\":{\"line\":{\"color\":\"rgb(17,17,17)\",\"width\":0.5},\"pattern\":{\"fillmode\":\"overlay\",\"size\":10,\"solidity\":0.2}},\"type\":\"barpolar\"}],\"pie\":[{\"automargin\":true,\"type\":\"pie\"}]},\"layout\":{\"autotypenumbers\":\"strict\",\"colorway\":[\"#636efa\",\"#EF553B\",\"#00cc96\",\"#ab63fa\",\"#FFA15A\",\"#19d3f3\",\"#FF6692\",\"#B6E880\",\"#FF97FF\",\"#FECB52\"],\"font\":{\"color\":\"#f2f5fa\"},\"hovermode\":\"closest\",\"hoverlabel\":{\"align\":\"left\"},\"paper_bgcolor\":\"rgb(17,17,17)\",\"plot_bgcolor\":\"rgb(17,17,17)\",\"polar\":{\"bgcolor\":\"rgb(17,17,17)\",\"angularaxis\":{\"gridcolor\":\"#506784\",\"linecolor\":\"#506784\",\"ticks\":\"\"},\"radialaxis\":{\"gridcolor\":\"#506784\",\"linecolor\":\"#506784\",\"ticks\":\"\"}},\"ternary\":{\"bgcolor\":\"rgb(17,17,17)\",\"aaxis\":{\"gridcolor\":\"#506784\",\"linecolor\":\"#506784\",\"ticks\":\"\"},\"baxis\":{\"gridcolor\":\"#506784\",\"linecolor\":\"#506784\",\"ticks\":\"\"},\"caxis\":{\"gridcolor\":\"#506784\",\"linecolor\":\"#506784\",\"ticks\":\"\"}},\"coloraxis\":{\"colorbar\":{\"outlinewidth\":0,\"ticks\":\"\"}},\"colorscale\":{\"sequential\":[[0.0,\"#0d0887\"],[0.1111111111111111,\"#46039f\"],[0.2222222222222222,\"#7201a8\"],[0.3333333333333333,\"#9c179e\"],[0.4444444444444444,\"#bd3786\"],[0.5555555555555556,\"#d8576b\"],[0.6666666666666666,\"#ed7953\"],[0.7777777777777778,\"#fb9f3a\"],[0.8888888888888888,\"#fdca26\"],[1.0,\"#f0f921\"]],\"sequentialminus\":[[0.0,\"#0d0887\"],[0.1111111111111111,\"#46039f\"],[0.2222222222222222,\"#7201a8\"],[0.3333333333333333,\"#9c179e\"],[0.4444444444444444,\"#bd3786\"],[0.5555555555555556,\"#d8576b\"],[0.6666666666666666,\"#ed7953\"],[0.7777777777777778,\"#fb9f3a\"],[0.8888888888888888,\"#fdca26\"],[1.0,\"#f0f921\"]],\"diverging\":[[0,\"#8e0152\"],[0.1,\"#c51b7d\"],[0.2,\"#de77ae\"],[0.3,\"#f1b6da\"],[0.4,\"#fde0ef\"],[0.5,\"#f7f7f7\"],[0.6,\"#e6f5d0\"],[0.7,\"#b8e186\"],[0.8,\"#7fbc41\"],[0.9,\"#4d9221\"],[1,\"#276419\"]]},\"xaxis\":{\"gridcolor\":\"#283442\",\"linecolor\":\"#506784\",\"ticks\":\"\",\"title\":{\"standoff\":15},\"zerolinecolor\":\"#283442\",\"automargin\":true,\"zerolinewidth\":2},\"yaxis\":{\"gridcolor\":\"#283442\",\"linecolor\":\"#506784\",\"ticks\":\"\",\"title\":{\"standoff\":15},\"zerolinecolor\":\"#283442\",\"automargin\":true,\"zerolinewidth\":2},\"scene\":{\"xaxis\":{\"backgroundcolor\":\"rgb(17,17,17)\",\"gridcolor\":\"#506784\",\"linecolor\":\"#506784\",\"showbackground\":true,\"ticks\":\"\",\"zerolinecolor\":\"#C8D4E3\",\"gridwidth\":2},\"yaxis\":{\"backgroundcolor\":\"rgb(17,17,17)\",\"gridcolor\":\"#506784\",\"linecolor\":\"#506784\",\"showbackground\":true,\"ticks\":\"\",\"zerolinecolor\":\"#C8D4E3\",\"gridwidth\":2},\"zaxis\":{\"backgroundcolor\":\"rgb(17,17,17)\",\"gridcolor\":\"#506784\",\"linecolor\":\"#506784\",\"showbackground\":true,\"ticks\":\"\",\"zerolinecolor\":\"#C8D4E3\",\"gridwidth\":2}},\"shapedefaults\":{\"line\":{\"color\":\"#f2f5fa\"}},\"annotationdefaults\":{\"arrowcolor\":\"#f2f5fa\",\"arrowhead\":0,\"arrowwidth\":1},\"geo\":{\"bgcolor\":\"rgb(17,17,17)\",\"landcolor\":\"rgb(17,17,17)\",\"subunitcolor\":\"#506784\",\"showland\":true,\"showlakes\":true,\"lakecolor\":\"rgb(17,17,17)\"},\"title\":{\"x\":0.05},\"updatemenudefaults\":{\"bgcolor\":\"#506784\",\"borderwidth\":0},\"sliderdefaults\":{\"bgcolor\":\"#C8D4E3\",\"borderwidth\":1,\"bordercolor\":\"rgb(17,17,17)\",\"tickwidth\":0},\"mapbox\":{\"style\":\"dark\"}}},\"xaxis\":{\"anchor\":\"y\",\"domain\":[0.0,1.0],\"title\":{\"text\":\"A\"}},\"yaxis\":{\"anchor\":\"x\",\"domain\":[0.0,1.0],\"title\":{\"text\":\"value\"}},\"legend\":{\"title\":{\"text\":\"G\"},\"tracegroupgap\":0},\"margin\":{\"t\":60},\"barmode\":\"relative\"},                        {\"responsive\": true}                    ).then(function(){\n                            \nvar gd = document.getElementById('4ff77947-1181-40c3-a439-c5752a9a094f');\nvar x = new MutationObserver(function (mutations, observer) {{\n        var display = window.getComputedStyle(gd).display;\n        if (!display || display === 'none') {{\n            console.log([gd, 'removed!']);\n            Plotly.purge(gd);\n            observer.disconnect();\n        }}\n}});\n\n// Listen for the removal of the full notebook cells\nvar notebookContainer = gd.closest('#notebook-container');\nif (notebookContainer) {{\n    x.observe(notebookContainer, {childList: true});\n}}\n\n// Listen for the clearing of the current output cell\nvar outputEl = gd.closest('.output');\nif (outputEl) {{\n    x.observe(outputEl, {childList: true});\n}}\n\n                        })                };                });            </script>        </div>"
     },
     "metadata": {},
     "output_type": "display_data"
    }
   ],
   "source": [
    "import numpy as np\n",
    "import pandas as pd\n",
    "import plotly.express as px\n",
    "\n",
    "arr = np.array([\n",
    "        ['Dog', 'M'], ['Dog', 'M'], ['Dog', 'F'], ['Dog', 'F'],\n",
    "        ['Cat', 'F'], ['Cat', 'F'], ['Cat', 'F'], ['Cat', 'M'],\n",
    "        ['Fox', 'M'], ['Fox', 'M'], ['Fox', 'M'], ['Fox', 'F'],\n",
    "        ['Dog', 'F'], ['Dog', 'F'], ['Cat', 'F'], ['Dog', 'M']\n",
    "    ])\n",
    "\n",
    "df = pd.DataFrame(arr, columns=['A', 'G'])\n",
    "\n",
    "df_g = df.groupby(['A', 'G']).size().reset_index().rename(columns={0: 'total'})\n",
    "df_g.head()\n",
    "df_g['percentage'] = df.groupby(['A', 'G']).size().groupby(level=0).apply(lambda x: 100 * x / float(x.sum())).values\n",
    "\n",
    "print(df_g.head())\n",
    "px.bar(df_g, x='A', y=['total'], color='G', text=df_g['percentage'].apply(lambda x: '{0:1.2f}%'.format(x)))"
   ],
   "metadata": {
    "collapsed": false,
    "ExecuteTime": {
     "end_time": "2024-03-01T20:20:05.008170Z",
     "start_time": "2024-03-01T20:20:04.955757Z"
    }
   },
   "id": "3617837896e745a3",
   "execution_count": 20
  },
  {
   "cell_type": "code",
   "outputs": [],
   "source": [],
   "metadata": {
    "collapsed": false
   },
   "id": "7ec9c6afd52d025"
  }
 ],
 "metadata": {
  "kernelspec": {
   "display_name": "Python 3",
   "language": "python",
   "name": "python3"
  },
  "language_info": {
   "codemirror_mode": {
    "name": "ipython",
    "version": 2
   },
   "file_extension": ".py",
   "mimetype": "text/x-python",
   "name": "python",
   "nbconvert_exporter": "python",
   "pygments_lexer": "ipython2",
   "version": "2.7.6"
  }
 },
 "nbformat": 4,
 "nbformat_minor": 5
}
